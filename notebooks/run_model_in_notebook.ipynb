{
 "cells": [
  {
   "cell_type": "markdown",
   "metadata": {},
   "source": [
    "## Run the STEMMUS_SCOPE model\n",
    "Steps to run the STEMMUS_SCOPE model, including preprocessing and postprocessing, on Surf super computer Snellius or on a unix system."
   ]
  },
  {
   "cell_type": "code",
   "execution_count": 1,
   "metadata": {},
   "outputs": [],
   "source": [
    "import os\n",
    "import shutil\n",
    "import numpy as np\n",
    "from pathlib import Path\n",
    "import subprocess\n",
    "import time"
   ]
  },
  {
   "cell_type": "markdown",
   "metadata": {},
   "source": [
    "#### Path to STEMMUS_SCOPE\n",
    "\n",
    "STEMMUS_SCOPE executable file is located in the **private** repository on GitHub https://github.com/EcoExtreML/STEMMUS_SCOPE. You need to clone the repository locally and specify the path to it in the cell below. Make sure you have right access to the repository. "
   ]
  },
  {
   "cell_type": "code",
   "execution_count": 2,
   "metadata": {},
   "outputs": [],
   "source": [
    "# path to executable\n",
    "path_to_model = Path(\"path_to_STEMMUS_SCOPE_repository\")"
   ]
  },
  {
   "cell_type": "markdown",
   "metadata": {},
   "source": [
    "#### Update/set config files"
   ]
  },
  {
   "cell_type": "code",
   "execution_count": 16,
   "metadata": {},
   "outputs": [],
   "source": [
    "# the user must provide the correct path\n",
    "# path to config file\n",
    "config_file_path = path_to_model / \"config_file_snellius.txt\"\n",
    "# create an empty dict\n",
    "config = {}\n",
    "with open(config_file_path, \"r\") as f:\n",
    "    for line in f:\n",
    "        (key, val) = line.split(\"=\")\n",
    "        config[key] = val.rstrip('\\n')"
   ]
  },
  {
   "cell_type": "code",
   "execution_count": 17,
   "metadata": {},
   "outputs": [
    {
     "data": {
      "text/plain": [
       "{'SoilPropertyPath': '/projects/0/einf2480/model_parameters/soil_property/',\n",
       " 'InputPath': '/scratch-shared/ecoextreml/stemmus_scope/input/',\n",
       " 'OutputPath': '/scratch-shared/ecoextreml/stemmus_scope/output/',\n",
       " 'ForcingPath': '/projects/0/einf2480/forcing/plumber2_data/',\n",
       " 'ForcingFileName': 'FI-Hyy_1996-2014_FLUXNET2015_Met.nc',\n",
       " 'VegetationPropertyPath': '/projects/0/einf2480/model_parameters/vegetation_property/',\n",
       " 'DurationSize': '17520'}"
      ]
     },
     "execution_count": 17,
     "metadata": {},
     "output_type": "execute_result"
    }
   ],
   "source": [
    "config"
   ]
  },
  {
   "cell_type": "code",
   "execution_count": 18,
   "metadata": {},
   "outputs": [
    {
     "data": {
      "text/plain": [
       "{'SoilPropertyPath': '/projects/0/einf2480/model_parameters/soil_property/',\n",
       " 'InputPath': '/scratch-shared/ecoextreml/stemmus_scope/input/',\n",
       " 'OutputPath': '/scratch-shared/ecoextreml/stemmus_scope/output/',\n",
       " 'ForcingPath': '/projects/0/einf2480/forcing/plumber2_data/',\n",
       " 'ForcingFileName': 'FI-Hyy_1996-2014_FLUXNET2015_Met.nc',\n",
       " 'VegetationPropertyPath': '/projects/0/einf2480/model_parameters/vegetation_property/',\n",
       " 'DurationSize': '5'}"
      ]
     },
     "execution_count": 18,
     "metadata": {},
     "output_type": "execute_result"
    }
   ],
   "source": [
    "# edit config\n",
    "config[\"DurationSize\"] = \"5\"\n",
    "config"
   ]
  },
  {
   "cell_type": "markdown",
   "metadata": {},
   "source": [
    "#### Create input directories, prepare input files "
   ]
  },
  {
   "cell_type": "code",
   "execution_count": 9,
   "metadata": {},
   "outputs": [],
   "source": [
    "def input_dir(ncfile):\n",
    "    \"\"\"Create input directory and prepare input files\n",
    "    \"\"\"\n",
    "    # get start time with the format Y-M-D-HM\n",
    "    timestamp = time.strftime('%Y%m%d_%H%M')\n",
    "    station_name = ncfile.split('_')[0]\n",
    "    # create input directory\n",
    "    work_dir = Path(config[\"InputPath\"], station_name + '_' + timestamp)\n",
    "    Path(work_dir).mkdir(parents=True, exist_ok=True)\n",
    "    print(f\"Prepare work directory {work_dir} for the station: {station_name}\")\n",
    "    # copy model parameters to work directory\n",
    "    shutil.copytree(config[\"VegetationPropertyPath\"], work_dir, dirs_exist_ok=True)\n",
    "    # update config file for ForcingFileName and InputPath\n",
    "    config_file_path = Path(work_dir, f\"{station_name}_{timestamp}_config.txt\")\n",
    "    with open(config_file_path, 'w') as f:\n",
    "        for i in config.keys():\n",
    "            if i == \"ForcingFileName\":\n",
    "                f.write(i + \"=\" + ncfile + \"\\n\")\n",
    "            elif i == \"InputPath\":\n",
    "                f.write(i + \"=\" + str(work_dir) + \"/\" + \"\\n\")\n",
    "            else:\n",
    "                f.write(i + \"=\" + config[i] + \"\\n\")\n",
    "\n",
    "    return work_dir, config_file_path\n",
    "    "
   ]
  },
  {
   "cell_type": "code",
   "execution_count": 10,
   "metadata": {},
   "outputs": [
    {
     "name": "stdout",
     "output_type": "stream",
     "text": [
      "Prepare work directory /home/sarah/temp/ecoextreml/input/NL-Hor_20220519_1455 for the station: NL-Hor\n",
      "Prepare work directory /home/sarah/temp/ecoextreml/input/ZA-Kru_20220519_1455 for the station: ZA-Kru\n"
     ]
    }
   ],
   "source": [
    "# specify the forcing filenames\n",
    "# forcing_filenames_list is by default none, if full_run is true, then all stations with forcing\n",
    "# listed in the ForcingPath will be used.\n",
    "forcing_filenames_list = [\"NL-Hor_2008-2011_FLUXNET2015_Met.nc\",\n",
    " \"ZA-Kru_2000-2002_FLUXNET2015_Met.nc\"]\n",
    "\n",
    "full_run = False\n",
    "if full_run:\n",
    "    forcing_filenames_list = Path(config[\"ForcingPath\"]).iterdir()\n",
    "\n",
    "config_path_dict = {}\n",
    "work_dir_dict = {}\n",
    "for ncfile in forcing_filenames_list:\n",
    "    work_dir_dict[ncfile], config_path_dict[ncfile] = input_dir(ncfile)"
   ]
  },
  {
   "cell_type": "markdown",
   "metadata": {},
   "source": [
    "#### Run the model\n",
    "\n",
    "If you run the model locally, you need to first intsall MATLAB Runtime, see instructions in the [readme](https://github.com/EcoExtreML/processing#readme). Then set `LD_LIBRARY_PATH`. To do this, uncomment the cell below and run it:"
   ]
  },
  {
   "cell_type": "code",
   "execution_count": 13,
   "metadata": {},
   "outputs": [
    {
     "name": "stdout",
     "output_type": "stream",
     "text": [
      "/usr/local/MATLAB/MATLAB_Runtime/v910/runtime/glnxa64:/usr/local/MATLAB/MATLAB_Runtime/v910/bin/glnxa64:/usr/local/MATLAB/MATLAB_Runtime/v910/sys/os/glnxa64:/usr/local/MATLAB/MATLAB_Runtime/v910/extern/bin/glnxa64:/usr/local/MATLAB/MATLAB_Runtime/v910/sys/opengl/lib/glnxa64\n"
     ]
    }
   ],
   "source": [
    "# # Set LD_LIBRARY_PATH\n",
    "matlab_path = !whereis MATLAB\n",
    "matlab_path = matlab_path.s.split(\": \")[1]\n",
    "os.environ['LD_LIBRARY_PATH'] = (\n",
    "    f\"{matlab_path}/MATLAB_Runtime/v910/runtime/glnxa64:\"\n",
    "    f\"{matlab_path}/MATLAB_Runtime/v910/bin/glnxa64:\"\n",
    "    f\"{matlab_path}/MATLAB_Runtime/v910/sys/os/glnxa64:\"\n",
    "    f\"{matlab_path}/MATLAB_Runtime/v910/extern/bin/glnxa64:\"\n",
    "    f\"{matlab_path}/MATLAB_Runtime/v910/sys/opengl/lib/glnxa64\")\n",
    "print(os.environ['LD_LIBRARY_PATH'])"
   ]
  },
  {
   "cell_type": "code",
   "execution_count": 14,
   "metadata": {},
   "outputs": [
    {
     "name": "stdout",
     "output_type": "stream",
     "text": [
      "Run STEMMUS-SCOPE with the forcing: NL-Hor_2008-2011_FLUXNET2015_Met.nc\n",
      "Reading config from /home/sarah/temp/ecoextreml/input/NL-Hor_20220519_1455/NL-Hor_20220519_1455_config.txt\n",
      "\n",
      " The calculations start now \n",
      "Run STEMMUS-SCOPE with the forcing: ZA-Kru_2000-2002_FLUXNET2015_Met.nc\n",
      "Reading config from /home/sarah/temp/ecoextreml/input/ZA-Kru_20220519_1455/ZA-Kru_20220519_1455_config.txt\n",
      "\n",
      " The calculations start now \n",
      " The calculations end now \r"
     ]
    }
   ],
   "source": [
    "# generate a text file\n",
    "for ncfile in forcing_filenames_list:\n",
    "    path_to_config = config_path_dict[ncfile]\n",
    "    # set matlab log dir to slurm, otherwise java.log files are created in user home dir\n",
    "    os.environ['MATLAB_LOG_DIR'] = str(work_dir_dict[ncfile])\n",
    "    # run the model\n",
    "    print(f\"Run STEMMUS-SCOPE with the forcing: {ncfile}\")\n",
    "    result = subprocess.run([f\"exe/STEMMUS_SCOPE {path_to_config}\"], cwd = path_to_model, shell=True)\n",
    "    result.check_returncode()"
   ]
  },
  {
   "cell_type": "markdown",
   "metadata": {},
   "source": [
    "#### Create output directories, prepare output files"
   ]
  },
  {
   "cell_type": "code",
   "execution_count": 15,
   "metadata": {},
   "outputs": [
    {
     "name": "stdout",
     "output_type": "stream",
     "text": [
      "/home/sarah/temp/ecoextreml/output/NL-Hor_2022-05-19-1457/ECdata.csv\n",
      "Reading variable metadata from /home/sarah/GitHub/STEMMUS_SCOPE/utils/csv_to_nc/Variables_will_be_in_NetCDF_file.csv\n",
      "Creating /home/sarah/temp/ecoextreml/output/NL-Hor_2022-05-19-1457/NL-Hor_2022-05-19-1457_STEMMUS_SCOPE.nc \n",
      "Reading data from file: radiation.csv\n",
      "Reading data from file: fluxes.csv\n",
      "Reading data from file: surftemp.csv\n",
      "Reading data from file: Sim_Temp.csv\n",
      "Reading data from file: Sim_Theta.csv\n",
      "Reading data from file: aerodyn.csv\n",
      "Reading data from file: ECdata.csv\n",
      "Done writing /home/sarah/temp/ecoextreml/output/NL-Hor_2022-05-19-1457/NL-Hor_2022-05-19-1457_STEMMUS_SCOPE.nc\n",
      "/home/sarah/temp/ecoextreml/output/ZA-Kru_2022-05-19-1458/ECdata.csv\n",
      "Reading variable metadata from /home/sarah/GitHub/STEMMUS_SCOPE/utils/csv_to_nc/Variables_will_be_in_NetCDF_file.csv\n",
      "Creating /home/sarah/temp/ecoextreml/output/ZA-Kru_2022-05-19-1458/ZA-Kru_2022-05-19-1458_STEMMUS_SCOPE.nc \n",
      "Reading data from file: radiation.csv\n",
      "Reading data from file: fluxes.csv\n",
      "Reading data from file: surftemp.csv\n",
      "Reading data from file: Sim_Temp.csv\n",
      "Reading data from file: Sim_Theta.csv\n",
      "Reading data from file: aerodyn.csv\n",
      "Reading data from file: ECdata.csv\n",
      "Done writing /home/sarah/temp/ecoextreml/output/ZA-Kru_2022-05-19-1458/ZA-Kru_2022-05-19-1458_STEMMUS_SCOPE.nc\n"
     ]
    }
   ],
   "source": [
    "# convert csv files to nc files\n",
    "path_to_utils = Path(path_to_model, \"utils/csv_to_nc\")\n",
    "for ncfile in forcing_filenames_list:\n",
    "    path_to_config = config_path_dict[ncfile]\n",
    "    result = subprocess.run([\"python\", Path(path_to_utils, \"generate_netcdf_files.py\"),\n",
    "         \"--config_file\", path_to_config, \"--variable_file\",\n",
    "         Path(path_to_utils, \"Variables_will_be_in_NetCDF_file.csv\")])\n",
    "    result.check_returncode()"
   ]
  },
  {
   "cell_type": "code",
   "execution_count": null,
   "metadata": {},
   "outputs": [],
   "source": []
  }
 ],
 "metadata": {
  "interpreter": {
   "hash": "28b136f154b3384fcb2854e5626613232692c304dbc5315064ef4c9363104a2c"
  },
  "kernelspec": {
   "display_name": "Python 3 (ipykernel)",
   "language": "python",
   "name": "python3"
  },
  "language_info": {
   "codemirror_mode": {
    "name": "ipython",
    "version": 3
   },
   "file_extension": ".py",
   "mimetype": "text/x-python",
   "name": "python",
   "nbconvert_exporter": "python",
   "pygments_lexer": "ipython3",
   "version": "3.9.12"
  }
 },
 "nbformat": 4,
 "nbformat_minor": 4
}
