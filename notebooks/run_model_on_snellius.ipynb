{
 "cells": [
  {
   "cell_type": "markdown",
   "metadata": {},
   "source": [
    "## Launch the STEMMUS_SCOPE model\n",
    "Steps to run the STEMMUS_SCOPE model, including preprocessing and postprocessing, on Surf super computer Snellius."
   ]
  },
  {
   "cell_type": "code",
   "execution_count": null,
   "metadata": {},
   "outputs": [],
   "source": [
    "import os\n",
    "import shutil\n",
    "import numpy as np\n",
    "from pathlib import Path\n",
    "import subprocess\n",
    "import datetime\n",
    "import time"
   ]
  },
  {
   "cell_type": "markdown",
   "metadata": {},
   "source": [
    "#### Create an executable file of STEMMUS_SCOPE"
   ]
  },
  {
   "cell_type": "code",
   "execution_count": null,
   "metadata": {},
   "outputs": [],
   "source": [
    "# path to executable\n",
    "root_path_to_model = Path(Path.home(),\"EcoExtreML\", \"STEMMUS_SCOPE\")\n",
    "# submit slurm job\n",
    "result = subprocess.run([\"sbatch\", Path(root_path_to_model, \"exe\", \"build_stemmus_scope_exe.sh\")])\n",
    "result.check_returncode()"
   ]
  },
  {
   "cell_type": "markdown",
   "metadata": {},
   "source": [
    "#### Update/set config files"
   ]
  },
  {
   "cell_type": "code",
   "execution_count": null,
   "metadata": {},
   "outputs": [],
   "source": [
    "# the user must provide the correct path\n",
    "path_dict = {\n",
    "    \"SoilPropertyPath\": \"/data/shared/EcoExtreML/STEMMUS_SCOPEv1.0.0/input/SoilProperty/\",\n",
    "    \"InputPath\": \"/data/shared/EcoExtreML/STEMMUS_SCOPEv1.0.0/input/\",\n",
    "    \"OutputPath\": \"/data/shared/EcoExtreML/STEMMUS_SCOPEv1.0.0/output/\",\n",
    "    \"ForcingPath\": \"/data/shared/EcoExtreML/STEMMUS_SCOPEv1.0.0/input/Plumber2_data/\",\n",
    "    \"ForcingFileName\": \"AU-DaS_2010-2017_OzFlux_Met.nc\",\n",
    "    \"VegetationPropertyPath\": \"/data/shared/EcoExtreML/STEMMUS_SCOPEv1.0.0/model_parameters/vegetation_property/\",\n",
    "    \"DurationSize\": \"NA\"\n",
    "}\n",
    "\n",
    "# generate a text file\n",
    "root_path = Path().resolve().parent\n",
    "\n",
    "with open(Path(root_path, \"config_file_snellius.txt\"), 'w') as f:\n",
    "    print(\"The listed paths are defined in the config file:\")\n",
    "    for i in path_dict.keys():\n",
    "        print(i)\n",
    "        f.write((i + \"=\" + path_dict[i] + \"\\n\"))"
   ]
  },
  {
   "cell_type": "markdown",
   "metadata": {},
   "source": [
    "#### Create input directories, prepare input files "
   ]
  },
  {
   "cell_type": "code",
   "execution_count": null,
   "metadata": {},
   "outputs": [],
   "source": [
    "def input_dir(station_name):\n",
    "    \"\"\"Create input directory and prepare input files\n",
    "    \"\"\"\n",
    "    # get start time with the format Y-M-D-HM\n",
    "    start_time = str(datetime.datetime.now()).split('.')[0]\n",
    "    timestamp = start_time.replace(' ', '-').replace(':', '')[:-2]\n",
    "    # create input directory\n",
    "    work_dir = Path(path_dict[\"InputPath\"], station_name + '_' + timestamp)\n",
    "    Path(work_dir).mkdir(parents=True, exist_ok=True)\n",
    "    print(f\"Prepare work directory for the station: {station_name}\")\n",
    "    # copy model parameters to work directory\n",
    "    shutil.copytree(path_dict[\"VegetationPropertyPath\"], work_dir, dirs_exist_ok=True)\n",
    "    # update config file for ForcingFileName and InputPath\n",
    "    with open(Path(work_dir, f\"{station_name}_{timestamp}_config.txt\"), 'w') as f:\n",
    "        for i in path_dict.keys():\n",
    "            if i == \"ForcingFileName\":\n",
    "                f.write(i + \"=\" + ncfile.stem + \".nc\" + \"\\n\")\n",
    "            elif i == \"InputPath\":\n",
    "                f.write(i + \"=\" + str(work_dir) + \"\\n\")\n",
    "            else:\n",
    "                f.write(i + \"=\" + path_dict[i] + \"\\n\")\n",
    "    \n",
    "    # create an output file\n",
    "    Path(root_path, \".out\").mkdir(parents=True, exist_ok=True)\n",
    "    with open(Path(root_path, \".out\", f\"{station_name}.out\"), 'w') as f:\n",
    "        for i in path_dict.keys():\n",
    "            if i == \"ForcingFileName\":\n",
    "                f.write(i + \" is \" + ncfile.stem + \".nc\" + \"\\n\")\n",
    "            elif i == \"InputPath\":\n",
    "                f.write(i + \" is \" + str(work_dir) + \"\\n\")\n",
    "            elif i == \"DurationSize\":\n",
    "                pass\n",
    "            else:\n",
    "                f.write(i + \" is \" + path_dict[i] + \"\\n\")\n",
    "    "
   ]
  },
  {
   "cell_type": "code",
   "execution_count": null,
   "metadata": {},
   "outputs": [],
   "source": [
    "# specify the station of interest\n",
    "# station_names_list is by default none, if it is not specified, then all stations with forcing\n",
    "# listed in the ForcingPath will be used.\n",
    "station_names_list = None\n",
    "#station_names_list = [\"US-Myb\", \"ZA-Kru\"]\n",
    "\n",
    "for ncfile in Path(path_dict[\"ForcingPath\"]).iterdir():\n",
    "    # get the station name\n",
    "    station_name = ncfile.stem.split('_')[0]\n",
    "    # check if a station list is provided\n",
    "    if station_names_list == None:\n",
    "        input_dir(station_name)\n",
    "    elif station_name in station_names_list:\n",
    "        input_dir(station_name)"
   ]
  },
  {
   "cell_type": "markdown",
   "metadata": {},
   "source": [
    "#### Run the model"
   ]
  },
  {
   "cell_type": "code",
   "execution_count": null,
   "metadata": {},
   "outputs": [],
   "source": [
    "for station_dir in os.listdir(path_dict[\"InputPath\"]):\n",
    "    station_name = station_dir.split(\"_\")[0]\n",
    "    path_to_config = Path(path_dict[\"InputPath\"], f\"{station_dir}\",f\"{station_dir}_config.txt\")\n",
    "    # set matlab log dir to slurm, otherwise java.log files are created in user home dir\n",
    "    subprocess.run([\"export\", \"MATLAB_LOG_DIR=../out\"])\n",
    "    # start time\n",
    "    start_time = time.time()\n",
    "    # run the model\n",
    "    result = subprocess.run([\"exe/STEMMUS_SCOPE\", path_to_config, \">>\", f\"{station_name}.out\"])\n",
    "    result.check_returncode()\n",
    "    run_time = time.time() - start_time\n",
    "    # add execution information to .out file\n",
    "    with open(Path(root_path, \".out\", f\"{station_name}.out\"), 'a') as f:\n",
    "        f.write(f\"Run is COMPLETED. Model run time is {run_time} s.\")"
   ]
  },
  {
   "cell_type": "markdown",
   "metadata": {},
   "source": [
    "#### Create output directories, prepare output files"
   ]
  },
  {
   "cell_type": "code",
   "execution_count": null,
   "metadata": {},
   "outputs": [],
   "source": [
    "# convert csv files to nc files\n",
    "path_to_utils = Path(root_path_to_model, \"utils/csv_to_nc\")\n",
    "for station_dir in os.listdir(path_dict[\"InputPath\"]):\n",
    "    path_to_config = Path(path_dict[\"InputPath\"], f\"{station_dir}\",f\"{station_dir}_config.txt\")\n",
    "    result = subprocess.run([\"python\", Path(path_to_utils, \"generate_netcdf_files.py\"),\n",
    "         \"--config_file\", path_to_config, \"--variable_file\", Path(path_to_utils, \"Variables_will_be_in_NetCDF_file.csv\")])\n",
    "    result.check_returncode()"
   ]
  }
 ],
 "metadata": {
  "interpreter": {
   "hash": "28b136f154b3384fcb2854e5626613232692c304dbc5315064ef4c9363104a2c"
  },
  "kernelspec": {
   "display_name": "Python 3.9.12 ('stemmus')",
   "language": "python",
   "name": "python3"
  },
  "language_info": {
   "codemirror_mode": {
    "name": "ipython",
    "version": 3
   },
   "file_extension": ".py",
   "mimetype": "text/x-python",
   "name": "python",
   "nbconvert_exporter": "python",
   "pygments_lexer": "ipython3",
   "version": "3.9.12"
  },
  "orig_nbformat": 4
 },
 "nbformat": 4,
 "nbformat_minor": 2
}
