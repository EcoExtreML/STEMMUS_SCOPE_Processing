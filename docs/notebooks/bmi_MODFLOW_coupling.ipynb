{
 "cells": [
  {
   "cell_type": "markdown",
   "metadata": {},
   "source": [
    "# STEMMUS_SCOPE & MODFLOW 6 BMI coupling\n",
    "\n",
    "This Python notebook shows a simple example of BMI coupling between the STEMMUS_SCOPE model and the MODFLOW 6 model. The example is prepared for one of the PLUMBER2 dataset (https://researchdata.edu.au/plumber2-forcing-evaluation-surface-models/1656048): the LooBos site, the Netherlands (NL-Loo). To run this notebook, the following are required:\n",
    "- Install the related packages:\n",
    "    - pyStemmusScope package (https://pystemmusscope.readthedocs.io/en/latest/).\n",
    "    - modflowapi Python package (https://github.com/MODFLOW-USGS/modflowapi?tab=readme-ov-file#installation).\n",
    "- The executable files of both models. \n",
    "    - STEMMUS_SCOPE executable file can be retrieved from the link (https://github.com/EcoExtreML/STEMMUS_SCOPE/blob/main/run_model_on_snellius/exe/STEMMUS_SCOPE). Note: the STEMMUS_SCOPE executable file is Linux-based only.\n",
    "    - MODFLOW 6 executable files can be retrieved from the link (https://github.com/MODFLOW-USGS/modflow6/releases). Note: This notebook is based on MODFLOW 6.5.0 (Linux version). \n",
    "- The input files of both models are already prepared in advance and are not part of this notebook. The input data files can be accessed via this link (https://zenodo.org/records/13354850). The link also includes a version of the executable files needed to run the models. Download, unzip and copy the folders to your own working directory (root directory, see below the cell under the header: *1. Set up the root directory*).\n",
    " \n",
    "In case the user wants to test the notebook on another site, preparing input files for both models is required. Preparing input files for STEMMUS_SCOPE can be done through the PyStemmusScope Python package (https://pystemmusscope.readthedocs.io/en/latest/notebooks/run_model_on_different_infra/). Preparing input files for MODFLOW 6 can be done through the FloPy Python package (https://flopy.readthedocs.io/en/stable/tutorials.html#modflow-6).\n",
    "\n",
    "\n",
    "Notes\n",
    "- Units in STEMMUS_SCOPE are centimetres and seconds. The model runs every 30 mins.\n",
    "- Units in MODFLOW 6 are meter and day. The model runs every day.\n",
    "- STEMMUS_SCOPE runs per time steps.\n",
    "- MODFLOW 6 runs per stress periods and time steps. A stress period is the period of time when the model forcing is fixed. Each stress period can be divided into a number of time steps. In each time step, model variables will be updated (but model forcing is still fixed).\n",
    "- This example runs for 10 days. STEMMUS_SCOPE has 480 time steps (length of each time step = 30 mins). MODFLOW 6 has 10 stress periods (length of each period = 1 day and each period has 48 time steps), so in total MODFLOW 6 runs 480 times."
   ]
  },
  {
   "cell_type": "code",
   "execution_count": 47,
   "metadata": {},
   "outputs": [],
   "source": [
    "import os\n",
    "import sys\n",
    "import shutil\n",
    "import numpy as np\n",
    "import xarray as xr\n",
    "from datetime import datetime\n",
    "import matplotlib.pyplot as plt\n",
    "from PyStemmusScope.config_io import read_config\n",
    "from PyStemmusScope.bmi.implementation import StemmusScopeBmi\n",
    "from modflowapi import ModflowApi\n",
    "from modflowapi.extensions import ApiSimulation\n",
    "from cftime import num2pydate\n",
    "from rich import print"
   ]
  },
  {
   "cell_type": "code",
   "execution_count": 48,
   "metadata": {},
   "outputs": [],
   "source": [
    "startTime = datetime.now()"
   ]
  },
  {
   "cell_type": "markdown",
   "metadata": {},
   "source": [
    "### 1. Set up the root directory"
   ]
  },
  {
   "cell_type": "code",
   "execution_count": 49,
   "metadata": {},
   "outputs": [],
   "source": [
    "root = os.path.join('.', 'SSM_examples', 'ex1') # the root path where all folders are stored into\n",
    "executables_workspace = os.path.join('.', 'SSM_examples', 'executables')\n",
    "output_figures_workspace = os.path.join(root, 'output_figures')\n",
    "if not os.path.exists(output_figures_workspace):\n",
    "    os.makedirs(output_figures_workspace)"
   ]
  },
  {
   "cell_type": "markdown",
   "metadata": {},
   "source": [
    "#### 1.1. Set up STEMMUS_SCOPE folder and config file"
   ]
  },
  {
   "cell_type": "code",
   "execution_count": 50,
   "metadata": {},
   "outputs": [],
   "source": [
    "stemmus_scope_workspace = os.path.join(root, 'stsc_input', 'NL-Loo_2024-08-12-1341')\n",
    "stemmus_scope_config_file = os.path.join(stemmus_scope_workspace, \"NL-Loo_2024-08-12-1341_config.txt\")"
   ]
  },
  {
   "cell_type": "markdown",
   "metadata": {},
   "source": [
    "If we are using the local executable file we first have to add the Matlab runtime compiler locations to PATH:"
   ]
  },
  {
   "cell_type": "code",
   "execution_count": 51,
   "metadata": {},
   "outputs": [
    {
     "data": {
      "text/html": [
       "<pre style=\"white-space:pre;overflow-x:auto;line-height:normal;font-family:Menlo,'DejaVu Sans Mono',consolas,'Courier New',monospace\"><span style=\"color: #800080; text-decoration-color: #800080\">/opt/matlab/MATLAB_Runtime/R2023a/runtime/</span><span style=\"color: #ff00ff; text-decoration-color: #ff00ff\">glnxa64</span>:<span style=\"color: #800080; text-decoration-color: #800080\">/opt/matlab/MATLAB_Runtime/R2023a/bin/</span><span style=\"color: #ff00ff; text-decoration-color: #ff00ff\">glnxa64</span>:<span style=\"color: #800080; text-decoration-color: #800080\">/opt/matlab/MATLAB_</span>\n",
       "<span style=\"color: #800080; text-decoration-color: #800080\">Runtime/R2023a/sys/os/</span><span style=\"color: #ff00ff; text-decoration-color: #ff00ff\">glnxa64</span>:<span style=\"color: #800080; text-decoration-color: #800080\">/opt/matlab/MATLAB_Runtime/R2023a/extern/bin/</span><span style=\"color: #ff00ff; text-decoration-color: #ff00ff\">glnxa64</span>:<span style=\"color: #800080; text-decoration-color: #800080\">/opt/matlab/MATLAB_Runtime/R2023</span>\n",
       "<span style=\"color: #800080; text-decoration-color: #800080\">a/sys/opengl/lib/</span><span style=\"color: #ff00ff; text-decoration-color: #ff00ff\">glnxa64</span>\n",
       "</pre>\n"
      ],
      "text/plain": [
       "\u001b[35m/opt/matlab/MATLAB_Runtime/R2023a/runtime/\u001b[0m\u001b[95mglnxa64\u001b[0m:\u001b[35m/opt/matlab/MATLAB_Runtime/R2023a/bin/\u001b[0m\u001b[95mglnxa64\u001b[0m:\u001b[35m/opt/matlab/MATLAB_\u001b[0m\n",
       "\u001b[35mRuntime/R2023a/sys/os/\u001b[0m\u001b[95mglnxa64\u001b[0m:\u001b[35m/opt/matlab/MATLAB_Runtime/R2023a/extern/bin/\u001b[0m\u001b[95mglnxa64\u001b[0m:\u001b[35m/opt/matlab/MATLAB_Runtime/R2023\u001b[0m\n",
       "\u001b[35ma/sys/opengl/lib/\u001b[0m\u001b[95mglnxa64\u001b[0m\n"
      ]
     },
     "metadata": {},
     "output_type": "display_data"
    }
   ],
   "source": [
    "# Add the matlab runtime compiler locations: \n",
    "matlab_version = 'R2023a'\n",
    "matlab_path = '/opt/matlab/MATLAB_Runtime/' + matlab_version \n",
    " \n",
    "os.environ['LD_LIBRARY_PATH'] = (   \n",
    "    f\"{matlab_path}/runtime/glnxa64:\"\n",
    "    f\"{matlab_path}/bin/glnxa64:\"\n",
    "    f\"{matlab_path}/sys/os/glnxa64:\"\n",
    "    f\"{matlab_path}/extern/bin/glnxa64:\"\n",
    "    f\"{matlab_path}/sys/opengl/lib/glnxa64\")\n",
    "print(os.environ['LD_LIBRARY_PATH'])\n",
    "os.environ[\"STEMMUS_SCOPE\"] = read_config(stemmus_scope_config_file)[\"ExeFilePath\"]"
   ]
  },
  {
   "cell_type": "markdown",
   "metadata": {},
   "source": [
    "#### 1.2. Set up MODFLOW 6 workspace and dll/so file"
   ]
  },
  {
   "cell_type": "code",
   "execution_count": 52,
   "metadata": {},
   "outputs": [],
   "source": [
    "modflow_workspace = os.path.join(root, 'mf6_model_base')\n",
    "modflow_exe_file = os.path.join(executables_workspace, \"libmf6.so\")  # for window -> \"libmf6.dll\""
   ]
  },
  {
   "cell_type": "markdown",
   "metadata": {},
   "source": [
    "### 2. Load and initialize models"
   ]
  },
  {
   "cell_type": "markdown",
   "metadata": {},
   "source": [
    "#### 2.1. Initialize the STEMMUS_SCOPE model "
   ]
  },
  {
   "cell_type": "code",
   "execution_count": 53,
   "metadata": {},
   "outputs": [],
   "source": [
    "stemmus_scope = StemmusScopeBmi()\n",
    "stemmus_scope.initialize(stemmus_scope_config_file)"
   ]
  },
  {
   "cell_type": "markdown",
   "metadata": {},
   "source": [
    "##### Note: STEMMUS_SCOPE needs to be updated by one timestep before the BMI is accessible"
   ]
  },
  {
   "cell_type": "code",
   "execution_count": 54,
   "metadata": {},
   "outputs": [],
   "source": [
    "stemmus_scope.update()"
   ]
  },
  {
   "cell_type": "markdown",
   "metadata": {},
   "source": [
    "##### Define arrays to store the needed STEMMUS_SCOPE variables"
   ]
  },
  {
   "cell_type": "code",
   "execution_count": 55,
   "metadata": {},
   "outputs": [],
   "source": [
    "n_timesteps = int((stemmus_scope.get_end_time() - stemmus_scope.get_current_time())/stemmus_scope.get_time_step())\n",
    "n_soil_layers = stemmus_scope.get_grid_size(stemmus_scope.get_var_grid(\"soil_moisture\"))\n",
    "\n",
    "soil_moisture = np.zeros((n_timesteps, n_soil_layers))\n",
    "soil_temperature = np.zeros((n_timesteps, n_soil_layers))\n",
    "gw_recharge = np.zeros(1)\n",
    "gw_recharge_nstp = np.array([])\n",
    "stemmus_scope_time = []\n",
    "i = 0"
   ]
  },
  {
   "cell_type": "markdown",
   "metadata": {},
   "source": [
    "#### 2.2. Initialize the MODFLOW 6 model and get other settings"
   ]
  },
  {
   "cell_type": "code",
   "execution_count": 56,
   "metadata": {},
   "outputs": [],
   "source": [
    "modflow = ModflowApi(modflow_exe_file, working_directory = modflow_workspace)\n",
    "modflow_config_file = os.path.join(modflow_workspace, 'mfsim.nam')\n",
    "modflow.initialize(modflow_config_file)"
   ]
  },
  {
   "cell_type": "markdown",
   "metadata": {},
   "source": [
    "##### Load the MODFLOW 6 simulation and models"
   ]
  },
  {
   "cell_type": "code",
   "execution_count": 57,
   "metadata": {},
   "outputs": [
    {
     "data": {
      "text/plain": [
       "('gwf', 'gwe')"
      ]
     },
     "execution_count": 57,
     "metadata": {},
     "output_type": "execute_result"
    }
   ],
   "source": [
    "sim = ApiSimulation.load(modflow)\n",
    "gwf_name = sim.model_names[0] # groundwater flow model \n",
    "gwe_name = sim.model_names[1] # groundwater energy (heat) model\n",
    "gwf_name, gwe_name"
   ]
  },
  {
   "cell_type": "markdown",
   "metadata": {},
   "source": [
    "##### Get number of stress periods (days) and time steps of MODFLOW"
   ]
  },
  {
   "cell_type": "code",
   "execution_count": 58,
   "metadata": {},
   "outputs": [
    {
     "data": {
      "text/plain": [
       "(10, 48)"
      ]
     },
     "execution_count": 58,
     "metadata": {},
     "output_type": "execute_result"
    }
   ],
   "source": [
    "nper, nstp = sim.nper, sim.nstp\n",
    "nper, nstp"
   ]
  },
  {
   "cell_type": "markdown",
   "metadata": {},
   "source": [
    "##### Get pointers of MODFLOW API data"
   ]
  },
  {
   "cell_type": "code",
   "execution_count": 59,
   "metadata": {},
   "outputs": [],
   "source": [
    "top_tag = modflow.get_var_address(\"TOP\", gwf_name.upper(), \"DIS\") # tag of land surface (top) elevation\n",
    "gwhead_tag = modflow.get_var_address(\"X\", gwf_name) # tag of groundwater heads\n",
    "gwtemp_tag = modflow.get_var_address(\"X\", gwe_name) # tag of groundwater temperature\n",
    "rch_tag = modflow.get_var_address(\"RECHARGE\", gwf_name.upper(), \"RCH_0\") # tag of groundwater recharge"
   ]
  },
  {
   "cell_type": "markdown",
   "metadata": {},
   "source": [
    "##### Get Initial head and temperature of MODFLOW"
   ]
  },
  {
   "cell_type": "code",
   "execution_count": 60,
   "metadata": {},
   "outputs": [
    {
     "data": {
      "text/plain": [
       "(2350.0, 10.0, 2600.0)"
      ]
     },
     "execution_count": 60,
     "metadata": {},
     "output_type": "execute_result"
    }
   ],
   "source": [
    "top_elev = modflow.get_value(top_tag)[0] * 100 # multiply by 100 to convert from m to cm\n",
    "gwhead_init = modflow.get_value(gwhead_tag)[0] * 100 # multiply by 100 to convert from m to cm\n",
    "gwtemp_init = modflow.get_value(gwtemp_tag)[0]\n",
    "\n",
    "gwhead_init, gwtemp_init, top_elev"
   ]
  },
  {
   "cell_type": "markdown",
   "metadata": {},
   "source": [
    "##### Update MODFLOW 6 by one time step to match with the time step of STEMMUS_SCOPE"
   ]
  },
  {
   "cell_type": "code",
   "execution_count": 61,
   "metadata": {},
   "outputs": [],
   "source": [
    "modflow.update()"
   ]
  },
  {
   "cell_type": "markdown",
   "metadata": {},
   "source": [
    "### 3. Start STEMMUS_SCOPE & MODFLOW coupling"
   ]
  },
  {
   "cell_type": "markdown",
   "metadata": {},
   "source": [
    "##### Enable groundwater coupling option in STEMMUS_SCOPE"
   ]
  },
  {
   "cell_type": "code",
   "execution_count": 62,
   "metadata": {},
   "outputs": [],
   "source": [
    "stemmus_scope.set_value(\"groundwater_coupling_enabled\", np.array([True]))"
   ]
  },
  {
   "cell_type": "markdown",
   "metadata": {},
   "source": [
    "##### Set the MODFLOW 6 initial variables [Land surface elevation, groundwater initial head, and groundwater initial temperature (optional)] in STEMMUS_SCOPE"
   ]
  },
  {
   "cell_type": "code",
   "execution_count": 63,
   "metadata": {},
   "outputs": [],
   "source": [
    "stemmus_scope.set_value(\"groundwater_elevation_top_aquifer\", top_elev)\n",
    "stemmus_scope.set_value(\"groundwater_head_bottom_layer\", gwhead_init)\n",
    "stemmus_scope.set_value(\"groundwater_temperature\", gwtemp_init) "
   ]
  },
  {
   "cell_type": "markdown",
   "metadata": {},
   "source": [
    "##### Iterate through the time steps of both models and exchange variables.\n",
    "\n",
    "For every time step of STEMMUS_SCOPE:\n",
    "- MODFLOW 6 gives groundwater head and groundwater temperature to STEMMUS_SCOPE\n",
    "\n",
    "For every stress period of MODFLOW 6 (which has 48 time steps of MODFLOW 6):\n",
    "- STEMMUS_SCOPE gives groundwater recharge to MODFLOW 6 (recharge_stress_period = sum of 48 recharge_time_step)"
   ]
  },
  {
   "cell_type": "code",
   "execution_count": 64,
   "metadata": {},
   "outputs": [
    {
     "data": {
      "text/html": [
       "<pre style=\"white-space:pre;overflow-x:auto;line-height:normal;font-family:Menlo,'DejaVu Sans Mono',consolas,'Courier New',monospace\">Updating MODFLOW Stress period <span style=\"color: #008080; text-decoration-color: #008080; font-weight: bold\">1</span>, time step <span style=\"color: #008080; text-decoration-color: #008080; font-weight: bold\">1</span>\n",
       "</pre>\n"
      ],
      "text/plain": [
       "Updating MODFLOW Stress period \u001b[1;36m1\u001b[0m, time step \u001b[1;36m1\u001b[0m\n"
      ]
     },
     "metadata": {},
     "output_type": "display_data"
    },
    {
     "data": {
      "text/html": [
       "<pre style=\"white-space:pre;overflow-x:auto;line-height:normal;font-family:Menlo,'DejaVu Sans Mono',consolas,'Courier New',monospace\">Updating MODFLOW Stress period <span style=\"color: #008080; text-decoration-color: #008080; font-weight: bold\">1</span>, time step <span style=\"color: #008080; text-decoration-color: #008080; font-weight: bold\">2</span>\n",
       "</pre>\n"
      ],
      "text/plain": [
       "Updating MODFLOW Stress period \u001b[1;36m1\u001b[0m, time step \u001b[1;36m2\u001b[0m\n"
      ]
     },
     "metadata": {},
     "output_type": "display_data"
    },
    {
     "data": {
      "text/html": [
       "<pre style=\"white-space:pre;overflow-x:auto;line-height:normal;font-family:Menlo,'DejaVu Sans Mono',consolas,'Courier New',monospace\">Updating MODFLOW Stress period <span style=\"color: #008080; text-decoration-color: #008080; font-weight: bold\">1</span>, time step <span style=\"color: #008080; text-decoration-color: #008080; font-weight: bold\">3</span>\n",
       "</pre>\n"
      ],
      "text/plain": [
       "Updating MODFLOW Stress period \u001b[1;36m1\u001b[0m, time step \u001b[1;36m3\u001b[0m\n"
      ]
     },
     "metadata": {},
     "output_type": "display_data"
    },
    {
     "data": {
      "text/html": [
       "<pre style=\"white-space:pre;overflow-x:auto;line-height:normal;font-family:Menlo,'DejaVu Sans Mono',consolas,'Courier New',monospace\">Updating MODFLOW Stress period <span style=\"color: #008080; text-decoration-color: #008080; font-weight: bold\">1</span>, time step <span style=\"color: #008080; text-decoration-color: #008080; font-weight: bold\">4</span>\n",
       "</pre>\n"
      ],
      "text/plain": [
       "Updating MODFLOW Stress period \u001b[1;36m1\u001b[0m, time step \u001b[1;36m4\u001b[0m\n"
      ]
     },
     "metadata": {},
     "output_type": "display_data"
    },
    {
     "data": {
      "text/html": [
       "<pre style=\"white-space:pre;overflow-x:auto;line-height:normal;font-family:Menlo,'DejaVu Sans Mono',consolas,'Courier New',monospace\">Updating MODFLOW Stress period <span style=\"color: #008080; text-decoration-color: #008080; font-weight: bold\">1</span>, time step <span style=\"color: #008080; text-decoration-color: #008080; font-weight: bold\">5</span>\n",
       "</pre>\n"
      ],
      "text/plain": [
       "Updating MODFLOW Stress period \u001b[1;36m1\u001b[0m, time step \u001b[1;36m5\u001b[0m\n"
      ]
     },
     "metadata": {},
     "output_type": "display_data"
    },
    {
     "data": {
      "text/html": [
       "<pre style=\"white-space:pre;overflow-x:auto;line-height:normal;font-family:Menlo,'DejaVu Sans Mono',consolas,'Courier New',monospace\">Updating MODFLOW Stress period <span style=\"color: #008080; text-decoration-color: #008080; font-weight: bold\">1</span>, time step <span style=\"color: #008080; text-decoration-color: #008080; font-weight: bold\">6</span>\n",
       "</pre>\n"
      ],
      "text/plain": [
       "Updating MODFLOW Stress period \u001b[1;36m1\u001b[0m, time step \u001b[1;36m6\u001b[0m\n"
      ]
     },
     "metadata": {},
     "output_type": "display_data"
    },
    {
     "data": {
      "text/html": [
       "<pre style=\"white-space:pre;overflow-x:auto;line-height:normal;font-family:Menlo,'DejaVu Sans Mono',consolas,'Courier New',monospace\">Updating MODFLOW Stress period <span style=\"color: #008080; text-decoration-color: #008080; font-weight: bold\">1</span>, time step <span style=\"color: #008080; text-decoration-color: #008080; font-weight: bold\">7</span>\n",
       "</pre>\n"
      ],
      "text/plain": [
       "Updating MODFLOW Stress period \u001b[1;36m1\u001b[0m, time step \u001b[1;36m7\u001b[0m\n"
      ]
     },
     "metadata": {},
     "output_type": "display_data"
    },
    {
     "data": {
      "text/html": [
       "<pre style=\"white-space:pre;overflow-x:auto;line-height:normal;font-family:Menlo,'DejaVu Sans Mono',consolas,'Courier New',monospace\">Updating MODFLOW Stress period <span style=\"color: #008080; text-decoration-color: #008080; font-weight: bold\">1</span>, time step <span style=\"color: #008080; text-decoration-color: #008080; font-weight: bold\">8</span>\n",
       "</pre>\n"
      ],
      "text/plain": [
       "Updating MODFLOW Stress period \u001b[1;36m1\u001b[0m, time step \u001b[1;36m8\u001b[0m\n"
      ]
     },
     "metadata": {},
     "output_type": "display_data"
    },
    {
     "data": {
      "text/html": [
       "<pre style=\"white-space:pre;overflow-x:auto;line-height:normal;font-family:Menlo,'DejaVu Sans Mono',consolas,'Courier New',monospace\">Updating MODFLOW Stress period <span style=\"color: #008080; text-decoration-color: #008080; font-weight: bold\">1</span>, time step <span style=\"color: #008080; text-decoration-color: #008080; font-weight: bold\">9</span>\n",
       "</pre>\n"
      ],
      "text/plain": [
       "Updating MODFLOW Stress period \u001b[1;36m1\u001b[0m, time step \u001b[1;36m9\u001b[0m\n"
      ]
     },
     "metadata": {},
     "output_type": "display_data"
    },
    {
     "data": {
      "text/html": [
       "<pre style=\"white-space:pre;overflow-x:auto;line-height:normal;font-family:Menlo,'DejaVu Sans Mono',consolas,'Courier New',monospace\">Updating MODFLOW Stress period <span style=\"color: #008080; text-decoration-color: #008080; font-weight: bold\">1</span>, time step <span style=\"color: #008080; text-decoration-color: #008080; font-weight: bold\">10</span>\n",
       "</pre>\n"
      ],
      "text/plain": [
       "Updating MODFLOW Stress period \u001b[1;36m1\u001b[0m, time step \u001b[1;36m10\u001b[0m\n"
      ]
     },
     "metadata": {},
     "output_type": "display_data"
    },
    {
     "data": {
      "text/html": [
       "<pre style=\"white-space:pre;overflow-x:auto;line-height:normal;font-family:Menlo,'DejaVu Sans Mono',consolas,'Courier New',monospace\">Updating MODFLOW Stress period <span style=\"color: #008080; text-decoration-color: #008080; font-weight: bold\">1</span>, time step <span style=\"color: #008080; text-decoration-color: #008080; font-weight: bold\">11</span>\n",
       "</pre>\n"
      ],
      "text/plain": [
       "Updating MODFLOW Stress period \u001b[1;36m1\u001b[0m, time step \u001b[1;36m11\u001b[0m\n"
      ]
     },
     "metadata": {},
     "output_type": "display_data"
    },
    {
     "data": {
      "text/html": [
       "<pre style=\"white-space:pre;overflow-x:auto;line-height:normal;font-family:Menlo,'DejaVu Sans Mono',consolas,'Courier New',monospace\">Updating MODFLOW Stress period <span style=\"color: #008080; text-decoration-color: #008080; font-weight: bold\">1</span>, time step <span style=\"color: #008080; text-decoration-color: #008080; font-weight: bold\">12</span>\n",
       "</pre>\n"
      ],
      "text/plain": [
       "Updating MODFLOW Stress period \u001b[1;36m1\u001b[0m, time step \u001b[1;36m12\u001b[0m\n"
      ]
     },
     "metadata": {},
     "output_type": "display_data"
    },
    {
     "data": {
      "text/html": [
       "<pre style=\"white-space:pre;overflow-x:auto;line-height:normal;font-family:Menlo,'DejaVu Sans Mono',consolas,'Courier New',monospace\">Updating MODFLOW Stress period <span style=\"color: #008080; text-decoration-color: #008080; font-weight: bold\">1</span>, time step <span style=\"color: #008080; text-decoration-color: #008080; font-weight: bold\">13</span>\n",
       "</pre>\n"
      ],
      "text/plain": [
       "Updating MODFLOW Stress period \u001b[1;36m1\u001b[0m, time step \u001b[1;36m13\u001b[0m\n"
      ]
     },
     "metadata": {},
     "output_type": "display_data"
    },
    {
     "data": {
      "text/html": [
       "<pre style=\"white-space:pre;overflow-x:auto;line-height:normal;font-family:Menlo,'DejaVu Sans Mono',consolas,'Courier New',monospace\">Updating MODFLOW Stress period <span style=\"color: #008080; text-decoration-color: #008080; font-weight: bold\">1</span>, time step <span style=\"color: #008080; text-decoration-color: #008080; font-weight: bold\">14</span>\n",
       "</pre>\n"
      ],
      "text/plain": [
       "Updating MODFLOW Stress period \u001b[1;36m1\u001b[0m, time step \u001b[1;36m14\u001b[0m\n"
      ]
     },
     "metadata": {},
     "output_type": "display_data"
    },
    {
     "data": {
      "text/html": [
       "<pre style=\"white-space:pre;overflow-x:auto;line-height:normal;font-family:Menlo,'DejaVu Sans Mono',consolas,'Courier New',monospace\">Updating MODFLOW Stress period <span style=\"color: #008080; text-decoration-color: #008080; font-weight: bold\">1</span>, time step <span style=\"color: #008080; text-decoration-color: #008080; font-weight: bold\">15</span>\n",
       "</pre>\n"
      ],
      "text/plain": [
       "Updating MODFLOW Stress period \u001b[1;36m1\u001b[0m, time step \u001b[1;36m15\u001b[0m\n"
      ]
     },
     "metadata": {},
     "output_type": "display_data"
    },
    {
     "data": {
      "text/html": [
       "<pre style=\"white-space:pre;overflow-x:auto;line-height:normal;font-family:Menlo,'DejaVu Sans Mono',consolas,'Courier New',monospace\">Updating MODFLOW Stress period <span style=\"color: #008080; text-decoration-color: #008080; font-weight: bold\">1</span>, time step <span style=\"color: #008080; text-decoration-color: #008080; font-weight: bold\">16</span>\n",
       "</pre>\n"
      ],
      "text/plain": [
       "Updating MODFLOW Stress period \u001b[1;36m1\u001b[0m, time step \u001b[1;36m16\u001b[0m\n"
      ]
     },
     "metadata": {},
     "output_type": "display_data"
    },
    {
     "data": {
      "text/html": [
       "<pre style=\"white-space:pre;overflow-x:auto;line-height:normal;font-family:Menlo,'DejaVu Sans Mono',consolas,'Courier New',monospace\">Updating MODFLOW Stress period <span style=\"color: #008080; text-decoration-color: #008080; font-weight: bold\">1</span>, time step <span style=\"color: #008080; text-decoration-color: #008080; font-weight: bold\">17</span>\n",
       "</pre>\n"
      ],
      "text/plain": [
       "Updating MODFLOW Stress period \u001b[1;36m1\u001b[0m, time step \u001b[1;36m17\u001b[0m\n"
      ]
     },
     "metadata": {},
     "output_type": "display_data"
    },
    {
     "data": {
      "text/html": [
       "<pre style=\"white-space:pre;overflow-x:auto;line-height:normal;font-family:Menlo,'DejaVu Sans Mono',consolas,'Courier New',monospace\">Updating MODFLOW Stress period <span style=\"color: #008080; text-decoration-color: #008080; font-weight: bold\">1</span>, time step <span style=\"color: #008080; text-decoration-color: #008080; font-weight: bold\">18</span>\n",
       "</pre>\n"
      ],
      "text/plain": [
       "Updating MODFLOW Stress period \u001b[1;36m1\u001b[0m, time step \u001b[1;36m18\u001b[0m\n"
      ]
     },
     "metadata": {},
     "output_type": "display_data"
    },
    {
     "data": {
      "text/html": [
       "<pre style=\"white-space:pre;overflow-x:auto;line-height:normal;font-family:Menlo,'DejaVu Sans Mono',consolas,'Courier New',monospace\">Updating MODFLOW Stress period <span style=\"color: #008080; text-decoration-color: #008080; font-weight: bold\">1</span>, time step <span style=\"color: #008080; text-decoration-color: #008080; font-weight: bold\">19</span>\n",
       "</pre>\n"
      ],
      "text/plain": [
       "Updating MODFLOW Stress period \u001b[1;36m1\u001b[0m, time step \u001b[1;36m19\u001b[0m\n"
      ]
     },
     "metadata": {},
     "output_type": "display_data"
    },
    {
     "data": {
      "text/html": [
       "<pre style=\"white-space:pre;overflow-x:auto;line-height:normal;font-family:Menlo,'DejaVu Sans Mono',consolas,'Courier New',monospace\">Updating MODFLOW Stress period <span style=\"color: #008080; text-decoration-color: #008080; font-weight: bold\">1</span>, time step <span style=\"color: #008080; text-decoration-color: #008080; font-weight: bold\">20</span>\n",
       "</pre>\n"
      ],
      "text/plain": [
       "Updating MODFLOW Stress period \u001b[1;36m1\u001b[0m, time step \u001b[1;36m20\u001b[0m\n"
      ]
     },
     "metadata": {},
     "output_type": "display_data"
    },
    {
     "data": {
      "text/html": [
       "<pre style=\"white-space:pre;overflow-x:auto;line-height:normal;font-family:Menlo,'DejaVu Sans Mono',consolas,'Courier New',monospace\">Updating MODFLOW Stress period <span style=\"color: #008080; text-decoration-color: #008080; font-weight: bold\">1</span>, time step <span style=\"color: #008080; text-decoration-color: #008080; font-weight: bold\">21</span>\n",
       "</pre>\n"
      ],
      "text/plain": [
       "Updating MODFLOW Stress period \u001b[1;36m1\u001b[0m, time step \u001b[1;36m21\u001b[0m\n"
      ]
     },
     "metadata": {},
     "output_type": "display_data"
    },
    {
     "data": {
      "text/html": [
       "<pre style=\"white-space:pre;overflow-x:auto;line-height:normal;font-family:Menlo,'DejaVu Sans Mono',consolas,'Courier New',monospace\">Updating MODFLOW Stress period <span style=\"color: #008080; text-decoration-color: #008080; font-weight: bold\">1</span>, time step <span style=\"color: #008080; text-decoration-color: #008080; font-weight: bold\">22</span>\n",
       "</pre>\n"
      ],
      "text/plain": [
       "Updating MODFLOW Stress period \u001b[1;36m1\u001b[0m, time step \u001b[1;36m22\u001b[0m\n"
      ]
     },
     "metadata": {},
     "output_type": "display_data"
    },
    {
     "data": {
      "text/html": [
       "<pre style=\"white-space:pre;overflow-x:auto;line-height:normal;font-family:Menlo,'DejaVu Sans Mono',consolas,'Courier New',monospace\">Updating MODFLOW Stress period <span style=\"color: #008080; text-decoration-color: #008080; font-weight: bold\">1</span>, time step <span style=\"color: #008080; text-decoration-color: #008080; font-weight: bold\">23</span>\n",
       "</pre>\n"
      ],
      "text/plain": [
       "Updating MODFLOW Stress period \u001b[1;36m1\u001b[0m, time step \u001b[1;36m23\u001b[0m\n"
      ]
     },
     "metadata": {},
     "output_type": "display_data"
    },
    {
     "data": {
      "text/html": [
       "<pre style=\"white-space:pre;overflow-x:auto;line-height:normal;font-family:Menlo,'DejaVu Sans Mono',consolas,'Courier New',monospace\">Updating MODFLOW Stress period <span style=\"color: #008080; text-decoration-color: #008080; font-weight: bold\">1</span>, time step <span style=\"color: #008080; text-decoration-color: #008080; font-weight: bold\">24</span>\n",
       "</pre>\n"
      ],
      "text/plain": [
       "Updating MODFLOW Stress period \u001b[1;36m1\u001b[0m, time step \u001b[1;36m24\u001b[0m\n"
      ]
     },
     "metadata": {},
     "output_type": "display_data"
    },
    {
     "data": {
      "text/html": [
       "<pre style=\"white-space:pre;overflow-x:auto;line-height:normal;font-family:Menlo,'DejaVu Sans Mono',consolas,'Courier New',monospace\">Updating MODFLOW Stress period <span style=\"color: #008080; text-decoration-color: #008080; font-weight: bold\">1</span>, time step <span style=\"color: #008080; text-decoration-color: #008080; font-weight: bold\">25</span>\n",
       "</pre>\n"
      ],
      "text/plain": [
       "Updating MODFLOW Stress period \u001b[1;36m1\u001b[0m, time step \u001b[1;36m25\u001b[0m\n"
      ]
     },
     "metadata": {},
     "output_type": "display_data"
    },
    {
     "data": {
      "text/html": [
       "<pre style=\"white-space:pre;overflow-x:auto;line-height:normal;font-family:Menlo,'DejaVu Sans Mono',consolas,'Courier New',monospace\">Updating MODFLOW Stress period <span style=\"color: #008080; text-decoration-color: #008080; font-weight: bold\">1</span>, time step <span style=\"color: #008080; text-decoration-color: #008080; font-weight: bold\">26</span>\n",
       "</pre>\n"
      ],
      "text/plain": [
       "Updating MODFLOW Stress period \u001b[1;36m1\u001b[0m, time step \u001b[1;36m26\u001b[0m\n"
      ]
     },
     "metadata": {},
     "output_type": "display_data"
    },
    {
     "data": {
      "text/html": [
       "<pre style=\"white-space:pre;overflow-x:auto;line-height:normal;font-family:Menlo,'DejaVu Sans Mono',consolas,'Courier New',monospace\">Updating MODFLOW Stress period <span style=\"color: #008080; text-decoration-color: #008080; font-weight: bold\">1</span>, time step <span style=\"color: #008080; text-decoration-color: #008080; font-weight: bold\">27</span>\n",
       "</pre>\n"
      ],
      "text/plain": [
       "Updating MODFLOW Stress period \u001b[1;36m1\u001b[0m, time step \u001b[1;36m27\u001b[0m\n"
      ]
     },
     "metadata": {},
     "output_type": "display_data"
    },
    {
     "data": {
      "text/html": [
       "<pre style=\"white-space:pre;overflow-x:auto;line-height:normal;font-family:Menlo,'DejaVu Sans Mono',consolas,'Courier New',monospace\">Updating MODFLOW Stress period <span style=\"color: #008080; text-decoration-color: #008080; font-weight: bold\">1</span>, time step <span style=\"color: #008080; text-decoration-color: #008080; font-weight: bold\">28</span>\n",
       "</pre>\n"
      ],
      "text/plain": [
       "Updating MODFLOW Stress period \u001b[1;36m1\u001b[0m, time step \u001b[1;36m28\u001b[0m\n"
      ]
     },
     "metadata": {},
     "output_type": "display_data"
    },
    {
     "data": {
      "text/html": [
       "<pre style=\"white-space:pre;overflow-x:auto;line-height:normal;font-family:Menlo,'DejaVu Sans Mono',consolas,'Courier New',monospace\">Updating MODFLOW Stress period <span style=\"color: #008080; text-decoration-color: #008080; font-weight: bold\">1</span>, time step <span style=\"color: #008080; text-decoration-color: #008080; font-weight: bold\">29</span>\n",
       "</pre>\n"
      ],
      "text/plain": [
       "Updating MODFLOW Stress period \u001b[1;36m1\u001b[0m, time step \u001b[1;36m29\u001b[0m\n"
      ]
     },
     "metadata": {},
     "output_type": "display_data"
    },
    {
     "data": {
      "text/html": [
       "<pre style=\"white-space:pre;overflow-x:auto;line-height:normal;font-family:Menlo,'DejaVu Sans Mono',consolas,'Courier New',monospace\">Updating MODFLOW Stress period <span style=\"color: #008080; text-decoration-color: #008080; font-weight: bold\">1</span>, time step <span style=\"color: #008080; text-decoration-color: #008080; font-weight: bold\">30</span>\n",
       "</pre>\n"
      ],
      "text/plain": [
       "Updating MODFLOW Stress period \u001b[1;36m1\u001b[0m, time step \u001b[1;36m30\u001b[0m\n"
      ]
     },
     "metadata": {},
     "output_type": "display_data"
    },
    {
     "data": {
      "text/html": [
       "<pre style=\"white-space:pre;overflow-x:auto;line-height:normal;font-family:Menlo,'DejaVu Sans Mono',consolas,'Courier New',monospace\">Updating MODFLOW Stress period <span style=\"color: #008080; text-decoration-color: #008080; font-weight: bold\">1</span>, time step <span style=\"color: #008080; text-decoration-color: #008080; font-weight: bold\">31</span>\n",
       "</pre>\n"
      ],
      "text/plain": [
       "Updating MODFLOW Stress period \u001b[1;36m1\u001b[0m, time step \u001b[1;36m31\u001b[0m\n"
      ]
     },
     "metadata": {},
     "output_type": "display_data"
    },
    {
     "data": {
      "text/html": [
       "<pre style=\"white-space:pre;overflow-x:auto;line-height:normal;font-family:Menlo,'DejaVu Sans Mono',consolas,'Courier New',monospace\">Updating MODFLOW Stress period <span style=\"color: #008080; text-decoration-color: #008080; font-weight: bold\">1</span>, time step <span style=\"color: #008080; text-decoration-color: #008080; font-weight: bold\">32</span>\n",
       "</pre>\n"
      ],
      "text/plain": [
       "Updating MODFLOW Stress period \u001b[1;36m1\u001b[0m, time step \u001b[1;36m32\u001b[0m\n"
      ]
     },
     "metadata": {},
     "output_type": "display_data"
    },
    {
     "data": {
      "text/html": [
       "<pre style=\"white-space:pre;overflow-x:auto;line-height:normal;font-family:Menlo,'DejaVu Sans Mono',consolas,'Courier New',monospace\">Updating MODFLOW Stress period <span style=\"color: #008080; text-decoration-color: #008080; font-weight: bold\">1</span>, time step <span style=\"color: #008080; text-decoration-color: #008080; font-weight: bold\">33</span>\n",
       "</pre>\n"
      ],
      "text/plain": [
       "Updating MODFLOW Stress period \u001b[1;36m1\u001b[0m, time step \u001b[1;36m33\u001b[0m\n"
      ]
     },
     "metadata": {},
     "output_type": "display_data"
    },
    {
     "data": {
      "text/html": [
       "<pre style=\"white-space:pre;overflow-x:auto;line-height:normal;font-family:Menlo,'DejaVu Sans Mono',consolas,'Courier New',monospace\">Updating MODFLOW Stress period <span style=\"color: #008080; text-decoration-color: #008080; font-weight: bold\">1</span>, time step <span style=\"color: #008080; text-decoration-color: #008080; font-weight: bold\">34</span>\n",
       "</pre>\n"
      ],
      "text/plain": [
       "Updating MODFLOW Stress period \u001b[1;36m1\u001b[0m, time step \u001b[1;36m34\u001b[0m\n"
      ]
     },
     "metadata": {},
     "output_type": "display_data"
    },
    {
     "data": {
      "text/html": [
       "<pre style=\"white-space:pre;overflow-x:auto;line-height:normal;font-family:Menlo,'DejaVu Sans Mono',consolas,'Courier New',monospace\">Updating MODFLOW Stress period <span style=\"color: #008080; text-decoration-color: #008080; font-weight: bold\">1</span>, time step <span style=\"color: #008080; text-decoration-color: #008080; font-weight: bold\">35</span>\n",
       "</pre>\n"
      ],
      "text/plain": [
       "Updating MODFLOW Stress period \u001b[1;36m1\u001b[0m, time step \u001b[1;36m35\u001b[0m\n"
      ]
     },
     "metadata": {},
     "output_type": "display_data"
    },
    {
     "data": {
      "text/html": [
       "<pre style=\"white-space:pre;overflow-x:auto;line-height:normal;font-family:Menlo,'DejaVu Sans Mono',consolas,'Courier New',monospace\">Updating MODFLOW Stress period <span style=\"color: #008080; text-decoration-color: #008080; font-weight: bold\">1</span>, time step <span style=\"color: #008080; text-decoration-color: #008080; font-weight: bold\">36</span>\n",
       "</pre>\n"
      ],
      "text/plain": [
       "Updating MODFLOW Stress period \u001b[1;36m1\u001b[0m, time step \u001b[1;36m36\u001b[0m\n"
      ]
     },
     "metadata": {},
     "output_type": "display_data"
    },
    {
     "data": {
      "text/html": [
       "<pre style=\"white-space:pre;overflow-x:auto;line-height:normal;font-family:Menlo,'DejaVu Sans Mono',consolas,'Courier New',monospace\">Updating MODFLOW Stress period <span style=\"color: #008080; text-decoration-color: #008080; font-weight: bold\">1</span>, time step <span style=\"color: #008080; text-decoration-color: #008080; font-weight: bold\">37</span>\n",
       "</pre>\n"
      ],
      "text/plain": [
       "Updating MODFLOW Stress period \u001b[1;36m1\u001b[0m, time step \u001b[1;36m37\u001b[0m\n"
      ]
     },
     "metadata": {},
     "output_type": "display_data"
    },
    {
     "data": {
      "text/html": [
       "<pre style=\"white-space:pre;overflow-x:auto;line-height:normal;font-family:Menlo,'DejaVu Sans Mono',consolas,'Courier New',monospace\">Updating MODFLOW Stress period <span style=\"color: #008080; text-decoration-color: #008080; font-weight: bold\">1</span>, time step <span style=\"color: #008080; text-decoration-color: #008080; font-weight: bold\">38</span>\n",
       "</pre>\n"
      ],
      "text/plain": [
       "Updating MODFLOW Stress period \u001b[1;36m1\u001b[0m, time step \u001b[1;36m38\u001b[0m\n"
      ]
     },
     "metadata": {},
     "output_type": "display_data"
    },
    {
     "data": {
      "text/html": [
       "<pre style=\"white-space:pre;overflow-x:auto;line-height:normal;font-family:Menlo,'DejaVu Sans Mono',consolas,'Courier New',monospace\">Updating MODFLOW Stress period <span style=\"color: #008080; text-decoration-color: #008080; font-weight: bold\">1</span>, time step <span style=\"color: #008080; text-decoration-color: #008080; font-weight: bold\">39</span>\n",
       "</pre>\n"
      ],
      "text/plain": [
       "Updating MODFLOW Stress period \u001b[1;36m1\u001b[0m, time step \u001b[1;36m39\u001b[0m\n"
      ]
     },
     "metadata": {},
     "output_type": "display_data"
    },
    {
     "data": {
      "text/html": [
       "<pre style=\"white-space:pre;overflow-x:auto;line-height:normal;font-family:Menlo,'DejaVu Sans Mono',consolas,'Courier New',monospace\">Updating MODFLOW Stress period <span style=\"color: #008080; text-decoration-color: #008080; font-weight: bold\">1</span>, time step <span style=\"color: #008080; text-decoration-color: #008080; font-weight: bold\">40</span>\n",
       "</pre>\n"
      ],
      "text/plain": [
       "Updating MODFLOW Stress period \u001b[1;36m1\u001b[0m, time step \u001b[1;36m40\u001b[0m\n"
      ]
     },
     "metadata": {},
     "output_type": "display_data"
    },
    {
     "data": {
      "text/html": [
       "<pre style=\"white-space:pre;overflow-x:auto;line-height:normal;font-family:Menlo,'DejaVu Sans Mono',consolas,'Courier New',monospace\">Updating MODFLOW Stress period <span style=\"color: #008080; text-decoration-color: #008080; font-weight: bold\">1</span>, time step <span style=\"color: #008080; text-decoration-color: #008080; font-weight: bold\">41</span>\n",
       "</pre>\n"
      ],
      "text/plain": [
       "Updating MODFLOW Stress period \u001b[1;36m1\u001b[0m, time step \u001b[1;36m41\u001b[0m\n"
      ]
     },
     "metadata": {},
     "output_type": "display_data"
    },
    {
     "data": {
      "text/html": [
       "<pre style=\"white-space:pre;overflow-x:auto;line-height:normal;font-family:Menlo,'DejaVu Sans Mono',consolas,'Courier New',monospace\">Updating MODFLOW Stress period <span style=\"color: #008080; text-decoration-color: #008080; font-weight: bold\">1</span>, time step <span style=\"color: #008080; text-decoration-color: #008080; font-weight: bold\">42</span>\n",
       "</pre>\n"
      ],
      "text/plain": [
       "Updating MODFLOW Stress period \u001b[1;36m1\u001b[0m, time step \u001b[1;36m42\u001b[0m\n"
      ]
     },
     "metadata": {},
     "output_type": "display_data"
    },
    {
     "data": {
      "text/html": [
       "<pre style=\"white-space:pre;overflow-x:auto;line-height:normal;font-family:Menlo,'DejaVu Sans Mono',consolas,'Courier New',monospace\">Updating MODFLOW Stress period <span style=\"color: #008080; text-decoration-color: #008080; font-weight: bold\">1</span>, time step <span style=\"color: #008080; text-decoration-color: #008080; font-weight: bold\">43</span>\n",
       "</pre>\n"
      ],
      "text/plain": [
       "Updating MODFLOW Stress period \u001b[1;36m1\u001b[0m, time step \u001b[1;36m43\u001b[0m\n"
      ]
     },
     "metadata": {},
     "output_type": "display_data"
    },
    {
     "data": {
      "text/html": [
       "<pre style=\"white-space:pre;overflow-x:auto;line-height:normal;font-family:Menlo,'DejaVu Sans Mono',consolas,'Courier New',monospace\">Updating MODFLOW Stress period <span style=\"color: #008080; text-decoration-color: #008080; font-weight: bold\">1</span>, time step <span style=\"color: #008080; text-decoration-color: #008080; font-weight: bold\">44</span>\n",
       "</pre>\n"
      ],
      "text/plain": [
       "Updating MODFLOW Stress period \u001b[1;36m1\u001b[0m, time step \u001b[1;36m44\u001b[0m\n"
      ]
     },
     "metadata": {},
     "output_type": "display_data"
    },
    {
     "data": {
      "text/html": [
       "<pre style=\"white-space:pre;overflow-x:auto;line-height:normal;font-family:Menlo,'DejaVu Sans Mono',consolas,'Courier New',monospace\">Updating MODFLOW Stress period <span style=\"color: #008080; text-decoration-color: #008080; font-weight: bold\">1</span>, time step <span style=\"color: #008080; text-decoration-color: #008080; font-weight: bold\">45</span>\n",
       "</pre>\n"
      ],
      "text/plain": [
       "Updating MODFLOW Stress period \u001b[1;36m1\u001b[0m, time step \u001b[1;36m45\u001b[0m\n"
      ]
     },
     "metadata": {},
     "output_type": "display_data"
    },
    {
     "data": {
      "text/html": [
       "<pre style=\"white-space:pre;overflow-x:auto;line-height:normal;font-family:Menlo,'DejaVu Sans Mono',consolas,'Courier New',monospace\">Updating MODFLOW Stress period <span style=\"color: #008080; text-decoration-color: #008080; font-weight: bold\">1</span>, time step <span style=\"color: #008080; text-decoration-color: #008080; font-weight: bold\">46</span>\n",
       "</pre>\n"
      ],
      "text/plain": [
       "Updating MODFLOW Stress period \u001b[1;36m1\u001b[0m, time step \u001b[1;36m46\u001b[0m\n"
      ]
     },
     "metadata": {},
     "output_type": "display_data"
    },
    {
     "data": {
      "text/html": [
       "<pre style=\"white-space:pre;overflow-x:auto;line-height:normal;font-family:Menlo,'DejaVu Sans Mono',consolas,'Courier New',monospace\">Updating MODFLOW Stress period <span style=\"color: #008080; text-decoration-color: #008080; font-weight: bold\">1</span>, time step <span style=\"color: #008080; text-decoration-color: #008080; font-weight: bold\">47</span>\n",
       "</pre>\n"
      ],
      "text/plain": [
       "Updating MODFLOW Stress period \u001b[1;36m1\u001b[0m, time step \u001b[1;36m47\u001b[0m\n"
      ]
     },
     "metadata": {},
     "output_type": "display_data"
    },
    {
     "data": {
      "text/html": [
       "<pre style=\"white-space:pre;overflow-x:auto;line-height:normal;font-family:Menlo,'DejaVu Sans Mono',consolas,'Courier New',monospace\">Updating MODFLOW Stress period <span style=\"color: #008080; text-decoration-color: #008080; font-weight: bold\">1</span>, time step <span style=\"color: #008080; text-decoration-color: #008080; font-weight: bold\">48</span>\n",
       "</pre>\n"
      ],
      "text/plain": [
       "Updating MODFLOW Stress period \u001b[1;36m1\u001b[0m, time step \u001b[1;36m48\u001b[0m\n"
      ]
     },
     "metadata": {},
     "output_type": "display_data"
    },
    {
     "data": {
      "text/html": [
       "<pre style=\"white-space:pre;overflow-x:auto;line-height:normal;font-family:Menlo,'DejaVu Sans Mono',consolas,'Courier New',monospace\">Updating MODFLOW Stress period <span style=\"color: #008080; text-decoration-color: #008080; font-weight: bold\">2</span>, time step <span style=\"color: #008080; text-decoration-color: #008080; font-weight: bold\">1</span>\n",
       "</pre>\n"
      ],
      "text/plain": [
       "Updating MODFLOW Stress period \u001b[1;36m2\u001b[0m, time step \u001b[1;36m1\u001b[0m\n"
      ]
     },
     "metadata": {},
     "output_type": "display_data"
    },
    {
     "data": {
      "text/html": [
       "<pre style=\"white-space:pre;overflow-x:auto;line-height:normal;font-family:Menlo,'DejaVu Sans Mono',consolas,'Courier New',monospace\">Updating MODFLOW Stress period <span style=\"color: #008080; text-decoration-color: #008080; font-weight: bold\">2</span>, time step <span style=\"color: #008080; text-decoration-color: #008080; font-weight: bold\">2</span>\n",
       "</pre>\n"
      ],
      "text/plain": [
       "Updating MODFLOW Stress period \u001b[1;36m2\u001b[0m, time step \u001b[1;36m2\u001b[0m\n"
      ]
     },
     "metadata": {},
     "output_type": "display_data"
    },
    {
     "data": {
      "text/html": [
       "<pre style=\"white-space:pre;overflow-x:auto;line-height:normal;font-family:Menlo,'DejaVu Sans Mono',consolas,'Courier New',monospace\">Updating MODFLOW Stress period <span style=\"color: #008080; text-decoration-color: #008080; font-weight: bold\">2</span>, time step <span style=\"color: #008080; text-decoration-color: #008080; font-weight: bold\">3</span>\n",
       "</pre>\n"
      ],
      "text/plain": [
       "Updating MODFLOW Stress period \u001b[1;36m2\u001b[0m, time step \u001b[1;36m3\u001b[0m\n"
      ]
     },
     "metadata": {},
     "output_type": "display_data"
    },
    {
     "data": {
      "text/html": [
       "<pre style=\"white-space:pre;overflow-x:auto;line-height:normal;font-family:Menlo,'DejaVu Sans Mono',consolas,'Courier New',monospace\">Updating MODFLOW Stress period <span style=\"color: #008080; text-decoration-color: #008080; font-weight: bold\">2</span>, time step <span style=\"color: #008080; text-decoration-color: #008080; font-weight: bold\">4</span>\n",
       "</pre>\n"
      ],
      "text/plain": [
       "Updating MODFLOW Stress period \u001b[1;36m2\u001b[0m, time step \u001b[1;36m4\u001b[0m\n"
      ]
     },
     "metadata": {},
     "output_type": "display_data"
    },
    {
     "data": {
      "text/html": [
       "<pre style=\"white-space:pre;overflow-x:auto;line-height:normal;font-family:Menlo,'DejaVu Sans Mono',consolas,'Courier New',monospace\">Updating MODFLOW Stress period <span style=\"color: #008080; text-decoration-color: #008080; font-weight: bold\">2</span>, time step <span style=\"color: #008080; text-decoration-color: #008080; font-weight: bold\">5</span>\n",
       "</pre>\n"
      ],
      "text/plain": [
       "Updating MODFLOW Stress period \u001b[1;36m2\u001b[0m, time step \u001b[1;36m5\u001b[0m\n"
      ]
     },
     "metadata": {},
     "output_type": "display_data"
    },
    {
     "data": {
      "text/html": [
       "<pre style=\"white-space:pre;overflow-x:auto;line-height:normal;font-family:Menlo,'DejaVu Sans Mono',consolas,'Courier New',monospace\">Updating MODFLOW Stress period <span style=\"color: #008080; text-decoration-color: #008080; font-weight: bold\">2</span>, time step <span style=\"color: #008080; text-decoration-color: #008080; font-weight: bold\">6</span>\n",
       "</pre>\n"
      ],
      "text/plain": [
       "Updating MODFLOW Stress period \u001b[1;36m2\u001b[0m, time step \u001b[1;36m6\u001b[0m\n"
      ]
     },
     "metadata": {},
     "output_type": "display_data"
    },
    {
     "data": {
      "text/html": [
       "<pre style=\"white-space:pre;overflow-x:auto;line-height:normal;font-family:Menlo,'DejaVu Sans Mono',consolas,'Courier New',monospace\">Updating MODFLOW Stress period <span style=\"color: #008080; text-decoration-color: #008080; font-weight: bold\">2</span>, time step <span style=\"color: #008080; text-decoration-color: #008080; font-weight: bold\">7</span>\n",
       "</pre>\n"
      ],
      "text/plain": [
       "Updating MODFLOW Stress period \u001b[1;36m2\u001b[0m, time step \u001b[1;36m7\u001b[0m\n"
      ]
     },
     "metadata": {},
     "output_type": "display_data"
    },
    {
     "data": {
      "text/html": [
       "<pre style=\"white-space:pre;overflow-x:auto;line-height:normal;font-family:Menlo,'DejaVu Sans Mono',consolas,'Courier New',monospace\">Updating MODFLOW Stress period <span style=\"color: #008080; text-decoration-color: #008080; font-weight: bold\">2</span>, time step <span style=\"color: #008080; text-decoration-color: #008080; font-weight: bold\">8</span>\n",
       "</pre>\n"
      ],
      "text/plain": [
       "Updating MODFLOW Stress period \u001b[1;36m2\u001b[0m, time step \u001b[1;36m8\u001b[0m\n"
      ]
     },
     "metadata": {},
     "output_type": "display_data"
    },
    {
     "data": {
      "text/html": [
       "<pre style=\"white-space:pre;overflow-x:auto;line-height:normal;font-family:Menlo,'DejaVu Sans Mono',consolas,'Courier New',monospace\">Updating MODFLOW Stress period <span style=\"color: #008080; text-decoration-color: #008080; font-weight: bold\">2</span>, time step <span style=\"color: #008080; text-decoration-color: #008080; font-weight: bold\">9</span>\n",
       "</pre>\n"
      ],
      "text/plain": [
       "Updating MODFLOW Stress period \u001b[1;36m2\u001b[0m, time step \u001b[1;36m9\u001b[0m\n"
      ]
     },
     "metadata": {},
     "output_type": "display_data"
    },
    {
     "data": {
      "text/html": [
       "<pre style=\"white-space:pre;overflow-x:auto;line-height:normal;font-family:Menlo,'DejaVu Sans Mono',consolas,'Courier New',monospace\">Updating MODFLOW Stress period <span style=\"color: #008080; text-decoration-color: #008080; font-weight: bold\">2</span>, time step <span style=\"color: #008080; text-decoration-color: #008080; font-weight: bold\">10</span>\n",
       "</pre>\n"
      ],
      "text/plain": [
       "Updating MODFLOW Stress period \u001b[1;36m2\u001b[0m, time step \u001b[1;36m10\u001b[0m\n"
      ]
     },
     "metadata": {},
     "output_type": "display_data"
    },
    {
     "data": {
      "text/html": [
       "<pre style=\"white-space:pre;overflow-x:auto;line-height:normal;font-family:Menlo,'DejaVu Sans Mono',consolas,'Courier New',monospace\">Updating MODFLOW Stress period <span style=\"color: #008080; text-decoration-color: #008080; font-weight: bold\">2</span>, time step <span style=\"color: #008080; text-decoration-color: #008080; font-weight: bold\">11</span>\n",
       "</pre>\n"
      ],
      "text/plain": [
       "Updating MODFLOW Stress period \u001b[1;36m2\u001b[0m, time step \u001b[1;36m11\u001b[0m\n"
      ]
     },
     "metadata": {},
     "output_type": "display_data"
    },
    {
     "data": {
      "text/html": [
       "<pre style=\"white-space:pre;overflow-x:auto;line-height:normal;font-family:Menlo,'DejaVu Sans Mono',consolas,'Courier New',monospace\">Updating MODFLOW Stress period <span style=\"color: #008080; text-decoration-color: #008080; font-weight: bold\">2</span>, time step <span style=\"color: #008080; text-decoration-color: #008080; font-weight: bold\">12</span>\n",
       "</pre>\n"
      ],
      "text/plain": [
       "Updating MODFLOW Stress period \u001b[1;36m2\u001b[0m, time step \u001b[1;36m12\u001b[0m\n"
      ]
     },
     "metadata": {},
     "output_type": "display_data"
    },
    {
     "data": {
      "text/html": [
       "<pre style=\"white-space:pre;overflow-x:auto;line-height:normal;font-family:Menlo,'DejaVu Sans Mono',consolas,'Courier New',monospace\">Updating MODFLOW Stress period <span style=\"color: #008080; text-decoration-color: #008080; font-weight: bold\">2</span>, time step <span style=\"color: #008080; text-decoration-color: #008080; font-weight: bold\">13</span>\n",
       "</pre>\n"
      ],
      "text/plain": [
       "Updating MODFLOW Stress period \u001b[1;36m2\u001b[0m, time step \u001b[1;36m13\u001b[0m\n"
      ]
     },
     "metadata": {},
     "output_type": "display_data"
    },
    {
     "data": {
      "text/html": [
       "<pre style=\"white-space:pre;overflow-x:auto;line-height:normal;font-family:Menlo,'DejaVu Sans Mono',consolas,'Courier New',monospace\">Updating MODFLOW Stress period <span style=\"color: #008080; text-decoration-color: #008080; font-weight: bold\">2</span>, time step <span style=\"color: #008080; text-decoration-color: #008080; font-weight: bold\">14</span>\n",
       "</pre>\n"
      ],
      "text/plain": [
       "Updating MODFLOW Stress period \u001b[1;36m2\u001b[0m, time step \u001b[1;36m14\u001b[0m\n"
      ]
     },
     "metadata": {},
     "output_type": "display_data"
    },
    {
     "data": {
      "text/html": [
       "<pre style=\"white-space:pre;overflow-x:auto;line-height:normal;font-family:Menlo,'DejaVu Sans Mono',consolas,'Courier New',monospace\">Updating MODFLOW Stress period <span style=\"color: #008080; text-decoration-color: #008080; font-weight: bold\">2</span>, time step <span style=\"color: #008080; text-decoration-color: #008080; font-weight: bold\">15</span>\n",
       "</pre>\n"
      ],
      "text/plain": [
       "Updating MODFLOW Stress period \u001b[1;36m2\u001b[0m, time step \u001b[1;36m15\u001b[0m\n"
      ]
     },
     "metadata": {},
     "output_type": "display_data"
    },
    {
     "data": {
      "text/html": [
       "<pre style=\"white-space:pre;overflow-x:auto;line-height:normal;font-family:Menlo,'DejaVu Sans Mono',consolas,'Courier New',monospace\">Updating MODFLOW Stress period <span style=\"color: #008080; text-decoration-color: #008080; font-weight: bold\">2</span>, time step <span style=\"color: #008080; text-decoration-color: #008080; font-weight: bold\">16</span>\n",
       "</pre>\n"
      ],
      "text/plain": [
       "Updating MODFLOW Stress period \u001b[1;36m2\u001b[0m, time step \u001b[1;36m16\u001b[0m\n"
      ]
     },
     "metadata": {},
     "output_type": "display_data"
    },
    {
     "data": {
      "text/html": [
       "<pre style=\"white-space:pre;overflow-x:auto;line-height:normal;font-family:Menlo,'DejaVu Sans Mono',consolas,'Courier New',monospace\">Updating MODFLOW Stress period <span style=\"color: #008080; text-decoration-color: #008080; font-weight: bold\">2</span>, time step <span style=\"color: #008080; text-decoration-color: #008080; font-weight: bold\">17</span>\n",
       "</pre>\n"
      ],
      "text/plain": [
       "Updating MODFLOW Stress period \u001b[1;36m2\u001b[0m, time step \u001b[1;36m17\u001b[0m\n"
      ]
     },
     "metadata": {},
     "output_type": "display_data"
    },
    {
     "data": {
      "text/html": [
       "<pre style=\"white-space:pre;overflow-x:auto;line-height:normal;font-family:Menlo,'DejaVu Sans Mono',consolas,'Courier New',monospace\">Updating MODFLOW Stress period <span style=\"color: #008080; text-decoration-color: #008080; font-weight: bold\">2</span>, time step <span style=\"color: #008080; text-decoration-color: #008080; font-weight: bold\">18</span>\n",
       "</pre>\n"
      ],
      "text/plain": [
       "Updating MODFLOW Stress period \u001b[1;36m2\u001b[0m, time step \u001b[1;36m18\u001b[0m\n"
      ]
     },
     "metadata": {},
     "output_type": "display_data"
    },
    {
     "data": {
      "text/html": [
       "<pre style=\"white-space:pre;overflow-x:auto;line-height:normal;font-family:Menlo,'DejaVu Sans Mono',consolas,'Courier New',monospace\">Updating MODFLOW Stress period <span style=\"color: #008080; text-decoration-color: #008080; font-weight: bold\">2</span>, time step <span style=\"color: #008080; text-decoration-color: #008080; font-weight: bold\">19</span>\n",
       "</pre>\n"
      ],
      "text/plain": [
       "Updating MODFLOW Stress period \u001b[1;36m2\u001b[0m, time step \u001b[1;36m19\u001b[0m\n"
      ]
     },
     "metadata": {},
     "output_type": "display_data"
    },
    {
     "data": {
      "text/html": [
       "<pre style=\"white-space:pre;overflow-x:auto;line-height:normal;font-family:Menlo,'DejaVu Sans Mono',consolas,'Courier New',monospace\">Updating MODFLOW Stress period <span style=\"color: #008080; text-decoration-color: #008080; font-weight: bold\">2</span>, time step <span style=\"color: #008080; text-decoration-color: #008080; font-weight: bold\">20</span>\n",
       "</pre>\n"
      ],
      "text/plain": [
       "Updating MODFLOW Stress period \u001b[1;36m2\u001b[0m, time step \u001b[1;36m20\u001b[0m\n"
      ]
     },
     "metadata": {},
     "output_type": "display_data"
    },
    {
     "data": {
      "text/html": [
       "<pre style=\"white-space:pre;overflow-x:auto;line-height:normal;font-family:Menlo,'DejaVu Sans Mono',consolas,'Courier New',monospace\">Updating MODFLOW Stress period <span style=\"color: #008080; text-decoration-color: #008080; font-weight: bold\">2</span>, time step <span style=\"color: #008080; text-decoration-color: #008080; font-weight: bold\">21</span>\n",
       "</pre>\n"
      ],
      "text/plain": [
       "Updating MODFLOW Stress period \u001b[1;36m2\u001b[0m, time step \u001b[1;36m21\u001b[0m\n"
      ]
     },
     "metadata": {},
     "output_type": "display_data"
    },
    {
     "data": {
      "text/html": [
       "<pre style=\"white-space:pre;overflow-x:auto;line-height:normal;font-family:Menlo,'DejaVu Sans Mono',consolas,'Courier New',monospace\">Updating MODFLOW Stress period <span style=\"color: #008080; text-decoration-color: #008080; font-weight: bold\">2</span>, time step <span style=\"color: #008080; text-decoration-color: #008080; font-weight: bold\">22</span>\n",
       "</pre>\n"
      ],
      "text/plain": [
       "Updating MODFLOW Stress period \u001b[1;36m2\u001b[0m, time step \u001b[1;36m22\u001b[0m\n"
      ]
     },
     "metadata": {},
     "output_type": "display_data"
    },
    {
     "data": {
      "text/html": [
       "<pre style=\"white-space:pre;overflow-x:auto;line-height:normal;font-family:Menlo,'DejaVu Sans Mono',consolas,'Courier New',monospace\">Updating MODFLOW Stress period <span style=\"color: #008080; text-decoration-color: #008080; font-weight: bold\">2</span>, time step <span style=\"color: #008080; text-decoration-color: #008080; font-weight: bold\">23</span>\n",
       "</pre>\n"
      ],
      "text/plain": [
       "Updating MODFLOW Stress period \u001b[1;36m2\u001b[0m, time step \u001b[1;36m23\u001b[0m\n"
      ]
     },
     "metadata": {},
     "output_type": "display_data"
    },
    {
     "data": {
      "text/html": [
       "<pre style=\"white-space:pre;overflow-x:auto;line-height:normal;font-family:Menlo,'DejaVu Sans Mono',consolas,'Courier New',monospace\">Updating MODFLOW Stress period <span style=\"color: #008080; text-decoration-color: #008080; font-weight: bold\">2</span>, time step <span style=\"color: #008080; text-decoration-color: #008080; font-weight: bold\">24</span>\n",
       "</pre>\n"
      ],
      "text/plain": [
       "Updating MODFLOW Stress period \u001b[1;36m2\u001b[0m, time step \u001b[1;36m24\u001b[0m\n"
      ]
     },
     "metadata": {},
     "output_type": "display_data"
    },
    {
     "data": {
      "text/html": [
       "<pre style=\"white-space:pre;overflow-x:auto;line-height:normal;font-family:Menlo,'DejaVu Sans Mono',consolas,'Courier New',monospace\">Updating MODFLOW Stress period <span style=\"color: #008080; text-decoration-color: #008080; font-weight: bold\">2</span>, time step <span style=\"color: #008080; text-decoration-color: #008080; font-weight: bold\">25</span>\n",
       "</pre>\n"
      ],
      "text/plain": [
       "Updating MODFLOW Stress period \u001b[1;36m2\u001b[0m, time step \u001b[1;36m25\u001b[0m\n"
      ]
     },
     "metadata": {},
     "output_type": "display_data"
    },
    {
     "data": {
      "text/html": [
       "<pre style=\"white-space:pre;overflow-x:auto;line-height:normal;font-family:Menlo,'DejaVu Sans Mono',consolas,'Courier New',monospace\">Updating MODFLOW Stress period <span style=\"color: #008080; text-decoration-color: #008080; font-weight: bold\">2</span>, time step <span style=\"color: #008080; text-decoration-color: #008080; font-weight: bold\">26</span>\n",
       "</pre>\n"
      ],
      "text/plain": [
       "Updating MODFLOW Stress period \u001b[1;36m2\u001b[0m, time step \u001b[1;36m26\u001b[0m\n"
      ]
     },
     "metadata": {},
     "output_type": "display_data"
    },
    {
     "data": {
      "text/html": [
       "<pre style=\"white-space:pre;overflow-x:auto;line-height:normal;font-family:Menlo,'DejaVu Sans Mono',consolas,'Courier New',monospace\">Updating MODFLOW Stress period <span style=\"color: #008080; text-decoration-color: #008080; font-weight: bold\">2</span>, time step <span style=\"color: #008080; text-decoration-color: #008080; font-weight: bold\">27</span>\n",
       "</pre>\n"
      ],
      "text/plain": [
       "Updating MODFLOW Stress period \u001b[1;36m2\u001b[0m, time step \u001b[1;36m27\u001b[0m\n"
      ]
     },
     "metadata": {},
     "output_type": "display_data"
    },
    {
     "data": {
      "text/html": [
       "<pre style=\"white-space:pre;overflow-x:auto;line-height:normal;font-family:Menlo,'DejaVu Sans Mono',consolas,'Courier New',monospace\">Updating MODFLOW Stress period <span style=\"color: #008080; text-decoration-color: #008080; font-weight: bold\">2</span>, time step <span style=\"color: #008080; text-decoration-color: #008080; font-weight: bold\">28</span>\n",
       "</pre>\n"
      ],
      "text/plain": [
       "Updating MODFLOW Stress period \u001b[1;36m2\u001b[0m, time step \u001b[1;36m28\u001b[0m\n"
      ]
     },
     "metadata": {},
     "output_type": "display_data"
    },
    {
     "data": {
      "text/html": [
       "<pre style=\"white-space:pre;overflow-x:auto;line-height:normal;font-family:Menlo,'DejaVu Sans Mono',consolas,'Courier New',monospace\">Updating MODFLOW Stress period <span style=\"color: #008080; text-decoration-color: #008080; font-weight: bold\">2</span>, time step <span style=\"color: #008080; text-decoration-color: #008080; font-weight: bold\">29</span>\n",
       "</pre>\n"
      ],
      "text/plain": [
       "Updating MODFLOW Stress period \u001b[1;36m2\u001b[0m, time step \u001b[1;36m29\u001b[0m\n"
      ]
     },
     "metadata": {},
     "output_type": "display_data"
    },
    {
     "data": {
      "text/html": [
       "<pre style=\"white-space:pre;overflow-x:auto;line-height:normal;font-family:Menlo,'DejaVu Sans Mono',consolas,'Courier New',monospace\">Updating MODFLOW Stress period <span style=\"color: #008080; text-decoration-color: #008080; font-weight: bold\">2</span>, time step <span style=\"color: #008080; text-decoration-color: #008080; font-weight: bold\">30</span>\n",
       "</pre>\n"
      ],
      "text/plain": [
       "Updating MODFLOW Stress period \u001b[1;36m2\u001b[0m, time step \u001b[1;36m30\u001b[0m\n"
      ]
     },
     "metadata": {},
     "output_type": "display_data"
    },
    {
     "data": {
      "text/html": [
       "<pre style=\"white-space:pre;overflow-x:auto;line-height:normal;font-family:Menlo,'DejaVu Sans Mono',consolas,'Courier New',monospace\">Updating MODFLOW Stress period <span style=\"color: #008080; text-decoration-color: #008080; font-weight: bold\">2</span>, time step <span style=\"color: #008080; text-decoration-color: #008080; font-weight: bold\">31</span>\n",
       "</pre>\n"
      ],
      "text/plain": [
       "Updating MODFLOW Stress period \u001b[1;36m2\u001b[0m, time step \u001b[1;36m31\u001b[0m\n"
      ]
     },
     "metadata": {},
     "output_type": "display_data"
    },
    {
     "data": {
      "text/html": [
       "<pre style=\"white-space:pre;overflow-x:auto;line-height:normal;font-family:Menlo,'DejaVu Sans Mono',consolas,'Courier New',monospace\">Updating MODFLOW Stress period <span style=\"color: #008080; text-decoration-color: #008080; font-weight: bold\">2</span>, time step <span style=\"color: #008080; text-decoration-color: #008080; font-weight: bold\">32</span>\n",
       "</pre>\n"
      ],
      "text/plain": [
       "Updating MODFLOW Stress period \u001b[1;36m2\u001b[0m, time step \u001b[1;36m32\u001b[0m\n"
      ]
     },
     "metadata": {},
     "output_type": "display_data"
    },
    {
     "data": {
      "text/html": [
       "<pre style=\"white-space:pre;overflow-x:auto;line-height:normal;font-family:Menlo,'DejaVu Sans Mono',consolas,'Courier New',monospace\">Updating MODFLOW Stress period <span style=\"color: #008080; text-decoration-color: #008080; font-weight: bold\">2</span>, time step <span style=\"color: #008080; text-decoration-color: #008080; font-weight: bold\">33</span>\n",
       "</pre>\n"
      ],
      "text/plain": [
       "Updating MODFLOW Stress period \u001b[1;36m2\u001b[0m, time step \u001b[1;36m33\u001b[0m\n"
      ]
     },
     "metadata": {},
     "output_type": "display_data"
    },
    {
     "data": {
      "text/html": [
       "<pre style=\"white-space:pre;overflow-x:auto;line-height:normal;font-family:Menlo,'DejaVu Sans Mono',consolas,'Courier New',monospace\">Updating MODFLOW Stress period <span style=\"color: #008080; text-decoration-color: #008080; font-weight: bold\">2</span>, time step <span style=\"color: #008080; text-decoration-color: #008080; font-weight: bold\">34</span>\n",
       "</pre>\n"
      ],
      "text/plain": [
       "Updating MODFLOW Stress period \u001b[1;36m2\u001b[0m, time step \u001b[1;36m34\u001b[0m\n"
      ]
     },
     "metadata": {},
     "output_type": "display_data"
    },
    {
     "data": {
      "text/html": [
       "<pre style=\"white-space:pre;overflow-x:auto;line-height:normal;font-family:Menlo,'DejaVu Sans Mono',consolas,'Courier New',monospace\">Updating MODFLOW Stress period <span style=\"color: #008080; text-decoration-color: #008080; font-weight: bold\">2</span>, time step <span style=\"color: #008080; text-decoration-color: #008080; font-weight: bold\">35</span>\n",
       "</pre>\n"
      ],
      "text/plain": [
       "Updating MODFLOW Stress period \u001b[1;36m2\u001b[0m, time step \u001b[1;36m35\u001b[0m\n"
      ]
     },
     "metadata": {},
     "output_type": "display_data"
    },
    {
     "data": {
      "text/html": [
       "<pre style=\"white-space:pre;overflow-x:auto;line-height:normal;font-family:Menlo,'DejaVu Sans Mono',consolas,'Courier New',monospace\">Updating MODFLOW Stress period <span style=\"color: #008080; text-decoration-color: #008080; font-weight: bold\">2</span>, time step <span style=\"color: #008080; text-decoration-color: #008080; font-weight: bold\">36</span>\n",
       "</pre>\n"
      ],
      "text/plain": [
       "Updating MODFLOW Stress period \u001b[1;36m2\u001b[0m, time step \u001b[1;36m36\u001b[0m\n"
      ]
     },
     "metadata": {},
     "output_type": "display_data"
    },
    {
     "data": {
      "text/html": [
       "<pre style=\"white-space:pre;overflow-x:auto;line-height:normal;font-family:Menlo,'DejaVu Sans Mono',consolas,'Courier New',monospace\">Updating MODFLOW Stress period <span style=\"color: #008080; text-decoration-color: #008080; font-weight: bold\">2</span>, time step <span style=\"color: #008080; text-decoration-color: #008080; font-weight: bold\">37</span>\n",
       "</pre>\n"
      ],
      "text/plain": [
       "Updating MODFLOW Stress period \u001b[1;36m2\u001b[0m, time step \u001b[1;36m37\u001b[0m\n"
      ]
     },
     "metadata": {},
     "output_type": "display_data"
    },
    {
     "data": {
      "text/html": [
       "<pre style=\"white-space:pre;overflow-x:auto;line-height:normal;font-family:Menlo,'DejaVu Sans Mono',consolas,'Courier New',monospace\">Updating MODFLOW Stress period <span style=\"color: #008080; text-decoration-color: #008080; font-weight: bold\">2</span>, time step <span style=\"color: #008080; text-decoration-color: #008080; font-weight: bold\">38</span>\n",
       "</pre>\n"
      ],
      "text/plain": [
       "Updating MODFLOW Stress period \u001b[1;36m2\u001b[0m, time step \u001b[1;36m38\u001b[0m\n"
      ]
     },
     "metadata": {},
     "output_type": "display_data"
    },
    {
     "data": {
      "text/html": [
       "<pre style=\"white-space:pre;overflow-x:auto;line-height:normal;font-family:Menlo,'DejaVu Sans Mono',consolas,'Courier New',monospace\">Updating MODFLOW Stress period <span style=\"color: #008080; text-decoration-color: #008080; font-weight: bold\">2</span>, time step <span style=\"color: #008080; text-decoration-color: #008080; font-weight: bold\">39</span>\n",
       "</pre>\n"
      ],
      "text/plain": [
       "Updating MODFLOW Stress period \u001b[1;36m2\u001b[0m, time step \u001b[1;36m39\u001b[0m\n"
      ]
     },
     "metadata": {},
     "output_type": "display_data"
    },
    {
     "data": {
      "text/html": [
       "<pre style=\"white-space:pre;overflow-x:auto;line-height:normal;font-family:Menlo,'DejaVu Sans Mono',consolas,'Courier New',monospace\">Updating MODFLOW Stress period <span style=\"color: #008080; text-decoration-color: #008080; font-weight: bold\">2</span>, time step <span style=\"color: #008080; text-decoration-color: #008080; font-weight: bold\">40</span>\n",
       "</pre>\n"
      ],
      "text/plain": [
       "Updating MODFLOW Stress period \u001b[1;36m2\u001b[0m, time step \u001b[1;36m40\u001b[0m\n"
      ]
     },
     "metadata": {},
     "output_type": "display_data"
    },
    {
     "data": {
      "text/html": [
       "<pre style=\"white-space:pre;overflow-x:auto;line-height:normal;font-family:Menlo,'DejaVu Sans Mono',consolas,'Courier New',monospace\">Updating MODFLOW Stress period <span style=\"color: #008080; text-decoration-color: #008080; font-weight: bold\">2</span>, time step <span style=\"color: #008080; text-decoration-color: #008080; font-weight: bold\">41</span>\n",
       "</pre>\n"
      ],
      "text/plain": [
       "Updating MODFLOW Stress period \u001b[1;36m2\u001b[0m, time step \u001b[1;36m41\u001b[0m\n"
      ]
     },
     "metadata": {},
     "output_type": "display_data"
    },
    {
     "data": {
      "text/html": [
       "<pre style=\"white-space:pre;overflow-x:auto;line-height:normal;font-family:Menlo,'DejaVu Sans Mono',consolas,'Courier New',monospace\">Updating MODFLOW Stress period <span style=\"color: #008080; text-decoration-color: #008080; font-weight: bold\">2</span>, time step <span style=\"color: #008080; text-decoration-color: #008080; font-weight: bold\">42</span>\n",
       "</pre>\n"
      ],
      "text/plain": [
       "Updating MODFLOW Stress period \u001b[1;36m2\u001b[0m, time step \u001b[1;36m42\u001b[0m\n"
      ]
     },
     "metadata": {},
     "output_type": "display_data"
    },
    {
     "data": {
      "text/html": [
       "<pre style=\"white-space:pre;overflow-x:auto;line-height:normal;font-family:Menlo,'DejaVu Sans Mono',consolas,'Courier New',monospace\">Updating MODFLOW Stress period <span style=\"color: #008080; text-decoration-color: #008080; font-weight: bold\">2</span>, time step <span style=\"color: #008080; text-decoration-color: #008080; font-weight: bold\">43</span>\n",
       "</pre>\n"
      ],
      "text/plain": [
       "Updating MODFLOW Stress period \u001b[1;36m2\u001b[0m, time step \u001b[1;36m43\u001b[0m\n"
      ]
     },
     "metadata": {},
     "output_type": "display_data"
    },
    {
     "data": {
      "text/html": [
       "<pre style=\"white-space:pre;overflow-x:auto;line-height:normal;font-family:Menlo,'DejaVu Sans Mono',consolas,'Courier New',monospace\">Updating MODFLOW Stress period <span style=\"color: #008080; text-decoration-color: #008080; font-weight: bold\">2</span>, time step <span style=\"color: #008080; text-decoration-color: #008080; font-weight: bold\">44</span>\n",
       "</pre>\n"
      ],
      "text/plain": [
       "Updating MODFLOW Stress period \u001b[1;36m2\u001b[0m, time step \u001b[1;36m44\u001b[0m\n"
      ]
     },
     "metadata": {},
     "output_type": "display_data"
    },
    {
     "data": {
      "text/html": [
       "<pre style=\"white-space:pre;overflow-x:auto;line-height:normal;font-family:Menlo,'DejaVu Sans Mono',consolas,'Courier New',monospace\">Updating MODFLOW Stress period <span style=\"color: #008080; text-decoration-color: #008080; font-weight: bold\">2</span>, time step <span style=\"color: #008080; text-decoration-color: #008080; font-weight: bold\">45</span>\n",
       "</pre>\n"
      ],
      "text/plain": [
       "Updating MODFLOW Stress period \u001b[1;36m2\u001b[0m, time step \u001b[1;36m45\u001b[0m\n"
      ]
     },
     "metadata": {},
     "output_type": "display_data"
    },
    {
     "data": {
      "text/html": [
       "<pre style=\"white-space:pre;overflow-x:auto;line-height:normal;font-family:Menlo,'DejaVu Sans Mono',consolas,'Courier New',monospace\">Updating MODFLOW Stress period <span style=\"color: #008080; text-decoration-color: #008080; font-weight: bold\">2</span>, time step <span style=\"color: #008080; text-decoration-color: #008080; font-weight: bold\">46</span>\n",
       "</pre>\n"
      ],
      "text/plain": [
       "Updating MODFLOW Stress period \u001b[1;36m2\u001b[0m, time step \u001b[1;36m46\u001b[0m\n"
      ]
     },
     "metadata": {},
     "output_type": "display_data"
    },
    {
     "data": {
      "text/html": [
       "<pre style=\"white-space:pre;overflow-x:auto;line-height:normal;font-family:Menlo,'DejaVu Sans Mono',consolas,'Courier New',monospace\">Updating MODFLOW Stress period <span style=\"color: #008080; text-decoration-color: #008080; font-weight: bold\">2</span>, time step <span style=\"color: #008080; text-decoration-color: #008080; font-weight: bold\">47</span>\n",
       "</pre>\n"
      ],
      "text/plain": [
       "Updating MODFLOW Stress period \u001b[1;36m2\u001b[0m, time step \u001b[1;36m47\u001b[0m\n"
      ]
     },
     "metadata": {},
     "output_type": "display_data"
    },
    {
     "data": {
      "text/html": [
       "<pre style=\"white-space:pre;overflow-x:auto;line-height:normal;font-family:Menlo,'DejaVu Sans Mono',consolas,'Courier New',monospace\">Updating MODFLOW Stress period <span style=\"color: #008080; text-decoration-color: #008080; font-weight: bold\">2</span>, time step <span style=\"color: #008080; text-decoration-color: #008080; font-weight: bold\">48</span>\n",
       "</pre>\n"
      ],
      "text/plain": [
       "Updating MODFLOW Stress period \u001b[1;36m2\u001b[0m, time step \u001b[1;36m48\u001b[0m\n"
      ]
     },
     "metadata": {},
     "output_type": "display_data"
    },
    {
     "data": {
      "text/html": [
       "<pre style=\"white-space:pre;overflow-x:auto;line-height:normal;font-family:Menlo,'DejaVu Sans Mono',consolas,'Courier New',monospace\">Updating MODFLOW Stress period <span style=\"color: #008080; text-decoration-color: #008080; font-weight: bold\">3</span>, time step <span style=\"color: #008080; text-decoration-color: #008080; font-weight: bold\">1</span>\n",
       "</pre>\n"
      ],
      "text/plain": [
       "Updating MODFLOW Stress period \u001b[1;36m3\u001b[0m, time step \u001b[1;36m1\u001b[0m\n"
      ]
     },
     "metadata": {},
     "output_type": "display_data"
    },
    {
     "data": {
      "text/html": [
       "<pre style=\"white-space:pre;overflow-x:auto;line-height:normal;font-family:Menlo,'DejaVu Sans Mono',consolas,'Courier New',monospace\">Updating MODFLOW Stress period <span style=\"color: #008080; text-decoration-color: #008080; font-weight: bold\">3</span>, time step <span style=\"color: #008080; text-decoration-color: #008080; font-weight: bold\">2</span>\n",
       "</pre>\n"
      ],
      "text/plain": [
       "Updating MODFLOW Stress period \u001b[1;36m3\u001b[0m, time step \u001b[1;36m2\u001b[0m\n"
      ]
     },
     "metadata": {},
     "output_type": "display_data"
    },
    {
     "data": {
      "text/html": [
       "<pre style=\"white-space:pre;overflow-x:auto;line-height:normal;font-family:Menlo,'DejaVu Sans Mono',consolas,'Courier New',monospace\">Updating MODFLOW Stress period <span style=\"color: #008080; text-decoration-color: #008080; font-weight: bold\">3</span>, time step <span style=\"color: #008080; text-decoration-color: #008080; font-weight: bold\">3</span>\n",
       "</pre>\n"
      ],
      "text/plain": [
       "Updating MODFLOW Stress period \u001b[1;36m3\u001b[0m, time step \u001b[1;36m3\u001b[0m\n"
      ]
     },
     "metadata": {},
     "output_type": "display_data"
    },
    {
     "data": {
      "text/html": [
       "<pre style=\"white-space:pre;overflow-x:auto;line-height:normal;font-family:Menlo,'DejaVu Sans Mono',consolas,'Courier New',monospace\">Updating MODFLOW Stress period <span style=\"color: #008080; text-decoration-color: #008080; font-weight: bold\">3</span>, time step <span style=\"color: #008080; text-decoration-color: #008080; font-weight: bold\">4</span>\n",
       "</pre>\n"
      ],
      "text/plain": [
       "Updating MODFLOW Stress period \u001b[1;36m3\u001b[0m, time step \u001b[1;36m4\u001b[0m\n"
      ]
     },
     "metadata": {},
     "output_type": "display_data"
    },
    {
     "data": {
      "text/html": [
       "<pre style=\"white-space:pre;overflow-x:auto;line-height:normal;font-family:Menlo,'DejaVu Sans Mono',consolas,'Courier New',monospace\">Updating MODFLOW Stress period <span style=\"color: #008080; text-decoration-color: #008080; font-weight: bold\">3</span>, time step <span style=\"color: #008080; text-decoration-color: #008080; font-weight: bold\">5</span>\n",
       "</pre>\n"
      ],
      "text/plain": [
       "Updating MODFLOW Stress period \u001b[1;36m3\u001b[0m, time step \u001b[1;36m5\u001b[0m\n"
      ]
     },
     "metadata": {},
     "output_type": "display_data"
    },
    {
     "data": {
      "text/html": [
       "<pre style=\"white-space:pre;overflow-x:auto;line-height:normal;font-family:Menlo,'DejaVu Sans Mono',consolas,'Courier New',monospace\">Updating MODFLOW Stress period <span style=\"color: #008080; text-decoration-color: #008080; font-weight: bold\">3</span>, time step <span style=\"color: #008080; text-decoration-color: #008080; font-weight: bold\">6</span>\n",
       "</pre>\n"
      ],
      "text/plain": [
       "Updating MODFLOW Stress period \u001b[1;36m3\u001b[0m, time step \u001b[1;36m6\u001b[0m\n"
      ]
     },
     "metadata": {},
     "output_type": "display_data"
    },
    {
     "data": {
      "text/html": [
       "<pre style=\"white-space:pre;overflow-x:auto;line-height:normal;font-family:Menlo,'DejaVu Sans Mono',consolas,'Courier New',monospace\">Updating MODFLOW Stress period <span style=\"color: #008080; text-decoration-color: #008080; font-weight: bold\">3</span>, time step <span style=\"color: #008080; text-decoration-color: #008080; font-weight: bold\">7</span>\n",
       "</pre>\n"
      ],
      "text/plain": [
       "Updating MODFLOW Stress period \u001b[1;36m3\u001b[0m, time step \u001b[1;36m7\u001b[0m\n"
      ]
     },
     "metadata": {},
     "output_type": "display_data"
    },
    {
     "data": {
      "text/html": [
       "<pre style=\"white-space:pre;overflow-x:auto;line-height:normal;font-family:Menlo,'DejaVu Sans Mono',consolas,'Courier New',monospace\">Updating MODFLOW Stress period <span style=\"color: #008080; text-decoration-color: #008080; font-weight: bold\">3</span>, time step <span style=\"color: #008080; text-decoration-color: #008080; font-weight: bold\">8</span>\n",
       "</pre>\n"
      ],
      "text/plain": [
       "Updating MODFLOW Stress period \u001b[1;36m3\u001b[0m, time step \u001b[1;36m8\u001b[0m\n"
      ]
     },
     "metadata": {},
     "output_type": "display_data"
    },
    {
     "data": {
      "text/html": [
       "<pre style=\"white-space:pre;overflow-x:auto;line-height:normal;font-family:Menlo,'DejaVu Sans Mono',consolas,'Courier New',monospace\">Updating MODFLOW Stress period <span style=\"color: #008080; text-decoration-color: #008080; font-weight: bold\">3</span>, time step <span style=\"color: #008080; text-decoration-color: #008080; font-weight: bold\">9</span>\n",
       "</pre>\n"
      ],
      "text/plain": [
       "Updating MODFLOW Stress period \u001b[1;36m3\u001b[0m, time step \u001b[1;36m9\u001b[0m\n"
      ]
     },
     "metadata": {},
     "output_type": "display_data"
    },
    {
     "data": {
      "text/html": [
       "<pre style=\"white-space:pre;overflow-x:auto;line-height:normal;font-family:Menlo,'DejaVu Sans Mono',consolas,'Courier New',monospace\">Updating MODFLOW Stress period <span style=\"color: #008080; text-decoration-color: #008080; font-weight: bold\">3</span>, time step <span style=\"color: #008080; text-decoration-color: #008080; font-weight: bold\">10</span>\n",
       "</pre>\n"
      ],
      "text/plain": [
       "Updating MODFLOW Stress period \u001b[1;36m3\u001b[0m, time step \u001b[1;36m10\u001b[0m\n"
      ]
     },
     "metadata": {},
     "output_type": "display_data"
    },
    {
     "data": {
      "text/html": [
       "<pre style=\"white-space:pre;overflow-x:auto;line-height:normal;font-family:Menlo,'DejaVu Sans Mono',consolas,'Courier New',monospace\">Updating MODFLOW Stress period <span style=\"color: #008080; text-decoration-color: #008080; font-weight: bold\">3</span>, time step <span style=\"color: #008080; text-decoration-color: #008080; font-weight: bold\">11</span>\n",
       "</pre>\n"
      ],
      "text/plain": [
       "Updating MODFLOW Stress period \u001b[1;36m3\u001b[0m, time step \u001b[1;36m11\u001b[0m\n"
      ]
     },
     "metadata": {},
     "output_type": "display_data"
    },
    {
     "data": {
      "text/html": [
       "<pre style=\"white-space:pre;overflow-x:auto;line-height:normal;font-family:Menlo,'DejaVu Sans Mono',consolas,'Courier New',monospace\">Updating MODFLOW Stress period <span style=\"color: #008080; text-decoration-color: #008080; font-weight: bold\">3</span>, time step <span style=\"color: #008080; text-decoration-color: #008080; font-weight: bold\">12</span>\n",
       "</pre>\n"
      ],
      "text/plain": [
       "Updating MODFLOW Stress period \u001b[1;36m3\u001b[0m, time step \u001b[1;36m12\u001b[0m\n"
      ]
     },
     "metadata": {},
     "output_type": "display_data"
    },
    {
     "data": {
      "text/html": [
       "<pre style=\"white-space:pre;overflow-x:auto;line-height:normal;font-family:Menlo,'DejaVu Sans Mono',consolas,'Courier New',monospace\">Updating MODFLOW Stress period <span style=\"color: #008080; text-decoration-color: #008080; font-weight: bold\">3</span>, time step <span style=\"color: #008080; text-decoration-color: #008080; font-weight: bold\">13</span>\n",
       "</pre>\n"
      ],
      "text/plain": [
       "Updating MODFLOW Stress period \u001b[1;36m3\u001b[0m, time step \u001b[1;36m13\u001b[0m\n"
      ]
     },
     "metadata": {},
     "output_type": "display_data"
    },
    {
     "data": {
      "text/html": [
       "<pre style=\"white-space:pre;overflow-x:auto;line-height:normal;font-family:Menlo,'DejaVu Sans Mono',consolas,'Courier New',monospace\">Updating MODFLOW Stress period <span style=\"color: #008080; text-decoration-color: #008080; font-weight: bold\">3</span>, time step <span style=\"color: #008080; text-decoration-color: #008080; font-weight: bold\">14</span>\n",
       "</pre>\n"
      ],
      "text/plain": [
       "Updating MODFLOW Stress period \u001b[1;36m3\u001b[0m, time step \u001b[1;36m14\u001b[0m\n"
      ]
     },
     "metadata": {},
     "output_type": "display_data"
    },
    {
     "data": {
      "text/html": [
       "<pre style=\"white-space:pre;overflow-x:auto;line-height:normal;font-family:Menlo,'DejaVu Sans Mono',consolas,'Courier New',monospace\">Updating MODFLOW Stress period <span style=\"color: #008080; text-decoration-color: #008080; font-weight: bold\">3</span>, time step <span style=\"color: #008080; text-decoration-color: #008080; font-weight: bold\">15</span>\n",
       "</pre>\n"
      ],
      "text/plain": [
       "Updating MODFLOW Stress period \u001b[1;36m3\u001b[0m, time step \u001b[1;36m15\u001b[0m\n"
      ]
     },
     "metadata": {},
     "output_type": "display_data"
    },
    {
     "data": {
      "text/html": [
       "<pre style=\"white-space:pre;overflow-x:auto;line-height:normal;font-family:Menlo,'DejaVu Sans Mono',consolas,'Courier New',monospace\">Updating MODFLOW Stress period <span style=\"color: #008080; text-decoration-color: #008080; font-weight: bold\">3</span>, time step <span style=\"color: #008080; text-decoration-color: #008080; font-weight: bold\">16</span>\n",
       "</pre>\n"
      ],
      "text/plain": [
       "Updating MODFLOW Stress period \u001b[1;36m3\u001b[0m, time step \u001b[1;36m16\u001b[0m\n"
      ]
     },
     "metadata": {},
     "output_type": "display_data"
    },
    {
     "data": {
      "text/html": [
       "<pre style=\"white-space:pre;overflow-x:auto;line-height:normal;font-family:Menlo,'DejaVu Sans Mono',consolas,'Courier New',monospace\">Updating MODFLOW Stress period <span style=\"color: #008080; text-decoration-color: #008080; font-weight: bold\">3</span>, time step <span style=\"color: #008080; text-decoration-color: #008080; font-weight: bold\">17</span>\n",
       "</pre>\n"
      ],
      "text/plain": [
       "Updating MODFLOW Stress period \u001b[1;36m3\u001b[0m, time step \u001b[1;36m17\u001b[0m\n"
      ]
     },
     "metadata": {},
     "output_type": "display_data"
    },
    {
     "data": {
      "text/html": [
       "<pre style=\"white-space:pre;overflow-x:auto;line-height:normal;font-family:Menlo,'DejaVu Sans Mono',consolas,'Courier New',monospace\">Updating MODFLOW Stress period <span style=\"color: #008080; text-decoration-color: #008080; font-weight: bold\">3</span>, time step <span style=\"color: #008080; text-decoration-color: #008080; font-weight: bold\">18</span>\n",
       "</pre>\n"
      ],
      "text/plain": [
       "Updating MODFLOW Stress period \u001b[1;36m3\u001b[0m, time step \u001b[1;36m18\u001b[0m\n"
      ]
     },
     "metadata": {},
     "output_type": "display_data"
    },
    {
     "data": {
      "text/html": [
       "<pre style=\"white-space:pre;overflow-x:auto;line-height:normal;font-family:Menlo,'DejaVu Sans Mono',consolas,'Courier New',monospace\">Updating MODFLOW Stress period <span style=\"color: #008080; text-decoration-color: #008080; font-weight: bold\">3</span>, time step <span style=\"color: #008080; text-decoration-color: #008080; font-weight: bold\">19</span>\n",
       "</pre>\n"
      ],
      "text/plain": [
       "Updating MODFLOW Stress period \u001b[1;36m3\u001b[0m, time step \u001b[1;36m19\u001b[0m\n"
      ]
     },
     "metadata": {},
     "output_type": "display_data"
    },
    {
     "data": {
      "text/html": [
       "<pre style=\"white-space:pre;overflow-x:auto;line-height:normal;font-family:Menlo,'DejaVu Sans Mono',consolas,'Courier New',monospace\">Updating MODFLOW Stress period <span style=\"color: #008080; text-decoration-color: #008080; font-weight: bold\">3</span>, time step <span style=\"color: #008080; text-decoration-color: #008080; font-weight: bold\">20</span>\n",
       "</pre>\n"
      ],
      "text/plain": [
       "Updating MODFLOW Stress period \u001b[1;36m3\u001b[0m, time step \u001b[1;36m20\u001b[0m\n"
      ]
     },
     "metadata": {},
     "output_type": "display_data"
    },
    {
     "data": {
      "text/html": [
       "<pre style=\"white-space:pre;overflow-x:auto;line-height:normal;font-family:Menlo,'DejaVu Sans Mono',consolas,'Courier New',monospace\">Updating MODFLOW Stress period <span style=\"color: #008080; text-decoration-color: #008080; font-weight: bold\">3</span>, time step <span style=\"color: #008080; text-decoration-color: #008080; font-weight: bold\">21</span>\n",
       "</pre>\n"
      ],
      "text/plain": [
       "Updating MODFLOW Stress period \u001b[1;36m3\u001b[0m, time step \u001b[1;36m21\u001b[0m\n"
      ]
     },
     "metadata": {},
     "output_type": "display_data"
    },
    {
     "data": {
      "text/html": [
       "<pre style=\"white-space:pre;overflow-x:auto;line-height:normal;font-family:Menlo,'DejaVu Sans Mono',consolas,'Courier New',monospace\">Updating MODFLOW Stress period <span style=\"color: #008080; text-decoration-color: #008080; font-weight: bold\">3</span>, time step <span style=\"color: #008080; text-decoration-color: #008080; font-weight: bold\">22</span>\n",
       "</pre>\n"
      ],
      "text/plain": [
       "Updating MODFLOW Stress period \u001b[1;36m3\u001b[0m, time step \u001b[1;36m22\u001b[0m\n"
      ]
     },
     "metadata": {},
     "output_type": "display_data"
    },
    {
     "data": {
      "text/html": [
       "<pre style=\"white-space:pre;overflow-x:auto;line-height:normal;font-family:Menlo,'DejaVu Sans Mono',consolas,'Courier New',monospace\">Updating MODFLOW Stress period <span style=\"color: #008080; text-decoration-color: #008080; font-weight: bold\">3</span>, time step <span style=\"color: #008080; text-decoration-color: #008080; font-weight: bold\">23</span>\n",
       "</pre>\n"
      ],
      "text/plain": [
       "Updating MODFLOW Stress period \u001b[1;36m3\u001b[0m, time step \u001b[1;36m23\u001b[0m\n"
      ]
     },
     "metadata": {},
     "output_type": "display_data"
    },
    {
     "data": {
      "text/html": [
       "<pre style=\"white-space:pre;overflow-x:auto;line-height:normal;font-family:Menlo,'DejaVu Sans Mono',consolas,'Courier New',monospace\">Updating MODFLOW Stress period <span style=\"color: #008080; text-decoration-color: #008080; font-weight: bold\">3</span>, time step <span style=\"color: #008080; text-decoration-color: #008080; font-weight: bold\">24</span>\n",
       "</pre>\n"
      ],
      "text/plain": [
       "Updating MODFLOW Stress period \u001b[1;36m3\u001b[0m, time step \u001b[1;36m24\u001b[0m\n"
      ]
     },
     "metadata": {},
     "output_type": "display_data"
    },
    {
     "data": {
      "text/html": [
       "<pre style=\"white-space:pre;overflow-x:auto;line-height:normal;font-family:Menlo,'DejaVu Sans Mono',consolas,'Courier New',monospace\">Updating MODFLOW Stress period <span style=\"color: #008080; text-decoration-color: #008080; font-weight: bold\">3</span>, time step <span style=\"color: #008080; text-decoration-color: #008080; font-weight: bold\">25</span>\n",
       "</pre>\n"
      ],
      "text/plain": [
       "Updating MODFLOW Stress period \u001b[1;36m3\u001b[0m, time step \u001b[1;36m25\u001b[0m\n"
      ]
     },
     "metadata": {},
     "output_type": "display_data"
    },
    {
     "data": {
      "text/html": [
       "<pre style=\"white-space:pre;overflow-x:auto;line-height:normal;font-family:Menlo,'DejaVu Sans Mono',consolas,'Courier New',monospace\">Updating MODFLOW Stress period <span style=\"color: #008080; text-decoration-color: #008080; font-weight: bold\">3</span>, time step <span style=\"color: #008080; text-decoration-color: #008080; font-weight: bold\">26</span>\n",
       "</pre>\n"
      ],
      "text/plain": [
       "Updating MODFLOW Stress period \u001b[1;36m3\u001b[0m, time step \u001b[1;36m26\u001b[0m\n"
      ]
     },
     "metadata": {},
     "output_type": "display_data"
    },
    {
     "data": {
      "text/html": [
       "<pre style=\"white-space:pre;overflow-x:auto;line-height:normal;font-family:Menlo,'DejaVu Sans Mono',consolas,'Courier New',monospace\">Updating MODFLOW Stress period <span style=\"color: #008080; text-decoration-color: #008080; font-weight: bold\">3</span>, time step <span style=\"color: #008080; text-decoration-color: #008080; font-weight: bold\">27</span>\n",
       "</pre>\n"
      ],
      "text/plain": [
       "Updating MODFLOW Stress period \u001b[1;36m3\u001b[0m, time step \u001b[1;36m27\u001b[0m\n"
      ]
     },
     "metadata": {},
     "output_type": "display_data"
    },
    {
     "data": {
      "text/html": [
       "<pre style=\"white-space:pre;overflow-x:auto;line-height:normal;font-family:Menlo,'DejaVu Sans Mono',consolas,'Courier New',monospace\">Updating MODFLOW Stress period <span style=\"color: #008080; text-decoration-color: #008080; font-weight: bold\">3</span>, time step <span style=\"color: #008080; text-decoration-color: #008080; font-weight: bold\">28</span>\n",
       "</pre>\n"
      ],
      "text/plain": [
       "Updating MODFLOW Stress period \u001b[1;36m3\u001b[0m, time step \u001b[1;36m28\u001b[0m\n"
      ]
     },
     "metadata": {},
     "output_type": "display_data"
    },
    {
     "data": {
      "text/html": [
       "<pre style=\"white-space:pre;overflow-x:auto;line-height:normal;font-family:Menlo,'DejaVu Sans Mono',consolas,'Courier New',monospace\">Updating MODFLOW Stress period <span style=\"color: #008080; text-decoration-color: #008080; font-weight: bold\">3</span>, time step <span style=\"color: #008080; text-decoration-color: #008080; font-weight: bold\">29</span>\n",
       "</pre>\n"
      ],
      "text/plain": [
       "Updating MODFLOW Stress period \u001b[1;36m3\u001b[0m, time step \u001b[1;36m29\u001b[0m\n"
      ]
     },
     "metadata": {},
     "output_type": "display_data"
    },
    {
     "data": {
      "text/html": [
       "<pre style=\"white-space:pre;overflow-x:auto;line-height:normal;font-family:Menlo,'DejaVu Sans Mono',consolas,'Courier New',monospace\">Updating MODFLOW Stress period <span style=\"color: #008080; text-decoration-color: #008080; font-weight: bold\">3</span>, time step <span style=\"color: #008080; text-decoration-color: #008080; font-weight: bold\">30</span>\n",
       "</pre>\n"
      ],
      "text/plain": [
       "Updating MODFLOW Stress period \u001b[1;36m3\u001b[0m, time step \u001b[1;36m30\u001b[0m\n"
      ]
     },
     "metadata": {},
     "output_type": "display_data"
    },
    {
     "data": {
      "text/html": [
       "<pre style=\"white-space:pre;overflow-x:auto;line-height:normal;font-family:Menlo,'DejaVu Sans Mono',consolas,'Courier New',monospace\">Updating MODFLOW Stress period <span style=\"color: #008080; text-decoration-color: #008080; font-weight: bold\">3</span>, time step <span style=\"color: #008080; text-decoration-color: #008080; font-weight: bold\">31</span>\n",
       "</pre>\n"
      ],
      "text/plain": [
       "Updating MODFLOW Stress period \u001b[1;36m3\u001b[0m, time step \u001b[1;36m31\u001b[0m\n"
      ]
     },
     "metadata": {},
     "output_type": "display_data"
    },
    {
     "data": {
      "text/html": [
       "<pre style=\"white-space:pre;overflow-x:auto;line-height:normal;font-family:Menlo,'DejaVu Sans Mono',consolas,'Courier New',monospace\">Updating MODFLOW Stress period <span style=\"color: #008080; text-decoration-color: #008080; font-weight: bold\">3</span>, time step <span style=\"color: #008080; text-decoration-color: #008080; font-weight: bold\">32</span>\n",
       "</pre>\n"
      ],
      "text/plain": [
       "Updating MODFLOW Stress period \u001b[1;36m3\u001b[0m, time step \u001b[1;36m32\u001b[0m\n"
      ]
     },
     "metadata": {},
     "output_type": "display_data"
    },
    {
     "data": {
      "text/html": [
       "<pre style=\"white-space:pre;overflow-x:auto;line-height:normal;font-family:Menlo,'DejaVu Sans Mono',consolas,'Courier New',monospace\">Updating MODFLOW Stress period <span style=\"color: #008080; text-decoration-color: #008080; font-weight: bold\">3</span>, time step <span style=\"color: #008080; text-decoration-color: #008080; font-weight: bold\">33</span>\n",
       "</pre>\n"
      ],
      "text/plain": [
       "Updating MODFLOW Stress period \u001b[1;36m3\u001b[0m, time step \u001b[1;36m33\u001b[0m\n"
      ]
     },
     "metadata": {},
     "output_type": "display_data"
    },
    {
     "data": {
      "text/html": [
       "<pre style=\"white-space:pre;overflow-x:auto;line-height:normal;font-family:Menlo,'DejaVu Sans Mono',consolas,'Courier New',monospace\">Updating MODFLOW Stress period <span style=\"color: #008080; text-decoration-color: #008080; font-weight: bold\">3</span>, time step <span style=\"color: #008080; text-decoration-color: #008080; font-weight: bold\">34</span>\n",
       "</pre>\n"
      ],
      "text/plain": [
       "Updating MODFLOW Stress period \u001b[1;36m3\u001b[0m, time step \u001b[1;36m34\u001b[0m\n"
      ]
     },
     "metadata": {},
     "output_type": "display_data"
    },
    {
     "data": {
      "text/html": [
       "<pre style=\"white-space:pre;overflow-x:auto;line-height:normal;font-family:Menlo,'DejaVu Sans Mono',consolas,'Courier New',monospace\">Updating MODFLOW Stress period <span style=\"color: #008080; text-decoration-color: #008080; font-weight: bold\">3</span>, time step <span style=\"color: #008080; text-decoration-color: #008080; font-weight: bold\">35</span>\n",
       "</pre>\n"
      ],
      "text/plain": [
       "Updating MODFLOW Stress period \u001b[1;36m3\u001b[0m, time step \u001b[1;36m35\u001b[0m\n"
      ]
     },
     "metadata": {},
     "output_type": "display_data"
    },
    {
     "data": {
      "text/html": [
       "<pre style=\"white-space:pre;overflow-x:auto;line-height:normal;font-family:Menlo,'DejaVu Sans Mono',consolas,'Courier New',monospace\">Updating MODFLOW Stress period <span style=\"color: #008080; text-decoration-color: #008080; font-weight: bold\">3</span>, time step <span style=\"color: #008080; text-decoration-color: #008080; font-weight: bold\">36</span>\n",
       "</pre>\n"
      ],
      "text/plain": [
       "Updating MODFLOW Stress period \u001b[1;36m3\u001b[0m, time step \u001b[1;36m36\u001b[0m\n"
      ]
     },
     "metadata": {},
     "output_type": "display_data"
    },
    {
     "data": {
      "text/html": [
       "<pre style=\"white-space:pre;overflow-x:auto;line-height:normal;font-family:Menlo,'DejaVu Sans Mono',consolas,'Courier New',monospace\">Updating MODFLOW Stress period <span style=\"color: #008080; text-decoration-color: #008080; font-weight: bold\">3</span>, time step <span style=\"color: #008080; text-decoration-color: #008080; font-weight: bold\">37</span>\n",
       "</pre>\n"
      ],
      "text/plain": [
       "Updating MODFLOW Stress period \u001b[1;36m3\u001b[0m, time step \u001b[1;36m37\u001b[0m\n"
      ]
     },
     "metadata": {},
     "output_type": "display_data"
    },
    {
     "data": {
      "text/html": [
       "<pre style=\"white-space:pre;overflow-x:auto;line-height:normal;font-family:Menlo,'DejaVu Sans Mono',consolas,'Courier New',monospace\">Updating MODFLOW Stress period <span style=\"color: #008080; text-decoration-color: #008080; font-weight: bold\">3</span>, time step <span style=\"color: #008080; text-decoration-color: #008080; font-weight: bold\">38</span>\n",
       "</pre>\n"
      ],
      "text/plain": [
       "Updating MODFLOW Stress period \u001b[1;36m3\u001b[0m, time step \u001b[1;36m38\u001b[0m\n"
      ]
     },
     "metadata": {},
     "output_type": "display_data"
    },
    {
     "data": {
      "text/html": [
       "<pre style=\"white-space:pre;overflow-x:auto;line-height:normal;font-family:Menlo,'DejaVu Sans Mono',consolas,'Courier New',monospace\">Updating MODFLOW Stress period <span style=\"color: #008080; text-decoration-color: #008080; font-weight: bold\">3</span>, time step <span style=\"color: #008080; text-decoration-color: #008080; font-weight: bold\">39</span>\n",
       "</pre>\n"
      ],
      "text/plain": [
       "Updating MODFLOW Stress period \u001b[1;36m3\u001b[0m, time step \u001b[1;36m39\u001b[0m\n"
      ]
     },
     "metadata": {},
     "output_type": "display_data"
    },
    {
     "data": {
      "text/html": [
       "<pre style=\"white-space:pre;overflow-x:auto;line-height:normal;font-family:Menlo,'DejaVu Sans Mono',consolas,'Courier New',monospace\">Updating MODFLOW Stress period <span style=\"color: #008080; text-decoration-color: #008080; font-weight: bold\">3</span>, time step <span style=\"color: #008080; text-decoration-color: #008080; font-weight: bold\">40</span>\n",
       "</pre>\n"
      ],
      "text/plain": [
       "Updating MODFLOW Stress period \u001b[1;36m3\u001b[0m, time step \u001b[1;36m40\u001b[0m\n"
      ]
     },
     "metadata": {},
     "output_type": "display_data"
    },
    {
     "data": {
      "text/html": [
       "<pre style=\"white-space:pre;overflow-x:auto;line-height:normal;font-family:Menlo,'DejaVu Sans Mono',consolas,'Courier New',monospace\">Updating MODFLOW Stress period <span style=\"color: #008080; text-decoration-color: #008080; font-weight: bold\">3</span>, time step <span style=\"color: #008080; text-decoration-color: #008080; font-weight: bold\">41</span>\n",
       "</pre>\n"
      ],
      "text/plain": [
       "Updating MODFLOW Stress period \u001b[1;36m3\u001b[0m, time step \u001b[1;36m41\u001b[0m\n"
      ]
     },
     "metadata": {},
     "output_type": "display_data"
    },
    {
     "data": {
      "text/html": [
       "<pre style=\"white-space:pre;overflow-x:auto;line-height:normal;font-family:Menlo,'DejaVu Sans Mono',consolas,'Courier New',monospace\">Updating MODFLOW Stress period <span style=\"color: #008080; text-decoration-color: #008080; font-weight: bold\">3</span>, time step <span style=\"color: #008080; text-decoration-color: #008080; font-weight: bold\">42</span>\n",
       "</pre>\n"
      ],
      "text/plain": [
       "Updating MODFLOW Stress period \u001b[1;36m3\u001b[0m, time step \u001b[1;36m42\u001b[0m\n"
      ]
     },
     "metadata": {},
     "output_type": "display_data"
    },
    {
     "data": {
      "text/html": [
       "<pre style=\"white-space:pre;overflow-x:auto;line-height:normal;font-family:Menlo,'DejaVu Sans Mono',consolas,'Courier New',monospace\">Updating MODFLOW Stress period <span style=\"color: #008080; text-decoration-color: #008080; font-weight: bold\">3</span>, time step <span style=\"color: #008080; text-decoration-color: #008080; font-weight: bold\">43</span>\n",
       "</pre>\n"
      ],
      "text/plain": [
       "Updating MODFLOW Stress period \u001b[1;36m3\u001b[0m, time step \u001b[1;36m43\u001b[0m\n"
      ]
     },
     "metadata": {},
     "output_type": "display_data"
    },
    {
     "data": {
      "text/html": [
       "<pre style=\"white-space:pre;overflow-x:auto;line-height:normal;font-family:Menlo,'DejaVu Sans Mono',consolas,'Courier New',monospace\">Updating MODFLOW Stress period <span style=\"color: #008080; text-decoration-color: #008080; font-weight: bold\">3</span>, time step <span style=\"color: #008080; text-decoration-color: #008080; font-weight: bold\">44</span>\n",
       "</pre>\n"
      ],
      "text/plain": [
       "Updating MODFLOW Stress period \u001b[1;36m3\u001b[0m, time step \u001b[1;36m44\u001b[0m\n"
      ]
     },
     "metadata": {},
     "output_type": "display_data"
    },
    {
     "data": {
      "text/html": [
       "<pre style=\"white-space:pre;overflow-x:auto;line-height:normal;font-family:Menlo,'DejaVu Sans Mono',consolas,'Courier New',monospace\">Updating MODFLOW Stress period <span style=\"color: #008080; text-decoration-color: #008080; font-weight: bold\">3</span>, time step <span style=\"color: #008080; text-decoration-color: #008080; font-weight: bold\">45</span>\n",
       "</pre>\n"
      ],
      "text/plain": [
       "Updating MODFLOW Stress period \u001b[1;36m3\u001b[0m, time step \u001b[1;36m45\u001b[0m\n"
      ]
     },
     "metadata": {},
     "output_type": "display_data"
    },
    {
     "data": {
      "text/html": [
       "<pre style=\"white-space:pre;overflow-x:auto;line-height:normal;font-family:Menlo,'DejaVu Sans Mono',consolas,'Courier New',monospace\">Updating MODFLOW Stress period <span style=\"color: #008080; text-decoration-color: #008080; font-weight: bold\">3</span>, time step <span style=\"color: #008080; text-decoration-color: #008080; font-weight: bold\">46</span>\n",
       "</pre>\n"
      ],
      "text/plain": [
       "Updating MODFLOW Stress period \u001b[1;36m3\u001b[0m, time step \u001b[1;36m46\u001b[0m\n"
      ]
     },
     "metadata": {},
     "output_type": "display_data"
    },
    {
     "data": {
      "text/html": [
       "<pre style=\"white-space:pre;overflow-x:auto;line-height:normal;font-family:Menlo,'DejaVu Sans Mono',consolas,'Courier New',monospace\">Updating MODFLOW Stress period <span style=\"color: #008080; text-decoration-color: #008080; font-weight: bold\">3</span>, time step <span style=\"color: #008080; text-decoration-color: #008080; font-weight: bold\">47</span>\n",
       "</pre>\n"
      ],
      "text/plain": [
       "Updating MODFLOW Stress period \u001b[1;36m3\u001b[0m, time step \u001b[1;36m47\u001b[0m\n"
      ]
     },
     "metadata": {},
     "output_type": "display_data"
    },
    {
     "data": {
      "text/html": [
       "<pre style=\"white-space:pre;overflow-x:auto;line-height:normal;font-family:Menlo,'DejaVu Sans Mono',consolas,'Courier New',monospace\">Updating MODFLOW Stress period <span style=\"color: #008080; text-decoration-color: #008080; font-weight: bold\">3</span>, time step <span style=\"color: #008080; text-decoration-color: #008080; font-weight: bold\">48</span>\n",
       "</pre>\n"
      ],
      "text/plain": [
       "Updating MODFLOW Stress period \u001b[1;36m3\u001b[0m, time step \u001b[1;36m48\u001b[0m\n"
      ]
     },
     "metadata": {},
     "output_type": "display_data"
    },
    {
     "data": {
      "text/html": [
       "<pre style=\"white-space:pre;overflow-x:auto;line-height:normal;font-family:Menlo,'DejaVu Sans Mono',consolas,'Courier New',monospace\">Updating MODFLOW Stress period <span style=\"color: #008080; text-decoration-color: #008080; font-weight: bold\">4</span>, time step <span style=\"color: #008080; text-decoration-color: #008080; font-weight: bold\">1</span>\n",
       "</pre>\n"
      ],
      "text/plain": [
       "Updating MODFLOW Stress period \u001b[1;36m4\u001b[0m, time step \u001b[1;36m1\u001b[0m\n"
      ]
     },
     "metadata": {},
     "output_type": "display_data"
    },
    {
     "data": {
      "text/html": [
       "<pre style=\"white-space:pre;overflow-x:auto;line-height:normal;font-family:Menlo,'DejaVu Sans Mono',consolas,'Courier New',monospace\">Updating MODFLOW Stress period <span style=\"color: #008080; text-decoration-color: #008080; font-weight: bold\">4</span>, time step <span style=\"color: #008080; text-decoration-color: #008080; font-weight: bold\">2</span>\n",
       "</pre>\n"
      ],
      "text/plain": [
       "Updating MODFLOW Stress period \u001b[1;36m4\u001b[0m, time step \u001b[1;36m2\u001b[0m\n"
      ]
     },
     "metadata": {},
     "output_type": "display_data"
    },
    {
     "data": {
      "text/html": [
       "<pre style=\"white-space:pre;overflow-x:auto;line-height:normal;font-family:Menlo,'DejaVu Sans Mono',consolas,'Courier New',monospace\">Updating MODFLOW Stress period <span style=\"color: #008080; text-decoration-color: #008080; font-weight: bold\">4</span>, time step <span style=\"color: #008080; text-decoration-color: #008080; font-weight: bold\">3</span>\n",
       "</pre>\n"
      ],
      "text/plain": [
       "Updating MODFLOW Stress period \u001b[1;36m4\u001b[0m, time step \u001b[1;36m3\u001b[0m\n"
      ]
     },
     "metadata": {},
     "output_type": "display_data"
    },
    {
     "data": {
      "text/html": [
       "<pre style=\"white-space:pre;overflow-x:auto;line-height:normal;font-family:Menlo,'DejaVu Sans Mono',consolas,'Courier New',monospace\">Updating MODFLOW Stress period <span style=\"color: #008080; text-decoration-color: #008080; font-weight: bold\">4</span>, time step <span style=\"color: #008080; text-decoration-color: #008080; font-weight: bold\">4</span>\n",
       "</pre>\n"
      ],
      "text/plain": [
       "Updating MODFLOW Stress period \u001b[1;36m4\u001b[0m, time step \u001b[1;36m4\u001b[0m\n"
      ]
     },
     "metadata": {},
     "output_type": "display_data"
    },
    {
     "data": {
      "text/html": [
       "<pre style=\"white-space:pre;overflow-x:auto;line-height:normal;font-family:Menlo,'DejaVu Sans Mono',consolas,'Courier New',monospace\">Updating MODFLOW Stress period <span style=\"color: #008080; text-decoration-color: #008080; font-weight: bold\">4</span>, time step <span style=\"color: #008080; text-decoration-color: #008080; font-weight: bold\">5</span>\n",
       "</pre>\n"
      ],
      "text/plain": [
       "Updating MODFLOW Stress period \u001b[1;36m4\u001b[0m, time step \u001b[1;36m5\u001b[0m\n"
      ]
     },
     "metadata": {},
     "output_type": "display_data"
    },
    {
     "data": {
      "text/html": [
       "<pre style=\"white-space:pre;overflow-x:auto;line-height:normal;font-family:Menlo,'DejaVu Sans Mono',consolas,'Courier New',monospace\">Updating MODFLOW Stress period <span style=\"color: #008080; text-decoration-color: #008080; font-weight: bold\">4</span>, time step <span style=\"color: #008080; text-decoration-color: #008080; font-weight: bold\">6</span>\n",
       "</pre>\n"
      ],
      "text/plain": [
       "Updating MODFLOW Stress period \u001b[1;36m4\u001b[0m, time step \u001b[1;36m6\u001b[0m\n"
      ]
     },
     "metadata": {},
     "output_type": "display_data"
    },
    {
     "data": {
      "text/html": [
       "<pre style=\"white-space:pre;overflow-x:auto;line-height:normal;font-family:Menlo,'DejaVu Sans Mono',consolas,'Courier New',monospace\">Updating MODFLOW Stress period <span style=\"color: #008080; text-decoration-color: #008080; font-weight: bold\">4</span>, time step <span style=\"color: #008080; text-decoration-color: #008080; font-weight: bold\">7</span>\n",
       "</pre>\n"
      ],
      "text/plain": [
       "Updating MODFLOW Stress period \u001b[1;36m4\u001b[0m, time step \u001b[1;36m7\u001b[0m\n"
      ]
     },
     "metadata": {},
     "output_type": "display_data"
    },
    {
     "data": {
      "text/html": [
       "<pre style=\"white-space:pre;overflow-x:auto;line-height:normal;font-family:Menlo,'DejaVu Sans Mono',consolas,'Courier New',monospace\">Updating MODFLOW Stress period <span style=\"color: #008080; text-decoration-color: #008080; font-weight: bold\">4</span>, time step <span style=\"color: #008080; text-decoration-color: #008080; font-weight: bold\">8</span>\n",
       "</pre>\n"
      ],
      "text/plain": [
       "Updating MODFLOW Stress period \u001b[1;36m4\u001b[0m, time step \u001b[1;36m8\u001b[0m\n"
      ]
     },
     "metadata": {},
     "output_type": "display_data"
    },
    {
     "data": {
      "text/html": [
       "<pre style=\"white-space:pre;overflow-x:auto;line-height:normal;font-family:Menlo,'DejaVu Sans Mono',consolas,'Courier New',monospace\">Updating MODFLOW Stress period <span style=\"color: #008080; text-decoration-color: #008080; font-weight: bold\">4</span>, time step <span style=\"color: #008080; text-decoration-color: #008080; font-weight: bold\">9</span>\n",
       "</pre>\n"
      ],
      "text/plain": [
       "Updating MODFLOW Stress period \u001b[1;36m4\u001b[0m, time step \u001b[1;36m9\u001b[0m\n"
      ]
     },
     "metadata": {},
     "output_type": "display_data"
    },
    {
     "data": {
      "text/html": [
       "<pre style=\"white-space:pre;overflow-x:auto;line-height:normal;font-family:Menlo,'DejaVu Sans Mono',consolas,'Courier New',monospace\">Updating MODFLOW Stress period <span style=\"color: #008080; text-decoration-color: #008080; font-weight: bold\">4</span>, time step <span style=\"color: #008080; text-decoration-color: #008080; font-weight: bold\">10</span>\n",
       "</pre>\n"
      ],
      "text/plain": [
       "Updating MODFLOW Stress period \u001b[1;36m4\u001b[0m, time step \u001b[1;36m10\u001b[0m\n"
      ]
     },
     "metadata": {},
     "output_type": "display_data"
    },
    {
     "data": {
      "text/html": [
       "<pre style=\"white-space:pre;overflow-x:auto;line-height:normal;font-family:Menlo,'DejaVu Sans Mono',consolas,'Courier New',monospace\">Updating MODFLOW Stress period <span style=\"color: #008080; text-decoration-color: #008080; font-weight: bold\">4</span>, time step <span style=\"color: #008080; text-decoration-color: #008080; font-weight: bold\">11</span>\n",
       "</pre>\n"
      ],
      "text/plain": [
       "Updating MODFLOW Stress period \u001b[1;36m4\u001b[0m, time step \u001b[1;36m11\u001b[0m\n"
      ]
     },
     "metadata": {},
     "output_type": "display_data"
    },
    {
     "data": {
      "text/html": [
       "<pre style=\"white-space:pre;overflow-x:auto;line-height:normal;font-family:Menlo,'DejaVu Sans Mono',consolas,'Courier New',monospace\">Updating MODFLOW Stress period <span style=\"color: #008080; text-decoration-color: #008080; font-weight: bold\">4</span>, time step <span style=\"color: #008080; text-decoration-color: #008080; font-weight: bold\">12</span>\n",
       "</pre>\n"
      ],
      "text/plain": [
       "Updating MODFLOW Stress period \u001b[1;36m4\u001b[0m, time step \u001b[1;36m12\u001b[0m\n"
      ]
     },
     "metadata": {},
     "output_type": "display_data"
    },
    {
     "data": {
      "text/html": [
       "<pre style=\"white-space:pre;overflow-x:auto;line-height:normal;font-family:Menlo,'DejaVu Sans Mono',consolas,'Courier New',monospace\">Updating MODFLOW Stress period <span style=\"color: #008080; text-decoration-color: #008080; font-weight: bold\">4</span>, time step <span style=\"color: #008080; text-decoration-color: #008080; font-weight: bold\">13</span>\n",
       "</pre>\n"
      ],
      "text/plain": [
       "Updating MODFLOW Stress period \u001b[1;36m4\u001b[0m, time step \u001b[1;36m13\u001b[0m\n"
      ]
     },
     "metadata": {},
     "output_type": "display_data"
    },
    {
     "data": {
      "text/html": [
       "<pre style=\"white-space:pre;overflow-x:auto;line-height:normal;font-family:Menlo,'DejaVu Sans Mono',consolas,'Courier New',monospace\">Updating MODFLOW Stress period <span style=\"color: #008080; text-decoration-color: #008080; font-weight: bold\">4</span>, time step <span style=\"color: #008080; text-decoration-color: #008080; font-weight: bold\">14</span>\n",
       "</pre>\n"
      ],
      "text/plain": [
       "Updating MODFLOW Stress period \u001b[1;36m4\u001b[0m, time step \u001b[1;36m14\u001b[0m\n"
      ]
     },
     "metadata": {},
     "output_type": "display_data"
    },
    {
     "data": {
      "text/html": [
       "<pre style=\"white-space:pre;overflow-x:auto;line-height:normal;font-family:Menlo,'DejaVu Sans Mono',consolas,'Courier New',monospace\">Updating MODFLOW Stress period <span style=\"color: #008080; text-decoration-color: #008080; font-weight: bold\">4</span>, time step <span style=\"color: #008080; text-decoration-color: #008080; font-weight: bold\">15</span>\n",
       "</pre>\n"
      ],
      "text/plain": [
       "Updating MODFLOW Stress period \u001b[1;36m4\u001b[0m, time step \u001b[1;36m15\u001b[0m\n"
      ]
     },
     "metadata": {},
     "output_type": "display_data"
    },
    {
     "data": {
      "text/html": [
       "<pre style=\"white-space:pre;overflow-x:auto;line-height:normal;font-family:Menlo,'DejaVu Sans Mono',consolas,'Courier New',monospace\">Updating MODFLOW Stress period <span style=\"color: #008080; text-decoration-color: #008080; font-weight: bold\">4</span>, time step <span style=\"color: #008080; text-decoration-color: #008080; font-weight: bold\">16</span>\n",
       "</pre>\n"
      ],
      "text/plain": [
       "Updating MODFLOW Stress period \u001b[1;36m4\u001b[0m, time step \u001b[1;36m16\u001b[0m\n"
      ]
     },
     "metadata": {},
     "output_type": "display_data"
    },
    {
     "data": {
      "text/html": [
       "<pre style=\"white-space:pre;overflow-x:auto;line-height:normal;font-family:Menlo,'DejaVu Sans Mono',consolas,'Courier New',monospace\">Updating MODFLOW Stress period <span style=\"color: #008080; text-decoration-color: #008080; font-weight: bold\">4</span>, time step <span style=\"color: #008080; text-decoration-color: #008080; font-weight: bold\">17</span>\n",
       "</pre>\n"
      ],
      "text/plain": [
       "Updating MODFLOW Stress period \u001b[1;36m4\u001b[0m, time step \u001b[1;36m17\u001b[0m\n"
      ]
     },
     "metadata": {},
     "output_type": "display_data"
    },
    {
     "data": {
      "text/html": [
       "<pre style=\"white-space:pre;overflow-x:auto;line-height:normal;font-family:Menlo,'DejaVu Sans Mono',consolas,'Courier New',monospace\">Updating MODFLOW Stress period <span style=\"color: #008080; text-decoration-color: #008080; font-weight: bold\">4</span>, time step <span style=\"color: #008080; text-decoration-color: #008080; font-weight: bold\">18</span>\n",
       "</pre>\n"
      ],
      "text/plain": [
       "Updating MODFLOW Stress period \u001b[1;36m4\u001b[0m, time step \u001b[1;36m18\u001b[0m\n"
      ]
     },
     "metadata": {},
     "output_type": "display_data"
    },
    {
     "data": {
      "text/html": [
       "<pre style=\"white-space:pre;overflow-x:auto;line-height:normal;font-family:Menlo,'DejaVu Sans Mono',consolas,'Courier New',monospace\">Updating MODFLOW Stress period <span style=\"color: #008080; text-decoration-color: #008080; font-weight: bold\">4</span>, time step <span style=\"color: #008080; text-decoration-color: #008080; font-weight: bold\">19</span>\n",
       "</pre>\n"
      ],
      "text/plain": [
       "Updating MODFLOW Stress period \u001b[1;36m4\u001b[0m, time step \u001b[1;36m19\u001b[0m\n"
      ]
     },
     "metadata": {},
     "output_type": "display_data"
    },
    {
     "data": {
      "text/html": [
       "<pre style=\"white-space:pre;overflow-x:auto;line-height:normal;font-family:Menlo,'DejaVu Sans Mono',consolas,'Courier New',monospace\">Updating MODFLOW Stress period <span style=\"color: #008080; text-decoration-color: #008080; font-weight: bold\">4</span>, time step <span style=\"color: #008080; text-decoration-color: #008080; font-weight: bold\">20</span>\n",
       "</pre>\n"
      ],
      "text/plain": [
       "Updating MODFLOW Stress period \u001b[1;36m4\u001b[0m, time step \u001b[1;36m20\u001b[0m\n"
      ]
     },
     "metadata": {},
     "output_type": "display_data"
    },
    {
     "data": {
      "text/html": [
       "<pre style=\"white-space:pre;overflow-x:auto;line-height:normal;font-family:Menlo,'DejaVu Sans Mono',consolas,'Courier New',monospace\">Updating MODFLOW Stress period <span style=\"color: #008080; text-decoration-color: #008080; font-weight: bold\">4</span>, time step <span style=\"color: #008080; text-decoration-color: #008080; font-weight: bold\">21</span>\n",
       "</pre>\n"
      ],
      "text/plain": [
       "Updating MODFLOW Stress period \u001b[1;36m4\u001b[0m, time step \u001b[1;36m21\u001b[0m\n"
      ]
     },
     "metadata": {},
     "output_type": "display_data"
    },
    {
     "data": {
      "text/html": [
       "<pre style=\"white-space:pre;overflow-x:auto;line-height:normal;font-family:Menlo,'DejaVu Sans Mono',consolas,'Courier New',monospace\">Updating MODFLOW Stress period <span style=\"color: #008080; text-decoration-color: #008080; font-weight: bold\">4</span>, time step <span style=\"color: #008080; text-decoration-color: #008080; font-weight: bold\">22</span>\n",
       "</pre>\n"
      ],
      "text/plain": [
       "Updating MODFLOW Stress period \u001b[1;36m4\u001b[0m, time step \u001b[1;36m22\u001b[0m\n"
      ]
     },
     "metadata": {},
     "output_type": "display_data"
    },
    {
     "data": {
      "text/html": [
       "<pre style=\"white-space:pre;overflow-x:auto;line-height:normal;font-family:Menlo,'DejaVu Sans Mono',consolas,'Courier New',monospace\">Updating MODFLOW Stress period <span style=\"color: #008080; text-decoration-color: #008080; font-weight: bold\">4</span>, time step <span style=\"color: #008080; text-decoration-color: #008080; font-weight: bold\">23</span>\n",
       "</pre>\n"
      ],
      "text/plain": [
       "Updating MODFLOW Stress period \u001b[1;36m4\u001b[0m, time step \u001b[1;36m23\u001b[0m\n"
      ]
     },
     "metadata": {},
     "output_type": "display_data"
    },
    {
     "data": {
      "text/html": [
       "<pre style=\"white-space:pre;overflow-x:auto;line-height:normal;font-family:Menlo,'DejaVu Sans Mono',consolas,'Courier New',monospace\">Updating MODFLOW Stress period <span style=\"color: #008080; text-decoration-color: #008080; font-weight: bold\">4</span>, time step <span style=\"color: #008080; text-decoration-color: #008080; font-weight: bold\">24</span>\n",
       "</pre>\n"
      ],
      "text/plain": [
       "Updating MODFLOW Stress period \u001b[1;36m4\u001b[0m, time step \u001b[1;36m24\u001b[0m\n"
      ]
     },
     "metadata": {},
     "output_type": "display_data"
    },
    {
     "data": {
      "text/html": [
       "<pre style=\"white-space:pre;overflow-x:auto;line-height:normal;font-family:Menlo,'DejaVu Sans Mono',consolas,'Courier New',monospace\">Updating MODFLOW Stress period <span style=\"color: #008080; text-decoration-color: #008080; font-weight: bold\">4</span>, time step <span style=\"color: #008080; text-decoration-color: #008080; font-weight: bold\">25</span>\n",
       "</pre>\n"
      ],
      "text/plain": [
       "Updating MODFLOW Stress period \u001b[1;36m4\u001b[0m, time step \u001b[1;36m25\u001b[0m\n"
      ]
     },
     "metadata": {},
     "output_type": "display_data"
    },
    {
     "data": {
      "text/html": [
       "<pre style=\"white-space:pre;overflow-x:auto;line-height:normal;font-family:Menlo,'DejaVu Sans Mono',consolas,'Courier New',monospace\">Updating MODFLOW Stress period <span style=\"color: #008080; text-decoration-color: #008080; font-weight: bold\">4</span>, time step <span style=\"color: #008080; text-decoration-color: #008080; font-weight: bold\">26</span>\n",
       "</pre>\n"
      ],
      "text/plain": [
       "Updating MODFLOW Stress period \u001b[1;36m4\u001b[0m, time step \u001b[1;36m26\u001b[0m\n"
      ]
     },
     "metadata": {},
     "output_type": "display_data"
    },
    {
     "data": {
      "text/html": [
       "<pre style=\"white-space:pre;overflow-x:auto;line-height:normal;font-family:Menlo,'DejaVu Sans Mono',consolas,'Courier New',monospace\">Updating MODFLOW Stress period <span style=\"color: #008080; text-decoration-color: #008080; font-weight: bold\">4</span>, time step <span style=\"color: #008080; text-decoration-color: #008080; font-weight: bold\">27</span>\n",
       "</pre>\n"
      ],
      "text/plain": [
       "Updating MODFLOW Stress period \u001b[1;36m4\u001b[0m, time step \u001b[1;36m27\u001b[0m\n"
      ]
     },
     "metadata": {},
     "output_type": "display_data"
    },
    {
     "data": {
      "text/html": [
       "<pre style=\"white-space:pre;overflow-x:auto;line-height:normal;font-family:Menlo,'DejaVu Sans Mono',consolas,'Courier New',monospace\">Updating MODFLOW Stress period <span style=\"color: #008080; text-decoration-color: #008080; font-weight: bold\">4</span>, time step <span style=\"color: #008080; text-decoration-color: #008080; font-weight: bold\">28</span>\n",
       "</pre>\n"
      ],
      "text/plain": [
       "Updating MODFLOW Stress period \u001b[1;36m4\u001b[0m, time step \u001b[1;36m28\u001b[0m\n"
      ]
     },
     "metadata": {},
     "output_type": "display_data"
    },
    {
     "data": {
      "text/html": [
       "<pre style=\"white-space:pre;overflow-x:auto;line-height:normal;font-family:Menlo,'DejaVu Sans Mono',consolas,'Courier New',monospace\">Updating MODFLOW Stress period <span style=\"color: #008080; text-decoration-color: #008080; font-weight: bold\">4</span>, time step <span style=\"color: #008080; text-decoration-color: #008080; font-weight: bold\">29</span>\n",
       "</pre>\n"
      ],
      "text/plain": [
       "Updating MODFLOW Stress period \u001b[1;36m4\u001b[0m, time step \u001b[1;36m29\u001b[0m\n"
      ]
     },
     "metadata": {},
     "output_type": "display_data"
    },
    {
     "data": {
      "text/html": [
       "<pre style=\"white-space:pre;overflow-x:auto;line-height:normal;font-family:Menlo,'DejaVu Sans Mono',consolas,'Courier New',monospace\">Updating MODFLOW Stress period <span style=\"color: #008080; text-decoration-color: #008080; font-weight: bold\">4</span>, time step <span style=\"color: #008080; text-decoration-color: #008080; font-weight: bold\">30</span>\n",
       "</pre>\n"
      ],
      "text/plain": [
       "Updating MODFLOW Stress period \u001b[1;36m4\u001b[0m, time step \u001b[1;36m30\u001b[0m\n"
      ]
     },
     "metadata": {},
     "output_type": "display_data"
    },
    {
     "data": {
      "text/html": [
       "<pre style=\"white-space:pre;overflow-x:auto;line-height:normal;font-family:Menlo,'DejaVu Sans Mono',consolas,'Courier New',monospace\">Updating MODFLOW Stress period <span style=\"color: #008080; text-decoration-color: #008080; font-weight: bold\">4</span>, time step <span style=\"color: #008080; text-decoration-color: #008080; font-weight: bold\">31</span>\n",
       "</pre>\n"
      ],
      "text/plain": [
       "Updating MODFLOW Stress period \u001b[1;36m4\u001b[0m, time step \u001b[1;36m31\u001b[0m\n"
      ]
     },
     "metadata": {},
     "output_type": "display_data"
    },
    {
     "data": {
      "text/html": [
       "<pre style=\"white-space:pre;overflow-x:auto;line-height:normal;font-family:Menlo,'DejaVu Sans Mono',consolas,'Courier New',monospace\">Updating MODFLOW Stress period <span style=\"color: #008080; text-decoration-color: #008080; font-weight: bold\">4</span>, time step <span style=\"color: #008080; text-decoration-color: #008080; font-weight: bold\">32</span>\n",
       "</pre>\n"
      ],
      "text/plain": [
       "Updating MODFLOW Stress period \u001b[1;36m4\u001b[0m, time step \u001b[1;36m32\u001b[0m\n"
      ]
     },
     "metadata": {},
     "output_type": "display_data"
    },
    {
     "data": {
      "text/html": [
       "<pre style=\"white-space:pre;overflow-x:auto;line-height:normal;font-family:Menlo,'DejaVu Sans Mono',consolas,'Courier New',monospace\">Updating MODFLOW Stress period <span style=\"color: #008080; text-decoration-color: #008080; font-weight: bold\">4</span>, time step <span style=\"color: #008080; text-decoration-color: #008080; font-weight: bold\">33</span>\n",
       "</pre>\n"
      ],
      "text/plain": [
       "Updating MODFLOW Stress period \u001b[1;36m4\u001b[0m, time step \u001b[1;36m33\u001b[0m\n"
      ]
     },
     "metadata": {},
     "output_type": "display_data"
    },
    {
     "data": {
      "text/html": [
       "<pre style=\"white-space:pre;overflow-x:auto;line-height:normal;font-family:Menlo,'DejaVu Sans Mono',consolas,'Courier New',monospace\">Updating MODFLOW Stress period <span style=\"color: #008080; text-decoration-color: #008080; font-weight: bold\">4</span>, time step <span style=\"color: #008080; text-decoration-color: #008080; font-weight: bold\">34</span>\n",
       "</pre>\n"
      ],
      "text/plain": [
       "Updating MODFLOW Stress period \u001b[1;36m4\u001b[0m, time step \u001b[1;36m34\u001b[0m\n"
      ]
     },
     "metadata": {},
     "output_type": "display_data"
    },
    {
     "data": {
      "text/html": [
       "<pre style=\"white-space:pre;overflow-x:auto;line-height:normal;font-family:Menlo,'DejaVu Sans Mono',consolas,'Courier New',monospace\">Updating MODFLOW Stress period <span style=\"color: #008080; text-decoration-color: #008080; font-weight: bold\">4</span>, time step <span style=\"color: #008080; text-decoration-color: #008080; font-weight: bold\">35</span>\n",
       "</pre>\n"
      ],
      "text/plain": [
       "Updating MODFLOW Stress period \u001b[1;36m4\u001b[0m, time step \u001b[1;36m35\u001b[0m\n"
      ]
     },
     "metadata": {},
     "output_type": "display_data"
    },
    {
     "data": {
      "text/html": [
       "<pre style=\"white-space:pre;overflow-x:auto;line-height:normal;font-family:Menlo,'DejaVu Sans Mono',consolas,'Courier New',monospace\">Updating MODFLOW Stress period <span style=\"color: #008080; text-decoration-color: #008080; font-weight: bold\">4</span>, time step <span style=\"color: #008080; text-decoration-color: #008080; font-weight: bold\">36</span>\n",
       "</pre>\n"
      ],
      "text/plain": [
       "Updating MODFLOW Stress period \u001b[1;36m4\u001b[0m, time step \u001b[1;36m36\u001b[0m\n"
      ]
     },
     "metadata": {},
     "output_type": "display_data"
    },
    {
     "data": {
      "text/html": [
       "<pre style=\"white-space:pre;overflow-x:auto;line-height:normal;font-family:Menlo,'DejaVu Sans Mono',consolas,'Courier New',monospace\">Updating MODFLOW Stress period <span style=\"color: #008080; text-decoration-color: #008080; font-weight: bold\">4</span>, time step <span style=\"color: #008080; text-decoration-color: #008080; font-weight: bold\">37</span>\n",
       "</pre>\n"
      ],
      "text/plain": [
       "Updating MODFLOW Stress period \u001b[1;36m4\u001b[0m, time step \u001b[1;36m37\u001b[0m\n"
      ]
     },
     "metadata": {},
     "output_type": "display_data"
    },
    {
     "data": {
      "text/html": [
       "<pre style=\"white-space:pre;overflow-x:auto;line-height:normal;font-family:Menlo,'DejaVu Sans Mono',consolas,'Courier New',monospace\">Updating MODFLOW Stress period <span style=\"color: #008080; text-decoration-color: #008080; font-weight: bold\">4</span>, time step <span style=\"color: #008080; text-decoration-color: #008080; font-weight: bold\">38</span>\n",
       "</pre>\n"
      ],
      "text/plain": [
       "Updating MODFLOW Stress period \u001b[1;36m4\u001b[0m, time step \u001b[1;36m38\u001b[0m\n"
      ]
     },
     "metadata": {},
     "output_type": "display_data"
    },
    {
     "data": {
      "text/html": [
       "<pre style=\"white-space:pre;overflow-x:auto;line-height:normal;font-family:Menlo,'DejaVu Sans Mono',consolas,'Courier New',monospace\">Updating MODFLOW Stress period <span style=\"color: #008080; text-decoration-color: #008080; font-weight: bold\">4</span>, time step <span style=\"color: #008080; text-decoration-color: #008080; font-weight: bold\">39</span>\n",
       "</pre>\n"
      ],
      "text/plain": [
       "Updating MODFLOW Stress period \u001b[1;36m4\u001b[0m, time step \u001b[1;36m39\u001b[0m\n"
      ]
     },
     "metadata": {},
     "output_type": "display_data"
    },
    {
     "data": {
      "text/html": [
       "<pre style=\"white-space:pre;overflow-x:auto;line-height:normal;font-family:Menlo,'DejaVu Sans Mono',consolas,'Courier New',monospace\">Updating MODFLOW Stress period <span style=\"color: #008080; text-decoration-color: #008080; font-weight: bold\">4</span>, time step <span style=\"color: #008080; text-decoration-color: #008080; font-weight: bold\">40</span>\n",
       "</pre>\n"
      ],
      "text/plain": [
       "Updating MODFLOW Stress period \u001b[1;36m4\u001b[0m, time step \u001b[1;36m40\u001b[0m\n"
      ]
     },
     "metadata": {},
     "output_type": "display_data"
    },
    {
     "data": {
      "text/html": [
       "<pre style=\"white-space:pre;overflow-x:auto;line-height:normal;font-family:Menlo,'DejaVu Sans Mono',consolas,'Courier New',monospace\">Updating MODFLOW Stress period <span style=\"color: #008080; text-decoration-color: #008080; font-weight: bold\">4</span>, time step <span style=\"color: #008080; text-decoration-color: #008080; font-weight: bold\">41</span>\n",
       "</pre>\n"
      ],
      "text/plain": [
       "Updating MODFLOW Stress period \u001b[1;36m4\u001b[0m, time step \u001b[1;36m41\u001b[0m\n"
      ]
     },
     "metadata": {},
     "output_type": "display_data"
    },
    {
     "data": {
      "text/html": [
       "<pre style=\"white-space:pre;overflow-x:auto;line-height:normal;font-family:Menlo,'DejaVu Sans Mono',consolas,'Courier New',monospace\">Updating MODFLOW Stress period <span style=\"color: #008080; text-decoration-color: #008080; font-weight: bold\">4</span>, time step <span style=\"color: #008080; text-decoration-color: #008080; font-weight: bold\">42</span>\n",
       "</pre>\n"
      ],
      "text/plain": [
       "Updating MODFLOW Stress period \u001b[1;36m4\u001b[0m, time step \u001b[1;36m42\u001b[0m\n"
      ]
     },
     "metadata": {},
     "output_type": "display_data"
    },
    {
     "data": {
      "text/html": [
       "<pre style=\"white-space:pre;overflow-x:auto;line-height:normal;font-family:Menlo,'DejaVu Sans Mono',consolas,'Courier New',monospace\">Updating MODFLOW Stress period <span style=\"color: #008080; text-decoration-color: #008080; font-weight: bold\">4</span>, time step <span style=\"color: #008080; text-decoration-color: #008080; font-weight: bold\">43</span>\n",
       "</pre>\n"
      ],
      "text/plain": [
       "Updating MODFLOW Stress period \u001b[1;36m4\u001b[0m, time step \u001b[1;36m43\u001b[0m\n"
      ]
     },
     "metadata": {},
     "output_type": "display_data"
    },
    {
     "data": {
      "text/html": [
       "<pre style=\"white-space:pre;overflow-x:auto;line-height:normal;font-family:Menlo,'DejaVu Sans Mono',consolas,'Courier New',monospace\">Updating MODFLOW Stress period <span style=\"color: #008080; text-decoration-color: #008080; font-weight: bold\">4</span>, time step <span style=\"color: #008080; text-decoration-color: #008080; font-weight: bold\">44</span>\n",
       "</pre>\n"
      ],
      "text/plain": [
       "Updating MODFLOW Stress period \u001b[1;36m4\u001b[0m, time step \u001b[1;36m44\u001b[0m\n"
      ]
     },
     "metadata": {},
     "output_type": "display_data"
    },
    {
     "data": {
      "text/html": [
       "<pre style=\"white-space:pre;overflow-x:auto;line-height:normal;font-family:Menlo,'DejaVu Sans Mono',consolas,'Courier New',monospace\">Updating MODFLOW Stress period <span style=\"color: #008080; text-decoration-color: #008080; font-weight: bold\">4</span>, time step <span style=\"color: #008080; text-decoration-color: #008080; font-weight: bold\">45</span>\n",
       "</pre>\n"
      ],
      "text/plain": [
       "Updating MODFLOW Stress period \u001b[1;36m4\u001b[0m, time step \u001b[1;36m45\u001b[0m\n"
      ]
     },
     "metadata": {},
     "output_type": "display_data"
    },
    {
     "data": {
      "text/html": [
       "<pre style=\"white-space:pre;overflow-x:auto;line-height:normal;font-family:Menlo,'DejaVu Sans Mono',consolas,'Courier New',monospace\">Updating MODFLOW Stress period <span style=\"color: #008080; text-decoration-color: #008080; font-weight: bold\">4</span>, time step <span style=\"color: #008080; text-decoration-color: #008080; font-weight: bold\">46</span>\n",
       "</pre>\n"
      ],
      "text/plain": [
       "Updating MODFLOW Stress period \u001b[1;36m4\u001b[0m, time step \u001b[1;36m46\u001b[0m\n"
      ]
     },
     "metadata": {},
     "output_type": "display_data"
    },
    {
     "data": {
      "text/html": [
       "<pre style=\"white-space:pre;overflow-x:auto;line-height:normal;font-family:Menlo,'DejaVu Sans Mono',consolas,'Courier New',monospace\">Updating MODFLOW Stress period <span style=\"color: #008080; text-decoration-color: #008080; font-weight: bold\">4</span>, time step <span style=\"color: #008080; text-decoration-color: #008080; font-weight: bold\">47</span>\n",
       "</pre>\n"
      ],
      "text/plain": [
       "Updating MODFLOW Stress period \u001b[1;36m4\u001b[0m, time step \u001b[1;36m47\u001b[0m\n"
      ]
     },
     "metadata": {},
     "output_type": "display_data"
    },
    {
     "data": {
      "text/html": [
       "<pre style=\"white-space:pre;overflow-x:auto;line-height:normal;font-family:Menlo,'DejaVu Sans Mono',consolas,'Courier New',monospace\">Updating MODFLOW Stress period <span style=\"color: #008080; text-decoration-color: #008080; font-weight: bold\">4</span>, time step <span style=\"color: #008080; text-decoration-color: #008080; font-weight: bold\">48</span>\n",
       "</pre>\n"
      ],
      "text/plain": [
       "Updating MODFLOW Stress period \u001b[1;36m4\u001b[0m, time step \u001b[1;36m48\u001b[0m\n"
      ]
     },
     "metadata": {},
     "output_type": "display_data"
    },
    {
     "data": {
      "text/html": [
       "<pre style=\"white-space:pre;overflow-x:auto;line-height:normal;font-family:Menlo,'DejaVu Sans Mono',consolas,'Courier New',monospace\">Updating MODFLOW Stress period <span style=\"color: #008080; text-decoration-color: #008080; font-weight: bold\">5</span>, time step <span style=\"color: #008080; text-decoration-color: #008080; font-weight: bold\">1</span>\n",
       "</pre>\n"
      ],
      "text/plain": [
       "Updating MODFLOW Stress period \u001b[1;36m5\u001b[0m, time step \u001b[1;36m1\u001b[0m\n"
      ]
     },
     "metadata": {},
     "output_type": "display_data"
    },
    {
     "data": {
      "text/html": [
       "<pre style=\"white-space:pre;overflow-x:auto;line-height:normal;font-family:Menlo,'DejaVu Sans Mono',consolas,'Courier New',monospace\">Updating MODFLOW Stress period <span style=\"color: #008080; text-decoration-color: #008080; font-weight: bold\">5</span>, time step <span style=\"color: #008080; text-decoration-color: #008080; font-weight: bold\">2</span>\n",
       "</pre>\n"
      ],
      "text/plain": [
       "Updating MODFLOW Stress period \u001b[1;36m5\u001b[0m, time step \u001b[1;36m2\u001b[0m\n"
      ]
     },
     "metadata": {},
     "output_type": "display_data"
    },
    {
     "data": {
      "text/html": [
       "<pre style=\"white-space:pre;overflow-x:auto;line-height:normal;font-family:Menlo,'DejaVu Sans Mono',consolas,'Courier New',monospace\">Updating MODFLOW Stress period <span style=\"color: #008080; text-decoration-color: #008080; font-weight: bold\">5</span>, time step <span style=\"color: #008080; text-decoration-color: #008080; font-weight: bold\">3</span>\n",
       "</pre>\n"
      ],
      "text/plain": [
       "Updating MODFLOW Stress period \u001b[1;36m5\u001b[0m, time step \u001b[1;36m3\u001b[0m\n"
      ]
     },
     "metadata": {},
     "output_type": "display_data"
    },
    {
     "data": {
      "text/html": [
       "<pre style=\"white-space:pre;overflow-x:auto;line-height:normal;font-family:Menlo,'DejaVu Sans Mono',consolas,'Courier New',monospace\">Updating MODFLOW Stress period <span style=\"color: #008080; text-decoration-color: #008080; font-weight: bold\">5</span>, time step <span style=\"color: #008080; text-decoration-color: #008080; font-weight: bold\">4</span>\n",
       "</pre>\n"
      ],
      "text/plain": [
       "Updating MODFLOW Stress period \u001b[1;36m5\u001b[0m, time step \u001b[1;36m4\u001b[0m\n"
      ]
     },
     "metadata": {},
     "output_type": "display_data"
    },
    {
     "data": {
      "text/html": [
       "<pre style=\"white-space:pre;overflow-x:auto;line-height:normal;font-family:Menlo,'DejaVu Sans Mono',consolas,'Courier New',monospace\">Updating MODFLOW Stress period <span style=\"color: #008080; text-decoration-color: #008080; font-weight: bold\">5</span>, time step <span style=\"color: #008080; text-decoration-color: #008080; font-weight: bold\">5</span>\n",
       "</pre>\n"
      ],
      "text/plain": [
       "Updating MODFLOW Stress period \u001b[1;36m5\u001b[0m, time step \u001b[1;36m5\u001b[0m\n"
      ]
     },
     "metadata": {},
     "output_type": "display_data"
    },
    {
     "data": {
      "text/html": [
       "<pre style=\"white-space:pre;overflow-x:auto;line-height:normal;font-family:Menlo,'DejaVu Sans Mono',consolas,'Courier New',monospace\">Updating MODFLOW Stress period <span style=\"color: #008080; text-decoration-color: #008080; font-weight: bold\">5</span>, time step <span style=\"color: #008080; text-decoration-color: #008080; font-weight: bold\">6</span>\n",
       "</pre>\n"
      ],
      "text/plain": [
       "Updating MODFLOW Stress period \u001b[1;36m5\u001b[0m, time step \u001b[1;36m6\u001b[0m\n"
      ]
     },
     "metadata": {},
     "output_type": "display_data"
    },
    {
     "data": {
      "text/html": [
       "<pre style=\"white-space:pre;overflow-x:auto;line-height:normal;font-family:Menlo,'DejaVu Sans Mono',consolas,'Courier New',monospace\">Updating MODFLOW Stress period <span style=\"color: #008080; text-decoration-color: #008080; font-weight: bold\">5</span>, time step <span style=\"color: #008080; text-decoration-color: #008080; font-weight: bold\">7</span>\n",
       "</pre>\n"
      ],
      "text/plain": [
       "Updating MODFLOW Stress period \u001b[1;36m5\u001b[0m, time step \u001b[1;36m7\u001b[0m\n"
      ]
     },
     "metadata": {},
     "output_type": "display_data"
    },
    {
     "data": {
      "text/html": [
       "<pre style=\"white-space:pre;overflow-x:auto;line-height:normal;font-family:Menlo,'DejaVu Sans Mono',consolas,'Courier New',monospace\">Updating MODFLOW Stress period <span style=\"color: #008080; text-decoration-color: #008080; font-weight: bold\">5</span>, time step <span style=\"color: #008080; text-decoration-color: #008080; font-weight: bold\">8</span>\n",
       "</pre>\n"
      ],
      "text/plain": [
       "Updating MODFLOW Stress period \u001b[1;36m5\u001b[0m, time step \u001b[1;36m8\u001b[0m\n"
      ]
     },
     "metadata": {},
     "output_type": "display_data"
    },
    {
     "data": {
      "text/html": [
       "<pre style=\"white-space:pre;overflow-x:auto;line-height:normal;font-family:Menlo,'DejaVu Sans Mono',consolas,'Courier New',monospace\">Updating MODFLOW Stress period <span style=\"color: #008080; text-decoration-color: #008080; font-weight: bold\">5</span>, time step <span style=\"color: #008080; text-decoration-color: #008080; font-weight: bold\">9</span>\n",
       "</pre>\n"
      ],
      "text/plain": [
       "Updating MODFLOW Stress period \u001b[1;36m5\u001b[0m, time step \u001b[1;36m9\u001b[0m\n"
      ]
     },
     "metadata": {},
     "output_type": "display_data"
    },
    {
     "data": {
      "text/html": [
       "<pre style=\"white-space:pre;overflow-x:auto;line-height:normal;font-family:Menlo,'DejaVu Sans Mono',consolas,'Courier New',monospace\">Updating MODFLOW Stress period <span style=\"color: #008080; text-decoration-color: #008080; font-weight: bold\">5</span>, time step <span style=\"color: #008080; text-decoration-color: #008080; font-weight: bold\">10</span>\n",
       "</pre>\n"
      ],
      "text/plain": [
       "Updating MODFLOW Stress period \u001b[1;36m5\u001b[0m, time step \u001b[1;36m10\u001b[0m\n"
      ]
     },
     "metadata": {},
     "output_type": "display_data"
    },
    {
     "data": {
      "text/html": [
       "<pre style=\"white-space:pre;overflow-x:auto;line-height:normal;font-family:Menlo,'DejaVu Sans Mono',consolas,'Courier New',monospace\">Updating MODFLOW Stress period <span style=\"color: #008080; text-decoration-color: #008080; font-weight: bold\">5</span>, time step <span style=\"color: #008080; text-decoration-color: #008080; font-weight: bold\">11</span>\n",
       "</pre>\n"
      ],
      "text/plain": [
       "Updating MODFLOW Stress period \u001b[1;36m5\u001b[0m, time step \u001b[1;36m11\u001b[0m\n"
      ]
     },
     "metadata": {},
     "output_type": "display_data"
    },
    {
     "data": {
      "text/html": [
       "<pre style=\"white-space:pre;overflow-x:auto;line-height:normal;font-family:Menlo,'DejaVu Sans Mono',consolas,'Courier New',monospace\">Updating MODFLOW Stress period <span style=\"color: #008080; text-decoration-color: #008080; font-weight: bold\">5</span>, time step <span style=\"color: #008080; text-decoration-color: #008080; font-weight: bold\">12</span>\n",
       "</pre>\n"
      ],
      "text/plain": [
       "Updating MODFLOW Stress period \u001b[1;36m5\u001b[0m, time step \u001b[1;36m12\u001b[0m\n"
      ]
     },
     "metadata": {},
     "output_type": "display_data"
    },
    {
     "data": {
      "text/html": [
       "<pre style=\"white-space:pre;overflow-x:auto;line-height:normal;font-family:Menlo,'DejaVu Sans Mono',consolas,'Courier New',monospace\">Updating MODFLOW Stress period <span style=\"color: #008080; text-decoration-color: #008080; font-weight: bold\">5</span>, time step <span style=\"color: #008080; text-decoration-color: #008080; font-weight: bold\">13</span>\n",
       "</pre>\n"
      ],
      "text/plain": [
       "Updating MODFLOW Stress period \u001b[1;36m5\u001b[0m, time step \u001b[1;36m13\u001b[0m\n"
      ]
     },
     "metadata": {},
     "output_type": "display_data"
    },
    {
     "data": {
      "text/html": [
       "<pre style=\"white-space:pre;overflow-x:auto;line-height:normal;font-family:Menlo,'DejaVu Sans Mono',consolas,'Courier New',monospace\">Updating MODFLOW Stress period <span style=\"color: #008080; text-decoration-color: #008080; font-weight: bold\">5</span>, time step <span style=\"color: #008080; text-decoration-color: #008080; font-weight: bold\">14</span>\n",
       "</pre>\n"
      ],
      "text/plain": [
       "Updating MODFLOW Stress period \u001b[1;36m5\u001b[0m, time step \u001b[1;36m14\u001b[0m\n"
      ]
     },
     "metadata": {},
     "output_type": "display_data"
    },
    {
     "data": {
      "text/html": [
       "<pre style=\"white-space:pre;overflow-x:auto;line-height:normal;font-family:Menlo,'DejaVu Sans Mono',consolas,'Courier New',monospace\">Updating MODFLOW Stress period <span style=\"color: #008080; text-decoration-color: #008080; font-weight: bold\">5</span>, time step <span style=\"color: #008080; text-decoration-color: #008080; font-weight: bold\">15</span>\n",
       "</pre>\n"
      ],
      "text/plain": [
       "Updating MODFLOW Stress period \u001b[1;36m5\u001b[0m, time step \u001b[1;36m15\u001b[0m\n"
      ]
     },
     "metadata": {},
     "output_type": "display_data"
    },
    {
     "data": {
      "text/html": [
       "<pre style=\"white-space:pre;overflow-x:auto;line-height:normal;font-family:Menlo,'DejaVu Sans Mono',consolas,'Courier New',monospace\">Updating MODFLOW Stress period <span style=\"color: #008080; text-decoration-color: #008080; font-weight: bold\">5</span>, time step <span style=\"color: #008080; text-decoration-color: #008080; font-weight: bold\">16</span>\n",
       "</pre>\n"
      ],
      "text/plain": [
       "Updating MODFLOW Stress period \u001b[1;36m5\u001b[0m, time step \u001b[1;36m16\u001b[0m\n"
      ]
     },
     "metadata": {},
     "output_type": "display_data"
    },
    {
     "data": {
      "text/html": [
       "<pre style=\"white-space:pre;overflow-x:auto;line-height:normal;font-family:Menlo,'DejaVu Sans Mono',consolas,'Courier New',monospace\">Updating MODFLOW Stress period <span style=\"color: #008080; text-decoration-color: #008080; font-weight: bold\">5</span>, time step <span style=\"color: #008080; text-decoration-color: #008080; font-weight: bold\">17</span>\n",
       "</pre>\n"
      ],
      "text/plain": [
       "Updating MODFLOW Stress period \u001b[1;36m5\u001b[0m, time step \u001b[1;36m17\u001b[0m\n"
      ]
     },
     "metadata": {},
     "output_type": "display_data"
    },
    {
     "data": {
      "text/html": [
       "<pre style=\"white-space:pre;overflow-x:auto;line-height:normal;font-family:Menlo,'DejaVu Sans Mono',consolas,'Courier New',monospace\">Updating MODFLOW Stress period <span style=\"color: #008080; text-decoration-color: #008080; font-weight: bold\">5</span>, time step <span style=\"color: #008080; text-decoration-color: #008080; font-weight: bold\">18</span>\n",
       "</pre>\n"
      ],
      "text/plain": [
       "Updating MODFLOW Stress period \u001b[1;36m5\u001b[0m, time step \u001b[1;36m18\u001b[0m\n"
      ]
     },
     "metadata": {},
     "output_type": "display_data"
    },
    {
     "data": {
      "text/html": [
       "<pre style=\"white-space:pre;overflow-x:auto;line-height:normal;font-family:Menlo,'DejaVu Sans Mono',consolas,'Courier New',monospace\">Updating MODFLOW Stress period <span style=\"color: #008080; text-decoration-color: #008080; font-weight: bold\">5</span>, time step <span style=\"color: #008080; text-decoration-color: #008080; font-weight: bold\">19</span>\n",
       "</pre>\n"
      ],
      "text/plain": [
       "Updating MODFLOW Stress period \u001b[1;36m5\u001b[0m, time step \u001b[1;36m19\u001b[0m\n"
      ]
     },
     "metadata": {},
     "output_type": "display_data"
    },
    {
     "data": {
      "text/html": [
       "<pre style=\"white-space:pre;overflow-x:auto;line-height:normal;font-family:Menlo,'DejaVu Sans Mono',consolas,'Courier New',monospace\">Updating MODFLOW Stress period <span style=\"color: #008080; text-decoration-color: #008080; font-weight: bold\">5</span>, time step <span style=\"color: #008080; text-decoration-color: #008080; font-weight: bold\">20</span>\n",
       "</pre>\n"
      ],
      "text/plain": [
       "Updating MODFLOW Stress period \u001b[1;36m5\u001b[0m, time step \u001b[1;36m20\u001b[0m\n"
      ]
     },
     "metadata": {},
     "output_type": "display_data"
    },
    {
     "data": {
      "text/html": [
       "<pre style=\"white-space:pre;overflow-x:auto;line-height:normal;font-family:Menlo,'DejaVu Sans Mono',consolas,'Courier New',monospace\">Updating MODFLOW Stress period <span style=\"color: #008080; text-decoration-color: #008080; font-weight: bold\">5</span>, time step <span style=\"color: #008080; text-decoration-color: #008080; font-weight: bold\">21</span>\n",
       "</pre>\n"
      ],
      "text/plain": [
       "Updating MODFLOW Stress period \u001b[1;36m5\u001b[0m, time step \u001b[1;36m21\u001b[0m\n"
      ]
     },
     "metadata": {},
     "output_type": "display_data"
    },
    {
     "data": {
      "text/html": [
       "<pre style=\"white-space:pre;overflow-x:auto;line-height:normal;font-family:Menlo,'DejaVu Sans Mono',consolas,'Courier New',monospace\">Updating MODFLOW Stress period <span style=\"color: #008080; text-decoration-color: #008080; font-weight: bold\">5</span>, time step <span style=\"color: #008080; text-decoration-color: #008080; font-weight: bold\">22</span>\n",
       "</pre>\n"
      ],
      "text/plain": [
       "Updating MODFLOW Stress period \u001b[1;36m5\u001b[0m, time step \u001b[1;36m22\u001b[0m\n"
      ]
     },
     "metadata": {},
     "output_type": "display_data"
    },
    {
     "data": {
      "text/html": [
       "<pre style=\"white-space:pre;overflow-x:auto;line-height:normal;font-family:Menlo,'DejaVu Sans Mono',consolas,'Courier New',monospace\">Updating MODFLOW Stress period <span style=\"color: #008080; text-decoration-color: #008080; font-weight: bold\">5</span>, time step <span style=\"color: #008080; text-decoration-color: #008080; font-weight: bold\">23</span>\n",
       "</pre>\n"
      ],
      "text/plain": [
       "Updating MODFLOW Stress period \u001b[1;36m5\u001b[0m, time step \u001b[1;36m23\u001b[0m\n"
      ]
     },
     "metadata": {},
     "output_type": "display_data"
    },
    {
     "data": {
      "text/html": [
       "<pre style=\"white-space:pre;overflow-x:auto;line-height:normal;font-family:Menlo,'DejaVu Sans Mono',consolas,'Courier New',monospace\">Updating MODFLOW Stress period <span style=\"color: #008080; text-decoration-color: #008080; font-weight: bold\">5</span>, time step <span style=\"color: #008080; text-decoration-color: #008080; font-weight: bold\">24</span>\n",
       "</pre>\n"
      ],
      "text/plain": [
       "Updating MODFLOW Stress period \u001b[1;36m5\u001b[0m, time step \u001b[1;36m24\u001b[0m\n"
      ]
     },
     "metadata": {},
     "output_type": "display_data"
    },
    {
     "data": {
      "text/html": [
       "<pre style=\"white-space:pre;overflow-x:auto;line-height:normal;font-family:Menlo,'DejaVu Sans Mono',consolas,'Courier New',monospace\">Updating MODFLOW Stress period <span style=\"color: #008080; text-decoration-color: #008080; font-weight: bold\">5</span>, time step <span style=\"color: #008080; text-decoration-color: #008080; font-weight: bold\">25</span>\n",
       "</pre>\n"
      ],
      "text/plain": [
       "Updating MODFLOW Stress period \u001b[1;36m5\u001b[0m, time step \u001b[1;36m25\u001b[0m\n"
      ]
     },
     "metadata": {},
     "output_type": "display_data"
    },
    {
     "data": {
      "text/html": [
       "<pre style=\"white-space:pre;overflow-x:auto;line-height:normal;font-family:Menlo,'DejaVu Sans Mono',consolas,'Courier New',monospace\">Updating MODFLOW Stress period <span style=\"color: #008080; text-decoration-color: #008080; font-weight: bold\">5</span>, time step <span style=\"color: #008080; text-decoration-color: #008080; font-weight: bold\">26</span>\n",
       "</pre>\n"
      ],
      "text/plain": [
       "Updating MODFLOW Stress period \u001b[1;36m5\u001b[0m, time step \u001b[1;36m26\u001b[0m\n"
      ]
     },
     "metadata": {},
     "output_type": "display_data"
    },
    {
     "data": {
      "text/html": [
       "<pre style=\"white-space:pre;overflow-x:auto;line-height:normal;font-family:Menlo,'DejaVu Sans Mono',consolas,'Courier New',monospace\">Updating MODFLOW Stress period <span style=\"color: #008080; text-decoration-color: #008080; font-weight: bold\">5</span>, time step <span style=\"color: #008080; text-decoration-color: #008080; font-weight: bold\">27</span>\n",
       "</pre>\n"
      ],
      "text/plain": [
       "Updating MODFLOW Stress period \u001b[1;36m5\u001b[0m, time step \u001b[1;36m27\u001b[0m\n"
      ]
     },
     "metadata": {},
     "output_type": "display_data"
    },
    {
     "data": {
      "text/html": [
       "<pre style=\"white-space:pre;overflow-x:auto;line-height:normal;font-family:Menlo,'DejaVu Sans Mono',consolas,'Courier New',monospace\">Updating MODFLOW Stress period <span style=\"color: #008080; text-decoration-color: #008080; font-weight: bold\">5</span>, time step <span style=\"color: #008080; text-decoration-color: #008080; font-weight: bold\">28</span>\n",
       "</pre>\n"
      ],
      "text/plain": [
       "Updating MODFLOW Stress period \u001b[1;36m5\u001b[0m, time step \u001b[1;36m28\u001b[0m\n"
      ]
     },
     "metadata": {},
     "output_type": "display_data"
    },
    {
     "data": {
      "text/html": [
       "<pre style=\"white-space:pre;overflow-x:auto;line-height:normal;font-family:Menlo,'DejaVu Sans Mono',consolas,'Courier New',monospace\">Updating MODFLOW Stress period <span style=\"color: #008080; text-decoration-color: #008080; font-weight: bold\">5</span>, time step <span style=\"color: #008080; text-decoration-color: #008080; font-weight: bold\">29</span>\n",
       "</pre>\n"
      ],
      "text/plain": [
       "Updating MODFLOW Stress period \u001b[1;36m5\u001b[0m, time step \u001b[1;36m29\u001b[0m\n"
      ]
     },
     "metadata": {},
     "output_type": "display_data"
    },
    {
     "data": {
      "text/html": [
       "<pre style=\"white-space:pre;overflow-x:auto;line-height:normal;font-family:Menlo,'DejaVu Sans Mono',consolas,'Courier New',monospace\">Updating MODFLOW Stress period <span style=\"color: #008080; text-decoration-color: #008080; font-weight: bold\">5</span>, time step <span style=\"color: #008080; text-decoration-color: #008080; font-weight: bold\">30</span>\n",
       "</pre>\n"
      ],
      "text/plain": [
       "Updating MODFLOW Stress period \u001b[1;36m5\u001b[0m, time step \u001b[1;36m30\u001b[0m\n"
      ]
     },
     "metadata": {},
     "output_type": "display_data"
    },
    {
     "data": {
      "text/html": [
       "<pre style=\"white-space:pre;overflow-x:auto;line-height:normal;font-family:Menlo,'DejaVu Sans Mono',consolas,'Courier New',monospace\">Updating MODFLOW Stress period <span style=\"color: #008080; text-decoration-color: #008080; font-weight: bold\">5</span>, time step <span style=\"color: #008080; text-decoration-color: #008080; font-weight: bold\">31</span>\n",
       "</pre>\n"
      ],
      "text/plain": [
       "Updating MODFLOW Stress period \u001b[1;36m5\u001b[0m, time step \u001b[1;36m31\u001b[0m\n"
      ]
     },
     "metadata": {},
     "output_type": "display_data"
    },
    {
     "data": {
      "text/html": [
       "<pre style=\"white-space:pre;overflow-x:auto;line-height:normal;font-family:Menlo,'DejaVu Sans Mono',consolas,'Courier New',monospace\">Updating MODFLOW Stress period <span style=\"color: #008080; text-decoration-color: #008080; font-weight: bold\">5</span>, time step <span style=\"color: #008080; text-decoration-color: #008080; font-weight: bold\">32</span>\n",
       "</pre>\n"
      ],
      "text/plain": [
       "Updating MODFLOW Stress period \u001b[1;36m5\u001b[0m, time step \u001b[1;36m32\u001b[0m\n"
      ]
     },
     "metadata": {},
     "output_type": "display_data"
    },
    {
     "data": {
      "text/html": [
       "<pre style=\"white-space:pre;overflow-x:auto;line-height:normal;font-family:Menlo,'DejaVu Sans Mono',consolas,'Courier New',monospace\">Updating MODFLOW Stress period <span style=\"color: #008080; text-decoration-color: #008080; font-weight: bold\">5</span>, time step <span style=\"color: #008080; text-decoration-color: #008080; font-weight: bold\">33</span>\n",
       "</pre>\n"
      ],
      "text/plain": [
       "Updating MODFLOW Stress period \u001b[1;36m5\u001b[0m, time step \u001b[1;36m33\u001b[0m\n"
      ]
     },
     "metadata": {},
     "output_type": "display_data"
    },
    {
     "data": {
      "text/html": [
       "<pre style=\"white-space:pre;overflow-x:auto;line-height:normal;font-family:Menlo,'DejaVu Sans Mono',consolas,'Courier New',monospace\">Updating MODFLOW Stress period <span style=\"color: #008080; text-decoration-color: #008080; font-weight: bold\">5</span>, time step <span style=\"color: #008080; text-decoration-color: #008080; font-weight: bold\">34</span>\n",
       "</pre>\n"
      ],
      "text/plain": [
       "Updating MODFLOW Stress period \u001b[1;36m5\u001b[0m, time step \u001b[1;36m34\u001b[0m\n"
      ]
     },
     "metadata": {},
     "output_type": "display_data"
    },
    {
     "data": {
      "text/html": [
       "<pre style=\"white-space:pre;overflow-x:auto;line-height:normal;font-family:Menlo,'DejaVu Sans Mono',consolas,'Courier New',monospace\">Updating MODFLOW Stress period <span style=\"color: #008080; text-decoration-color: #008080; font-weight: bold\">5</span>, time step <span style=\"color: #008080; text-decoration-color: #008080; font-weight: bold\">35</span>\n",
       "</pre>\n"
      ],
      "text/plain": [
       "Updating MODFLOW Stress period \u001b[1;36m5\u001b[0m, time step \u001b[1;36m35\u001b[0m\n"
      ]
     },
     "metadata": {},
     "output_type": "display_data"
    },
    {
     "data": {
      "text/html": [
       "<pre style=\"white-space:pre;overflow-x:auto;line-height:normal;font-family:Menlo,'DejaVu Sans Mono',consolas,'Courier New',monospace\">Updating MODFLOW Stress period <span style=\"color: #008080; text-decoration-color: #008080; font-weight: bold\">5</span>, time step <span style=\"color: #008080; text-decoration-color: #008080; font-weight: bold\">36</span>\n",
       "</pre>\n"
      ],
      "text/plain": [
       "Updating MODFLOW Stress period \u001b[1;36m5\u001b[0m, time step \u001b[1;36m36\u001b[0m\n"
      ]
     },
     "metadata": {},
     "output_type": "display_data"
    },
    {
     "data": {
      "text/html": [
       "<pre style=\"white-space:pre;overflow-x:auto;line-height:normal;font-family:Menlo,'DejaVu Sans Mono',consolas,'Courier New',monospace\">Updating MODFLOW Stress period <span style=\"color: #008080; text-decoration-color: #008080; font-weight: bold\">5</span>, time step <span style=\"color: #008080; text-decoration-color: #008080; font-weight: bold\">37</span>\n",
       "</pre>\n"
      ],
      "text/plain": [
       "Updating MODFLOW Stress period \u001b[1;36m5\u001b[0m, time step \u001b[1;36m37\u001b[0m\n"
      ]
     },
     "metadata": {},
     "output_type": "display_data"
    },
    {
     "data": {
      "text/html": [
       "<pre style=\"white-space:pre;overflow-x:auto;line-height:normal;font-family:Menlo,'DejaVu Sans Mono',consolas,'Courier New',monospace\">Updating MODFLOW Stress period <span style=\"color: #008080; text-decoration-color: #008080; font-weight: bold\">5</span>, time step <span style=\"color: #008080; text-decoration-color: #008080; font-weight: bold\">38</span>\n",
       "</pre>\n"
      ],
      "text/plain": [
       "Updating MODFLOW Stress period \u001b[1;36m5\u001b[0m, time step \u001b[1;36m38\u001b[0m\n"
      ]
     },
     "metadata": {},
     "output_type": "display_data"
    },
    {
     "data": {
      "text/html": [
       "<pre style=\"white-space:pre;overflow-x:auto;line-height:normal;font-family:Menlo,'DejaVu Sans Mono',consolas,'Courier New',monospace\">Updating MODFLOW Stress period <span style=\"color: #008080; text-decoration-color: #008080; font-weight: bold\">5</span>, time step <span style=\"color: #008080; text-decoration-color: #008080; font-weight: bold\">39</span>\n",
       "</pre>\n"
      ],
      "text/plain": [
       "Updating MODFLOW Stress period \u001b[1;36m5\u001b[0m, time step \u001b[1;36m39\u001b[0m\n"
      ]
     },
     "metadata": {},
     "output_type": "display_data"
    },
    {
     "data": {
      "text/html": [
       "<pre style=\"white-space:pre;overflow-x:auto;line-height:normal;font-family:Menlo,'DejaVu Sans Mono',consolas,'Courier New',monospace\">Updating MODFLOW Stress period <span style=\"color: #008080; text-decoration-color: #008080; font-weight: bold\">5</span>, time step <span style=\"color: #008080; text-decoration-color: #008080; font-weight: bold\">40</span>\n",
       "</pre>\n"
      ],
      "text/plain": [
       "Updating MODFLOW Stress period \u001b[1;36m5\u001b[0m, time step \u001b[1;36m40\u001b[0m\n"
      ]
     },
     "metadata": {},
     "output_type": "display_data"
    },
    {
     "data": {
      "text/html": [
       "<pre style=\"white-space:pre;overflow-x:auto;line-height:normal;font-family:Menlo,'DejaVu Sans Mono',consolas,'Courier New',monospace\">Updating MODFLOW Stress period <span style=\"color: #008080; text-decoration-color: #008080; font-weight: bold\">5</span>, time step <span style=\"color: #008080; text-decoration-color: #008080; font-weight: bold\">41</span>\n",
       "</pre>\n"
      ],
      "text/plain": [
       "Updating MODFLOW Stress period \u001b[1;36m5\u001b[0m, time step \u001b[1;36m41\u001b[0m\n"
      ]
     },
     "metadata": {},
     "output_type": "display_data"
    },
    {
     "data": {
      "text/html": [
       "<pre style=\"white-space:pre;overflow-x:auto;line-height:normal;font-family:Menlo,'DejaVu Sans Mono',consolas,'Courier New',monospace\">Updating MODFLOW Stress period <span style=\"color: #008080; text-decoration-color: #008080; font-weight: bold\">5</span>, time step <span style=\"color: #008080; text-decoration-color: #008080; font-weight: bold\">42</span>\n",
       "</pre>\n"
      ],
      "text/plain": [
       "Updating MODFLOW Stress period \u001b[1;36m5\u001b[0m, time step \u001b[1;36m42\u001b[0m\n"
      ]
     },
     "metadata": {},
     "output_type": "display_data"
    },
    {
     "data": {
      "text/html": [
       "<pre style=\"white-space:pre;overflow-x:auto;line-height:normal;font-family:Menlo,'DejaVu Sans Mono',consolas,'Courier New',monospace\">Updating MODFLOW Stress period <span style=\"color: #008080; text-decoration-color: #008080; font-weight: bold\">5</span>, time step <span style=\"color: #008080; text-decoration-color: #008080; font-weight: bold\">43</span>\n",
       "</pre>\n"
      ],
      "text/plain": [
       "Updating MODFLOW Stress period \u001b[1;36m5\u001b[0m, time step \u001b[1;36m43\u001b[0m\n"
      ]
     },
     "metadata": {},
     "output_type": "display_data"
    },
    {
     "data": {
      "text/html": [
       "<pre style=\"white-space:pre;overflow-x:auto;line-height:normal;font-family:Menlo,'DejaVu Sans Mono',consolas,'Courier New',monospace\">Updating MODFLOW Stress period <span style=\"color: #008080; text-decoration-color: #008080; font-weight: bold\">5</span>, time step <span style=\"color: #008080; text-decoration-color: #008080; font-weight: bold\">44</span>\n",
       "</pre>\n"
      ],
      "text/plain": [
       "Updating MODFLOW Stress period \u001b[1;36m5\u001b[0m, time step \u001b[1;36m44\u001b[0m\n"
      ]
     },
     "metadata": {},
     "output_type": "display_data"
    },
    {
     "data": {
      "text/html": [
       "<pre style=\"white-space:pre;overflow-x:auto;line-height:normal;font-family:Menlo,'DejaVu Sans Mono',consolas,'Courier New',monospace\">Updating MODFLOW Stress period <span style=\"color: #008080; text-decoration-color: #008080; font-weight: bold\">5</span>, time step <span style=\"color: #008080; text-decoration-color: #008080; font-weight: bold\">45</span>\n",
       "</pre>\n"
      ],
      "text/plain": [
       "Updating MODFLOW Stress period \u001b[1;36m5\u001b[0m, time step \u001b[1;36m45\u001b[0m\n"
      ]
     },
     "metadata": {},
     "output_type": "display_data"
    },
    {
     "data": {
      "text/html": [
       "<pre style=\"white-space:pre;overflow-x:auto;line-height:normal;font-family:Menlo,'DejaVu Sans Mono',consolas,'Courier New',monospace\">Updating MODFLOW Stress period <span style=\"color: #008080; text-decoration-color: #008080; font-weight: bold\">5</span>, time step <span style=\"color: #008080; text-decoration-color: #008080; font-weight: bold\">46</span>\n",
       "</pre>\n"
      ],
      "text/plain": [
       "Updating MODFLOW Stress period \u001b[1;36m5\u001b[0m, time step \u001b[1;36m46\u001b[0m\n"
      ]
     },
     "metadata": {},
     "output_type": "display_data"
    },
    {
     "data": {
      "text/html": [
       "<pre style=\"white-space:pre;overflow-x:auto;line-height:normal;font-family:Menlo,'DejaVu Sans Mono',consolas,'Courier New',monospace\">Updating MODFLOW Stress period <span style=\"color: #008080; text-decoration-color: #008080; font-weight: bold\">5</span>, time step <span style=\"color: #008080; text-decoration-color: #008080; font-weight: bold\">47</span>\n",
       "</pre>\n"
      ],
      "text/plain": [
       "Updating MODFLOW Stress period \u001b[1;36m5\u001b[0m, time step \u001b[1;36m47\u001b[0m\n"
      ]
     },
     "metadata": {},
     "output_type": "display_data"
    },
    {
     "data": {
      "text/html": [
       "<pre style=\"white-space:pre;overflow-x:auto;line-height:normal;font-family:Menlo,'DejaVu Sans Mono',consolas,'Courier New',monospace\">Updating MODFLOW Stress period <span style=\"color: #008080; text-decoration-color: #008080; font-weight: bold\">5</span>, time step <span style=\"color: #008080; text-decoration-color: #008080; font-weight: bold\">48</span>\n",
       "</pre>\n"
      ],
      "text/plain": [
       "Updating MODFLOW Stress period \u001b[1;36m5\u001b[0m, time step \u001b[1;36m48\u001b[0m\n"
      ]
     },
     "metadata": {},
     "output_type": "display_data"
    },
    {
     "data": {
      "text/html": [
       "<pre style=\"white-space:pre;overflow-x:auto;line-height:normal;font-family:Menlo,'DejaVu Sans Mono',consolas,'Courier New',monospace\">Updating MODFLOW Stress period <span style=\"color: #008080; text-decoration-color: #008080; font-weight: bold\">6</span>, time step <span style=\"color: #008080; text-decoration-color: #008080; font-weight: bold\">1</span>\n",
       "</pre>\n"
      ],
      "text/plain": [
       "Updating MODFLOW Stress period \u001b[1;36m6\u001b[0m, time step \u001b[1;36m1\u001b[0m\n"
      ]
     },
     "metadata": {},
     "output_type": "display_data"
    },
    {
     "data": {
      "text/html": [
       "<pre style=\"white-space:pre;overflow-x:auto;line-height:normal;font-family:Menlo,'DejaVu Sans Mono',consolas,'Courier New',monospace\">Updating MODFLOW Stress period <span style=\"color: #008080; text-decoration-color: #008080; font-weight: bold\">6</span>, time step <span style=\"color: #008080; text-decoration-color: #008080; font-weight: bold\">2</span>\n",
       "</pre>\n"
      ],
      "text/plain": [
       "Updating MODFLOW Stress period \u001b[1;36m6\u001b[0m, time step \u001b[1;36m2\u001b[0m\n"
      ]
     },
     "metadata": {},
     "output_type": "display_data"
    },
    {
     "data": {
      "text/html": [
       "<pre style=\"white-space:pre;overflow-x:auto;line-height:normal;font-family:Menlo,'DejaVu Sans Mono',consolas,'Courier New',monospace\">Updating MODFLOW Stress period <span style=\"color: #008080; text-decoration-color: #008080; font-weight: bold\">6</span>, time step <span style=\"color: #008080; text-decoration-color: #008080; font-weight: bold\">3</span>\n",
       "</pre>\n"
      ],
      "text/plain": [
       "Updating MODFLOW Stress period \u001b[1;36m6\u001b[0m, time step \u001b[1;36m3\u001b[0m\n"
      ]
     },
     "metadata": {},
     "output_type": "display_data"
    },
    {
     "data": {
      "text/html": [
       "<pre style=\"white-space:pre;overflow-x:auto;line-height:normal;font-family:Menlo,'DejaVu Sans Mono',consolas,'Courier New',monospace\">Updating MODFLOW Stress period <span style=\"color: #008080; text-decoration-color: #008080; font-weight: bold\">6</span>, time step <span style=\"color: #008080; text-decoration-color: #008080; font-weight: bold\">4</span>\n",
       "</pre>\n"
      ],
      "text/plain": [
       "Updating MODFLOW Stress period \u001b[1;36m6\u001b[0m, time step \u001b[1;36m4\u001b[0m\n"
      ]
     },
     "metadata": {},
     "output_type": "display_data"
    },
    {
     "data": {
      "text/html": [
       "<pre style=\"white-space:pre;overflow-x:auto;line-height:normal;font-family:Menlo,'DejaVu Sans Mono',consolas,'Courier New',monospace\">Updating MODFLOW Stress period <span style=\"color: #008080; text-decoration-color: #008080; font-weight: bold\">6</span>, time step <span style=\"color: #008080; text-decoration-color: #008080; font-weight: bold\">5</span>\n",
       "</pre>\n"
      ],
      "text/plain": [
       "Updating MODFLOW Stress period \u001b[1;36m6\u001b[0m, time step \u001b[1;36m5\u001b[0m\n"
      ]
     },
     "metadata": {},
     "output_type": "display_data"
    },
    {
     "data": {
      "text/html": [
       "<pre style=\"white-space:pre;overflow-x:auto;line-height:normal;font-family:Menlo,'DejaVu Sans Mono',consolas,'Courier New',monospace\">Updating MODFLOW Stress period <span style=\"color: #008080; text-decoration-color: #008080; font-weight: bold\">6</span>, time step <span style=\"color: #008080; text-decoration-color: #008080; font-weight: bold\">6</span>\n",
       "</pre>\n"
      ],
      "text/plain": [
       "Updating MODFLOW Stress period \u001b[1;36m6\u001b[0m, time step \u001b[1;36m6\u001b[0m\n"
      ]
     },
     "metadata": {},
     "output_type": "display_data"
    },
    {
     "data": {
      "text/html": [
       "<pre style=\"white-space:pre;overflow-x:auto;line-height:normal;font-family:Menlo,'DejaVu Sans Mono',consolas,'Courier New',monospace\">Updating MODFLOW Stress period <span style=\"color: #008080; text-decoration-color: #008080; font-weight: bold\">6</span>, time step <span style=\"color: #008080; text-decoration-color: #008080; font-weight: bold\">7</span>\n",
       "</pre>\n"
      ],
      "text/plain": [
       "Updating MODFLOW Stress period \u001b[1;36m6\u001b[0m, time step \u001b[1;36m7\u001b[0m\n"
      ]
     },
     "metadata": {},
     "output_type": "display_data"
    },
    {
     "data": {
      "text/html": [
       "<pre style=\"white-space:pre;overflow-x:auto;line-height:normal;font-family:Menlo,'DejaVu Sans Mono',consolas,'Courier New',monospace\">Updating MODFLOW Stress period <span style=\"color: #008080; text-decoration-color: #008080; font-weight: bold\">6</span>, time step <span style=\"color: #008080; text-decoration-color: #008080; font-weight: bold\">8</span>\n",
       "</pre>\n"
      ],
      "text/plain": [
       "Updating MODFLOW Stress period \u001b[1;36m6\u001b[0m, time step \u001b[1;36m8\u001b[0m\n"
      ]
     },
     "metadata": {},
     "output_type": "display_data"
    },
    {
     "data": {
      "text/html": [
       "<pre style=\"white-space:pre;overflow-x:auto;line-height:normal;font-family:Menlo,'DejaVu Sans Mono',consolas,'Courier New',monospace\">Updating MODFLOW Stress period <span style=\"color: #008080; text-decoration-color: #008080; font-weight: bold\">6</span>, time step <span style=\"color: #008080; text-decoration-color: #008080; font-weight: bold\">9</span>\n",
       "</pre>\n"
      ],
      "text/plain": [
       "Updating MODFLOW Stress period \u001b[1;36m6\u001b[0m, time step \u001b[1;36m9\u001b[0m\n"
      ]
     },
     "metadata": {},
     "output_type": "display_data"
    },
    {
     "data": {
      "text/html": [
       "<pre style=\"white-space:pre;overflow-x:auto;line-height:normal;font-family:Menlo,'DejaVu Sans Mono',consolas,'Courier New',monospace\">Updating MODFLOW Stress period <span style=\"color: #008080; text-decoration-color: #008080; font-weight: bold\">6</span>, time step <span style=\"color: #008080; text-decoration-color: #008080; font-weight: bold\">10</span>\n",
       "</pre>\n"
      ],
      "text/plain": [
       "Updating MODFLOW Stress period \u001b[1;36m6\u001b[0m, time step \u001b[1;36m10\u001b[0m\n"
      ]
     },
     "metadata": {},
     "output_type": "display_data"
    },
    {
     "data": {
      "text/html": [
       "<pre style=\"white-space:pre;overflow-x:auto;line-height:normal;font-family:Menlo,'DejaVu Sans Mono',consolas,'Courier New',monospace\">Updating MODFLOW Stress period <span style=\"color: #008080; text-decoration-color: #008080; font-weight: bold\">6</span>, time step <span style=\"color: #008080; text-decoration-color: #008080; font-weight: bold\">11</span>\n",
       "</pre>\n"
      ],
      "text/plain": [
       "Updating MODFLOW Stress period \u001b[1;36m6\u001b[0m, time step \u001b[1;36m11\u001b[0m\n"
      ]
     },
     "metadata": {},
     "output_type": "display_data"
    },
    {
     "data": {
      "text/html": [
       "<pre style=\"white-space:pre;overflow-x:auto;line-height:normal;font-family:Menlo,'DejaVu Sans Mono',consolas,'Courier New',monospace\">Updating MODFLOW Stress period <span style=\"color: #008080; text-decoration-color: #008080; font-weight: bold\">6</span>, time step <span style=\"color: #008080; text-decoration-color: #008080; font-weight: bold\">12</span>\n",
       "</pre>\n"
      ],
      "text/plain": [
       "Updating MODFLOW Stress period \u001b[1;36m6\u001b[0m, time step \u001b[1;36m12\u001b[0m\n"
      ]
     },
     "metadata": {},
     "output_type": "display_data"
    },
    {
     "data": {
      "text/html": [
       "<pre style=\"white-space:pre;overflow-x:auto;line-height:normal;font-family:Menlo,'DejaVu Sans Mono',consolas,'Courier New',monospace\">Updating MODFLOW Stress period <span style=\"color: #008080; text-decoration-color: #008080; font-weight: bold\">6</span>, time step <span style=\"color: #008080; text-decoration-color: #008080; font-weight: bold\">13</span>\n",
       "</pre>\n"
      ],
      "text/plain": [
       "Updating MODFLOW Stress period \u001b[1;36m6\u001b[0m, time step \u001b[1;36m13\u001b[0m\n"
      ]
     },
     "metadata": {},
     "output_type": "display_data"
    },
    {
     "data": {
      "text/html": [
       "<pre style=\"white-space:pre;overflow-x:auto;line-height:normal;font-family:Menlo,'DejaVu Sans Mono',consolas,'Courier New',monospace\">Updating MODFLOW Stress period <span style=\"color: #008080; text-decoration-color: #008080; font-weight: bold\">6</span>, time step <span style=\"color: #008080; text-decoration-color: #008080; font-weight: bold\">14</span>\n",
       "</pre>\n"
      ],
      "text/plain": [
       "Updating MODFLOW Stress period \u001b[1;36m6\u001b[0m, time step \u001b[1;36m14\u001b[0m\n"
      ]
     },
     "metadata": {},
     "output_type": "display_data"
    },
    {
     "data": {
      "text/html": [
       "<pre style=\"white-space:pre;overflow-x:auto;line-height:normal;font-family:Menlo,'DejaVu Sans Mono',consolas,'Courier New',monospace\">Updating MODFLOW Stress period <span style=\"color: #008080; text-decoration-color: #008080; font-weight: bold\">6</span>, time step <span style=\"color: #008080; text-decoration-color: #008080; font-weight: bold\">15</span>\n",
       "</pre>\n"
      ],
      "text/plain": [
       "Updating MODFLOW Stress period \u001b[1;36m6\u001b[0m, time step \u001b[1;36m15\u001b[0m\n"
      ]
     },
     "metadata": {},
     "output_type": "display_data"
    },
    {
     "data": {
      "text/html": [
       "<pre style=\"white-space:pre;overflow-x:auto;line-height:normal;font-family:Menlo,'DejaVu Sans Mono',consolas,'Courier New',monospace\">Updating MODFLOW Stress period <span style=\"color: #008080; text-decoration-color: #008080; font-weight: bold\">6</span>, time step <span style=\"color: #008080; text-decoration-color: #008080; font-weight: bold\">16</span>\n",
       "</pre>\n"
      ],
      "text/plain": [
       "Updating MODFLOW Stress period \u001b[1;36m6\u001b[0m, time step \u001b[1;36m16\u001b[0m\n"
      ]
     },
     "metadata": {},
     "output_type": "display_data"
    },
    {
     "data": {
      "text/html": [
       "<pre style=\"white-space:pre;overflow-x:auto;line-height:normal;font-family:Menlo,'DejaVu Sans Mono',consolas,'Courier New',monospace\">Updating MODFLOW Stress period <span style=\"color: #008080; text-decoration-color: #008080; font-weight: bold\">6</span>, time step <span style=\"color: #008080; text-decoration-color: #008080; font-weight: bold\">17</span>\n",
       "</pre>\n"
      ],
      "text/plain": [
       "Updating MODFLOW Stress period \u001b[1;36m6\u001b[0m, time step \u001b[1;36m17\u001b[0m\n"
      ]
     },
     "metadata": {},
     "output_type": "display_data"
    },
    {
     "data": {
      "text/html": [
       "<pre style=\"white-space:pre;overflow-x:auto;line-height:normal;font-family:Menlo,'DejaVu Sans Mono',consolas,'Courier New',monospace\">Updating MODFLOW Stress period <span style=\"color: #008080; text-decoration-color: #008080; font-weight: bold\">6</span>, time step <span style=\"color: #008080; text-decoration-color: #008080; font-weight: bold\">18</span>\n",
       "</pre>\n"
      ],
      "text/plain": [
       "Updating MODFLOW Stress period \u001b[1;36m6\u001b[0m, time step \u001b[1;36m18\u001b[0m\n"
      ]
     },
     "metadata": {},
     "output_type": "display_data"
    },
    {
     "data": {
      "text/html": [
       "<pre style=\"white-space:pre;overflow-x:auto;line-height:normal;font-family:Menlo,'DejaVu Sans Mono',consolas,'Courier New',monospace\">Updating MODFLOW Stress period <span style=\"color: #008080; text-decoration-color: #008080; font-weight: bold\">6</span>, time step <span style=\"color: #008080; text-decoration-color: #008080; font-weight: bold\">19</span>\n",
       "</pre>\n"
      ],
      "text/plain": [
       "Updating MODFLOW Stress period \u001b[1;36m6\u001b[0m, time step \u001b[1;36m19\u001b[0m\n"
      ]
     },
     "metadata": {},
     "output_type": "display_data"
    },
    {
     "data": {
      "text/html": [
       "<pre style=\"white-space:pre;overflow-x:auto;line-height:normal;font-family:Menlo,'DejaVu Sans Mono',consolas,'Courier New',monospace\">Updating MODFLOW Stress period <span style=\"color: #008080; text-decoration-color: #008080; font-weight: bold\">6</span>, time step <span style=\"color: #008080; text-decoration-color: #008080; font-weight: bold\">20</span>\n",
       "</pre>\n"
      ],
      "text/plain": [
       "Updating MODFLOW Stress period \u001b[1;36m6\u001b[0m, time step \u001b[1;36m20\u001b[0m\n"
      ]
     },
     "metadata": {},
     "output_type": "display_data"
    },
    {
     "data": {
      "text/html": [
       "<pre style=\"white-space:pre;overflow-x:auto;line-height:normal;font-family:Menlo,'DejaVu Sans Mono',consolas,'Courier New',monospace\">Updating MODFLOW Stress period <span style=\"color: #008080; text-decoration-color: #008080; font-weight: bold\">6</span>, time step <span style=\"color: #008080; text-decoration-color: #008080; font-weight: bold\">21</span>\n",
       "</pre>\n"
      ],
      "text/plain": [
       "Updating MODFLOW Stress period \u001b[1;36m6\u001b[0m, time step \u001b[1;36m21\u001b[0m\n"
      ]
     },
     "metadata": {},
     "output_type": "display_data"
    },
    {
     "data": {
      "text/html": [
       "<pre style=\"white-space:pre;overflow-x:auto;line-height:normal;font-family:Menlo,'DejaVu Sans Mono',consolas,'Courier New',monospace\">Updating MODFLOW Stress period <span style=\"color: #008080; text-decoration-color: #008080; font-weight: bold\">6</span>, time step <span style=\"color: #008080; text-decoration-color: #008080; font-weight: bold\">22</span>\n",
       "</pre>\n"
      ],
      "text/plain": [
       "Updating MODFLOW Stress period \u001b[1;36m6\u001b[0m, time step \u001b[1;36m22\u001b[0m\n"
      ]
     },
     "metadata": {},
     "output_type": "display_data"
    },
    {
     "data": {
      "text/html": [
       "<pre style=\"white-space:pre;overflow-x:auto;line-height:normal;font-family:Menlo,'DejaVu Sans Mono',consolas,'Courier New',monospace\">Updating MODFLOW Stress period <span style=\"color: #008080; text-decoration-color: #008080; font-weight: bold\">6</span>, time step <span style=\"color: #008080; text-decoration-color: #008080; font-weight: bold\">23</span>\n",
       "</pre>\n"
      ],
      "text/plain": [
       "Updating MODFLOW Stress period \u001b[1;36m6\u001b[0m, time step \u001b[1;36m23\u001b[0m\n"
      ]
     },
     "metadata": {},
     "output_type": "display_data"
    },
    {
     "data": {
      "text/html": [
       "<pre style=\"white-space:pre;overflow-x:auto;line-height:normal;font-family:Menlo,'DejaVu Sans Mono',consolas,'Courier New',monospace\">Updating MODFLOW Stress period <span style=\"color: #008080; text-decoration-color: #008080; font-weight: bold\">6</span>, time step <span style=\"color: #008080; text-decoration-color: #008080; font-weight: bold\">24</span>\n",
       "</pre>\n"
      ],
      "text/plain": [
       "Updating MODFLOW Stress period \u001b[1;36m6\u001b[0m, time step \u001b[1;36m24\u001b[0m\n"
      ]
     },
     "metadata": {},
     "output_type": "display_data"
    },
    {
     "data": {
      "text/html": [
       "<pre style=\"white-space:pre;overflow-x:auto;line-height:normal;font-family:Menlo,'DejaVu Sans Mono',consolas,'Courier New',monospace\">Updating MODFLOW Stress period <span style=\"color: #008080; text-decoration-color: #008080; font-weight: bold\">6</span>, time step <span style=\"color: #008080; text-decoration-color: #008080; font-weight: bold\">25</span>\n",
       "</pre>\n"
      ],
      "text/plain": [
       "Updating MODFLOW Stress period \u001b[1;36m6\u001b[0m, time step \u001b[1;36m25\u001b[0m\n"
      ]
     },
     "metadata": {},
     "output_type": "display_data"
    },
    {
     "data": {
      "text/html": [
       "<pre style=\"white-space:pre;overflow-x:auto;line-height:normal;font-family:Menlo,'DejaVu Sans Mono',consolas,'Courier New',monospace\">Updating MODFLOW Stress period <span style=\"color: #008080; text-decoration-color: #008080; font-weight: bold\">6</span>, time step <span style=\"color: #008080; text-decoration-color: #008080; font-weight: bold\">26</span>\n",
       "</pre>\n"
      ],
      "text/plain": [
       "Updating MODFLOW Stress period \u001b[1;36m6\u001b[0m, time step \u001b[1;36m26\u001b[0m\n"
      ]
     },
     "metadata": {},
     "output_type": "display_data"
    },
    {
     "data": {
      "text/html": [
       "<pre style=\"white-space:pre;overflow-x:auto;line-height:normal;font-family:Menlo,'DejaVu Sans Mono',consolas,'Courier New',monospace\">Updating MODFLOW Stress period <span style=\"color: #008080; text-decoration-color: #008080; font-weight: bold\">6</span>, time step <span style=\"color: #008080; text-decoration-color: #008080; font-weight: bold\">27</span>\n",
       "</pre>\n"
      ],
      "text/plain": [
       "Updating MODFLOW Stress period \u001b[1;36m6\u001b[0m, time step \u001b[1;36m27\u001b[0m\n"
      ]
     },
     "metadata": {},
     "output_type": "display_data"
    },
    {
     "data": {
      "text/html": [
       "<pre style=\"white-space:pre;overflow-x:auto;line-height:normal;font-family:Menlo,'DejaVu Sans Mono',consolas,'Courier New',monospace\">Updating MODFLOW Stress period <span style=\"color: #008080; text-decoration-color: #008080; font-weight: bold\">6</span>, time step <span style=\"color: #008080; text-decoration-color: #008080; font-weight: bold\">28</span>\n",
       "</pre>\n"
      ],
      "text/plain": [
       "Updating MODFLOW Stress period \u001b[1;36m6\u001b[0m, time step \u001b[1;36m28\u001b[0m\n"
      ]
     },
     "metadata": {},
     "output_type": "display_data"
    },
    {
     "data": {
      "text/html": [
       "<pre style=\"white-space:pre;overflow-x:auto;line-height:normal;font-family:Menlo,'DejaVu Sans Mono',consolas,'Courier New',monospace\">Updating MODFLOW Stress period <span style=\"color: #008080; text-decoration-color: #008080; font-weight: bold\">6</span>, time step <span style=\"color: #008080; text-decoration-color: #008080; font-weight: bold\">29</span>\n",
       "</pre>\n"
      ],
      "text/plain": [
       "Updating MODFLOW Stress period \u001b[1;36m6\u001b[0m, time step \u001b[1;36m29\u001b[0m\n"
      ]
     },
     "metadata": {},
     "output_type": "display_data"
    },
    {
     "data": {
      "text/html": [
       "<pre style=\"white-space:pre;overflow-x:auto;line-height:normal;font-family:Menlo,'DejaVu Sans Mono',consolas,'Courier New',monospace\">Updating MODFLOW Stress period <span style=\"color: #008080; text-decoration-color: #008080; font-weight: bold\">6</span>, time step <span style=\"color: #008080; text-decoration-color: #008080; font-weight: bold\">30</span>\n",
       "</pre>\n"
      ],
      "text/plain": [
       "Updating MODFLOW Stress period \u001b[1;36m6\u001b[0m, time step \u001b[1;36m30\u001b[0m\n"
      ]
     },
     "metadata": {},
     "output_type": "display_data"
    },
    {
     "data": {
      "text/html": [
       "<pre style=\"white-space:pre;overflow-x:auto;line-height:normal;font-family:Menlo,'DejaVu Sans Mono',consolas,'Courier New',monospace\">Updating MODFLOW Stress period <span style=\"color: #008080; text-decoration-color: #008080; font-weight: bold\">6</span>, time step <span style=\"color: #008080; text-decoration-color: #008080; font-weight: bold\">31</span>\n",
       "</pre>\n"
      ],
      "text/plain": [
       "Updating MODFLOW Stress period \u001b[1;36m6\u001b[0m, time step \u001b[1;36m31\u001b[0m\n"
      ]
     },
     "metadata": {},
     "output_type": "display_data"
    },
    {
     "data": {
      "text/html": [
       "<pre style=\"white-space:pre;overflow-x:auto;line-height:normal;font-family:Menlo,'DejaVu Sans Mono',consolas,'Courier New',monospace\">Updating MODFLOW Stress period <span style=\"color: #008080; text-decoration-color: #008080; font-weight: bold\">6</span>, time step <span style=\"color: #008080; text-decoration-color: #008080; font-weight: bold\">32</span>\n",
       "</pre>\n"
      ],
      "text/plain": [
       "Updating MODFLOW Stress period \u001b[1;36m6\u001b[0m, time step \u001b[1;36m32\u001b[0m\n"
      ]
     },
     "metadata": {},
     "output_type": "display_data"
    },
    {
     "data": {
      "text/html": [
       "<pre style=\"white-space:pre;overflow-x:auto;line-height:normal;font-family:Menlo,'DejaVu Sans Mono',consolas,'Courier New',monospace\">Updating MODFLOW Stress period <span style=\"color: #008080; text-decoration-color: #008080; font-weight: bold\">6</span>, time step <span style=\"color: #008080; text-decoration-color: #008080; font-weight: bold\">33</span>\n",
       "</pre>\n"
      ],
      "text/plain": [
       "Updating MODFLOW Stress period \u001b[1;36m6\u001b[0m, time step \u001b[1;36m33\u001b[0m\n"
      ]
     },
     "metadata": {},
     "output_type": "display_data"
    },
    {
     "data": {
      "text/html": [
       "<pre style=\"white-space:pre;overflow-x:auto;line-height:normal;font-family:Menlo,'DejaVu Sans Mono',consolas,'Courier New',monospace\">Updating MODFLOW Stress period <span style=\"color: #008080; text-decoration-color: #008080; font-weight: bold\">6</span>, time step <span style=\"color: #008080; text-decoration-color: #008080; font-weight: bold\">34</span>\n",
       "</pre>\n"
      ],
      "text/plain": [
       "Updating MODFLOW Stress period \u001b[1;36m6\u001b[0m, time step \u001b[1;36m34\u001b[0m\n"
      ]
     },
     "metadata": {},
     "output_type": "display_data"
    },
    {
     "data": {
      "text/html": [
       "<pre style=\"white-space:pre;overflow-x:auto;line-height:normal;font-family:Menlo,'DejaVu Sans Mono',consolas,'Courier New',monospace\">Updating MODFLOW Stress period <span style=\"color: #008080; text-decoration-color: #008080; font-weight: bold\">6</span>, time step <span style=\"color: #008080; text-decoration-color: #008080; font-weight: bold\">35</span>\n",
       "</pre>\n"
      ],
      "text/plain": [
       "Updating MODFLOW Stress period \u001b[1;36m6\u001b[0m, time step \u001b[1;36m35\u001b[0m\n"
      ]
     },
     "metadata": {},
     "output_type": "display_data"
    },
    {
     "data": {
      "text/html": [
       "<pre style=\"white-space:pre;overflow-x:auto;line-height:normal;font-family:Menlo,'DejaVu Sans Mono',consolas,'Courier New',monospace\">Updating MODFLOW Stress period <span style=\"color: #008080; text-decoration-color: #008080; font-weight: bold\">6</span>, time step <span style=\"color: #008080; text-decoration-color: #008080; font-weight: bold\">36</span>\n",
       "</pre>\n"
      ],
      "text/plain": [
       "Updating MODFLOW Stress period \u001b[1;36m6\u001b[0m, time step \u001b[1;36m36\u001b[0m\n"
      ]
     },
     "metadata": {},
     "output_type": "display_data"
    },
    {
     "data": {
      "text/html": [
       "<pre style=\"white-space:pre;overflow-x:auto;line-height:normal;font-family:Menlo,'DejaVu Sans Mono',consolas,'Courier New',monospace\">Updating MODFLOW Stress period <span style=\"color: #008080; text-decoration-color: #008080; font-weight: bold\">6</span>, time step <span style=\"color: #008080; text-decoration-color: #008080; font-weight: bold\">37</span>\n",
       "</pre>\n"
      ],
      "text/plain": [
       "Updating MODFLOW Stress period \u001b[1;36m6\u001b[0m, time step \u001b[1;36m37\u001b[0m\n"
      ]
     },
     "metadata": {},
     "output_type": "display_data"
    },
    {
     "data": {
      "text/html": [
       "<pre style=\"white-space:pre;overflow-x:auto;line-height:normal;font-family:Menlo,'DejaVu Sans Mono',consolas,'Courier New',monospace\">Updating MODFLOW Stress period <span style=\"color: #008080; text-decoration-color: #008080; font-weight: bold\">6</span>, time step <span style=\"color: #008080; text-decoration-color: #008080; font-weight: bold\">38</span>\n",
       "</pre>\n"
      ],
      "text/plain": [
       "Updating MODFLOW Stress period \u001b[1;36m6\u001b[0m, time step \u001b[1;36m38\u001b[0m\n"
      ]
     },
     "metadata": {},
     "output_type": "display_data"
    },
    {
     "data": {
      "text/html": [
       "<pre style=\"white-space:pre;overflow-x:auto;line-height:normal;font-family:Menlo,'DejaVu Sans Mono',consolas,'Courier New',monospace\">Updating MODFLOW Stress period <span style=\"color: #008080; text-decoration-color: #008080; font-weight: bold\">6</span>, time step <span style=\"color: #008080; text-decoration-color: #008080; font-weight: bold\">39</span>\n",
       "</pre>\n"
      ],
      "text/plain": [
       "Updating MODFLOW Stress period \u001b[1;36m6\u001b[0m, time step \u001b[1;36m39\u001b[0m\n"
      ]
     },
     "metadata": {},
     "output_type": "display_data"
    },
    {
     "data": {
      "text/html": [
       "<pre style=\"white-space:pre;overflow-x:auto;line-height:normal;font-family:Menlo,'DejaVu Sans Mono',consolas,'Courier New',monospace\">Updating MODFLOW Stress period <span style=\"color: #008080; text-decoration-color: #008080; font-weight: bold\">6</span>, time step <span style=\"color: #008080; text-decoration-color: #008080; font-weight: bold\">40</span>\n",
       "</pre>\n"
      ],
      "text/plain": [
       "Updating MODFLOW Stress period \u001b[1;36m6\u001b[0m, time step \u001b[1;36m40\u001b[0m\n"
      ]
     },
     "metadata": {},
     "output_type": "display_data"
    },
    {
     "data": {
      "text/html": [
       "<pre style=\"white-space:pre;overflow-x:auto;line-height:normal;font-family:Menlo,'DejaVu Sans Mono',consolas,'Courier New',monospace\">Updating MODFLOW Stress period <span style=\"color: #008080; text-decoration-color: #008080; font-weight: bold\">6</span>, time step <span style=\"color: #008080; text-decoration-color: #008080; font-weight: bold\">41</span>\n",
       "</pre>\n"
      ],
      "text/plain": [
       "Updating MODFLOW Stress period \u001b[1;36m6\u001b[0m, time step \u001b[1;36m41\u001b[0m\n"
      ]
     },
     "metadata": {},
     "output_type": "display_data"
    },
    {
     "data": {
      "text/html": [
       "<pre style=\"white-space:pre;overflow-x:auto;line-height:normal;font-family:Menlo,'DejaVu Sans Mono',consolas,'Courier New',monospace\">Updating MODFLOW Stress period <span style=\"color: #008080; text-decoration-color: #008080; font-weight: bold\">6</span>, time step <span style=\"color: #008080; text-decoration-color: #008080; font-weight: bold\">42</span>\n",
       "</pre>\n"
      ],
      "text/plain": [
       "Updating MODFLOW Stress period \u001b[1;36m6\u001b[0m, time step \u001b[1;36m42\u001b[0m\n"
      ]
     },
     "metadata": {},
     "output_type": "display_data"
    },
    {
     "data": {
      "text/html": [
       "<pre style=\"white-space:pre;overflow-x:auto;line-height:normal;font-family:Menlo,'DejaVu Sans Mono',consolas,'Courier New',monospace\">Updating MODFLOW Stress period <span style=\"color: #008080; text-decoration-color: #008080; font-weight: bold\">6</span>, time step <span style=\"color: #008080; text-decoration-color: #008080; font-weight: bold\">43</span>\n",
       "</pre>\n"
      ],
      "text/plain": [
       "Updating MODFLOW Stress period \u001b[1;36m6\u001b[0m, time step \u001b[1;36m43\u001b[0m\n"
      ]
     },
     "metadata": {},
     "output_type": "display_data"
    },
    {
     "data": {
      "text/html": [
       "<pre style=\"white-space:pre;overflow-x:auto;line-height:normal;font-family:Menlo,'DejaVu Sans Mono',consolas,'Courier New',monospace\">Updating MODFLOW Stress period <span style=\"color: #008080; text-decoration-color: #008080; font-weight: bold\">6</span>, time step <span style=\"color: #008080; text-decoration-color: #008080; font-weight: bold\">44</span>\n",
       "</pre>\n"
      ],
      "text/plain": [
       "Updating MODFLOW Stress period \u001b[1;36m6\u001b[0m, time step \u001b[1;36m44\u001b[0m\n"
      ]
     },
     "metadata": {},
     "output_type": "display_data"
    },
    {
     "data": {
      "text/html": [
       "<pre style=\"white-space:pre;overflow-x:auto;line-height:normal;font-family:Menlo,'DejaVu Sans Mono',consolas,'Courier New',monospace\">Updating MODFLOW Stress period <span style=\"color: #008080; text-decoration-color: #008080; font-weight: bold\">6</span>, time step <span style=\"color: #008080; text-decoration-color: #008080; font-weight: bold\">45</span>\n",
       "</pre>\n"
      ],
      "text/plain": [
       "Updating MODFLOW Stress period \u001b[1;36m6\u001b[0m, time step \u001b[1;36m45\u001b[0m\n"
      ]
     },
     "metadata": {},
     "output_type": "display_data"
    },
    {
     "data": {
      "text/html": [
       "<pre style=\"white-space:pre;overflow-x:auto;line-height:normal;font-family:Menlo,'DejaVu Sans Mono',consolas,'Courier New',monospace\">Updating MODFLOW Stress period <span style=\"color: #008080; text-decoration-color: #008080; font-weight: bold\">6</span>, time step <span style=\"color: #008080; text-decoration-color: #008080; font-weight: bold\">46</span>\n",
       "</pre>\n"
      ],
      "text/plain": [
       "Updating MODFLOW Stress period \u001b[1;36m6\u001b[0m, time step \u001b[1;36m46\u001b[0m\n"
      ]
     },
     "metadata": {},
     "output_type": "display_data"
    },
    {
     "data": {
      "text/html": [
       "<pre style=\"white-space:pre;overflow-x:auto;line-height:normal;font-family:Menlo,'DejaVu Sans Mono',consolas,'Courier New',monospace\">Updating MODFLOW Stress period <span style=\"color: #008080; text-decoration-color: #008080; font-weight: bold\">6</span>, time step <span style=\"color: #008080; text-decoration-color: #008080; font-weight: bold\">47</span>\n",
       "</pre>\n"
      ],
      "text/plain": [
       "Updating MODFLOW Stress period \u001b[1;36m6\u001b[0m, time step \u001b[1;36m47\u001b[0m\n"
      ]
     },
     "metadata": {},
     "output_type": "display_data"
    },
    {
     "data": {
      "text/html": [
       "<pre style=\"white-space:pre;overflow-x:auto;line-height:normal;font-family:Menlo,'DejaVu Sans Mono',consolas,'Courier New',monospace\">Updating MODFLOW Stress period <span style=\"color: #008080; text-decoration-color: #008080; font-weight: bold\">6</span>, time step <span style=\"color: #008080; text-decoration-color: #008080; font-weight: bold\">48</span>\n",
       "</pre>\n"
      ],
      "text/plain": [
       "Updating MODFLOW Stress period \u001b[1;36m6\u001b[0m, time step \u001b[1;36m48\u001b[0m\n"
      ]
     },
     "metadata": {},
     "output_type": "display_data"
    },
    {
     "data": {
      "text/html": [
       "<pre style=\"white-space:pre;overflow-x:auto;line-height:normal;font-family:Menlo,'DejaVu Sans Mono',consolas,'Courier New',monospace\">Updating MODFLOW Stress period <span style=\"color: #008080; text-decoration-color: #008080; font-weight: bold\">7</span>, time step <span style=\"color: #008080; text-decoration-color: #008080; font-weight: bold\">1</span>\n",
       "</pre>\n"
      ],
      "text/plain": [
       "Updating MODFLOW Stress period \u001b[1;36m7\u001b[0m, time step \u001b[1;36m1\u001b[0m\n"
      ]
     },
     "metadata": {},
     "output_type": "display_data"
    },
    {
     "data": {
      "text/html": [
       "<pre style=\"white-space:pre;overflow-x:auto;line-height:normal;font-family:Menlo,'DejaVu Sans Mono',consolas,'Courier New',monospace\">Updating MODFLOW Stress period <span style=\"color: #008080; text-decoration-color: #008080; font-weight: bold\">7</span>, time step <span style=\"color: #008080; text-decoration-color: #008080; font-weight: bold\">2</span>\n",
       "</pre>\n"
      ],
      "text/plain": [
       "Updating MODFLOW Stress period \u001b[1;36m7\u001b[0m, time step \u001b[1;36m2\u001b[0m\n"
      ]
     },
     "metadata": {},
     "output_type": "display_data"
    },
    {
     "data": {
      "text/html": [
       "<pre style=\"white-space:pre;overflow-x:auto;line-height:normal;font-family:Menlo,'DejaVu Sans Mono',consolas,'Courier New',monospace\">Updating MODFLOW Stress period <span style=\"color: #008080; text-decoration-color: #008080; font-weight: bold\">7</span>, time step <span style=\"color: #008080; text-decoration-color: #008080; font-weight: bold\">3</span>\n",
       "</pre>\n"
      ],
      "text/plain": [
       "Updating MODFLOW Stress period \u001b[1;36m7\u001b[0m, time step \u001b[1;36m3\u001b[0m\n"
      ]
     },
     "metadata": {},
     "output_type": "display_data"
    },
    {
     "data": {
      "text/html": [
       "<pre style=\"white-space:pre;overflow-x:auto;line-height:normal;font-family:Menlo,'DejaVu Sans Mono',consolas,'Courier New',monospace\">Updating MODFLOW Stress period <span style=\"color: #008080; text-decoration-color: #008080; font-weight: bold\">7</span>, time step <span style=\"color: #008080; text-decoration-color: #008080; font-weight: bold\">4</span>\n",
       "</pre>\n"
      ],
      "text/plain": [
       "Updating MODFLOW Stress period \u001b[1;36m7\u001b[0m, time step \u001b[1;36m4\u001b[0m\n"
      ]
     },
     "metadata": {},
     "output_type": "display_data"
    },
    {
     "data": {
      "text/html": [
       "<pre style=\"white-space:pre;overflow-x:auto;line-height:normal;font-family:Menlo,'DejaVu Sans Mono',consolas,'Courier New',monospace\">Updating MODFLOW Stress period <span style=\"color: #008080; text-decoration-color: #008080; font-weight: bold\">7</span>, time step <span style=\"color: #008080; text-decoration-color: #008080; font-weight: bold\">5</span>\n",
       "</pre>\n"
      ],
      "text/plain": [
       "Updating MODFLOW Stress period \u001b[1;36m7\u001b[0m, time step \u001b[1;36m5\u001b[0m\n"
      ]
     },
     "metadata": {},
     "output_type": "display_data"
    },
    {
     "data": {
      "text/html": [
       "<pre style=\"white-space:pre;overflow-x:auto;line-height:normal;font-family:Menlo,'DejaVu Sans Mono',consolas,'Courier New',monospace\">Updating MODFLOW Stress period <span style=\"color: #008080; text-decoration-color: #008080; font-weight: bold\">7</span>, time step <span style=\"color: #008080; text-decoration-color: #008080; font-weight: bold\">6</span>\n",
       "</pre>\n"
      ],
      "text/plain": [
       "Updating MODFLOW Stress period \u001b[1;36m7\u001b[0m, time step \u001b[1;36m6\u001b[0m\n"
      ]
     },
     "metadata": {},
     "output_type": "display_data"
    },
    {
     "data": {
      "text/html": [
       "<pre style=\"white-space:pre;overflow-x:auto;line-height:normal;font-family:Menlo,'DejaVu Sans Mono',consolas,'Courier New',monospace\">Updating MODFLOW Stress period <span style=\"color: #008080; text-decoration-color: #008080; font-weight: bold\">7</span>, time step <span style=\"color: #008080; text-decoration-color: #008080; font-weight: bold\">7</span>\n",
       "</pre>\n"
      ],
      "text/plain": [
       "Updating MODFLOW Stress period \u001b[1;36m7\u001b[0m, time step \u001b[1;36m7\u001b[0m\n"
      ]
     },
     "metadata": {},
     "output_type": "display_data"
    },
    {
     "data": {
      "text/html": [
       "<pre style=\"white-space:pre;overflow-x:auto;line-height:normal;font-family:Menlo,'DejaVu Sans Mono',consolas,'Courier New',monospace\">Updating MODFLOW Stress period <span style=\"color: #008080; text-decoration-color: #008080; font-weight: bold\">7</span>, time step <span style=\"color: #008080; text-decoration-color: #008080; font-weight: bold\">8</span>\n",
       "</pre>\n"
      ],
      "text/plain": [
       "Updating MODFLOW Stress period \u001b[1;36m7\u001b[0m, time step \u001b[1;36m8\u001b[0m\n"
      ]
     },
     "metadata": {},
     "output_type": "display_data"
    },
    {
     "data": {
      "text/html": [
       "<pre style=\"white-space:pre;overflow-x:auto;line-height:normal;font-family:Menlo,'DejaVu Sans Mono',consolas,'Courier New',monospace\">Updating MODFLOW Stress period <span style=\"color: #008080; text-decoration-color: #008080; font-weight: bold\">7</span>, time step <span style=\"color: #008080; text-decoration-color: #008080; font-weight: bold\">9</span>\n",
       "</pre>\n"
      ],
      "text/plain": [
       "Updating MODFLOW Stress period \u001b[1;36m7\u001b[0m, time step \u001b[1;36m9\u001b[0m\n"
      ]
     },
     "metadata": {},
     "output_type": "display_data"
    },
    {
     "data": {
      "text/html": [
       "<pre style=\"white-space:pre;overflow-x:auto;line-height:normal;font-family:Menlo,'DejaVu Sans Mono',consolas,'Courier New',monospace\">Updating MODFLOW Stress period <span style=\"color: #008080; text-decoration-color: #008080; font-weight: bold\">7</span>, time step <span style=\"color: #008080; text-decoration-color: #008080; font-weight: bold\">10</span>\n",
       "</pre>\n"
      ],
      "text/plain": [
       "Updating MODFLOW Stress period \u001b[1;36m7\u001b[0m, time step \u001b[1;36m10\u001b[0m\n"
      ]
     },
     "metadata": {},
     "output_type": "display_data"
    },
    {
     "data": {
      "text/html": [
       "<pre style=\"white-space:pre;overflow-x:auto;line-height:normal;font-family:Menlo,'DejaVu Sans Mono',consolas,'Courier New',monospace\">Updating MODFLOW Stress period <span style=\"color: #008080; text-decoration-color: #008080; font-weight: bold\">7</span>, time step <span style=\"color: #008080; text-decoration-color: #008080; font-weight: bold\">11</span>\n",
       "</pre>\n"
      ],
      "text/plain": [
       "Updating MODFLOW Stress period \u001b[1;36m7\u001b[0m, time step \u001b[1;36m11\u001b[0m\n"
      ]
     },
     "metadata": {},
     "output_type": "display_data"
    },
    {
     "data": {
      "text/html": [
       "<pre style=\"white-space:pre;overflow-x:auto;line-height:normal;font-family:Menlo,'DejaVu Sans Mono',consolas,'Courier New',monospace\">Updating MODFLOW Stress period <span style=\"color: #008080; text-decoration-color: #008080; font-weight: bold\">7</span>, time step <span style=\"color: #008080; text-decoration-color: #008080; font-weight: bold\">12</span>\n",
       "</pre>\n"
      ],
      "text/plain": [
       "Updating MODFLOW Stress period \u001b[1;36m7\u001b[0m, time step \u001b[1;36m12\u001b[0m\n"
      ]
     },
     "metadata": {},
     "output_type": "display_data"
    },
    {
     "data": {
      "text/html": [
       "<pre style=\"white-space:pre;overflow-x:auto;line-height:normal;font-family:Menlo,'DejaVu Sans Mono',consolas,'Courier New',monospace\">Updating MODFLOW Stress period <span style=\"color: #008080; text-decoration-color: #008080; font-weight: bold\">7</span>, time step <span style=\"color: #008080; text-decoration-color: #008080; font-weight: bold\">13</span>\n",
       "</pre>\n"
      ],
      "text/plain": [
       "Updating MODFLOW Stress period \u001b[1;36m7\u001b[0m, time step \u001b[1;36m13\u001b[0m\n"
      ]
     },
     "metadata": {},
     "output_type": "display_data"
    },
    {
     "data": {
      "text/html": [
       "<pre style=\"white-space:pre;overflow-x:auto;line-height:normal;font-family:Menlo,'DejaVu Sans Mono',consolas,'Courier New',monospace\">Updating MODFLOW Stress period <span style=\"color: #008080; text-decoration-color: #008080; font-weight: bold\">7</span>, time step <span style=\"color: #008080; text-decoration-color: #008080; font-weight: bold\">14</span>\n",
       "</pre>\n"
      ],
      "text/plain": [
       "Updating MODFLOW Stress period \u001b[1;36m7\u001b[0m, time step \u001b[1;36m14\u001b[0m\n"
      ]
     },
     "metadata": {},
     "output_type": "display_data"
    },
    {
     "data": {
      "text/html": [
       "<pre style=\"white-space:pre;overflow-x:auto;line-height:normal;font-family:Menlo,'DejaVu Sans Mono',consolas,'Courier New',monospace\">Updating MODFLOW Stress period <span style=\"color: #008080; text-decoration-color: #008080; font-weight: bold\">7</span>, time step <span style=\"color: #008080; text-decoration-color: #008080; font-weight: bold\">15</span>\n",
       "</pre>\n"
      ],
      "text/plain": [
       "Updating MODFLOW Stress period \u001b[1;36m7\u001b[0m, time step \u001b[1;36m15\u001b[0m\n"
      ]
     },
     "metadata": {},
     "output_type": "display_data"
    },
    {
     "data": {
      "text/html": [
       "<pre style=\"white-space:pre;overflow-x:auto;line-height:normal;font-family:Menlo,'DejaVu Sans Mono',consolas,'Courier New',monospace\">Updating MODFLOW Stress period <span style=\"color: #008080; text-decoration-color: #008080; font-weight: bold\">7</span>, time step <span style=\"color: #008080; text-decoration-color: #008080; font-weight: bold\">16</span>\n",
       "</pre>\n"
      ],
      "text/plain": [
       "Updating MODFLOW Stress period \u001b[1;36m7\u001b[0m, time step \u001b[1;36m16\u001b[0m\n"
      ]
     },
     "metadata": {},
     "output_type": "display_data"
    },
    {
     "data": {
      "text/html": [
       "<pre style=\"white-space:pre;overflow-x:auto;line-height:normal;font-family:Menlo,'DejaVu Sans Mono',consolas,'Courier New',monospace\">Updating MODFLOW Stress period <span style=\"color: #008080; text-decoration-color: #008080; font-weight: bold\">7</span>, time step <span style=\"color: #008080; text-decoration-color: #008080; font-weight: bold\">17</span>\n",
       "</pre>\n"
      ],
      "text/plain": [
       "Updating MODFLOW Stress period \u001b[1;36m7\u001b[0m, time step \u001b[1;36m17\u001b[0m\n"
      ]
     },
     "metadata": {},
     "output_type": "display_data"
    },
    {
     "data": {
      "text/html": [
       "<pre style=\"white-space:pre;overflow-x:auto;line-height:normal;font-family:Menlo,'DejaVu Sans Mono',consolas,'Courier New',monospace\">Updating MODFLOW Stress period <span style=\"color: #008080; text-decoration-color: #008080; font-weight: bold\">7</span>, time step <span style=\"color: #008080; text-decoration-color: #008080; font-weight: bold\">18</span>\n",
       "</pre>\n"
      ],
      "text/plain": [
       "Updating MODFLOW Stress period \u001b[1;36m7\u001b[0m, time step \u001b[1;36m18\u001b[0m\n"
      ]
     },
     "metadata": {},
     "output_type": "display_data"
    },
    {
     "data": {
      "text/html": [
       "<pre style=\"white-space:pre;overflow-x:auto;line-height:normal;font-family:Menlo,'DejaVu Sans Mono',consolas,'Courier New',monospace\">Updating MODFLOW Stress period <span style=\"color: #008080; text-decoration-color: #008080; font-weight: bold\">7</span>, time step <span style=\"color: #008080; text-decoration-color: #008080; font-weight: bold\">19</span>\n",
       "</pre>\n"
      ],
      "text/plain": [
       "Updating MODFLOW Stress period \u001b[1;36m7\u001b[0m, time step \u001b[1;36m19\u001b[0m\n"
      ]
     },
     "metadata": {},
     "output_type": "display_data"
    },
    {
     "data": {
      "text/html": [
       "<pre style=\"white-space:pre;overflow-x:auto;line-height:normal;font-family:Menlo,'DejaVu Sans Mono',consolas,'Courier New',monospace\">Updating MODFLOW Stress period <span style=\"color: #008080; text-decoration-color: #008080; font-weight: bold\">7</span>, time step <span style=\"color: #008080; text-decoration-color: #008080; font-weight: bold\">20</span>\n",
       "</pre>\n"
      ],
      "text/plain": [
       "Updating MODFLOW Stress period \u001b[1;36m7\u001b[0m, time step \u001b[1;36m20\u001b[0m\n"
      ]
     },
     "metadata": {},
     "output_type": "display_data"
    },
    {
     "data": {
      "text/html": [
       "<pre style=\"white-space:pre;overflow-x:auto;line-height:normal;font-family:Menlo,'DejaVu Sans Mono',consolas,'Courier New',monospace\">Updating MODFLOW Stress period <span style=\"color: #008080; text-decoration-color: #008080; font-weight: bold\">7</span>, time step <span style=\"color: #008080; text-decoration-color: #008080; font-weight: bold\">21</span>\n",
       "</pre>\n"
      ],
      "text/plain": [
       "Updating MODFLOW Stress period \u001b[1;36m7\u001b[0m, time step \u001b[1;36m21\u001b[0m\n"
      ]
     },
     "metadata": {},
     "output_type": "display_data"
    },
    {
     "data": {
      "text/html": [
       "<pre style=\"white-space:pre;overflow-x:auto;line-height:normal;font-family:Menlo,'DejaVu Sans Mono',consolas,'Courier New',monospace\">Updating MODFLOW Stress period <span style=\"color: #008080; text-decoration-color: #008080; font-weight: bold\">7</span>, time step <span style=\"color: #008080; text-decoration-color: #008080; font-weight: bold\">22</span>\n",
       "</pre>\n"
      ],
      "text/plain": [
       "Updating MODFLOW Stress period \u001b[1;36m7\u001b[0m, time step \u001b[1;36m22\u001b[0m\n"
      ]
     },
     "metadata": {},
     "output_type": "display_data"
    },
    {
     "data": {
      "text/html": [
       "<pre style=\"white-space:pre;overflow-x:auto;line-height:normal;font-family:Menlo,'DejaVu Sans Mono',consolas,'Courier New',monospace\">Updating MODFLOW Stress period <span style=\"color: #008080; text-decoration-color: #008080; font-weight: bold\">7</span>, time step <span style=\"color: #008080; text-decoration-color: #008080; font-weight: bold\">23</span>\n",
       "</pre>\n"
      ],
      "text/plain": [
       "Updating MODFLOW Stress period \u001b[1;36m7\u001b[0m, time step \u001b[1;36m23\u001b[0m\n"
      ]
     },
     "metadata": {},
     "output_type": "display_data"
    },
    {
     "data": {
      "text/html": [
       "<pre style=\"white-space:pre;overflow-x:auto;line-height:normal;font-family:Menlo,'DejaVu Sans Mono',consolas,'Courier New',monospace\">Updating MODFLOW Stress period <span style=\"color: #008080; text-decoration-color: #008080; font-weight: bold\">7</span>, time step <span style=\"color: #008080; text-decoration-color: #008080; font-weight: bold\">24</span>\n",
       "</pre>\n"
      ],
      "text/plain": [
       "Updating MODFLOW Stress period \u001b[1;36m7\u001b[0m, time step \u001b[1;36m24\u001b[0m\n"
      ]
     },
     "metadata": {},
     "output_type": "display_data"
    },
    {
     "data": {
      "text/html": [
       "<pre style=\"white-space:pre;overflow-x:auto;line-height:normal;font-family:Menlo,'DejaVu Sans Mono',consolas,'Courier New',monospace\">Updating MODFLOW Stress period <span style=\"color: #008080; text-decoration-color: #008080; font-weight: bold\">7</span>, time step <span style=\"color: #008080; text-decoration-color: #008080; font-weight: bold\">25</span>\n",
       "</pre>\n"
      ],
      "text/plain": [
       "Updating MODFLOW Stress period \u001b[1;36m7\u001b[0m, time step \u001b[1;36m25\u001b[0m\n"
      ]
     },
     "metadata": {},
     "output_type": "display_data"
    },
    {
     "data": {
      "text/html": [
       "<pre style=\"white-space:pre;overflow-x:auto;line-height:normal;font-family:Menlo,'DejaVu Sans Mono',consolas,'Courier New',monospace\">Updating MODFLOW Stress period <span style=\"color: #008080; text-decoration-color: #008080; font-weight: bold\">7</span>, time step <span style=\"color: #008080; text-decoration-color: #008080; font-weight: bold\">26</span>\n",
       "</pre>\n"
      ],
      "text/plain": [
       "Updating MODFLOW Stress period \u001b[1;36m7\u001b[0m, time step \u001b[1;36m26\u001b[0m\n"
      ]
     },
     "metadata": {},
     "output_type": "display_data"
    },
    {
     "data": {
      "text/html": [
       "<pre style=\"white-space:pre;overflow-x:auto;line-height:normal;font-family:Menlo,'DejaVu Sans Mono',consolas,'Courier New',monospace\">Updating MODFLOW Stress period <span style=\"color: #008080; text-decoration-color: #008080; font-weight: bold\">7</span>, time step <span style=\"color: #008080; text-decoration-color: #008080; font-weight: bold\">27</span>\n",
       "</pre>\n"
      ],
      "text/plain": [
       "Updating MODFLOW Stress period \u001b[1;36m7\u001b[0m, time step \u001b[1;36m27\u001b[0m\n"
      ]
     },
     "metadata": {},
     "output_type": "display_data"
    },
    {
     "data": {
      "text/html": [
       "<pre style=\"white-space:pre;overflow-x:auto;line-height:normal;font-family:Menlo,'DejaVu Sans Mono',consolas,'Courier New',monospace\">Updating MODFLOW Stress period <span style=\"color: #008080; text-decoration-color: #008080; font-weight: bold\">7</span>, time step <span style=\"color: #008080; text-decoration-color: #008080; font-weight: bold\">28</span>\n",
       "</pre>\n"
      ],
      "text/plain": [
       "Updating MODFLOW Stress period \u001b[1;36m7\u001b[0m, time step \u001b[1;36m28\u001b[0m\n"
      ]
     },
     "metadata": {},
     "output_type": "display_data"
    },
    {
     "data": {
      "text/html": [
       "<pre style=\"white-space:pre;overflow-x:auto;line-height:normal;font-family:Menlo,'DejaVu Sans Mono',consolas,'Courier New',monospace\">Updating MODFLOW Stress period <span style=\"color: #008080; text-decoration-color: #008080; font-weight: bold\">7</span>, time step <span style=\"color: #008080; text-decoration-color: #008080; font-weight: bold\">29</span>\n",
       "</pre>\n"
      ],
      "text/plain": [
       "Updating MODFLOW Stress period \u001b[1;36m7\u001b[0m, time step \u001b[1;36m29\u001b[0m\n"
      ]
     },
     "metadata": {},
     "output_type": "display_data"
    },
    {
     "data": {
      "text/html": [
       "<pre style=\"white-space:pre;overflow-x:auto;line-height:normal;font-family:Menlo,'DejaVu Sans Mono',consolas,'Courier New',monospace\">Updating MODFLOW Stress period <span style=\"color: #008080; text-decoration-color: #008080; font-weight: bold\">7</span>, time step <span style=\"color: #008080; text-decoration-color: #008080; font-weight: bold\">30</span>\n",
       "</pre>\n"
      ],
      "text/plain": [
       "Updating MODFLOW Stress period \u001b[1;36m7\u001b[0m, time step \u001b[1;36m30\u001b[0m\n"
      ]
     },
     "metadata": {},
     "output_type": "display_data"
    },
    {
     "data": {
      "text/html": [
       "<pre style=\"white-space:pre;overflow-x:auto;line-height:normal;font-family:Menlo,'DejaVu Sans Mono',consolas,'Courier New',monospace\">Updating MODFLOW Stress period <span style=\"color: #008080; text-decoration-color: #008080; font-weight: bold\">7</span>, time step <span style=\"color: #008080; text-decoration-color: #008080; font-weight: bold\">31</span>\n",
       "</pre>\n"
      ],
      "text/plain": [
       "Updating MODFLOW Stress period \u001b[1;36m7\u001b[0m, time step \u001b[1;36m31\u001b[0m\n"
      ]
     },
     "metadata": {},
     "output_type": "display_data"
    },
    {
     "data": {
      "text/html": [
       "<pre style=\"white-space:pre;overflow-x:auto;line-height:normal;font-family:Menlo,'DejaVu Sans Mono',consolas,'Courier New',monospace\">Updating MODFLOW Stress period <span style=\"color: #008080; text-decoration-color: #008080; font-weight: bold\">7</span>, time step <span style=\"color: #008080; text-decoration-color: #008080; font-weight: bold\">32</span>\n",
       "</pre>\n"
      ],
      "text/plain": [
       "Updating MODFLOW Stress period \u001b[1;36m7\u001b[0m, time step \u001b[1;36m32\u001b[0m\n"
      ]
     },
     "metadata": {},
     "output_type": "display_data"
    },
    {
     "data": {
      "text/html": [
       "<pre style=\"white-space:pre;overflow-x:auto;line-height:normal;font-family:Menlo,'DejaVu Sans Mono',consolas,'Courier New',monospace\">Updating MODFLOW Stress period <span style=\"color: #008080; text-decoration-color: #008080; font-weight: bold\">7</span>, time step <span style=\"color: #008080; text-decoration-color: #008080; font-weight: bold\">33</span>\n",
       "</pre>\n"
      ],
      "text/plain": [
       "Updating MODFLOW Stress period \u001b[1;36m7\u001b[0m, time step \u001b[1;36m33\u001b[0m\n"
      ]
     },
     "metadata": {},
     "output_type": "display_data"
    },
    {
     "data": {
      "text/html": [
       "<pre style=\"white-space:pre;overflow-x:auto;line-height:normal;font-family:Menlo,'DejaVu Sans Mono',consolas,'Courier New',monospace\">Updating MODFLOW Stress period <span style=\"color: #008080; text-decoration-color: #008080; font-weight: bold\">7</span>, time step <span style=\"color: #008080; text-decoration-color: #008080; font-weight: bold\">34</span>\n",
       "</pre>\n"
      ],
      "text/plain": [
       "Updating MODFLOW Stress period \u001b[1;36m7\u001b[0m, time step \u001b[1;36m34\u001b[0m\n"
      ]
     },
     "metadata": {},
     "output_type": "display_data"
    },
    {
     "data": {
      "text/html": [
       "<pre style=\"white-space:pre;overflow-x:auto;line-height:normal;font-family:Menlo,'DejaVu Sans Mono',consolas,'Courier New',monospace\">Updating MODFLOW Stress period <span style=\"color: #008080; text-decoration-color: #008080; font-weight: bold\">7</span>, time step <span style=\"color: #008080; text-decoration-color: #008080; font-weight: bold\">35</span>\n",
       "</pre>\n"
      ],
      "text/plain": [
       "Updating MODFLOW Stress period \u001b[1;36m7\u001b[0m, time step \u001b[1;36m35\u001b[0m\n"
      ]
     },
     "metadata": {},
     "output_type": "display_data"
    },
    {
     "data": {
      "text/html": [
       "<pre style=\"white-space:pre;overflow-x:auto;line-height:normal;font-family:Menlo,'DejaVu Sans Mono',consolas,'Courier New',monospace\">Updating MODFLOW Stress period <span style=\"color: #008080; text-decoration-color: #008080; font-weight: bold\">7</span>, time step <span style=\"color: #008080; text-decoration-color: #008080; font-weight: bold\">36</span>\n",
       "</pre>\n"
      ],
      "text/plain": [
       "Updating MODFLOW Stress period \u001b[1;36m7\u001b[0m, time step \u001b[1;36m36\u001b[0m\n"
      ]
     },
     "metadata": {},
     "output_type": "display_data"
    },
    {
     "data": {
      "text/html": [
       "<pre style=\"white-space:pre;overflow-x:auto;line-height:normal;font-family:Menlo,'DejaVu Sans Mono',consolas,'Courier New',monospace\">Updating MODFLOW Stress period <span style=\"color: #008080; text-decoration-color: #008080; font-weight: bold\">7</span>, time step <span style=\"color: #008080; text-decoration-color: #008080; font-weight: bold\">37</span>\n",
       "</pre>\n"
      ],
      "text/plain": [
       "Updating MODFLOW Stress period \u001b[1;36m7\u001b[0m, time step \u001b[1;36m37\u001b[0m\n"
      ]
     },
     "metadata": {},
     "output_type": "display_data"
    },
    {
     "data": {
      "text/html": [
       "<pre style=\"white-space:pre;overflow-x:auto;line-height:normal;font-family:Menlo,'DejaVu Sans Mono',consolas,'Courier New',monospace\">Updating MODFLOW Stress period <span style=\"color: #008080; text-decoration-color: #008080; font-weight: bold\">7</span>, time step <span style=\"color: #008080; text-decoration-color: #008080; font-weight: bold\">38</span>\n",
       "</pre>\n"
      ],
      "text/plain": [
       "Updating MODFLOW Stress period \u001b[1;36m7\u001b[0m, time step \u001b[1;36m38\u001b[0m\n"
      ]
     },
     "metadata": {},
     "output_type": "display_data"
    },
    {
     "data": {
      "text/html": [
       "<pre style=\"white-space:pre;overflow-x:auto;line-height:normal;font-family:Menlo,'DejaVu Sans Mono',consolas,'Courier New',monospace\">Updating MODFLOW Stress period <span style=\"color: #008080; text-decoration-color: #008080; font-weight: bold\">7</span>, time step <span style=\"color: #008080; text-decoration-color: #008080; font-weight: bold\">39</span>\n",
       "</pre>\n"
      ],
      "text/plain": [
       "Updating MODFLOW Stress period \u001b[1;36m7\u001b[0m, time step \u001b[1;36m39\u001b[0m\n"
      ]
     },
     "metadata": {},
     "output_type": "display_data"
    },
    {
     "data": {
      "text/html": [
       "<pre style=\"white-space:pre;overflow-x:auto;line-height:normal;font-family:Menlo,'DejaVu Sans Mono',consolas,'Courier New',monospace\">Updating MODFLOW Stress period <span style=\"color: #008080; text-decoration-color: #008080; font-weight: bold\">7</span>, time step <span style=\"color: #008080; text-decoration-color: #008080; font-weight: bold\">40</span>\n",
       "</pre>\n"
      ],
      "text/plain": [
       "Updating MODFLOW Stress period \u001b[1;36m7\u001b[0m, time step \u001b[1;36m40\u001b[0m\n"
      ]
     },
     "metadata": {},
     "output_type": "display_data"
    },
    {
     "data": {
      "text/html": [
       "<pre style=\"white-space:pre;overflow-x:auto;line-height:normal;font-family:Menlo,'DejaVu Sans Mono',consolas,'Courier New',monospace\">Updating MODFLOW Stress period <span style=\"color: #008080; text-decoration-color: #008080; font-weight: bold\">7</span>, time step <span style=\"color: #008080; text-decoration-color: #008080; font-weight: bold\">41</span>\n",
       "</pre>\n"
      ],
      "text/plain": [
       "Updating MODFLOW Stress period \u001b[1;36m7\u001b[0m, time step \u001b[1;36m41\u001b[0m\n"
      ]
     },
     "metadata": {},
     "output_type": "display_data"
    },
    {
     "data": {
      "text/html": [
       "<pre style=\"white-space:pre;overflow-x:auto;line-height:normal;font-family:Menlo,'DejaVu Sans Mono',consolas,'Courier New',monospace\">Updating MODFLOW Stress period <span style=\"color: #008080; text-decoration-color: #008080; font-weight: bold\">7</span>, time step <span style=\"color: #008080; text-decoration-color: #008080; font-weight: bold\">42</span>\n",
       "</pre>\n"
      ],
      "text/plain": [
       "Updating MODFLOW Stress period \u001b[1;36m7\u001b[0m, time step \u001b[1;36m42\u001b[0m\n"
      ]
     },
     "metadata": {},
     "output_type": "display_data"
    },
    {
     "data": {
      "text/html": [
       "<pre style=\"white-space:pre;overflow-x:auto;line-height:normal;font-family:Menlo,'DejaVu Sans Mono',consolas,'Courier New',monospace\">Updating MODFLOW Stress period <span style=\"color: #008080; text-decoration-color: #008080; font-weight: bold\">7</span>, time step <span style=\"color: #008080; text-decoration-color: #008080; font-weight: bold\">43</span>\n",
       "</pre>\n"
      ],
      "text/plain": [
       "Updating MODFLOW Stress period \u001b[1;36m7\u001b[0m, time step \u001b[1;36m43\u001b[0m\n"
      ]
     },
     "metadata": {},
     "output_type": "display_data"
    },
    {
     "data": {
      "text/html": [
       "<pre style=\"white-space:pre;overflow-x:auto;line-height:normal;font-family:Menlo,'DejaVu Sans Mono',consolas,'Courier New',monospace\">Updating MODFLOW Stress period <span style=\"color: #008080; text-decoration-color: #008080; font-weight: bold\">7</span>, time step <span style=\"color: #008080; text-decoration-color: #008080; font-weight: bold\">44</span>\n",
       "</pre>\n"
      ],
      "text/plain": [
       "Updating MODFLOW Stress period \u001b[1;36m7\u001b[0m, time step \u001b[1;36m44\u001b[0m\n"
      ]
     },
     "metadata": {},
     "output_type": "display_data"
    },
    {
     "data": {
      "text/html": [
       "<pre style=\"white-space:pre;overflow-x:auto;line-height:normal;font-family:Menlo,'DejaVu Sans Mono',consolas,'Courier New',monospace\">Updating MODFLOW Stress period <span style=\"color: #008080; text-decoration-color: #008080; font-weight: bold\">7</span>, time step <span style=\"color: #008080; text-decoration-color: #008080; font-weight: bold\">45</span>\n",
       "</pre>\n"
      ],
      "text/plain": [
       "Updating MODFLOW Stress period \u001b[1;36m7\u001b[0m, time step \u001b[1;36m45\u001b[0m\n"
      ]
     },
     "metadata": {},
     "output_type": "display_data"
    },
    {
     "data": {
      "text/html": [
       "<pre style=\"white-space:pre;overflow-x:auto;line-height:normal;font-family:Menlo,'DejaVu Sans Mono',consolas,'Courier New',monospace\">Updating MODFLOW Stress period <span style=\"color: #008080; text-decoration-color: #008080; font-weight: bold\">7</span>, time step <span style=\"color: #008080; text-decoration-color: #008080; font-weight: bold\">46</span>\n",
       "</pre>\n"
      ],
      "text/plain": [
       "Updating MODFLOW Stress period \u001b[1;36m7\u001b[0m, time step \u001b[1;36m46\u001b[0m\n"
      ]
     },
     "metadata": {},
     "output_type": "display_data"
    },
    {
     "data": {
      "text/html": [
       "<pre style=\"white-space:pre;overflow-x:auto;line-height:normal;font-family:Menlo,'DejaVu Sans Mono',consolas,'Courier New',monospace\">Updating MODFLOW Stress period <span style=\"color: #008080; text-decoration-color: #008080; font-weight: bold\">7</span>, time step <span style=\"color: #008080; text-decoration-color: #008080; font-weight: bold\">47</span>\n",
       "</pre>\n"
      ],
      "text/plain": [
       "Updating MODFLOW Stress period \u001b[1;36m7\u001b[0m, time step \u001b[1;36m47\u001b[0m\n"
      ]
     },
     "metadata": {},
     "output_type": "display_data"
    },
    {
     "data": {
      "text/html": [
       "<pre style=\"white-space:pre;overflow-x:auto;line-height:normal;font-family:Menlo,'DejaVu Sans Mono',consolas,'Courier New',monospace\">Updating MODFLOW Stress period <span style=\"color: #008080; text-decoration-color: #008080; font-weight: bold\">7</span>, time step <span style=\"color: #008080; text-decoration-color: #008080; font-weight: bold\">48</span>\n",
       "</pre>\n"
      ],
      "text/plain": [
       "Updating MODFLOW Stress period \u001b[1;36m7\u001b[0m, time step \u001b[1;36m48\u001b[0m\n"
      ]
     },
     "metadata": {},
     "output_type": "display_data"
    },
    {
     "data": {
      "text/html": [
       "<pre style=\"white-space:pre;overflow-x:auto;line-height:normal;font-family:Menlo,'DejaVu Sans Mono',consolas,'Courier New',monospace\">Updating MODFLOW Stress period <span style=\"color: #008080; text-decoration-color: #008080; font-weight: bold\">8</span>, time step <span style=\"color: #008080; text-decoration-color: #008080; font-weight: bold\">1</span>\n",
       "</pre>\n"
      ],
      "text/plain": [
       "Updating MODFLOW Stress period \u001b[1;36m8\u001b[0m, time step \u001b[1;36m1\u001b[0m\n"
      ]
     },
     "metadata": {},
     "output_type": "display_data"
    },
    {
     "data": {
      "text/html": [
       "<pre style=\"white-space:pre;overflow-x:auto;line-height:normal;font-family:Menlo,'DejaVu Sans Mono',consolas,'Courier New',monospace\">Updating MODFLOW Stress period <span style=\"color: #008080; text-decoration-color: #008080; font-weight: bold\">8</span>, time step <span style=\"color: #008080; text-decoration-color: #008080; font-weight: bold\">2</span>\n",
       "</pre>\n"
      ],
      "text/plain": [
       "Updating MODFLOW Stress period \u001b[1;36m8\u001b[0m, time step \u001b[1;36m2\u001b[0m\n"
      ]
     },
     "metadata": {},
     "output_type": "display_data"
    },
    {
     "data": {
      "text/html": [
       "<pre style=\"white-space:pre;overflow-x:auto;line-height:normal;font-family:Menlo,'DejaVu Sans Mono',consolas,'Courier New',monospace\">Updating MODFLOW Stress period <span style=\"color: #008080; text-decoration-color: #008080; font-weight: bold\">8</span>, time step <span style=\"color: #008080; text-decoration-color: #008080; font-weight: bold\">3</span>\n",
       "</pre>\n"
      ],
      "text/plain": [
       "Updating MODFLOW Stress period \u001b[1;36m8\u001b[0m, time step \u001b[1;36m3\u001b[0m\n"
      ]
     },
     "metadata": {},
     "output_type": "display_data"
    },
    {
     "data": {
      "text/html": [
       "<pre style=\"white-space:pre;overflow-x:auto;line-height:normal;font-family:Menlo,'DejaVu Sans Mono',consolas,'Courier New',monospace\">Updating MODFLOW Stress period <span style=\"color: #008080; text-decoration-color: #008080; font-weight: bold\">8</span>, time step <span style=\"color: #008080; text-decoration-color: #008080; font-weight: bold\">4</span>\n",
       "</pre>\n"
      ],
      "text/plain": [
       "Updating MODFLOW Stress period \u001b[1;36m8\u001b[0m, time step \u001b[1;36m4\u001b[0m\n"
      ]
     },
     "metadata": {},
     "output_type": "display_data"
    },
    {
     "data": {
      "text/html": [
       "<pre style=\"white-space:pre;overflow-x:auto;line-height:normal;font-family:Menlo,'DejaVu Sans Mono',consolas,'Courier New',monospace\">Updating MODFLOW Stress period <span style=\"color: #008080; text-decoration-color: #008080; font-weight: bold\">8</span>, time step <span style=\"color: #008080; text-decoration-color: #008080; font-weight: bold\">5</span>\n",
       "</pre>\n"
      ],
      "text/plain": [
       "Updating MODFLOW Stress period \u001b[1;36m8\u001b[0m, time step \u001b[1;36m5\u001b[0m\n"
      ]
     },
     "metadata": {},
     "output_type": "display_data"
    },
    {
     "data": {
      "text/html": [
       "<pre style=\"white-space:pre;overflow-x:auto;line-height:normal;font-family:Menlo,'DejaVu Sans Mono',consolas,'Courier New',monospace\">Updating MODFLOW Stress period <span style=\"color: #008080; text-decoration-color: #008080; font-weight: bold\">8</span>, time step <span style=\"color: #008080; text-decoration-color: #008080; font-weight: bold\">6</span>\n",
       "</pre>\n"
      ],
      "text/plain": [
       "Updating MODFLOW Stress period \u001b[1;36m8\u001b[0m, time step \u001b[1;36m6\u001b[0m\n"
      ]
     },
     "metadata": {},
     "output_type": "display_data"
    },
    {
     "data": {
      "text/html": [
       "<pre style=\"white-space:pre;overflow-x:auto;line-height:normal;font-family:Menlo,'DejaVu Sans Mono',consolas,'Courier New',monospace\">Updating MODFLOW Stress period <span style=\"color: #008080; text-decoration-color: #008080; font-weight: bold\">8</span>, time step <span style=\"color: #008080; text-decoration-color: #008080; font-weight: bold\">7</span>\n",
       "</pre>\n"
      ],
      "text/plain": [
       "Updating MODFLOW Stress period \u001b[1;36m8\u001b[0m, time step \u001b[1;36m7\u001b[0m\n"
      ]
     },
     "metadata": {},
     "output_type": "display_data"
    },
    {
     "data": {
      "text/html": [
       "<pre style=\"white-space:pre;overflow-x:auto;line-height:normal;font-family:Menlo,'DejaVu Sans Mono',consolas,'Courier New',monospace\">Updating MODFLOW Stress period <span style=\"color: #008080; text-decoration-color: #008080; font-weight: bold\">8</span>, time step <span style=\"color: #008080; text-decoration-color: #008080; font-weight: bold\">8</span>\n",
       "</pre>\n"
      ],
      "text/plain": [
       "Updating MODFLOW Stress period \u001b[1;36m8\u001b[0m, time step \u001b[1;36m8\u001b[0m\n"
      ]
     },
     "metadata": {},
     "output_type": "display_data"
    },
    {
     "data": {
      "text/html": [
       "<pre style=\"white-space:pre;overflow-x:auto;line-height:normal;font-family:Menlo,'DejaVu Sans Mono',consolas,'Courier New',monospace\">Updating MODFLOW Stress period <span style=\"color: #008080; text-decoration-color: #008080; font-weight: bold\">8</span>, time step <span style=\"color: #008080; text-decoration-color: #008080; font-weight: bold\">9</span>\n",
       "</pre>\n"
      ],
      "text/plain": [
       "Updating MODFLOW Stress period \u001b[1;36m8\u001b[0m, time step \u001b[1;36m9\u001b[0m\n"
      ]
     },
     "metadata": {},
     "output_type": "display_data"
    },
    {
     "data": {
      "text/html": [
       "<pre style=\"white-space:pre;overflow-x:auto;line-height:normal;font-family:Menlo,'DejaVu Sans Mono',consolas,'Courier New',monospace\">Updating MODFLOW Stress period <span style=\"color: #008080; text-decoration-color: #008080; font-weight: bold\">8</span>, time step <span style=\"color: #008080; text-decoration-color: #008080; font-weight: bold\">10</span>\n",
       "</pre>\n"
      ],
      "text/plain": [
       "Updating MODFLOW Stress period \u001b[1;36m8\u001b[0m, time step \u001b[1;36m10\u001b[0m\n"
      ]
     },
     "metadata": {},
     "output_type": "display_data"
    },
    {
     "data": {
      "text/html": [
       "<pre style=\"white-space:pre;overflow-x:auto;line-height:normal;font-family:Menlo,'DejaVu Sans Mono',consolas,'Courier New',monospace\">Updating MODFLOW Stress period <span style=\"color: #008080; text-decoration-color: #008080; font-weight: bold\">8</span>, time step <span style=\"color: #008080; text-decoration-color: #008080; font-weight: bold\">11</span>\n",
       "</pre>\n"
      ],
      "text/plain": [
       "Updating MODFLOW Stress period \u001b[1;36m8\u001b[0m, time step \u001b[1;36m11\u001b[0m\n"
      ]
     },
     "metadata": {},
     "output_type": "display_data"
    },
    {
     "data": {
      "text/html": [
       "<pre style=\"white-space:pre;overflow-x:auto;line-height:normal;font-family:Menlo,'DejaVu Sans Mono',consolas,'Courier New',monospace\">Updating MODFLOW Stress period <span style=\"color: #008080; text-decoration-color: #008080; font-weight: bold\">8</span>, time step <span style=\"color: #008080; text-decoration-color: #008080; font-weight: bold\">12</span>\n",
       "</pre>\n"
      ],
      "text/plain": [
       "Updating MODFLOW Stress period \u001b[1;36m8\u001b[0m, time step \u001b[1;36m12\u001b[0m\n"
      ]
     },
     "metadata": {},
     "output_type": "display_data"
    },
    {
     "data": {
      "text/html": [
       "<pre style=\"white-space:pre;overflow-x:auto;line-height:normal;font-family:Menlo,'DejaVu Sans Mono',consolas,'Courier New',monospace\">Updating MODFLOW Stress period <span style=\"color: #008080; text-decoration-color: #008080; font-weight: bold\">8</span>, time step <span style=\"color: #008080; text-decoration-color: #008080; font-weight: bold\">13</span>\n",
       "</pre>\n"
      ],
      "text/plain": [
       "Updating MODFLOW Stress period \u001b[1;36m8\u001b[0m, time step \u001b[1;36m13\u001b[0m\n"
      ]
     },
     "metadata": {},
     "output_type": "display_data"
    },
    {
     "data": {
      "text/html": [
       "<pre style=\"white-space:pre;overflow-x:auto;line-height:normal;font-family:Menlo,'DejaVu Sans Mono',consolas,'Courier New',monospace\">Updating MODFLOW Stress period <span style=\"color: #008080; text-decoration-color: #008080; font-weight: bold\">8</span>, time step <span style=\"color: #008080; text-decoration-color: #008080; font-weight: bold\">14</span>\n",
       "</pre>\n"
      ],
      "text/plain": [
       "Updating MODFLOW Stress period \u001b[1;36m8\u001b[0m, time step \u001b[1;36m14\u001b[0m\n"
      ]
     },
     "metadata": {},
     "output_type": "display_data"
    },
    {
     "data": {
      "text/html": [
       "<pre style=\"white-space:pre;overflow-x:auto;line-height:normal;font-family:Menlo,'DejaVu Sans Mono',consolas,'Courier New',monospace\">Updating MODFLOW Stress period <span style=\"color: #008080; text-decoration-color: #008080; font-weight: bold\">8</span>, time step <span style=\"color: #008080; text-decoration-color: #008080; font-weight: bold\">15</span>\n",
       "</pre>\n"
      ],
      "text/plain": [
       "Updating MODFLOW Stress period \u001b[1;36m8\u001b[0m, time step \u001b[1;36m15\u001b[0m\n"
      ]
     },
     "metadata": {},
     "output_type": "display_data"
    },
    {
     "data": {
      "text/html": [
       "<pre style=\"white-space:pre;overflow-x:auto;line-height:normal;font-family:Menlo,'DejaVu Sans Mono',consolas,'Courier New',monospace\">Updating MODFLOW Stress period <span style=\"color: #008080; text-decoration-color: #008080; font-weight: bold\">8</span>, time step <span style=\"color: #008080; text-decoration-color: #008080; font-weight: bold\">16</span>\n",
       "</pre>\n"
      ],
      "text/plain": [
       "Updating MODFLOW Stress period \u001b[1;36m8\u001b[0m, time step \u001b[1;36m16\u001b[0m\n"
      ]
     },
     "metadata": {},
     "output_type": "display_data"
    },
    {
     "data": {
      "text/html": [
       "<pre style=\"white-space:pre;overflow-x:auto;line-height:normal;font-family:Menlo,'DejaVu Sans Mono',consolas,'Courier New',monospace\">Updating MODFLOW Stress period <span style=\"color: #008080; text-decoration-color: #008080; font-weight: bold\">8</span>, time step <span style=\"color: #008080; text-decoration-color: #008080; font-weight: bold\">17</span>\n",
       "</pre>\n"
      ],
      "text/plain": [
       "Updating MODFLOW Stress period \u001b[1;36m8\u001b[0m, time step \u001b[1;36m17\u001b[0m\n"
      ]
     },
     "metadata": {},
     "output_type": "display_data"
    },
    {
     "data": {
      "text/html": [
       "<pre style=\"white-space:pre;overflow-x:auto;line-height:normal;font-family:Menlo,'DejaVu Sans Mono',consolas,'Courier New',monospace\">Updating MODFLOW Stress period <span style=\"color: #008080; text-decoration-color: #008080; font-weight: bold\">8</span>, time step <span style=\"color: #008080; text-decoration-color: #008080; font-weight: bold\">18</span>\n",
       "</pre>\n"
      ],
      "text/plain": [
       "Updating MODFLOW Stress period \u001b[1;36m8\u001b[0m, time step \u001b[1;36m18\u001b[0m\n"
      ]
     },
     "metadata": {},
     "output_type": "display_data"
    },
    {
     "data": {
      "text/html": [
       "<pre style=\"white-space:pre;overflow-x:auto;line-height:normal;font-family:Menlo,'DejaVu Sans Mono',consolas,'Courier New',monospace\">Updating MODFLOW Stress period <span style=\"color: #008080; text-decoration-color: #008080; font-weight: bold\">8</span>, time step <span style=\"color: #008080; text-decoration-color: #008080; font-weight: bold\">19</span>\n",
       "</pre>\n"
      ],
      "text/plain": [
       "Updating MODFLOW Stress period \u001b[1;36m8\u001b[0m, time step \u001b[1;36m19\u001b[0m\n"
      ]
     },
     "metadata": {},
     "output_type": "display_data"
    },
    {
     "data": {
      "text/html": [
       "<pre style=\"white-space:pre;overflow-x:auto;line-height:normal;font-family:Menlo,'DejaVu Sans Mono',consolas,'Courier New',monospace\">Updating MODFLOW Stress period <span style=\"color: #008080; text-decoration-color: #008080; font-weight: bold\">8</span>, time step <span style=\"color: #008080; text-decoration-color: #008080; font-weight: bold\">20</span>\n",
       "</pre>\n"
      ],
      "text/plain": [
       "Updating MODFLOW Stress period \u001b[1;36m8\u001b[0m, time step \u001b[1;36m20\u001b[0m\n"
      ]
     },
     "metadata": {},
     "output_type": "display_data"
    },
    {
     "data": {
      "text/html": [
       "<pre style=\"white-space:pre;overflow-x:auto;line-height:normal;font-family:Menlo,'DejaVu Sans Mono',consolas,'Courier New',monospace\">Updating MODFLOW Stress period <span style=\"color: #008080; text-decoration-color: #008080; font-weight: bold\">8</span>, time step <span style=\"color: #008080; text-decoration-color: #008080; font-weight: bold\">21</span>\n",
       "</pre>\n"
      ],
      "text/plain": [
       "Updating MODFLOW Stress period \u001b[1;36m8\u001b[0m, time step \u001b[1;36m21\u001b[0m\n"
      ]
     },
     "metadata": {},
     "output_type": "display_data"
    },
    {
     "data": {
      "text/html": [
       "<pre style=\"white-space:pre;overflow-x:auto;line-height:normal;font-family:Menlo,'DejaVu Sans Mono',consolas,'Courier New',monospace\">Updating MODFLOW Stress period <span style=\"color: #008080; text-decoration-color: #008080; font-weight: bold\">8</span>, time step <span style=\"color: #008080; text-decoration-color: #008080; font-weight: bold\">22</span>\n",
       "</pre>\n"
      ],
      "text/plain": [
       "Updating MODFLOW Stress period \u001b[1;36m8\u001b[0m, time step \u001b[1;36m22\u001b[0m\n"
      ]
     },
     "metadata": {},
     "output_type": "display_data"
    },
    {
     "data": {
      "text/html": [
       "<pre style=\"white-space:pre;overflow-x:auto;line-height:normal;font-family:Menlo,'DejaVu Sans Mono',consolas,'Courier New',monospace\">Updating MODFLOW Stress period <span style=\"color: #008080; text-decoration-color: #008080; font-weight: bold\">8</span>, time step <span style=\"color: #008080; text-decoration-color: #008080; font-weight: bold\">23</span>\n",
       "</pre>\n"
      ],
      "text/plain": [
       "Updating MODFLOW Stress period \u001b[1;36m8\u001b[0m, time step \u001b[1;36m23\u001b[0m\n"
      ]
     },
     "metadata": {},
     "output_type": "display_data"
    },
    {
     "data": {
      "text/html": [
       "<pre style=\"white-space:pre;overflow-x:auto;line-height:normal;font-family:Menlo,'DejaVu Sans Mono',consolas,'Courier New',monospace\">Updating MODFLOW Stress period <span style=\"color: #008080; text-decoration-color: #008080; font-weight: bold\">8</span>, time step <span style=\"color: #008080; text-decoration-color: #008080; font-weight: bold\">24</span>\n",
       "</pre>\n"
      ],
      "text/plain": [
       "Updating MODFLOW Stress period \u001b[1;36m8\u001b[0m, time step \u001b[1;36m24\u001b[0m\n"
      ]
     },
     "metadata": {},
     "output_type": "display_data"
    },
    {
     "data": {
      "text/html": [
       "<pre style=\"white-space:pre;overflow-x:auto;line-height:normal;font-family:Menlo,'DejaVu Sans Mono',consolas,'Courier New',monospace\">Updating MODFLOW Stress period <span style=\"color: #008080; text-decoration-color: #008080; font-weight: bold\">8</span>, time step <span style=\"color: #008080; text-decoration-color: #008080; font-weight: bold\">25</span>\n",
       "</pre>\n"
      ],
      "text/plain": [
       "Updating MODFLOW Stress period \u001b[1;36m8\u001b[0m, time step \u001b[1;36m25\u001b[0m\n"
      ]
     },
     "metadata": {},
     "output_type": "display_data"
    },
    {
     "data": {
      "text/html": [
       "<pre style=\"white-space:pre;overflow-x:auto;line-height:normal;font-family:Menlo,'DejaVu Sans Mono',consolas,'Courier New',monospace\">Updating MODFLOW Stress period <span style=\"color: #008080; text-decoration-color: #008080; font-weight: bold\">8</span>, time step <span style=\"color: #008080; text-decoration-color: #008080; font-weight: bold\">26</span>\n",
       "</pre>\n"
      ],
      "text/plain": [
       "Updating MODFLOW Stress period \u001b[1;36m8\u001b[0m, time step \u001b[1;36m26\u001b[0m\n"
      ]
     },
     "metadata": {},
     "output_type": "display_data"
    },
    {
     "data": {
      "text/html": [
       "<pre style=\"white-space:pre;overflow-x:auto;line-height:normal;font-family:Menlo,'DejaVu Sans Mono',consolas,'Courier New',monospace\">Updating MODFLOW Stress period <span style=\"color: #008080; text-decoration-color: #008080; font-weight: bold\">8</span>, time step <span style=\"color: #008080; text-decoration-color: #008080; font-weight: bold\">27</span>\n",
       "</pre>\n"
      ],
      "text/plain": [
       "Updating MODFLOW Stress period \u001b[1;36m8\u001b[0m, time step \u001b[1;36m27\u001b[0m\n"
      ]
     },
     "metadata": {},
     "output_type": "display_data"
    },
    {
     "data": {
      "text/html": [
       "<pre style=\"white-space:pre;overflow-x:auto;line-height:normal;font-family:Menlo,'DejaVu Sans Mono',consolas,'Courier New',monospace\">Updating MODFLOW Stress period <span style=\"color: #008080; text-decoration-color: #008080; font-weight: bold\">8</span>, time step <span style=\"color: #008080; text-decoration-color: #008080; font-weight: bold\">28</span>\n",
       "</pre>\n"
      ],
      "text/plain": [
       "Updating MODFLOW Stress period \u001b[1;36m8\u001b[0m, time step \u001b[1;36m28\u001b[0m\n"
      ]
     },
     "metadata": {},
     "output_type": "display_data"
    },
    {
     "data": {
      "text/html": [
       "<pre style=\"white-space:pre;overflow-x:auto;line-height:normal;font-family:Menlo,'DejaVu Sans Mono',consolas,'Courier New',monospace\">Updating MODFLOW Stress period <span style=\"color: #008080; text-decoration-color: #008080; font-weight: bold\">8</span>, time step <span style=\"color: #008080; text-decoration-color: #008080; font-weight: bold\">29</span>\n",
       "</pre>\n"
      ],
      "text/plain": [
       "Updating MODFLOW Stress period \u001b[1;36m8\u001b[0m, time step \u001b[1;36m29\u001b[0m\n"
      ]
     },
     "metadata": {},
     "output_type": "display_data"
    },
    {
     "data": {
      "text/html": [
       "<pre style=\"white-space:pre;overflow-x:auto;line-height:normal;font-family:Menlo,'DejaVu Sans Mono',consolas,'Courier New',monospace\">Updating MODFLOW Stress period <span style=\"color: #008080; text-decoration-color: #008080; font-weight: bold\">8</span>, time step <span style=\"color: #008080; text-decoration-color: #008080; font-weight: bold\">30</span>\n",
       "</pre>\n"
      ],
      "text/plain": [
       "Updating MODFLOW Stress period \u001b[1;36m8\u001b[0m, time step \u001b[1;36m30\u001b[0m\n"
      ]
     },
     "metadata": {},
     "output_type": "display_data"
    },
    {
     "data": {
      "text/html": [
       "<pre style=\"white-space:pre;overflow-x:auto;line-height:normal;font-family:Menlo,'DejaVu Sans Mono',consolas,'Courier New',monospace\">Updating MODFLOW Stress period <span style=\"color: #008080; text-decoration-color: #008080; font-weight: bold\">8</span>, time step <span style=\"color: #008080; text-decoration-color: #008080; font-weight: bold\">31</span>\n",
       "</pre>\n"
      ],
      "text/plain": [
       "Updating MODFLOW Stress period \u001b[1;36m8\u001b[0m, time step \u001b[1;36m31\u001b[0m\n"
      ]
     },
     "metadata": {},
     "output_type": "display_data"
    },
    {
     "data": {
      "text/html": [
       "<pre style=\"white-space:pre;overflow-x:auto;line-height:normal;font-family:Menlo,'DejaVu Sans Mono',consolas,'Courier New',monospace\">Updating MODFLOW Stress period <span style=\"color: #008080; text-decoration-color: #008080; font-weight: bold\">8</span>, time step <span style=\"color: #008080; text-decoration-color: #008080; font-weight: bold\">32</span>\n",
       "</pre>\n"
      ],
      "text/plain": [
       "Updating MODFLOW Stress period \u001b[1;36m8\u001b[0m, time step \u001b[1;36m32\u001b[0m\n"
      ]
     },
     "metadata": {},
     "output_type": "display_data"
    },
    {
     "data": {
      "text/html": [
       "<pre style=\"white-space:pre;overflow-x:auto;line-height:normal;font-family:Menlo,'DejaVu Sans Mono',consolas,'Courier New',monospace\">Updating MODFLOW Stress period <span style=\"color: #008080; text-decoration-color: #008080; font-weight: bold\">8</span>, time step <span style=\"color: #008080; text-decoration-color: #008080; font-weight: bold\">33</span>\n",
       "</pre>\n"
      ],
      "text/plain": [
       "Updating MODFLOW Stress period \u001b[1;36m8\u001b[0m, time step \u001b[1;36m33\u001b[0m\n"
      ]
     },
     "metadata": {},
     "output_type": "display_data"
    },
    {
     "data": {
      "text/html": [
       "<pre style=\"white-space:pre;overflow-x:auto;line-height:normal;font-family:Menlo,'DejaVu Sans Mono',consolas,'Courier New',monospace\">Updating MODFLOW Stress period <span style=\"color: #008080; text-decoration-color: #008080; font-weight: bold\">8</span>, time step <span style=\"color: #008080; text-decoration-color: #008080; font-weight: bold\">34</span>\n",
       "</pre>\n"
      ],
      "text/plain": [
       "Updating MODFLOW Stress period \u001b[1;36m8\u001b[0m, time step \u001b[1;36m34\u001b[0m\n"
      ]
     },
     "metadata": {},
     "output_type": "display_data"
    },
    {
     "data": {
      "text/html": [
       "<pre style=\"white-space:pre;overflow-x:auto;line-height:normal;font-family:Menlo,'DejaVu Sans Mono',consolas,'Courier New',monospace\">Updating MODFLOW Stress period <span style=\"color: #008080; text-decoration-color: #008080; font-weight: bold\">8</span>, time step <span style=\"color: #008080; text-decoration-color: #008080; font-weight: bold\">35</span>\n",
       "</pre>\n"
      ],
      "text/plain": [
       "Updating MODFLOW Stress period \u001b[1;36m8\u001b[0m, time step \u001b[1;36m35\u001b[0m\n"
      ]
     },
     "metadata": {},
     "output_type": "display_data"
    },
    {
     "data": {
      "text/html": [
       "<pre style=\"white-space:pre;overflow-x:auto;line-height:normal;font-family:Menlo,'DejaVu Sans Mono',consolas,'Courier New',monospace\">Updating MODFLOW Stress period <span style=\"color: #008080; text-decoration-color: #008080; font-weight: bold\">8</span>, time step <span style=\"color: #008080; text-decoration-color: #008080; font-weight: bold\">36</span>\n",
       "</pre>\n"
      ],
      "text/plain": [
       "Updating MODFLOW Stress period \u001b[1;36m8\u001b[0m, time step \u001b[1;36m36\u001b[0m\n"
      ]
     },
     "metadata": {},
     "output_type": "display_data"
    },
    {
     "data": {
      "text/html": [
       "<pre style=\"white-space:pre;overflow-x:auto;line-height:normal;font-family:Menlo,'DejaVu Sans Mono',consolas,'Courier New',monospace\">Updating MODFLOW Stress period <span style=\"color: #008080; text-decoration-color: #008080; font-weight: bold\">8</span>, time step <span style=\"color: #008080; text-decoration-color: #008080; font-weight: bold\">37</span>\n",
       "</pre>\n"
      ],
      "text/plain": [
       "Updating MODFLOW Stress period \u001b[1;36m8\u001b[0m, time step \u001b[1;36m37\u001b[0m\n"
      ]
     },
     "metadata": {},
     "output_type": "display_data"
    },
    {
     "data": {
      "text/html": [
       "<pre style=\"white-space:pre;overflow-x:auto;line-height:normal;font-family:Menlo,'DejaVu Sans Mono',consolas,'Courier New',monospace\">Updating MODFLOW Stress period <span style=\"color: #008080; text-decoration-color: #008080; font-weight: bold\">8</span>, time step <span style=\"color: #008080; text-decoration-color: #008080; font-weight: bold\">38</span>\n",
       "</pre>\n"
      ],
      "text/plain": [
       "Updating MODFLOW Stress period \u001b[1;36m8\u001b[0m, time step \u001b[1;36m38\u001b[0m\n"
      ]
     },
     "metadata": {},
     "output_type": "display_data"
    },
    {
     "data": {
      "text/html": [
       "<pre style=\"white-space:pre;overflow-x:auto;line-height:normal;font-family:Menlo,'DejaVu Sans Mono',consolas,'Courier New',monospace\">Updating MODFLOW Stress period <span style=\"color: #008080; text-decoration-color: #008080; font-weight: bold\">8</span>, time step <span style=\"color: #008080; text-decoration-color: #008080; font-weight: bold\">39</span>\n",
       "</pre>\n"
      ],
      "text/plain": [
       "Updating MODFLOW Stress period \u001b[1;36m8\u001b[0m, time step \u001b[1;36m39\u001b[0m\n"
      ]
     },
     "metadata": {},
     "output_type": "display_data"
    },
    {
     "data": {
      "text/html": [
       "<pre style=\"white-space:pre;overflow-x:auto;line-height:normal;font-family:Menlo,'DejaVu Sans Mono',consolas,'Courier New',monospace\">Updating MODFLOW Stress period <span style=\"color: #008080; text-decoration-color: #008080; font-weight: bold\">8</span>, time step <span style=\"color: #008080; text-decoration-color: #008080; font-weight: bold\">40</span>\n",
       "</pre>\n"
      ],
      "text/plain": [
       "Updating MODFLOW Stress period \u001b[1;36m8\u001b[0m, time step \u001b[1;36m40\u001b[0m\n"
      ]
     },
     "metadata": {},
     "output_type": "display_data"
    },
    {
     "data": {
      "text/html": [
       "<pre style=\"white-space:pre;overflow-x:auto;line-height:normal;font-family:Menlo,'DejaVu Sans Mono',consolas,'Courier New',monospace\">Updating MODFLOW Stress period <span style=\"color: #008080; text-decoration-color: #008080; font-weight: bold\">8</span>, time step <span style=\"color: #008080; text-decoration-color: #008080; font-weight: bold\">41</span>\n",
       "</pre>\n"
      ],
      "text/plain": [
       "Updating MODFLOW Stress period \u001b[1;36m8\u001b[0m, time step \u001b[1;36m41\u001b[0m\n"
      ]
     },
     "metadata": {},
     "output_type": "display_data"
    },
    {
     "data": {
      "text/html": [
       "<pre style=\"white-space:pre;overflow-x:auto;line-height:normal;font-family:Menlo,'DejaVu Sans Mono',consolas,'Courier New',monospace\">Updating MODFLOW Stress period <span style=\"color: #008080; text-decoration-color: #008080; font-weight: bold\">8</span>, time step <span style=\"color: #008080; text-decoration-color: #008080; font-weight: bold\">42</span>\n",
       "</pre>\n"
      ],
      "text/plain": [
       "Updating MODFLOW Stress period \u001b[1;36m8\u001b[0m, time step \u001b[1;36m42\u001b[0m\n"
      ]
     },
     "metadata": {},
     "output_type": "display_data"
    },
    {
     "data": {
      "text/html": [
       "<pre style=\"white-space:pre;overflow-x:auto;line-height:normal;font-family:Menlo,'DejaVu Sans Mono',consolas,'Courier New',monospace\">Updating MODFLOW Stress period <span style=\"color: #008080; text-decoration-color: #008080; font-weight: bold\">8</span>, time step <span style=\"color: #008080; text-decoration-color: #008080; font-weight: bold\">43</span>\n",
       "</pre>\n"
      ],
      "text/plain": [
       "Updating MODFLOW Stress period \u001b[1;36m8\u001b[0m, time step \u001b[1;36m43\u001b[0m\n"
      ]
     },
     "metadata": {},
     "output_type": "display_data"
    },
    {
     "data": {
      "text/html": [
       "<pre style=\"white-space:pre;overflow-x:auto;line-height:normal;font-family:Menlo,'DejaVu Sans Mono',consolas,'Courier New',monospace\">Updating MODFLOW Stress period <span style=\"color: #008080; text-decoration-color: #008080; font-weight: bold\">8</span>, time step <span style=\"color: #008080; text-decoration-color: #008080; font-weight: bold\">44</span>\n",
       "</pre>\n"
      ],
      "text/plain": [
       "Updating MODFLOW Stress period \u001b[1;36m8\u001b[0m, time step \u001b[1;36m44\u001b[0m\n"
      ]
     },
     "metadata": {},
     "output_type": "display_data"
    },
    {
     "data": {
      "text/html": [
       "<pre style=\"white-space:pre;overflow-x:auto;line-height:normal;font-family:Menlo,'DejaVu Sans Mono',consolas,'Courier New',monospace\">Updating MODFLOW Stress period <span style=\"color: #008080; text-decoration-color: #008080; font-weight: bold\">8</span>, time step <span style=\"color: #008080; text-decoration-color: #008080; font-weight: bold\">45</span>\n",
       "</pre>\n"
      ],
      "text/plain": [
       "Updating MODFLOW Stress period \u001b[1;36m8\u001b[0m, time step \u001b[1;36m45\u001b[0m\n"
      ]
     },
     "metadata": {},
     "output_type": "display_data"
    },
    {
     "data": {
      "text/html": [
       "<pre style=\"white-space:pre;overflow-x:auto;line-height:normal;font-family:Menlo,'DejaVu Sans Mono',consolas,'Courier New',monospace\">Updating MODFLOW Stress period <span style=\"color: #008080; text-decoration-color: #008080; font-weight: bold\">8</span>, time step <span style=\"color: #008080; text-decoration-color: #008080; font-weight: bold\">46</span>\n",
       "</pre>\n"
      ],
      "text/plain": [
       "Updating MODFLOW Stress period \u001b[1;36m8\u001b[0m, time step \u001b[1;36m46\u001b[0m\n"
      ]
     },
     "metadata": {},
     "output_type": "display_data"
    },
    {
     "data": {
      "text/html": [
       "<pre style=\"white-space:pre;overflow-x:auto;line-height:normal;font-family:Menlo,'DejaVu Sans Mono',consolas,'Courier New',monospace\">Updating MODFLOW Stress period <span style=\"color: #008080; text-decoration-color: #008080; font-weight: bold\">8</span>, time step <span style=\"color: #008080; text-decoration-color: #008080; font-weight: bold\">47</span>\n",
       "</pre>\n"
      ],
      "text/plain": [
       "Updating MODFLOW Stress period \u001b[1;36m8\u001b[0m, time step \u001b[1;36m47\u001b[0m\n"
      ]
     },
     "metadata": {},
     "output_type": "display_data"
    },
    {
     "data": {
      "text/html": [
       "<pre style=\"white-space:pre;overflow-x:auto;line-height:normal;font-family:Menlo,'DejaVu Sans Mono',consolas,'Courier New',monospace\">Updating MODFLOW Stress period <span style=\"color: #008080; text-decoration-color: #008080; font-weight: bold\">8</span>, time step <span style=\"color: #008080; text-decoration-color: #008080; font-weight: bold\">48</span>\n",
       "</pre>\n"
      ],
      "text/plain": [
       "Updating MODFLOW Stress period \u001b[1;36m8\u001b[0m, time step \u001b[1;36m48\u001b[0m\n"
      ]
     },
     "metadata": {},
     "output_type": "display_data"
    },
    {
     "data": {
      "text/html": [
       "<pre style=\"white-space:pre;overflow-x:auto;line-height:normal;font-family:Menlo,'DejaVu Sans Mono',consolas,'Courier New',monospace\">Updating MODFLOW Stress period <span style=\"color: #008080; text-decoration-color: #008080; font-weight: bold\">9</span>, time step <span style=\"color: #008080; text-decoration-color: #008080; font-weight: bold\">1</span>\n",
       "</pre>\n"
      ],
      "text/plain": [
       "Updating MODFLOW Stress period \u001b[1;36m9\u001b[0m, time step \u001b[1;36m1\u001b[0m\n"
      ]
     },
     "metadata": {},
     "output_type": "display_data"
    },
    {
     "data": {
      "text/html": [
       "<pre style=\"white-space:pre;overflow-x:auto;line-height:normal;font-family:Menlo,'DejaVu Sans Mono',consolas,'Courier New',monospace\">Updating MODFLOW Stress period <span style=\"color: #008080; text-decoration-color: #008080; font-weight: bold\">9</span>, time step <span style=\"color: #008080; text-decoration-color: #008080; font-weight: bold\">2</span>\n",
       "</pre>\n"
      ],
      "text/plain": [
       "Updating MODFLOW Stress period \u001b[1;36m9\u001b[0m, time step \u001b[1;36m2\u001b[0m\n"
      ]
     },
     "metadata": {},
     "output_type": "display_data"
    },
    {
     "data": {
      "text/html": [
       "<pre style=\"white-space:pre;overflow-x:auto;line-height:normal;font-family:Menlo,'DejaVu Sans Mono',consolas,'Courier New',monospace\">Updating MODFLOW Stress period <span style=\"color: #008080; text-decoration-color: #008080; font-weight: bold\">9</span>, time step <span style=\"color: #008080; text-decoration-color: #008080; font-weight: bold\">3</span>\n",
       "</pre>\n"
      ],
      "text/plain": [
       "Updating MODFLOW Stress period \u001b[1;36m9\u001b[0m, time step \u001b[1;36m3\u001b[0m\n"
      ]
     },
     "metadata": {},
     "output_type": "display_data"
    },
    {
     "data": {
      "text/html": [
       "<pre style=\"white-space:pre;overflow-x:auto;line-height:normal;font-family:Menlo,'DejaVu Sans Mono',consolas,'Courier New',monospace\">Updating MODFLOW Stress period <span style=\"color: #008080; text-decoration-color: #008080; font-weight: bold\">9</span>, time step <span style=\"color: #008080; text-decoration-color: #008080; font-weight: bold\">4</span>\n",
       "</pre>\n"
      ],
      "text/plain": [
       "Updating MODFLOW Stress period \u001b[1;36m9\u001b[0m, time step \u001b[1;36m4\u001b[0m\n"
      ]
     },
     "metadata": {},
     "output_type": "display_data"
    },
    {
     "data": {
      "text/html": [
       "<pre style=\"white-space:pre;overflow-x:auto;line-height:normal;font-family:Menlo,'DejaVu Sans Mono',consolas,'Courier New',monospace\">Updating MODFLOW Stress period <span style=\"color: #008080; text-decoration-color: #008080; font-weight: bold\">9</span>, time step <span style=\"color: #008080; text-decoration-color: #008080; font-weight: bold\">5</span>\n",
       "</pre>\n"
      ],
      "text/plain": [
       "Updating MODFLOW Stress period \u001b[1;36m9\u001b[0m, time step \u001b[1;36m5\u001b[0m\n"
      ]
     },
     "metadata": {},
     "output_type": "display_data"
    },
    {
     "data": {
      "text/html": [
       "<pre style=\"white-space:pre;overflow-x:auto;line-height:normal;font-family:Menlo,'DejaVu Sans Mono',consolas,'Courier New',monospace\">Updating MODFLOW Stress period <span style=\"color: #008080; text-decoration-color: #008080; font-weight: bold\">9</span>, time step <span style=\"color: #008080; text-decoration-color: #008080; font-weight: bold\">6</span>\n",
       "</pre>\n"
      ],
      "text/plain": [
       "Updating MODFLOW Stress period \u001b[1;36m9\u001b[0m, time step \u001b[1;36m6\u001b[0m\n"
      ]
     },
     "metadata": {},
     "output_type": "display_data"
    },
    {
     "data": {
      "text/html": [
       "<pre style=\"white-space:pre;overflow-x:auto;line-height:normal;font-family:Menlo,'DejaVu Sans Mono',consolas,'Courier New',monospace\">Updating MODFLOW Stress period <span style=\"color: #008080; text-decoration-color: #008080; font-weight: bold\">9</span>, time step <span style=\"color: #008080; text-decoration-color: #008080; font-weight: bold\">7</span>\n",
       "</pre>\n"
      ],
      "text/plain": [
       "Updating MODFLOW Stress period \u001b[1;36m9\u001b[0m, time step \u001b[1;36m7\u001b[0m\n"
      ]
     },
     "metadata": {},
     "output_type": "display_data"
    },
    {
     "data": {
      "text/html": [
       "<pre style=\"white-space:pre;overflow-x:auto;line-height:normal;font-family:Menlo,'DejaVu Sans Mono',consolas,'Courier New',monospace\">Updating MODFLOW Stress period <span style=\"color: #008080; text-decoration-color: #008080; font-weight: bold\">9</span>, time step <span style=\"color: #008080; text-decoration-color: #008080; font-weight: bold\">8</span>\n",
       "</pre>\n"
      ],
      "text/plain": [
       "Updating MODFLOW Stress period \u001b[1;36m9\u001b[0m, time step \u001b[1;36m8\u001b[0m\n"
      ]
     },
     "metadata": {},
     "output_type": "display_data"
    },
    {
     "data": {
      "text/html": [
       "<pre style=\"white-space:pre;overflow-x:auto;line-height:normal;font-family:Menlo,'DejaVu Sans Mono',consolas,'Courier New',monospace\">Updating MODFLOW Stress period <span style=\"color: #008080; text-decoration-color: #008080; font-weight: bold\">9</span>, time step <span style=\"color: #008080; text-decoration-color: #008080; font-weight: bold\">9</span>\n",
       "</pre>\n"
      ],
      "text/plain": [
       "Updating MODFLOW Stress period \u001b[1;36m9\u001b[0m, time step \u001b[1;36m9\u001b[0m\n"
      ]
     },
     "metadata": {},
     "output_type": "display_data"
    },
    {
     "data": {
      "text/html": [
       "<pre style=\"white-space:pre;overflow-x:auto;line-height:normal;font-family:Menlo,'DejaVu Sans Mono',consolas,'Courier New',monospace\">Updating MODFLOW Stress period <span style=\"color: #008080; text-decoration-color: #008080; font-weight: bold\">9</span>, time step <span style=\"color: #008080; text-decoration-color: #008080; font-weight: bold\">10</span>\n",
       "</pre>\n"
      ],
      "text/plain": [
       "Updating MODFLOW Stress period \u001b[1;36m9\u001b[0m, time step \u001b[1;36m10\u001b[0m\n"
      ]
     },
     "metadata": {},
     "output_type": "display_data"
    },
    {
     "data": {
      "text/html": [
       "<pre style=\"white-space:pre;overflow-x:auto;line-height:normal;font-family:Menlo,'DejaVu Sans Mono',consolas,'Courier New',monospace\">Updating MODFLOW Stress period <span style=\"color: #008080; text-decoration-color: #008080; font-weight: bold\">9</span>, time step <span style=\"color: #008080; text-decoration-color: #008080; font-weight: bold\">11</span>\n",
       "</pre>\n"
      ],
      "text/plain": [
       "Updating MODFLOW Stress period \u001b[1;36m9\u001b[0m, time step \u001b[1;36m11\u001b[0m\n"
      ]
     },
     "metadata": {},
     "output_type": "display_data"
    },
    {
     "data": {
      "text/html": [
       "<pre style=\"white-space:pre;overflow-x:auto;line-height:normal;font-family:Menlo,'DejaVu Sans Mono',consolas,'Courier New',monospace\">Updating MODFLOW Stress period <span style=\"color: #008080; text-decoration-color: #008080; font-weight: bold\">9</span>, time step <span style=\"color: #008080; text-decoration-color: #008080; font-weight: bold\">12</span>\n",
       "</pre>\n"
      ],
      "text/plain": [
       "Updating MODFLOW Stress period \u001b[1;36m9\u001b[0m, time step \u001b[1;36m12\u001b[0m\n"
      ]
     },
     "metadata": {},
     "output_type": "display_data"
    },
    {
     "data": {
      "text/html": [
       "<pre style=\"white-space:pre;overflow-x:auto;line-height:normal;font-family:Menlo,'DejaVu Sans Mono',consolas,'Courier New',monospace\">Updating MODFLOW Stress period <span style=\"color: #008080; text-decoration-color: #008080; font-weight: bold\">9</span>, time step <span style=\"color: #008080; text-decoration-color: #008080; font-weight: bold\">13</span>\n",
       "</pre>\n"
      ],
      "text/plain": [
       "Updating MODFLOW Stress period \u001b[1;36m9\u001b[0m, time step \u001b[1;36m13\u001b[0m\n"
      ]
     },
     "metadata": {},
     "output_type": "display_data"
    },
    {
     "data": {
      "text/html": [
       "<pre style=\"white-space:pre;overflow-x:auto;line-height:normal;font-family:Menlo,'DejaVu Sans Mono',consolas,'Courier New',monospace\">Updating MODFLOW Stress period <span style=\"color: #008080; text-decoration-color: #008080; font-weight: bold\">9</span>, time step <span style=\"color: #008080; text-decoration-color: #008080; font-weight: bold\">14</span>\n",
       "</pre>\n"
      ],
      "text/plain": [
       "Updating MODFLOW Stress period \u001b[1;36m9\u001b[0m, time step \u001b[1;36m14\u001b[0m\n"
      ]
     },
     "metadata": {},
     "output_type": "display_data"
    },
    {
     "data": {
      "text/html": [
       "<pre style=\"white-space:pre;overflow-x:auto;line-height:normal;font-family:Menlo,'DejaVu Sans Mono',consolas,'Courier New',monospace\">Updating MODFLOW Stress period <span style=\"color: #008080; text-decoration-color: #008080; font-weight: bold\">9</span>, time step <span style=\"color: #008080; text-decoration-color: #008080; font-weight: bold\">15</span>\n",
       "</pre>\n"
      ],
      "text/plain": [
       "Updating MODFLOW Stress period \u001b[1;36m9\u001b[0m, time step \u001b[1;36m15\u001b[0m\n"
      ]
     },
     "metadata": {},
     "output_type": "display_data"
    },
    {
     "data": {
      "text/html": [
       "<pre style=\"white-space:pre;overflow-x:auto;line-height:normal;font-family:Menlo,'DejaVu Sans Mono',consolas,'Courier New',monospace\">Updating MODFLOW Stress period <span style=\"color: #008080; text-decoration-color: #008080; font-weight: bold\">9</span>, time step <span style=\"color: #008080; text-decoration-color: #008080; font-weight: bold\">16</span>\n",
       "</pre>\n"
      ],
      "text/plain": [
       "Updating MODFLOW Stress period \u001b[1;36m9\u001b[0m, time step \u001b[1;36m16\u001b[0m\n"
      ]
     },
     "metadata": {},
     "output_type": "display_data"
    },
    {
     "data": {
      "text/html": [
       "<pre style=\"white-space:pre;overflow-x:auto;line-height:normal;font-family:Menlo,'DejaVu Sans Mono',consolas,'Courier New',monospace\">Updating MODFLOW Stress period <span style=\"color: #008080; text-decoration-color: #008080; font-weight: bold\">9</span>, time step <span style=\"color: #008080; text-decoration-color: #008080; font-weight: bold\">17</span>\n",
       "</pre>\n"
      ],
      "text/plain": [
       "Updating MODFLOW Stress period \u001b[1;36m9\u001b[0m, time step \u001b[1;36m17\u001b[0m\n"
      ]
     },
     "metadata": {},
     "output_type": "display_data"
    },
    {
     "data": {
      "text/html": [
       "<pre style=\"white-space:pre;overflow-x:auto;line-height:normal;font-family:Menlo,'DejaVu Sans Mono',consolas,'Courier New',monospace\">Updating MODFLOW Stress period <span style=\"color: #008080; text-decoration-color: #008080; font-weight: bold\">9</span>, time step <span style=\"color: #008080; text-decoration-color: #008080; font-weight: bold\">18</span>\n",
       "</pre>\n"
      ],
      "text/plain": [
       "Updating MODFLOW Stress period \u001b[1;36m9\u001b[0m, time step \u001b[1;36m18\u001b[0m\n"
      ]
     },
     "metadata": {},
     "output_type": "display_data"
    },
    {
     "data": {
      "text/html": [
       "<pre style=\"white-space:pre;overflow-x:auto;line-height:normal;font-family:Menlo,'DejaVu Sans Mono',consolas,'Courier New',monospace\">Updating MODFLOW Stress period <span style=\"color: #008080; text-decoration-color: #008080; font-weight: bold\">9</span>, time step <span style=\"color: #008080; text-decoration-color: #008080; font-weight: bold\">19</span>\n",
       "</pre>\n"
      ],
      "text/plain": [
       "Updating MODFLOW Stress period \u001b[1;36m9\u001b[0m, time step \u001b[1;36m19\u001b[0m\n"
      ]
     },
     "metadata": {},
     "output_type": "display_data"
    },
    {
     "data": {
      "text/html": [
       "<pre style=\"white-space:pre;overflow-x:auto;line-height:normal;font-family:Menlo,'DejaVu Sans Mono',consolas,'Courier New',monospace\">Updating MODFLOW Stress period <span style=\"color: #008080; text-decoration-color: #008080; font-weight: bold\">9</span>, time step <span style=\"color: #008080; text-decoration-color: #008080; font-weight: bold\">20</span>\n",
       "</pre>\n"
      ],
      "text/plain": [
       "Updating MODFLOW Stress period \u001b[1;36m9\u001b[0m, time step \u001b[1;36m20\u001b[0m\n"
      ]
     },
     "metadata": {},
     "output_type": "display_data"
    },
    {
     "data": {
      "text/html": [
       "<pre style=\"white-space:pre;overflow-x:auto;line-height:normal;font-family:Menlo,'DejaVu Sans Mono',consolas,'Courier New',monospace\">Updating MODFLOW Stress period <span style=\"color: #008080; text-decoration-color: #008080; font-weight: bold\">9</span>, time step <span style=\"color: #008080; text-decoration-color: #008080; font-weight: bold\">21</span>\n",
       "</pre>\n"
      ],
      "text/plain": [
       "Updating MODFLOW Stress period \u001b[1;36m9\u001b[0m, time step \u001b[1;36m21\u001b[0m\n"
      ]
     },
     "metadata": {},
     "output_type": "display_data"
    },
    {
     "data": {
      "text/html": [
       "<pre style=\"white-space:pre;overflow-x:auto;line-height:normal;font-family:Menlo,'DejaVu Sans Mono',consolas,'Courier New',monospace\">Updating MODFLOW Stress period <span style=\"color: #008080; text-decoration-color: #008080; font-weight: bold\">9</span>, time step <span style=\"color: #008080; text-decoration-color: #008080; font-weight: bold\">22</span>\n",
       "</pre>\n"
      ],
      "text/plain": [
       "Updating MODFLOW Stress period \u001b[1;36m9\u001b[0m, time step \u001b[1;36m22\u001b[0m\n"
      ]
     },
     "metadata": {},
     "output_type": "display_data"
    },
    {
     "data": {
      "text/html": [
       "<pre style=\"white-space:pre;overflow-x:auto;line-height:normal;font-family:Menlo,'DejaVu Sans Mono',consolas,'Courier New',monospace\">Updating MODFLOW Stress period <span style=\"color: #008080; text-decoration-color: #008080; font-weight: bold\">9</span>, time step <span style=\"color: #008080; text-decoration-color: #008080; font-weight: bold\">23</span>\n",
       "</pre>\n"
      ],
      "text/plain": [
       "Updating MODFLOW Stress period \u001b[1;36m9\u001b[0m, time step \u001b[1;36m23\u001b[0m\n"
      ]
     },
     "metadata": {},
     "output_type": "display_data"
    },
    {
     "data": {
      "text/html": [
       "<pre style=\"white-space:pre;overflow-x:auto;line-height:normal;font-family:Menlo,'DejaVu Sans Mono',consolas,'Courier New',monospace\">Updating MODFLOW Stress period <span style=\"color: #008080; text-decoration-color: #008080; font-weight: bold\">9</span>, time step <span style=\"color: #008080; text-decoration-color: #008080; font-weight: bold\">24</span>\n",
       "</pre>\n"
      ],
      "text/plain": [
       "Updating MODFLOW Stress period \u001b[1;36m9\u001b[0m, time step \u001b[1;36m24\u001b[0m\n"
      ]
     },
     "metadata": {},
     "output_type": "display_data"
    },
    {
     "data": {
      "text/html": [
       "<pre style=\"white-space:pre;overflow-x:auto;line-height:normal;font-family:Menlo,'DejaVu Sans Mono',consolas,'Courier New',monospace\">Updating MODFLOW Stress period <span style=\"color: #008080; text-decoration-color: #008080; font-weight: bold\">9</span>, time step <span style=\"color: #008080; text-decoration-color: #008080; font-weight: bold\">25</span>\n",
       "</pre>\n"
      ],
      "text/plain": [
       "Updating MODFLOW Stress period \u001b[1;36m9\u001b[0m, time step \u001b[1;36m25\u001b[0m\n"
      ]
     },
     "metadata": {},
     "output_type": "display_data"
    },
    {
     "data": {
      "text/html": [
       "<pre style=\"white-space:pre;overflow-x:auto;line-height:normal;font-family:Menlo,'DejaVu Sans Mono',consolas,'Courier New',monospace\">Updating MODFLOW Stress period <span style=\"color: #008080; text-decoration-color: #008080; font-weight: bold\">9</span>, time step <span style=\"color: #008080; text-decoration-color: #008080; font-weight: bold\">26</span>\n",
       "</pre>\n"
      ],
      "text/plain": [
       "Updating MODFLOW Stress period \u001b[1;36m9\u001b[0m, time step \u001b[1;36m26\u001b[0m\n"
      ]
     },
     "metadata": {},
     "output_type": "display_data"
    },
    {
     "data": {
      "text/html": [
       "<pre style=\"white-space:pre;overflow-x:auto;line-height:normal;font-family:Menlo,'DejaVu Sans Mono',consolas,'Courier New',monospace\">Updating MODFLOW Stress period <span style=\"color: #008080; text-decoration-color: #008080; font-weight: bold\">9</span>, time step <span style=\"color: #008080; text-decoration-color: #008080; font-weight: bold\">27</span>\n",
       "</pre>\n"
      ],
      "text/plain": [
       "Updating MODFLOW Stress period \u001b[1;36m9\u001b[0m, time step \u001b[1;36m27\u001b[0m\n"
      ]
     },
     "metadata": {},
     "output_type": "display_data"
    },
    {
     "data": {
      "text/html": [
       "<pre style=\"white-space:pre;overflow-x:auto;line-height:normal;font-family:Menlo,'DejaVu Sans Mono',consolas,'Courier New',monospace\">Updating MODFLOW Stress period <span style=\"color: #008080; text-decoration-color: #008080; font-weight: bold\">9</span>, time step <span style=\"color: #008080; text-decoration-color: #008080; font-weight: bold\">28</span>\n",
       "</pre>\n"
      ],
      "text/plain": [
       "Updating MODFLOW Stress period \u001b[1;36m9\u001b[0m, time step \u001b[1;36m28\u001b[0m\n"
      ]
     },
     "metadata": {},
     "output_type": "display_data"
    },
    {
     "data": {
      "text/html": [
       "<pre style=\"white-space:pre;overflow-x:auto;line-height:normal;font-family:Menlo,'DejaVu Sans Mono',consolas,'Courier New',monospace\">Updating MODFLOW Stress period <span style=\"color: #008080; text-decoration-color: #008080; font-weight: bold\">9</span>, time step <span style=\"color: #008080; text-decoration-color: #008080; font-weight: bold\">29</span>\n",
       "</pre>\n"
      ],
      "text/plain": [
       "Updating MODFLOW Stress period \u001b[1;36m9\u001b[0m, time step \u001b[1;36m29\u001b[0m\n"
      ]
     },
     "metadata": {},
     "output_type": "display_data"
    },
    {
     "data": {
      "text/html": [
       "<pre style=\"white-space:pre;overflow-x:auto;line-height:normal;font-family:Menlo,'DejaVu Sans Mono',consolas,'Courier New',monospace\">Updating MODFLOW Stress period <span style=\"color: #008080; text-decoration-color: #008080; font-weight: bold\">9</span>, time step <span style=\"color: #008080; text-decoration-color: #008080; font-weight: bold\">30</span>\n",
       "</pre>\n"
      ],
      "text/plain": [
       "Updating MODFLOW Stress period \u001b[1;36m9\u001b[0m, time step \u001b[1;36m30\u001b[0m\n"
      ]
     },
     "metadata": {},
     "output_type": "display_data"
    },
    {
     "data": {
      "text/html": [
       "<pre style=\"white-space:pre;overflow-x:auto;line-height:normal;font-family:Menlo,'DejaVu Sans Mono',consolas,'Courier New',monospace\">Updating MODFLOW Stress period <span style=\"color: #008080; text-decoration-color: #008080; font-weight: bold\">9</span>, time step <span style=\"color: #008080; text-decoration-color: #008080; font-weight: bold\">31</span>\n",
       "</pre>\n"
      ],
      "text/plain": [
       "Updating MODFLOW Stress period \u001b[1;36m9\u001b[0m, time step \u001b[1;36m31\u001b[0m\n"
      ]
     },
     "metadata": {},
     "output_type": "display_data"
    },
    {
     "data": {
      "text/html": [
       "<pre style=\"white-space:pre;overflow-x:auto;line-height:normal;font-family:Menlo,'DejaVu Sans Mono',consolas,'Courier New',monospace\">Updating MODFLOW Stress period <span style=\"color: #008080; text-decoration-color: #008080; font-weight: bold\">9</span>, time step <span style=\"color: #008080; text-decoration-color: #008080; font-weight: bold\">32</span>\n",
       "</pre>\n"
      ],
      "text/plain": [
       "Updating MODFLOW Stress period \u001b[1;36m9\u001b[0m, time step \u001b[1;36m32\u001b[0m\n"
      ]
     },
     "metadata": {},
     "output_type": "display_data"
    },
    {
     "data": {
      "text/html": [
       "<pre style=\"white-space:pre;overflow-x:auto;line-height:normal;font-family:Menlo,'DejaVu Sans Mono',consolas,'Courier New',monospace\">Updating MODFLOW Stress period <span style=\"color: #008080; text-decoration-color: #008080; font-weight: bold\">9</span>, time step <span style=\"color: #008080; text-decoration-color: #008080; font-weight: bold\">33</span>\n",
       "</pre>\n"
      ],
      "text/plain": [
       "Updating MODFLOW Stress period \u001b[1;36m9\u001b[0m, time step \u001b[1;36m33\u001b[0m\n"
      ]
     },
     "metadata": {},
     "output_type": "display_data"
    },
    {
     "data": {
      "text/html": [
       "<pre style=\"white-space:pre;overflow-x:auto;line-height:normal;font-family:Menlo,'DejaVu Sans Mono',consolas,'Courier New',monospace\">Updating MODFLOW Stress period <span style=\"color: #008080; text-decoration-color: #008080; font-weight: bold\">9</span>, time step <span style=\"color: #008080; text-decoration-color: #008080; font-weight: bold\">34</span>\n",
       "</pre>\n"
      ],
      "text/plain": [
       "Updating MODFLOW Stress period \u001b[1;36m9\u001b[0m, time step \u001b[1;36m34\u001b[0m\n"
      ]
     },
     "metadata": {},
     "output_type": "display_data"
    },
    {
     "data": {
      "text/html": [
       "<pre style=\"white-space:pre;overflow-x:auto;line-height:normal;font-family:Menlo,'DejaVu Sans Mono',consolas,'Courier New',monospace\">Updating MODFLOW Stress period <span style=\"color: #008080; text-decoration-color: #008080; font-weight: bold\">9</span>, time step <span style=\"color: #008080; text-decoration-color: #008080; font-weight: bold\">35</span>\n",
       "</pre>\n"
      ],
      "text/plain": [
       "Updating MODFLOW Stress period \u001b[1;36m9\u001b[0m, time step \u001b[1;36m35\u001b[0m\n"
      ]
     },
     "metadata": {},
     "output_type": "display_data"
    },
    {
     "data": {
      "text/html": [
       "<pre style=\"white-space:pre;overflow-x:auto;line-height:normal;font-family:Menlo,'DejaVu Sans Mono',consolas,'Courier New',monospace\">Updating MODFLOW Stress period <span style=\"color: #008080; text-decoration-color: #008080; font-weight: bold\">9</span>, time step <span style=\"color: #008080; text-decoration-color: #008080; font-weight: bold\">36</span>\n",
       "</pre>\n"
      ],
      "text/plain": [
       "Updating MODFLOW Stress period \u001b[1;36m9\u001b[0m, time step \u001b[1;36m36\u001b[0m\n"
      ]
     },
     "metadata": {},
     "output_type": "display_data"
    },
    {
     "data": {
      "text/html": [
       "<pre style=\"white-space:pre;overflow-x:auto;line-height:normal;font-family:Menlo,'DejaVu Sans Mono',consolas,'Courier New',monospace\">Updating MODFLOW Stress period <span style=\"color: #008080; text-decoration-color: #008080; font-weight: bold\">9</span>, time step <span style=\"color: #008080; text-decoration-color: #008080; font-weight: bold\">37</span>\n",
       "</pre>\n"
      ],
      "text/plain": [
       "Updating MODFLOW Stress period \u001b[1;36m9\u001b[0m, time step \u001b[1;36m37\u001b[0m\n"
      ]
     },
     "metadata": {},
     "output_type": "display_data"
    },
    {
     "data": {
      "text/html": [
       "<pre style=\"white-space:pre;overflow-x:auto;line-height:normal;font-family:Menlo,'DejaVu Sans Mono',consolas,'Courier New',monospace\">Updating MODFLOW Stress period <span style=\"color: #008080; text-decoration-color: #008080; font-weight: bold\">9</span>, time step <span style=\"color: #008080; text-decoration-color: #008080; font-weight: bold\">38</span>\n",
       "</pre>\n"
      ],
      "text/plain": [
       "Updating MODFLOW Stress period \u001b[1;36m9\u001b[0m, time step \u001b[1;36m38\u001b[0m\n"
      ]
     },
     "metadata": {},
     "output_type": "display_data"
    },
    {
     "data": {
      "text/html": [
       "<pre style=\"white-space:pre;overflow-x:auto;line-height:normal;font-family:Menlo,'DejaVu Sans Mono',consolas,'Courier New',monospace\">Updating MODFLOW Stress period <span style=\"color: #008080; text-decoration-color: #008080; font-weight: bold\">9</span>, time step <span style=\"color: #008080; text-decoration-color: #008080; font-weight: bold\">39</span>\n",
       "</pre>\n"
      ],
      "text/plain": [
       "Updating MODFLOW Stress period \u001b[1;36m9\u001b[0m, time step \u001b[1;36m39\u001b[0m\n"
      ]
     },
     "metadata": {},
     "output_type": "display_data"
    },
    {
     "data": {
      "text/html": [
       "<pre style=\"white-space:pre;overflow-x:auto;line-height:normal;font-family:Menlo,'DejaVu Sans Mono',consolas,'Courier New',monospace\">Updating MODFLOW Stress period <span style=\"color: #008080; text-decoration-color: #008080; font-weight: bold\">9</span>, time step <span style=\"color: #008080; text-decoration-color: #008080; font-weight: bold\">40</span>\n",
       "</pre>\n"
      ],
      "text/plain": [
       "Updating MODFLOW Stress period \u001b[1;36m9\u001b[0m, time step \u001b[1;36m40\u001b[0m\n"
      ]
     },
     "metadata": {},
     "output_type": "display_data"
    },
    {
     "data": {
      "text/html": [
       "<pre style=\"white-space:pre;overflow-x:auto;line-height:normal;font-family:Menlo,'DejaVu Sans Mono',consolas,'Courier New',monospace\">Updating MODFLOW Stress period <span style=\"color: #008080; text-decoration-color: #008080; font-weight: bold\">9</span>, time step <span style=\"color: #008080; text-decoration-color: #008080; font-weight: bold\">41</span>\n",
       "</pre>\n"
      ],
      "text/plain": [
       "Updating MODFLOW Stress period \u001b[1;36m9\u001b[0m, time step \u001b[1;36m41\u001b[0m\n"
      ]
     },
     "metadata": {},
     "output_type": "display_data"
    },
    {
     "data": {
      "text/html": [
       "<pre style=\"white-space:pre;overflow-x:auto;line-height:normal;font-family:Menlo,'DejaVu Sans Mono',consolas,'Courier New',monospace\">Updating MODFLOW Stress period <span style=\"color: #008080; text-decoration-color: #008080; font-weight: bold\">9</span>, time step <span style=\"color: #008080; text-decoration-color: #008080; font-weight: bold\">42</span>\n",
       "</pre>\n"
      ],
      "text/plain": [
       "Updating MODFLOW Stress period \u001b[1;36m9\u001b[0m, time step \u001b[1;36m42\u001b[0m\n"
      ]
     },
     "metadata": {},
     "output_type": "display_data"
    },
    {
     "data": {
      "text/html": [
       "<pre style=\"white-space:pre;overflow-x:auto;line-height:normal;font-family:Menlo,'DejaVu Sans Mono',consolas,'Courier New',monospace\">Updating MODFLOW Stress period <span style=\"color: #008080; text-decoration-color: #008080; font-weight: bold\">9</span>, time step <span style=\"color: #008080; text-decoration-color: #008080; font-weight: bold\">43</span>\n",
       "</pre>\n"
      ],
      "text/plain": [
       "Updating MODFLOW Stress period \u001b[1;36m9\u001b[0m, time step \u001b[1;36m43\u001b[0m\n"
      ]
     },
     "metadata": {},
     "output_type": "display_data"
    },
    {
     "data": {
      "text/html": [
       "<pre style=\"white-space:pre;overflow-x:auto;line-height:normal;font-family:Menlo,'DejaVu Sans Mono',consolas,'Courier New',monospace\">Updating MODFLOW Stress period <span style=\"color: #008080; text-decoration-color: #008080; font-weight: bold\">9</span>, time step <span style=\"color: #008080; text-decoration-color: #008080; font-weight: bold\">44</span>\n",
       "</pre>\n"
      ],
      "text/plain": [
       "Updating MODFLOW Stress period \u001b[1;36m9\u001b[0m, time step \u001b[1;36m44\u001b[0m\n"
      ]
     },
     "metadata": {},
     "output_type": "display_data"
    },
    {
     "data": {
      "text/html": [
       "<pre style=\"white-space:pre;overflow-x:auto;line-height:normal;font-family:Menlo,'DejaVu Sans Mono',consolas,'Courier New',monospace\">Updating MODFLOW Stress period <span style=\"color: #008080; text-decoration-color: #008080; font-weight: bold\">9</span>, time step <span style=\"color: #008080; text-decoration-color: #008080; font-weight: bold\">45</span>\n",
       "</pre>\n"
      ],
      "text/plain": [
       "Updating MODFLOW Stress period \u001b[1;36m9\u001b[0m, time step \u001b[1;36m45\u001b[0m\n"
      ]
     },
     "metadata": {},
     "output_type": "display_data"
    },
    {
     "data": {
      "text/html": [
       "<pre style=\"white-space:pre;overflow-x:auto;line-height:normal;font-family:Menlo,'DejaVu Sans Mono',consolas,'Courier New',monospace\">Updating MODFLOW Stress period <span style=\"color: #008080; text-decoration-color: #008080; font-weight: bold\">9</span>, time step <span style=\"color: #008080; text-decoration-color: #008080; font-weight: bold\">46</span>\n",
       "</pre>\n"
      ],
      "text/plain": [
       "Updating MODFLOW Stress period \u001b[1;36m9\u001b[0m, time step \u001b[1;36m46\u001b[0m\n"
      ]
     },
     "metadata": {},
     "output_type": "display_data"
    },
    {
     "data": {
      "text/html": [
       "<pre style=\"white-space:pre;overflow-x:auto;line-height:normal;font-family:Menlo,'DejaVu Sans Mono',consolas,'Courier New',monospace\">Updating MODFLOW Stress period <span style=\"color: #008080; text-decoration-color: #008080; font-weight: bold\">9</span>, time step <span style=\"color: #008080; text-decoration-color: #008080; font-weight: bold\">47</span>\n",
       "</pre>\n"
      ],
      "text/plain": [
       "Updating MODFLOW Stress period \u001b[1;36m9\u001b[0m, time step \u001b[1;36m47\u001b[0m\n"
      ]
     },
     "metadata": {},
     "output_type": "display_data"
    },
    {
     "data": {
      "text/html": [
       "<pre style=\"white-space:pre;overflow-x:auto;line-height:normal;font-family:Menlo,'DejaVu Sans Mono',consolas,'Courier New',monospace\">Updating MODFLOW Stress period <span style=\"color: #008080; text-decoration-color: #008080; font-weight: bold\">9</span>, time step <span style=\"color: #008080; text-decoration-color: #008080; font-weight: bold\">48</span>\n",
       "</pre>\n"
      ],
      "text/plain": [
       "Updating MODFLOW Stress period \u001b[1;36m9\u001b[0m, time step \u001b[1;36m48\u001b[0m\n"
      ]
     },
     "metadata": {},
     "output_type": "display_data"
    },
    {
     "data": {
      "text/html": [
       "<pre style=\"white-space:pre;overflow-x:auto;line-height:normal;font-family:Menlo,'DejaVu Sans Mono',consolas,'Courier New',monospace\">Updating MODFLOW Stress period <span style=\"color: #008080; text-decoration-color: #008080; font-weight: bold\">10</span>, time step <span style=\"color: #008080; text-decoration-color: #008080; font-weight: bold\">1</span>\n",
       "</pre>\n"
      ],
      "text/plain": [
       "Updating MODFLOW Stress period \u001b[1;36m10\u001b[0m, time step \u001b[1;36m1\u001b[0m\n"
      ]
     },
     "metadata": {},
     "output_type": "display_data"
    },
    {
     "data": {
      "text/html": [
       "<pre style=\"white-space:pre;overflow-x:auto;line-height:normal;font-family:Menlo,'DejaVu Sans Mono',consolas,'Courier New',monospace\">Updating MODFLOW Stress period <span style=\"color: #008080; text-decoration-color: #008080; font-weight: bold\">10</span>, time step <span style=\"color: #008080; text-decoration-color: #008080; font-weight: bold\">2</span>\n",
       "</pre>\n"
      ],
      "text/plain": [
       "Updating MODFLOW Stress period \u001b[1;36m10\u001b[0m, time step \u001b[1;36m2\u001b[0m\n"
      ]
     },
     "metadata": {},
     "output_type": "display_data"
    },
    {
     "data": {
      "text/html": [
       "<pre style=\"white-space:pre;overflow-x:auto;line-height:normal;font-family:Menlo,'DejaVu Sans Mono',consolas,'Courier New',monospace\">Updating MODFLOW Stress period <span style=\"color: #008080; text-decoration-color: #008080; font-weight: bold\">10</span>, time step <span style=\"color: #008080; text-decoration-color: #008080; font-weight: bold\">3</span>\n",
       "</pre>\n"
      ],
      "text/plain": [
       "Updating MODFLOW Stress period \u001b[1;36m10\u001b[0m, time step \u001b[1;36m3\u001b[0m\n"
      ]
     },
     "metadata": {},
     "output_type": "display_data"
    },
    {
     "data": {
      "text/html": [
       "<pre style=\"white-space:pre;overflow-x:auto;line-height:normal;font-family:Menlo,'DejaVu Sans Mono',consolas,'Courier New',monospace\">Updating MODFLOW Stress period <span style=\"color: #008080; text-decoration-color: #008080; font-weight: bold\">10</span>, time step <span style=\"color: #008080; text-decoration-color: #008080; font-weight: bold\">4</span>\n",
       "</pre>\n"
      ],
      "text/plain": [
       "Updating MODFLOW Stress period \u001b[1;36m10\u001b[0m, time step \u001b[1;36m4\u001b[0m\n"
      ]
     },
     "metadata": {},
     "output_type": "display_data"
    },
    {
     "data": {
      "text/html": [
       "<pre style=\"white-space:pre;overflow-x:auto;line-height:normal;font-family:Menlo,'DejaVu Sans Mono',consolas,'Courier New',monospace\">Updating MODFLOW Stress period <span style=\"color: #008080; text-decoration-color: #008080; font-weight: bold\">10</span>, time step <span style=\"color: #008080; text-decoration-color: #008080; font-weight: bold\">5</span>\n",
       "</pre>\n"
      ],
      "text/plain": [
       "Updating MODFLOW Stress period \u001b[1;36m10\u001b[0m, time step \u001b[1;36m5\u001b[0m\n"
      ]
     },
     "metadata": {},
     "output_type": "display_data"
    },
    {
     "data": {
      "text/html": [
       "<pre style=\"white-space:pre;overflow-x:auto;line-height:normal;font-family:Menlo,'DejaVu Sans Mono',consolas,'Courier New',monospace\">Updating MODFLOW Stress period <span style=\"color: #008080; text-decoration-color: #008080; font-weight: bold\">10</span>, time step <span style=\"color: #008080; text-decoration-color: #008080; font-weight: bold\">6</span>\n",
       "</pre>\n"
      ],
      "text/plain": [
       "Updating MODFLOW Stress period \u001b[1;36m10\u001b[0m, time step \u001b[1;36m6\u001b[0m\n"
      ]
     },
     "metadata": {},
     "output_type": "display_data"
    },
    {
     "data": {
      "text/html": [
       "<pre style=\"white-space:pre;overflow-x:auto;line-height:normal;font-family:Menlo,'DejaVu Sans Mono',consolas,'Courier New',monospace\">Updating MODFLOW Stress period <span style=\"color: #008080; text-decoration-color: #008080; font-weight: bold\">10</span>, time step <span style=\"color: #008080; text-decoration-color: #008080; font-weight: bold\">7</span>\n",
       "</pre>\n"
      ],
      "text/plain": [
       "Updating MODFLOW Stress period \u001b[1;36m10\u001b[0m, time step \u001b[1;36m7\u001b[0m\n"
      ]
     },
     "metadata": {},
     "output_type": "display_data"
    },
    {
     "data": {
      "text/html": [
       "<pre style=\"white-space:pre;overflow-x:auto;line-height:normal;font-family:Menlo,'DejaVu Sans Mono',consolas,'Courier New',monospace\">Updating MODFLOW Stress period <span style=\"color: #008080; text-decoration-color: #008080; font-weight: bold\">10</span>, time step <span style=\"color: #008080; text-decoration-color: #008080; font-weight: bold\">8</span>\n",
       "</pre>\n"
      ],
      "text/plain": [
       "Updating MODFLOW Stress period \u001b[1;36m10\u001b[0m, time step \u001b[1;36m8\u001b[0m\n"
      ]
     },
     "metadata": {},
     "output_type": "display_data"
    },
    {
     "data": {
      "text/html": [
       "<pre style=\"white-space:pre;overflow-x:auto;line-height:normal;font-family:Menlo,'DejaVu Sans Mono',consolas,'Courier New',monospace\">Updating MODFLOW Stress period <span style=\"color: #008080; text-decoration-color: #008080; font-weight: bold\">10</span>, time step <span style=\"color: #008080; text-decoration-color: #008080; font-weight: bold\">9</span>\n",
       "</pre>\n"
      ],
      "text/plain": [
       "Updating MODFLOW Stress period \u001b[1;36m10\u001b[0m, time step \u001b[1;36m9\u001b[0m\n"
      ]
     },
     "metadata": {},
     "output_type": "display_data"
    },
    {
     "data": {
      "text/html": [
       "<pre style=\"white-space:pre;overflow-x:auto;line-height:normal;font-family:Menlo,'DejaVu Sans Mono',consolas,'Courier New',monospace\">Updating MODFLOW Stress period <span style=\"color: #008080; text-decoration-color: #008080; font-weight: bold\">10</span>, time step <span style=\"color: #008080; text-decoration-color: #008080; font-weight: bold\">10</span>\n",
       "</pre>\n"
      ],
      "text/plain": [
       "Updating MODFLOW Stress period \u001b[1;36m10\u001b[0m, time step \u001b[1;36m10\u001b[0m\n"
      ]
     },
     "metadata": {},
     "output_type": "display_data"
    },
    {
     "data": {
      "text/html": [
       "<pre style=\"white-space:pre;overflow-x:auto;line-height:normal;font-family:Menlo,'DejaVu Sans Mono',consolas,'Courier New',monospace\">Updating MODFLOW Stress period <span style=\"color: #008080; text-decoration-color: #008080; font-weight: bold\">10</span>, time step <span style=\"color: #008080; text-decoration-color: #008080; font-weight: bold\">11</span>\n",
       "</pre>\n"
      ],
      "text/plain": [
       "Updating MODFLOW Stress period \u001b[1;36m10\u001b[0m, time step \u001b[1;36m11\u001b[0m\n"
      ]
     },
     "metadata": {},
     "output_type": "display_data"
    },
    {
     "data": {
      "text/html": [
       "<pre style=\"white-space:pre;overflow-x:auto;line-height:normal;font-family:Menlo,'DejaVu Sans Mono',consolas,'Courier New',monospace\">Updating MODFLOW Stress period <span style=\"color: #008080; text-decoration-color: #008080; font-weight: bold\">10</span>, time step <span style=\"color: #008080; text-decoration-color: #008080; font-weight: bold\">12</span>\n",
       "</pre>\n"
      ],
      "text/plain": [
       "Updating MODFLOW Stress period \u001b[1;36m10\u001b[0m, time step \u001b[1;36m12\u001b[0m\n"
      ]
     },
     "metadata": {},
     "output_type": "display_data"
    },
    {
     "data": {
      "text/html": [
       "<pre style=\"white-space:pre;overflow-x:auto;line-height:normal;font-family:Menlo,'DejaVu Sans Mono',consolas,'Courier New',monospace\">Updating MODFLOW Stress period <span style=\"color: #008080; text-decoration-color: #008080; font-weight: bold\">10</span>, time step <span style=\"color: #008080; text-decoration-color: #008080; font-weight: bold\">13</span>\n",
       "</pre>\n"
      ],
      "text/plain": [
       "Updating MODFLOW Stress period \u001b[1;36m10\u001b[0m, time step \u001b[1;36m13\u001b[0m\n"
      ]
     },
     "metadata": {},
     "output_type": "display_data"
    },
    {
     "data": {
      "text/html": [
       "<pre style=\"white-space:pre;overflow-x:auto;line-height:normal;font-family:Menlo,'DejaVu Sans Mono',consolas,'Courier New',monospace\">Updating MODFLOW Stress period <span style=\"color: #008080; text-decoration-color: #008080; font-weight: bold\">10</span>, time step <span style=\"color: #008080; text-decoration-color: #008080; font-weight: bold\">14</span>\n",
       "</pre>\n"
      ],
      "text/plain": [
       "Updating MODFLOW Stress period \u001b[1;36m10\u001b[0m, time step \u001b[1;36m14\u001b[0m\n"
      ]
     },
     "metadata": {},
     "output_type": "display_data"
    },
    {
     "data": {
      "text/html": [
       "<pre style=\"white-space:pre;overflow-x:auto;line-height:normal;font-family:Menlo,'DejaVu Sans Mono',consolas,'Courier New',monospace\">Updating MODFLOW Stress period <span style=\"color: #008080; text-decoration-color: #008080; font-weight: bold\">10</span>, time step <span style=\"color: #008080; text-decoration-color: #008080; font-weight: bold\">15</span>\n",
       "</pre>\n"
      ],
      "text/plain": [
       "Updating MODFLOW Stress period \u001b[1;36m10\u001b[0m, time step \u001b[1;36m15\u001b[0m\n"
      ]
     },
     "metadata": {},
     "output_type": "display_data"
    },
    {
     "data": {
      "text/html": [
       "<pre style=\"white-space:pre;overflow-x:auto;line-height:normal;font-family:Menlo,'DejaVu Sans Mono',consolas,'Courier New',monospace\">Updating MODFLOW Stress period <span style=\"color: #008080; text-decoration-color: #008080; font-weight: bold\">10</span>, time step <span style=\"color: #008080; text-decoration-color: #008080; font-weight: bold\">16</span>\n",
       "</pre>\n"
      ],
      "text/plain": [
       "Updating MODFLOW Stress period \u001b[1;36m10\u001b[0m, time step \u001b[1;36m16\u001b[0m\n"
      ]
     },
     "metadata": {},
     "output_type": "display_data"
    },
    {
     "data": {
      "text/html": [
       "<pre style=\"white-space:pre;overflow-x:auto;line-height:normal;font-family:Menlo,'DejaVu Sans Mono',consolas,'Courier New',monospace\">Updating MODFLOW Stress period <span style=\"color: #008080; text-decoration-color: #008080; font-weight: bold\">10</span>, time step <span style=\"color: #008080; text-decoration-color: #008080; font-weight: bold\">17</span>\n",
       "</pre>\n"
      ],
      "text/plain": [
       "Updating MODFLOW Stress period \u001b[1;36m10\u001b[0m, time step \u001b[1;36m17\u001b[0m\n"
      ]
     },
     "metadata": {},
     "output_type": "display_data"
    },
    {
     "data": {
      "text/html": [
       "<pre style=\"white-space:pre;overflow-x:auto;line-height:normal;font-family:Menlo,'DejaVu Sans Mono',consolas,'Courier New',monospace\">Updating MODFLOW Stress period <span style=\"color: #008080; text-decoration-color: #008080; font-weight: bold\">10</span>, time step <span style=\"color: #008080; text-decoration-color: #008080; font-weight: bold\">18</span>\n",
       "</pre>\n"
      ],
      "text/plain": [
       "Updating MODFLOW Stress period \u001b[1;36m10\u001b[0m, time step \u001b[1;36m18\u001b[0m\n"
      ]
     },
     "metadata": {},
     "output_type": "display_data"
    },
    {
     "data": {
      "text/html": [
       "<pre style=\"white-space:pre;overflow-x:auto;line-height:normal;font-family:Menlo,'DejaVu Sans Mono',consolas,'Courier New',monospace\">Updating MODFLOW Stress period <span style=\"color: #008080; text-decoration-color: #008080; font-weight: bold\">10</span>, time step <span style=\"color: #008080; text-decoration-color: #008080; font-weight: bold\">19</span>\n",
       "</pre>\n"
      ],
      "text/plain": [
       "Updating MODFLOW Stress period \u001b[1;36m10\u001b[0m, time step \u001b[1;36m19\u001b[0m\n"
      ]
     },
     "metadata": {},
     "output_type": "display_data"
    },
    {
     "data": {
      "text/html": [
       "<pre style=\"white-space:pre;overflow-x:auto;line-height:normal;font-family:Menlo,'DejaVu Sans Mono',consolas,'Courier New',monospace\">Updating MODFLOW Stress period <span style=\"color: #008080; text-decoration-color: #008080; font-weight: bold\">10</span>, time step <span style=\"color: #008080; text-decoration-color: #008080; font-weight: bold\">20</span>\n",
       "</pre>\n"
      ],
      "text/plain": [
       "Updating MODFLOW Stress period \u001b[1;36m10\u001b[0m, time step \u001b[1;36m20\u001b[0m\n"
      ]
     },
     "metadata": {},
     "output_type": "display_data"
    },
    {
     "data": {
      "text/html": [
       "<pre style=\"white-space:pre;overflow-x:auto;line-height:normal;font-family:Menlo,'DejaVu Sans Mono',consolas,'Courier New',monospace\">Updating MODFLOW Stress period <span style=\"color: #008080; text-decoration-color: #008080; font-weight: bold\">10</span>, time step <span style=\"color: #008080; text-decoration-color: #008080; font-weight: bold\">21</span>\n",
       "</pre>\n"
      ],
      "text/plain": [
       "Updating MODFLOW Stress period \u001b[1;36m10\u001b[0m, time step \u001b[1;36m21\u001b[0m\n"
      ]
     },
     "metadata": {},
     "output_type": "display_data"
    },
    {
     "data": {
      "text/html": [
       "<pre style=\"white-space:pre;overflow-x:auto;line-height:normal;font-family:Menlo,'DejaVu Sans Mono',consolas,'Courier New',monospace\">Updating MODFLOW Stress period <span style=\"color: #008080; text-decoration-color: #008080; font-weight: bold\">10</span>, time step <span style=\"color: #008080; text-decoration-color: #008080; font-weight: bold\">22</span>\n",
       "</pre>\n"
      ],
      "text/plain": [
       "Updating MODFLOW Stress period \u001b[1;36m10\u001b[0m, time step \u001b[1;36m22\u001b[0m\n"
      ]
     },
     "metadata": {},
     "output_type": "display_data"
    },
    {
     "data": {
      "text/html": [
       "<pre style=\"white-space:pre;overflow-x:auto;line-height:normal;font-family:Menlo,'DejaVu Sans Mono',consolas,'Courier New',monospace\">Updating MODFLOW Stress period <span style=\"color: #008080; text-decoration-color: #008080; font-weight: bold\">10</span>, time step <span style=\"color: #008080; text-decoration-color: #008080; font-weight: bold\">23</span>\n",
       "</pre>\n"
      ],
      "text/plain": [
       "Updating MODFLOW Stress period \u001b[1;36m10\u001b[0m, time step \u001b[1;36m23\u001b[0m\n"
      ]
     },
     "metadata": {},
     "output_type": "display_data"
    },
    {
     "data": {
      "text/html": [
       "<pre style=\"white-space:pre;overflow-x:auto;line-height:normal;font-family:Menlo,'DejaVu Sans Mono',consolas,'Courier New',monospace\">Updating MODFLOW Stress period <span style=\"color: #008080; text-decoration-color: #008080; font-weight: bold\">10</span>, time step <span style=\"color: #008080; text-decoration-color: #008080; font-weight: bold\">24</span>\n",
       "</pre>\n"
      ],
      "text/plain": [
       "Updating MODFLOW Stress period \u001b[1;36m10\u001b[0m, time step \u001b[1;36m24\u001b[0m\n"
      ]
     },
     "metadata": {},
     "output_type": "display_data"
    },
    {
     "data": {
      "text/html": [
       "<pre style=\"white-space:pre;overflow-x:auto;line-height:normal;font-family:Menlo,'DejaVu Sans Mono',consolas,'Courier New',monospace\">Updating MODFLOW Stress period <span style=\"color: #008080; text-decoration-color: #008080; font-weight: bold\">10</span>, time step <span style=\"color: #008080; text-decoration-color: #008080; font-weight: bold\">25</span>\n",
       "</pre>\n"
      ],
      "text/plain": [
       "Updating MODFLOW Stress period \u001b[1;36m10\u001b[0m, time step \u001b[1;36m25\u001b[0m\n"
      ]
     },
     "metadata": {},
     "output_type": "display_data"
    },
    {
     "data": {
      "text/html": [
       "<pre style=\"white-space:pre;overflow-x:auto;line-height:normal;font-family:Menlo,'DejaVu Sans Mono',consolas,'Courier New',monospace\">Updating MODFLOW Stress period <span style=\"color: #008080; text-decoration-color: #008080; font-weight: bold\">10</span>, time step <span style=\"color: #008080; text-decoration-color: #008080; font-weight: bold\">26</span>\n",
       "</pre>\n"
      ],
      "text/plain": [
       "Updating MODFLOW Stress period \u001b[1;36m10\u001b[0m, time step \u001b[1;36m26\u001b[0m\n"
      ]
     },
     "metadata": {},
     "output_type": "display_data"
    },
    {
     "data": {
      "text/html": [
       "<pre style=\"white-space:pre;overflow-x:auto;line-height:normal;font-family:Menlo,'DejaVu Sans Mono',consolas,'Courier New',monospace\">Updating MODFLOW Stress period <span style=\"color: #008080; text-decoration-color: #008080; font-weight: bold\">10</span>, time step <span style=\"color: #008080; text-decoration-color: #008080; font-weight: bold\">27</span>\n",
       "</pre>\n"
      ],
      "text/plain": [
       "Updating MODFLOW Stress period \u001b[1;36m10\u001b[0m, time step \u001b[1;36m27\u001b[0m\n"
      ]
     },
     "metadata": {},
     "output_type": "display_data"
    },
    {
     "data": {
      "text/html": [
       "<pre style=\"white-space:pre;overflow-x:auto;line-height:normal;font-family:Menlo,'DejaVu Sans Mono',consolas,'Courier New',monospace\">Updating MODFLOW Stress period <span style=\"color: #008080; text-decoration-color: #008080; font-weight: bold\">10</span>, time step <span style=\"color: #008080; text-decoration-color: #008080; font-weight: bold\">28</span>\n",
       "</pre>\n"
      ],
      "text/plain": [
       "Updating MODFLOW Stress period \u001b[1;36m10\u001b[0m, time step \u001b[1;36m28\u001b[0m\n"
      ]
     },
     "metadata": {},
     "output_type": "display_data"
    },
    {
     "data": {
      "text/html": [
       "<pre style=\"white-space:pre;overflow-x:auto;line-height:normal;font-family:Menlo,'DejaVu Sans Mono',consolas,'Courier New',monospace\">Updating MODFLOW Stress period <span style=\"color: #008080; text-decoration-color: #008080; font-weight: bold\">10</span>, time step <span style=\"color: #008080; text-decoration-color: #008080; font-weight: bold\">29</span>\n",
       "</pre>\n"
      ],
      "text/plain": [
       "Updating MODFLOW Stress period \u001b[1;36m10\u001b[0m, time step \u001b[1;36m29\u001b[0m\n"
      ]
     },
     "metadata": {},
     "output_type": "display_data"
    },
    {
     "data": {
      "text/html": [
       "<pre style=\"white-space:pre;overflow-x:auto;line-height:normal;font-family:Menlo,'DejaVu Sans Mono',consolas,'Courier New',monospace\">Updating MODFLOW Stress period <span style=\"color: #008080; text-decoration-color: #008080; font-weight: bold\">10</span>, time step <span style=\"color: #008080; text-decoration-color: #008080; font-weight: bold\">30</span>\n",
       "</pre>\n"
      ],
      "text/plain": [
       "Updating MODFLOW Stress period \u001b[1;36m10\u001b[0m, time step \u001b[1;36m30\u001b[0m\n"
      ]
     },
     "metadata": {},
     "output_type": "display_data"
    },
    {
     "data": {
      "text/html": [
       "<pre style=\"white-space:pre;overflow-x:auto;line-height:normal;font-family:Menlo,'DejaVu Sans Mono',consolas,'Courier New',monospace\">Updating MODFLOW Stress period <span style=\"color: #008080; text-decoration-color: #008080; font-weight: bold\">10</span>, time step <span style=\"color: #008080; text-decoration-color: #008080; font-weight: bold\">31</span>\n",
       "</pre>\n"
      ],
      "text/plain": [
       "Updating MODFLOW Stress period \u001b[1;36m10\u001b[0m, time step \u001b[1;36m31\u001b[0m\n"
      ]
     },
     "metadata": {},
     "output_type": "display_data"
    },
    {
     "data": {
      "text/html": [
       "<pre style=\"white-space:pre;overflow-x:auto;line-height:normal;font-family:Menlo,'DejaVu Sans Mono',consolas,'Courier New',monospace\">Updating MODFLOW Stress period <span style=\"color: #008080; text-decoration-color: #008080; font-weight: bold\">10</span>, time step <span style=\"color: #008080; text-decoration-color: #008080; font-weight: bold\">32</span>\n",
       "</pre>\n"
      ],
      "text/plain": [
       "Updating MODFLOW Stress period \u001b[1;36m10\u001b[0m, time step \u001b[1;36m32\u001b[0m\n"
      ]
     },
     "metadata": {},
     "output_type": "display_data"
    },
    {
     "data": {
      "text/html": [
       "<pre style=\"white-space:pre;overflow-x:auto;line-height:normal;font-family:Menlo,'DejaVu Sans Mono',consolas,'Courier New',monospace\">Updating MODFLOW Stress period <span style=\"color: #008080; text-decoration-color: #008080; font-weight: bold\">10</span>, time step <span style=\"color: #008080; text-decoration-color: #008080; font-weight: bold\">33</span>\n",
       "</pre>\n"
      ],
      "text/plain": [
       "Updating MODFLOW Stress period \u001b[1;36m10\u001b[0m, time step \u001b[1;36m33\u001b[0m\n"
      ]
     },
     "metadata": {},
     "output_type": "display_data"
    },
    {
     "data": {
      "text/html": [
       "<pre style=\"white-space:pre;overflow-x:auto;line-height:normal;font-family:Menlo,'DejaVu Sans Mono',consolas,'Courier New',monospace\">Updating MODFLOW Stress period <span style=\"color: #008080; text-decoration-color: #008080; font-weight: bold\">10</span>, time step <span style=\"color: #008080; text-decoration-color: #008080; font-weight: bold\">34</span>\n",
       "</pre>\n"
      ],
      "text/plain": [
       "Updating MODFLOW Stress period \u001b[1;36m10\u001b[0m, time step \u001b[1;36m34\u001b[0m\n"
      ]
     },
     "metadata": {},
     "output_type": "display_data"
    },
    {
     "data": {
      "text/html": [
       "<pre style=\"white-space:pre;overflow-x:auto;line-height:normal;font-family:Menlo,'DejaVu Sans Mono',consolas,'Courier New',monospace\">Updating MODFLOW Stress period <span style=\"color: #008080; text-decoration-color: #008080; font-weight: bold\">10</span>, time step <span style=\"color: #008080; text-decoration-color: #008080; font-weight: bold\">35</span>\n",
       "</pre>\n"
      ],
      "text/plain": [
       "Updating MODFLOW Stress period \u001b[1;36m10\u001b[0m, time step \u001b[1;36m35\u001b[0m\n"
      ]
     },
     "metadata": {},
     "output_type": "display_data"
    },
    {
     "data": {
      "text/html": [
       "<pre style=\"white-space:pre;overflow-x:auto;line-height:normal;font-family:Menlo,'DejaVu Sans Mono',consolas,'Courier New',monospace\">Updating MODFLOW Stress period <span style=\"color: #008080; text-decoration-color: #008080; font-weight: bold\">10</span>, time step <span style=\"color: #008080; text-decoration-color: #008080; font-weight: bold\">36</span>\n",
       "</pre>\n"
      ],
      "text/plain": [
       "Updating MODFLOW Stress period \u001b[1;36m10\u001b[0m, time step \u001b[1;36m36\u001b[0m\n"
      ]
     },
     "metadata": {},
     "output_type": "display_data"
    },
    {
     "data": {
      "text/html": [
       "<pre style=\"white-space:pre;overflow-x:auto;line-height:normal;font-family:Menlo,'DejaVu Sans Mono',consolas,'Courier New',monospace\">Updating MODFLOW Stress period <span style=\"color: #008080; text-decoration-color: #008080; font-weight: bold\">10</span>, time step <span style=\"color: #008080; text-decoration-color: #008080; font-weight: bold\">37</span>\n",
       "</pre>\n"
      ],
      "text/plain": [
       "Updating MODFLOW Stress period \u001b[1;36m10\u001b[0m, time step \u001b[1;36m37\u001b[0m\n"
      ]
     },
     "metadata": {},
     "output_type": "display_data"
    },
    {
     "data": {
      "text/html": [
       "<pre style=\"white-space:pre;overflow-x:auto;line-height:normal;font-family:Menlo,'DejaVu Sans Mono',consolas,'Courier New',monospace\">Updating MODFLOW Stress period <span style=\"color: #008080; text-decoration-color: #008080; font-weight: bold\">10</span>, time step <span style=\"color: #008080; text-decoration-color: #008080; font-weight: bold\">38</span>\n",
       "</pre>\n"
      ],
      "text/plain": [
       "Updating MODFLOW Stress period \u001b[1;36m10\u001b[0m, time step \u001b[1;36m38\u001b[0m\n"
      ]
     },
     "metadata": {},
     "output_type": "display_data"
    },
    {
     "data": {
      "text/html": [
       "<pre style=\"white-space:pre;overflow-x:auto;line-height:normal;font-family:Menlo,'DejaVu Sans Mono',consolas,'Courier New',monospace\">Updating MODFLOW Stress period <span style=\"color: #008080; text-decoration-color: #008080; font-weight: bold\">10</span>, time step <span style=\"color: #008080; text-decoration-color: #008080; font-weight: bold\">39</span>\n",
       "</pre>\n"
      ],
      "text/plain": [
       "Updating MODFLOW Stress period \u001b[1;36m10\u001b[0m, time step \u001b[1;36m39\u001b[0m\n"
      ]
     },
     "metadata": {},
     "output_type": "display_data"
    },
    {
     "data": {
      "text/html": [
       "<pre style=\"white-space:pre;overflow-x:auto;line-height:normal;font-family:Menlo,'DejaVu Sans Mono',consolas,'Courier New',monospace\">Updating MODFLOW Stress period <span style=\"color: #008080; text-decoration-color: #008080; font-weight: bold\">10</span>, time step <span style=\"color: #008080; text-decoration-color: #008080; font-weight: bold\">40</span>\n",
       "</pre>\n"
      ],
      "text/plain": [
       "Updating MODFLOW Stress period \u001b[1;36m10\u001b[0m, time step \u001b[1;36m40\u001b[0m\n"
      ]
     },
     "metadata": {},
     "output_type": "display_data"
    },
    {
     "data": {
      "text/html": [
       "<pre style=\"white-space:pre;overflow-x:auto;line-height:normal;font-family:Menlo,'DejaVu Sans Mono',consolas,'Courier New',monospace\">Updating MODFLOW Stress period <span style=\"color: #008080; text-decoration-color: #008080; font-weight: bold\">10</span>, time step <span style=\"color: #008080; text-decoration-color: #008080; font-weight: bold\">41</span>\n",
       "</pre>\n"
      ],
      "text/plain": [
       "Updating MODFLOW Stress period \u001b[1;36m10\u001b[0m, time step \u001b[1;36m41\u001b[0m\n"
      ]
     },
     "metadata": {},
     "output_type": "display_data"
    },
    {
     "data": {
      "text/html": [
       "<pre style=\"white-space:pre;overflow-x:auto;line-height:normal;font-family:Menlo,'DejaVu Sans Mono',consolas,'Courier New',monospace\">Updating MODFLOW Stress period <span style=\"color: #008080; text-decoration-color: #008080; font-weight: bold\">10</span>, time step <span style=\"color: #008080; text-decoration-color: #008080; font-weight: bold\">42</span>\n",
       "</pre>\n"
      ],
      "text/plain": [
       "Updating MODFLOW Stress period \u001b[1;36m10\u001b[0m, time step \u001b[1;36m42\u001b[0m\n"
      ]
     },
     "metadata": {},
     "output_type": "display_data"
    },
    {
     "data": {
      "text/html": [
       "<pre style=\"white-space:pre;overflow-x:auto;line-height:normal;font-family:Menlo,'DejaVu Sans Mono',consolas,'Courier New',monospace\">Updating MODFLOW Stress period <span style=\"color: #008080; text-decoration-color: #008080; font-weight: bold\">10</span>, time step <span style=\"color: #008080; text-decoration-color: #008080; font-weight: bold\">43</span>\n",
       "</pre>\n"
      ],
      "text/plain": [
       "Updating MODFLOW Stress period \u001b[1;36m10\u001b[0m, time step \u001b[1;36m43\u001b[0m\n"
      ]
     },
     "metadata": {},
     "output_type": "display_data"
    },
    {
     "data": {
      "text/html": [
       "<pre style=\"white-space:pre;overflow-x:auto;line-height:normal;font-family:Menlo,'DejaVu Sans Mono',consolas,'Courier New',monospace\">Updating MODFLOW Stress period <span style=\"color: #008080; text-decoration-color: #008080; font-weight: bold\">10</span>, time step <span style=\"color: #008080; text-decoration-color: #008080; font-weight: bold\">44</span>\n",
       "</pre>\n"
      ],
      "text/plain": [
       "Updating MODFLOW Stress period \u001b[1;36m10\u001b[0m, time step \u001b[1;36m44\u001b[0m\n"
      ]
     },
     "metadata": {},
     "output_type": "display_data"
    },
    {
     "data": {
      "text/html": [
       "<pre style=\"white-space:pre;overflow-x:auto;line-height:normal;font-family:Menlo,'DejaVu Sans Mono',consolas,'Courier New',monospace\">Updating MODFLOW Stress period <span style=\"color: #008080; text-decoration-color: #008080; font-weight: bold\">10</span>, time step <span style=\"color: #008080; text-decoration-color: #008080; font-weight: bold\">45</span>\n",
       "</pre>\n"
      ],
      "text/plain": [
       "Updating MODFLOW Stress period \u001b[1;36m10\u001b[0m, time step \u001b[1;36m45\u001b[0m\n"
      ]
     },
     "metadata": {},
     "output_type": "display_data"
    },
    {
     "data": {
      "text/html": [
       "<pre style=\"white-space:pre;overflow-x:auto;line-height:normal;font-family:Menlo,'DejaVu Sans Mono',consolas,'Courier New',monospace\">Updating MODFLOW Stress period <span style=\"color: #008080; text-decoration-color: #008080; font-weight: bold\">10</span>, time step <span style=\"color: #008080; text-decoration-color: #008080; font-weight: bold\">46</span>\n",
       "</pre>\n"
      ],
      "text/plain": [
       "Updating MODFLOW Stress period \u001b[1;36m10\u001b[0m, time step \u001b[1;36m46\u001b[0m\n"
      ]
     },
     "metadata": {},
     "output_type": "display_data"
    },
    {
     "data": {
      "text/html": [
       "<pre style=\"white-space:pre;overflow-x:auto;line-height:normal;font-family:Menlo,'DejaVu Sans Mono',consolas,'Courier New',monospace\">Updating MODFLOW Stress period <span style=\"color: #008080; text-decoration-color: #008080; font-weight: bold\">10</span>, time step <span style=\"color: #008080; text-decoration-color: #008080; font-weight: bold\">47</span>\n",
       "</pre>\n"
      ],
      "text/plain": [
       "Updating MODFLOW Stress period \u001b[1;36m10\u001b[0m, time step \u001b[1;36m47\u001b[0m\n"
      ]
     },
     "metadata": {},
     "output_type": "display_data"
    }
   ],
   "source": [
    "while modflow.get_current_time() < modflow.get_end_time():\n",
    "    while stemmus_scope.get_current_time() < stemmus_scope.get_end_time(): \n",
    "        \n",
    "        # Get STEMMUS_SCOPE variables (soil moisture, soil temperature, groundwater recharge)  \n",
    "        stemmus_scope.get_value(\"soil_moisture\", soil_moisture[i])\n",
    "        stemmus_scope.get_value(\"soil_temperature\", soil_temperature[i])\n",
    "        stemmus_scope.get_value(\"groundwater_recharge\", gw_recharge)\n",
    "        gw_recharge_nstp = np.append(gw_recharge_nstp, gw_recharge)\n",
    "\n",
    "        # Store the current time as a datetime\n",
    "        stemmus_scope_time.append(num2pydate(stemmus_scope.get_current_time(), stemmus_scope.get_time_units()))\n",
    "        i+= 1\n",
    "\n",
    "        # Get MODFLOW 6 variables (groundwater head, groundwater temperature)\n",
    "        gwhead = modflow.get_value(gwhead_tag)[0] * 100\n",
    "        gwtemp = modflow.get_value(gwtemp_tag)[0]\n",
    "\n",
    "        # Set STEMMUS_SCOPE variables (groundwater head, groundwater temperature)\n",
    "        stemmus_scope.set_value(\"groundwater_head_bottom_layer\", gwhead)\n",
    "        stemmus_scope.set_value(\"groundwater_temperature\", gwtemp)\n",
    "        \n",
    "        # Set MODFLOW 6 variables (groundwater recharge)\n",
    "        kstp, kper = sim.kstp, sim.kper     \n",
    "        if kstp == nstp - 1:\n",
    "            # groundwater recharge per stress period = sum of groundwater recharge per time step \n",
    "            gw_recharge_nper = np.array([-1 * np.sum(gw_recharge_nstp) / 100]) # multiply by -1 due to different signs of both models\n",
    "            modflow.set_value(rch_tag, gw_recharge_nper)\n",
    "            gw_recharge_nstp = np.array([]) \n",
    "             \n",
    "        # Track the simulation time of MODFLOW 6  \n",
    "        print('Updating MODFLOW Stress period ' + str(kper + 1) + ', time step ' + str(kstp + 1))\n",
    "        # print(kper  + 1, kstp + 1, gwhead, gwtemp)\n",
    "       \n",
    "        # Update models\n",
    "        stemmus_scope.update()\n",
    "        modflow.update()"
   ]
  },
  {
   "cell_type": "markdown",
   "metadata": {},
   "source": [
    "#### Finalize models"
   ]
  },
  {
   "cell_type": "code",
   "execution_count": 65,
   "metadata": {},
   "outputs": [],
   "source": [
    "modflow.finalize()\n",
    "stemmus_scope.finalize()"
   ]
  },
  {
   "cell_type": "markdown",
   "metadata": {},
   "source": [
    "### 4. Export results"
   ]
  },
  {
   "cell_type": "markdown",
   "metadata": {},
   "source": [
    "##### Analyze the STEMMUS_SCOPE variables (put the data into xarray DataArray objects)"
   ]
  },
  {
   "cell_type": "code",
   "execution_count": 66,
   "metadata": {},
   "outputs": [],
   "source": [
    "gs = stemmus_scope.get_grid_size(1)\n",
    "depths = np.ones(gs)\n",
    "stemmus_scope.get_grid_z(1, depths)\n",
    "\n",
    "da_sm = xr.DataArray(\n",
    "    data=soil_moisture,\n",
    "    dims=(\"time\", \"depth\"),\n",
    "    coords={\"time\": np.array(stemmus_scope_time), \"depth\": depths},)\n",
    "\n",
    "da_t = xr.DataArray(\n",
    "    data=soil_temperature,\n",
    "    dims=(\"time\", \"depth\"),\n",
    "    coords={\"time\": np.array(stemmus_scope_time), \"depth\": depths},)"
   ]
  },
  {
   "cell_type": "markdown",
   "metadata": {},
   "source": [
    "##### Show the STEMMUS_SCOPE soil moisture and soil temperature results"
   ]
  },
  {
   "cell_type": "code",
   "execution_count": 67,
   "metadata": {},
   "outputs": [
    {
     "data": {
      "image/png": "[encoded data removed]",
      "text/plain": [
       "<Figure size 1400x500 with 4 Axes>"
      ]
     },
     "metadata": {},
     "output_type": "display_data"
    }
   ],
   "source": [
    "fig, (ax1, ax2) = plt.subplots(ncols=2, sharex=True, sharey=True, figsize=(14,5))\n",
    "ax1.set_title(\"Soil Moisture\")\n",
    "ax2.set_title(\"Soil Temperature\")\n",
    "ax1.set_ylabel(\"depth (m)\")\n",
    "ax2.set_ylabel(\"depth (m)\")\n",
    "da_sm.plot(y=\"depth\", ax=ax1, cbar_kwargs={'label': \"volumetric moisture content (m3 m-3)\"})\n",
    "da_t.plot(y=\"depth\", ax=ax2, cbar_kwargs={'label': \"temperature (deg C)\"})\n",
    "fig.savefig(os.path.join(output_figures_workspace, 'soil_variables.png'), dpi = 600, bbox_inches = 'tight')"
   ]
  },
  {
   "cell_type": "code",
   "execution_count": 68,
   "metadata": {},
   "outputs": [
    {
     "data": {
      "text/html": [
       "<pre style=\"white-space:pre;overflow-x:auto;line-height:normal;font-family:Menlo,'DejaVu Sans Mono',consolas,'Courier New',monospace\">the script took <span style=\"color: #00ff00; text-decoration-color: #00ff00; font-weight: bold\">0:05:39</span>.<span style=\"color: #008080; text-decoration-color: #008080; font-weight: bold\">729457</span> to run\n",
       "</pre>\n"
      ],
      "text/plain": [
       "the script took \u001b[1;92m0:05:39\u001b[0m.\u001b[1;36m729457\u001b[0m to run\n"
      ]
     },
     "metadata": {},
     "output_type": "display_data"
    }
   ],
   "source": [
    "print ('the script took', datetime.now() - startTime, 'to run')"
   ]
  },
  {
   "cell_type": "code",
   "execution_count": null,
   "metadata": {},
   "outputs": [],
   "source": []
  }
 ],
 "metadata": {
  "kernelspec": {
   "display_name": "Python 3 (ipykernel)",
   "language": "python",
   "name": "python3"
  },
  "language_info": {
   "codemirror_mode": {
    "name": "ipython",
    "version": 3
   },
   "file_extension": ".py",
   "mimetype": "text/x-python",
   "name": "python",
   "nbconvert_exporter": "python",
   "pygments_lexer": "ipython3",
   "version": "3.9.5"
  }
 },
 "nbformat": 4,
 "nbformat_minor": 4
}
