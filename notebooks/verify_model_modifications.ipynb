{
 "cells": [
  {
   "cell_type": "markdown",
   "metadata": {},
   "source": [
    "## Model verification\n",
    "To make sure than any of our modifications to the STEMMUS_SCOPE matlab code do not change the model results, this notebook is designed to check the new results to a previously calculated baseline."
   ]
  },
  {
   "cell_type": "code",
   "execution_count": 36,
   "metadata": {},
   "outputs": [],
   "source": [
    "import os\n",
    "from pathlib import Path\n",
    "import subprocess\n",
    "import numpy as np\n",
    "import matplotlib.pyplot as plt\n",
    "import xarray as xr\n",
    "from PyStemmusScope import forcing_io\n",
    "from PyStemmusScope import iostreamer"
   ]
  },
  {
   "cell_type": "markdown",
   "metadata": {},
   "source": [
    "### Enter the path to your local STEMMUS_SCOPE repository here:"
   ]
  },
  {
   "cell_type": "code",
   "execution_count": 2,
   "metadata": {},
   "outputs": [],
   "source": [
    "# path to model repository\n",
    "path_to_model = \"path to model repository\""
   ]
  },
  {
   "cell_type": "markdown",
   "metadata": {},
   "source": [
    "#### Update/set config files"
   ]
  },
  {
   "cell_type": "code",
   "execution_count": 3,
   "metadata": {},
   "outputs": [],
   "source": [
    "# the user must provide the correct path\n",
    "# path to config file\n",
    "path_to_config_template_file = path_to_model + \"/config_file_snellius.txt\"\n",
    "# Instantiate working directories handler from PyStemmusScope\n",
    "config_template = iostreamer.read_config(path_to_config_template_file)"
   ]
  },
  {
   "cell_type": "code",
   "execution_count": 49,
   "metadata": {},
   "outputs": [],
   "source": [
    "# edit config to run for 5 days\n",
    "config_template[\"NumberOfTimeSteps\"] = \"240\"\n",
    "\n",
    "# Select a station. NOTE: the following stations do not work; DK-Lva, ES-ES1, ES-ES2, and IT-Noe\n",
    "config_template[\"ForcingFileName\"] = 'US-GLE_2009-2014_FLUXNET2015_Met.nc'"
   ]
  },
  {
   "cell_type": "code",
   "execution_count": 50,
   "metadata": {},
   "outputs": [],
   "source": [
    "# Uncomment the following line to see all stations\n",
    "#!ls '/projects/0/einf2480/forcing/plumber2_data/'"
   ]
  },
  {
   "cell_type": "markdown",
   "metadata": {},
   "source": [
    "#### Create input directories, prepare input files "
   ]
  },
  {
   "cell_type": "code",
   "execution_count": 51,
   "metadata": {},
   "outputs": [],
   "source": [
    "# Specify the forcing filename\n",
    "forcing_filename = config_template[\"ForcingFileName\"]\n",
    "input_dir, output_dir, config_run_path = iostreamer.create_io_dir(forcing_filename, config_template)\n",
    "\n",
    "run_config = iostreamer.read_config(config_run_path)\n",
    "# Prepare the forcing data\n",
    "forcing_io.prepare_forcing(input_dir, Path(run_config[\"ForcingPath\"]) / forcing_filename, run_config)"
   ]
  },
  {
   "cell_type": "markdown",
   "metadata": {},
   "source": [
    "#### Run the model"
   ]
  },
  {
   "cell_type": "code",
   "execution_count": 52,
   "metadata": {},
   "outputs": [
    {
     "name": "stdout",
     "output_type": "stream",
     "text": [
      "MATLAB is selecting SOFTWARE OPENGL rendering.\n",
      "Opening log file:  /scratch-shared/ecoextreml/stemmus_scope/input/US-GLE_2022-06-24-1318/java.log.36359\n",
      "\n",
      "                            < M A T L A B (R) >\n",
      "                  Copyright 1984-2021 The MathWorks, Inc.\n",
      "             R2021a Update 3 (9.10.0.1684407) 64-bit (glnxa64)\n",
      "                                May 27, 2021\n",
      "\n",
      " \n",
      "To get started, type doc.\n",
      "For product information, visit www.mathworks.com.\n",
      " \n",
      "Reading config from /scratch-shared/ecoextreml/stemmus_scope/input/US-GLE_2022-06-24-1318/US-GLE_2022-06-24-1318_config.txt\n",
      "\n",
      " The calculations start now \n",
      " The calculations end now \r"
     ]
    }
   ],
   "source": [
    "# generate a text file\n",
    "path_to_code = path_to_model + \"/src\"\n",
    "\n",
    "# set matlab log dir to slurm, otherwise java.log files are created in user home dir\n",
    "os.environ['MATLAB_LOG_DIR'] = str(input_dir)\n",
    "\n",
    "# set matlab arguments\n",
    "path_to_config = f\"'{config_run_path}'\"\n",
    "command_line = f'matlab -r \"STEMMUS_SCOPE_exe({path_to_config});exit;\"'\n",
    "args = [command_line, \"-nodisplay\", \"-nosplash\", \"-nodesktop\"]\n",
    "\n",
    "# run the model\n",
    "result = subprocess.run(args, cwd = path_to_code, shell=True)\n",
    "result.check_returncode()"
   ]
  },
  {
   "cell_type": "markdown",
   "metadata": {},
   "source": [
    "#### Generate the output netCDF file"
   ]
  },
  {
   "cell_type": "code",
   "execution_count": 53,
   "metadata": {},
   "outputs": [
    {
     "name": "stdout",
     "output_type": "stream",
     "text": [
      "/scratch-shared/ecoextreml/stemmus_scope/output/US-GLE_2022-06-24-1318/ECdata.csv\n",
      "Reading variable metadata from /gpfs/home1/schilperb/STEMMUS_SCOPE/utils/csv_to_nc/Variables_will_be_in_NetCDF_file.csv\n",
      "Creating /scratch-shared/ecoextreml/stemmus_scope/output/US-GLE_2022-06-24-1318/US-GLE_2022-06-24-1318_STEMMUS_SCOPE.nc \n",
      "Reading data from file: radiation.csv\n",
      "Reading data from file: fluxes.csv\n",
      "Reading data from file: surftemp.csv\n",
      "Reading data from file: Sim_Temp.csv\n",
      "Reading data from file: Sim_Theta.csv\n",
      "Reading data from file: aerodyn.csv\n",
      "Reading data from file: ECdata.csv\n",
      "Done writing /scratch-shared/ecoextreml/stemmus_scope/output/US-GLE_2022-06-24-1318/US-GLE_2022-06-24-1318_STEMMUS_SCOPE.nc\n"
     ]
    }
   ],
   "source": [
    "# convert csv files to nc files\n",
    "path_to_generate_netcdf_script = path_to_model + \"/utils/csv_to_nc/generate_netcdf_files.py\"\n",
    "path_to_Variables_will_be_in_NetCDF_file = path_to_model + \"/utils/csv_to_nc/Variables_will_be_in_NetCDF_file.csv\"\n",
    "result = subprocess.run([\"python\", path_to_generate_netcdf_script,\n",
    "     \"--config_file\", config_run_path, \"--variable_file\",\n",
    "     path_to_Variables_will_be_in_NetCDF_file])\n",
    "result.check_returncode()"
   ]
  },
  {
   "cell_type": "markdown",
   "metadata": {},
   "source": [
    "#### Load in the new netCDF as well as the verification netCDF file"
   ]
  },
  {
   "cell_type": "code",
   "execution_count": 54,
   "metadata": {},
   "outputs": [],
   "source": [
    "station_name = forcing_filename[:6]\n",
    "verification_directory = Path('/projects/0/einf2480/run_1year/v1.1.5') / 'output'\n",
    "verification_nc_file = list(verification_directory.glob(f'{station_name}*/*STEMMUS_SCOPE.nc'))[0]\n",
    "\n",
    "run_nc_file = list(Path(output_dir).glob(f'*STEMMUS_SCOPE.nc'))[0]\n",
    "\n",
    "ds_ver = xr.open_dataset(verification_nc_file).squeeze(['x', 'y'])\n",
    "ds_run = xr.open_dataset(run_nc_file).squeeze(['x', 'y'])\n",
    "\n",
    "ds_ver = ds_ver.isel(time=slice(None, ds_run.time.size))"
   ]
  },
  {
   "cell_type": "markdown",
   "metadata": {},
   "source": [
    "### Ensure that no significant changes to the model output have occured due to changes made elsewhere\n",
    "Make sure this passes without errors before merging the new matlab code into the `python-compliant` branch. Preferably with more than a single station tested."
   ]
  },
  {
   "cell_type": "code",
   "execution_count": 56,
   "metadata": {},
   "outputs": [],
   "source": [
    "for key in ds_ver.keys():\n",
    "#     if key == 'Qg':\n",
    "#         pass\n",
    "#     else:\n",
    "    np.testing.assert_allclose(\n",
    "        ds_ver[key],\n",
    "        ds_run[key],\n",
    "        rtol=1e-4,\n",
    "        atol=np.abs(ds_ver[key]).mean().values / 100  # to allow for a small difference when the variable's value crosses 0.\n",
    "    )"
   ]
  },
  {
   "cell_type": "code",
   "execution_count": null,
   "metadata": {},
   "outputs": [],
   "source": []
  }
 ],
 "metadata": {
  "interpreter": {
   "hash": "28b136f154b3384fcb2854e5626613232692c304dbc5315064ef4c9363104a2c"
  },
  "kernelspec": {
   "display_name": "Python 3 (ipykernel)",
   "language": "python",
   "name": "python3"
  },
  "language_info": {
   "codemirror_mode": {
    "name": "ipython",
    "version": 3
   },
   "file_extension": ".py",
   "mimetype": "text/x-python",
   "name": "python",
   "nbconvert_exporter": "python",
   "pygments_lexer": "ipython3",
   "version": "3.9.13"
  },
  "metadata": {
   "interpreter": {
    "hash": "a8aa8210cb3d81d2b5c08b30572e78ad19bd30da92b4caf9890388bc07c5e3bf"
   }
  }
 },
 "nbformat": 4,
 "nbformat_minor": 4
}
