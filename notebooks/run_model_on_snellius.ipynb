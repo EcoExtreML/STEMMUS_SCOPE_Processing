{
 "cells": [
  {
   "cell_type": "markdown",
   "metadata": {},
   "source": [
    "## Launch the STEMMUS_SCOPE model\n",
    "Steps to run the STEMMUS_SCOPE model, including preprocessing and postprocessing, on Surf super computer Snellius."
   ]
  },
  {
   "cell_type": "code",
   "execution_count": 1,
   "metadata": {},
   "outputs": [],
   "source": [
    "import os\n",
    "import shutil\n",
    "import numpy as np\n",
    "from pathlib import Path\n",
    "import subprocess\n",
    "import datetime\n",
    "import time"
   ]
  },
  {
   "cell_type": "markdown",
   "metadata": {},
   "source": [
    "#### Create an executable file of STEMMUS_SCOPE"
   ]
  },
  {
   "cell_type": "code",
   "execution_count": 2,
   "metadata": {},
   "outputs": [],
   "source": [
    "# path to executable\n",
    "root_path_to_model = Path(Path.home(), \"STEMMUS_SCOPE\")\n",
    "# submit slurm job if the executable does not exist\n",
    "if not Path(root_path_to_model, \"exe\", \"STEMMUS_SCOPE\").is_file():\n",
    "    result = subprocess.run([\"sbatch\", \"build_stemmus_scope_exe.sh\"], cwd = Path(root_path_to_model, \"exe\"))\n",
    "    result.check_returncode()"
   ]
  },
  {
   "cell_type": "markdown",
   "metadata": {},
   "source": [
    "#### Update/set config files"
   ]
  },
  {
   "cell_type": "code",
   "execution_count": 3,
   "metadata": {},
   "outputs": [
    {
     "name": "stdout",
     "output_type": "stream",
     "text": [
      "The listed paths are defined in the config file:\n",
      "SoilPropertyPath\n",
      "InputPath\n",
      "OutputPath\n",
      "ForcingPath\n",
      "ForcingFileName\n",
      "VegetationPropertyPath\n",
      "DurationSize\n"
     ]
    }
   ],
   "source": [
    "# the user must provide the correct path\n",
    "path_dict = {\n",
    "    \"SoilPropertyPath\": \"/projects/0/einf2480/model_parameters/soil_property/\",\n",
    "    \"InputPath\": \"/scratch-shared/ecoextreml/stemmus_scope/test/input/\",\n",
    "    \"OutputPath\": \"/scratch-shared/ecoextreml/stemmus_scope/test/output/\",\n",
    "    \"ForcingPath\": \"/projects/0/einf2480/forcing/plumber2_data/\",\n",
    "    \"ForcingFileName\": \"FI-Hyy_1996-2014_FLUXNET2015_Met.nc\",\n",
    "    \"VegetationPropertyPath\": \"/projects/0/einf2480/model_parameters/vegetation_property/\",\n",
    "    \"DurationSize\": \"20\"\n",
    "}\n",
    "\n",
    "# generate a text file\n",
    "root_path = Path().resolve().parent\n",
    "\n",
    "with open(Path(root_path, \"config_file_snellius.txt\"), 'w') as f:\n",
    "    print(\"The listed paths are defined in the config file:\")\n",
    "    for i in path_dict.keys():\n",
    "        print(i)\n",
    "        f.write((i + \"=\" + path_dict[i] + \"\\n\"))"
   ]
  },
  {
   "cell_type": "markdown",
   "metadata": {},
   "source": [
    "#### Create input directories, prepare input files "
   ]
  },
  {
   "cell_type": "code",
   "execution_count": 4,
   "metadata": {},
   "outputs": [],
   "source": [
    "def input_dir(station_name):\n",
    "    \"\"\"Create input directory and prepare input files\n",
    "    \"\"\"\n",
    "    # get start time with the format Y-M-D-HM\n",
    "    start_time = str(datetime.datetime.now()).split('.')[0]\n",
    "    timestamp = start_time.replace(' ', '-').replace(':', '')[:-2]\n",
    "    # create input directory\n",
    "    work_dir = Path(path_dict[\"InputPath\"], station_name + '_' + timestamp)\n",
    "    Path(work_dir).mkdir(parents=True, exist_ok=True)\n",
    "    print(f\"Prepare work directory for the station: {station_name}\")\n",
    "    # copy model parameters to work directory\n",
    "    shutil.copytree(path_dict[\"VegetationPropertyPath\"], work_dir, dirs_exist_ok=True)\n",
    "    # update config file for ForcingFileName and InputPath\n",
    "    with open(Path(work_dir, f\"{station_name}_{timestamp}_config.txt\"), 'w') as f:\n",
    "        for i in path_dict.keys():\n",
    "            if i == \"ForcingFileName\":\n",
    "                f.write(i + \"=\" + ncfile.stem + \".nc\" + \"\\n\")\n",
    "            elif i == \"InputPath\":\n",
    "                f.write(i + \"=\" + str(work_dir) + \"\\n\")\n",
    "            else:\n",
    "                f.write(i + \"=\" + path_dict[i] + \"\\n\")\n",
    "    \n",
    "    # create an output file\n",
    "    Path(root_path, \"out\").mkdir(parents=True, exist_ok=True)\n",
    "    with open(Path(root_path, \"out\", f\"{station_name}.out\"), 'w') as f:\n",
    "        for i in path_dict.keys():\n",
    "            if i == \"ForcingFileName\":\n",
    "                f.write(i + \" is \" + ncfile.stem + \".nc\" + \"\\n\")\n",
    "            elif i == \"InputPath\":\n",
    "                f.write(i + \" is \" + str(work_dir) + \"\\n\")\n",
    "            elif i == \"DurationSize\":\n",
    "                pass\n",
    "            else:\n",
    "                f.write(i + \" is \" + path_dict[i] + \"\\n\")\n",
    "    "
   ]
  },
  {
   "cell_type": "code",
   "execution_count": 5,
   "metadata": {},
   "outputs": [
    {
     "name": "stdout",
     "output_type": "stream",
     "text": [
      "Prepare work directory for the station: NL-Hor\n"
     ]
    }
   ],
   "source": [
    "# specify the station of interest\n",
    "# station_names_list is by default none, if it is not specified, then all stations with forcing\n",
    "# listed in the ForcingPath will be used.\n",
    "#station_names_list = None\n",
    "station_names_list = [\"NL-Hor\"]\n",
    "#station_names_list = [\"NL-Hor\", \"ZA-Kru\"]\n",
    "\n",
    "for ncfile in Path(path_dict[\"ForcingPath\"]).iterdir():\n",
    "    # get the station name\n",
    "    station_name = ncfile.stem.split('_')[0]\n",
    "    # check if a station list is provided\n",
    "    if station_names_list == None:\n",
    "        input_dir(station_name)\n",
    "    elif station_name in station_names_list:\n",
    "        input_dir(station_name)"
   ]
  },
  {
   "cell_type": "markdown",
   "metadata": {},
   "source": [
    "#### Run the model"
   ]
  },
  {
   "cell_type": "code",
   "execution_count": 8,
   "metadata": {},
   "outputs": [
    {
     "name": "stdout",
     "output_type": "stream",
     "text": [
      "export BASH_ENV=\"/usr/share/lmod/lmod/init/bash\"\n",
      "export CLICOLOR=\"1\"\n",
      "export CMAKE_PREFIX_PATH=\"/sw/arch/Centos8/EB_production/2021/software/MCR/R2021a.3\"\n",
      "export CONDA_DEFAULT_ENV=\"stemmus\"\n",
      "export CONDA_EXE=\"/gpfs/home3/yangl/mamba/bin/conda\"\n",
      "export CONDA_PREFIX=\"/gpfs/home3/yangl/mamba/envs/stemmus\"\n",
      "export CONDA_PREFIX_1=\"/gpfs/home3/yangl/mamba\"\n",
      "export CONDA_PROMPT_MODIFIER=\"(stemmus) \"\n",
      "export CONDA_PYTHON_EXE=\"/gpfs/home3/yangl/mamba/bin/python\"\n",
      "export CONDA_SHLVL=\"2\"\n",
      "export EAR_INSTALL_PATH=\"/sw/arch/Centos8/EB_production/2021/software/ear\"\n",
      "export EAR_TMP=\"/var/ear\"\n",
      "export EBDEVELMCR=\"/sw/arch/Centos8/EB_production/2021/software/MCR/R2021a.3/easybuild/MCR-R2021a.3-easybuild-devel\"\n",
      "export EBROOTMCR=\"/sw/arch/Centos8/EB_production/2021/software/MCR/R2021a.3\"\n",
      "export EBVERSIONMCR=\"R2021a\"\n",
      "export ENVIRONMENT=\"BATCH\"\n",
      "export GIT_PAGER=\"cat\"\n",
      "export HISTCONTROL=\"ignoredups\"\n",
      "export HISTSIZE=\"1000\"\n",
      "export HOME=\"/home/yangl\"\n",
      "export HOSTNAME=\"tcn433\"\n",
      "export JPY_PARENT_PID=\"3805172\"\n",
      "export LC_CTYPE=\"C.UTF-8\"\n",
      "export LD_LIBRARY_PATH=\"/sw/arch/Centos8/EB_production/2021/software/MCR/R2021a.3/v910/sys/os/glnxa64:/sw/arch/Centos8/EB_production/2021/software/MCR/R2021a.3/v910/bin/glnxa64:/sw/arch/Centos8/EB_production/2021/software/MCR/R2021a.3/v910/runtime/glnxa64\"\n",
      "export LESSOPEN=\"||/usr/bin/lesspipe.sh %s\"\n",
      "export LMOD_CASE_INDEPENDENT_SORTING=\"yes\"\n",
      "export LMOD_CMD=\"/usr/share/lmod/lmod/libexec/lmod\"\n",
      "export LMOD_DIR=\"/usr/share/lmod/lmod/libexec\"\n",
      "export LMOD_EXACT_MATCH=\"yes\"\n",
      "export LMOD_PKG=\"/usr/share/lmod/lmod\"\n",
      "export LMOD_ROOT=\"/usr/share/lmod\"\n",
      "export LMOD_SETTARG_FULL_SUPPORT=\"no\"\n",
      "export LMOD_SHORT_TIME=\"10000\"\n",
      "export LMOD_VERSION=\"8.2.7\"\n",
      "export LOADEDMODULES=\"2021:MCR/R2021a.3\"\n",
      "export LOGNAME=\"yangl\"\n",
      "export MAIL=\"/var/spool/mail/yangl\"\n",
      "export MANPATH=\"/gpfs/admin/hpc/sw/hpc/man:/usr/share/lmod/lmod/share/man::/gpfs/admin/hpc/sw/hpc/man:/usr/local/share/man:/usr/share/man\"\n",
      "export MCRROOT=\"/sw/arch/Centos8/EB_production/2021/software/MCR/R2021a.3/v910\"\n",
      "export MODULEPATH=\"/sw/noarch/environment:/sw/arch/Centos8/EB_production/2021/modulefiles/phys:/sw/arch/Centos8/EB_production/2021/modulefiles/perf:/sw/arch/Centos8/EB_production/2021/modulefiles/geo:/sw/arch/Centos8/EB_production/2021/modulefiles/debugger:/sw/arch/Centos8/EB_production/2021/modulefiles/chem:/sw/arch/Centos8/EB_production/2021/modulefiles/data:/sw/arch/Centos8/EB_production/2021/modulefiles/vis:/sw/arch/Centos8/EB_production/2021/modulefiles/bio:/sw/arch/Centos8/EB_production/2021/modulefiles/math:/sw/arch/Centos8/EB_production/2021/modulefiles/cae:/sw/arch/Centos8/EB_production/2021/modulefiles/system:/sw/arch/Centos8/EB_production/2021/modulefiles/toolchain:/sw/arch/Centos8/EB_production/2021/modulefiles/numlib:/sw/arch/Centos8/EB_production/2021/modulefiles/mpi:/sw/arch/Centos8/EB_production/2021/modulefiles/tools:/sw/arch/Centos8/EB_production/2021/modulefiles/lib:/sw/arch/Centos8/EB_production/2021/modulefiles/compiler:/sw/arch/Centos8/EB_production/2021/modulefiles/lang:/sw/arch/Centos8/EB_production/2021/modulefiles/devel:/sw/noarch/Centos8/2021/modulefiles/all\"\n",
      "export MODULESHOME=\"/usr/share/lmod/lmod\"\n",
      "export MPLBACKEND=\"module://matplotlib_inline.backend_inline\"\n",
      "export OLDPWD\n",
      "export OMP_NUM_THREADS=\"32\"\n",
      "export PAGER=\"cat\"\n",
      "export PATH=\"/sw/arch/Centos8/EB_production/2021/software/MCR/R2021a.3:/gpfs/home3/yangl/mamba/envs/stemmus/bin:/gpfs/home3/yangl/mamba/condabin:/home/yangl/.local/bin:/home/yangl/bin:/gpfs/admin/hpc/sw/hpc/bin:/gpfs/admin/hpc/sw/hpc/sbin:/usr/local/bin:/usr/bin:/usr/local/sbin:/usr/sbin\"\n",
      "export PWD=\"/gpfs/home3/yangl/processing/notebooks\"\n",
      "export PYDEVD_USE_FRAME_EVAL=\"NO\"\n",
      "export SHELL=\"/bin/bash\"\n",
      "export SHLVL=\"3\"\n",
      "export SLURMD_NODENAME=\"tcn433\"\n",
      "export SLURM_CLUSTER_NAME=\"snellius\"\n",
      "export SLURM_CONF=\"/etc/slurm/slurm.conf\"\n",
      "export SLURM_CPUS_ON_NODE=\"32\"\n",
      "export SLURM_CPUS_PER_TASK=\"32\"\n",
      "export SLURM_ECLIBR=\"0\"\n",
      "export SLURM_ECPLUG=\"1\"\n",
      "export SLURM_ERLAST=\"sbatch\"\n",
      "export SLURM_ERSBAC=\"1\"\n",
      "export SLURM_EXPORT_ENV=\"ALL\"\n",
      "export SLURM_GET_USER_ENV=\"1\"\n",
      "export SLURM_GTIDS=\"0\"\n",
      "export SLURM_JOBID=\"869423\"\n",
      "export SLURM_JOB_ACCOUNT=\"ecsei2480\"\n",
      "export SLURM_JOB_CPUS_PER_NODE=\"32\"\n",
      "export SLURM_JOB_GID=\"57079\"\n",
      "export SLURM_JOB_ID=\"869423\"\n",
      "export SLURM_JOB_NAME=\"jupyter_lab\"\n",
      "export SLURM_JOB_NODELIST=\"tcn433\"\n",
      "export SLURM_JOB_NUM_NODES=\"1\"\n",
      "export SLURM_JOB_PARTITION=\"thin\"\n",
      "export SLURM_JOB_QOS=\"thin\"\n",
      "export SLURM_JOB_UID=\"57564\"\n",
      "export SLURM_JOB_USER=\"yangl\"\n",
      "export SLURM_LOCALID=\"0\"\n",
      "export SLURM_MEM_PER_CPU=\"1875\"\n",
      "export SLURM_NNODES=\"1\"\n",
      "export SLURM_NODEID=\"0\"\n",
      "export SLURM_NODELIST=\"tcn433\"\n",
      "export SLURM_NODE_ALIASES=\"(null)\"\n",
      "export SLURM_NPROCS=\"1\"\n",
      "export SLURM_NTASKS=\"1\"\n",
      "export SLURM_PRIO_PROCESS=\"0\"\n",
      "export SLURM_PROCID=\"0\"\n",
      "export SLURM_SUBMIT_DIR=\"/gpfs/home3/yangl\"\n",
      "export SLURM_SUBMIT_HOST=\"int3\"\n",
      "export SLURM_TASKS_PER_NODE=\"1\"\n",
      "export SLURM_TASK_PID=\"3805128\"\n",
      "export SLURM_TOPOLOGY_ADDR=\"root.ibsw11.tcn433\"\n",
      "export SLURM_TOPOLOGY_ADDR_PATTERN=\"switch.switch.node\"\n",
      "export SLURM_WORKING_CLUSTER=\"snellius:172.18.63.159:6817:9216:109\"\n",
      "export TERM=\"xterm-color\"\n",
      "export TMPDIR=\"/scratch-local/yangl.869423\"\n",
      "export USER=\"yangl\"\n",
      "export XAPPLRESDIR=\"/sw/arch/Centos8/EB_production/2021/software/MCR/R2021a.3/v910/X11/app-defaults\"\n",
      "export _=\"/gpfs/home3/yangl/mamba/envs/stemmus/bin/jupyter\"\n",
      "export _CE_CONDA=\"\"\n",
      "export _CE_M=\"\"\n",
      "export _JAVA_OPTIONS=\"-Xmx256m\"\n",
      "export _LMFILES_=\"/sw/noarch/environment/2021.lua:/sw/arch/Centos8/EB_production/2021/modulefiles/math/MCR/R2021a.3.lua\"\n",
      "export _ModuleTable001_=\"X01vZHVsZVRhYmxlXz17WyJNVHZlcnNpb24iXT0zLFsiY19yZWJ1aWxkVGltZSJdPWZhbHNlLFsiY19zaG9ydFRpbWUiXT1mYWxzZSxkZXB0aFQ9e30sZmFtaWx5PXt9LG1UPXtbIjIwMjEiXT17WyJmbiJdPSIvc3cvbm9hcmNoL2Vudmlyb25tZW50LzIwMjEubHVhIixbImZ1bGxOYW1lIl09IjIwMjEiLFsibG9hZE9yZGVyIl09MSxwcm9wVD17fSxbInN0YWNrRGVwdGgiXT0wLFsic3RhdHVzIl09ImFjdGl2ZSIsWyJ1c2VyTmFtZSJdPSIyMDIxIix9LE1DUj17WyJmbiJdPSIvc3cvYXJjaC9DZW50b3M4L0VCX3Byb2R1Y3Rpb24vMjAyMS9tb2R1bGVmaWxlcy9tYXRoL01DUi9SMjAyMWEuMy5sdWEiLFsiZnVsbE5hbWUiXT0iTUNSL1IyMDIxYS4zIixbImxvYWRPcmRlciJdPTIs\"\n",
      "export _ModuleTable002_=\"cHJvcFQ9e30sWyJzdGFja0RlcHRoIl09MCxbInN0YXR1cyJdPSJhY3RpdmUiLFsidXNlck5hbWUiXT0iTUNSL1IyMDIxYS4zIix9LH0sbXBhdGhBPXsiL3N3L25vYXJjaC9lbnZpcm9ubWVudCIsIi9zdy9hcmNoL0NlbnRvczgvRUJfcHJvZHVjdGlvbi8yMDIxL21vZHVsZWZpbGVzL3BoeXMiLCIvc3cvYXJjaC9DZW50b3M4L0VCX3Byb2R1Y3Rpb24vMjAyMS9tb2R1bGVmaWxlcy9wZXJmIiwiL3N3L2FyY2gvQ2VudG9zOC9FQl9wcm9kdWN0aW9uLzIwMjEvbW9kdWxlZmlsZXMvZ2VvIiwiL3N3L2FyY2gvQ2VudG9zOC9FQl9wcm9kdWN0aW9uLzIwMjEvbW9kdWxlZmlsZXMvZGVidWdnZXIiLCIvc3cvYXJjaC9DZW50b3M4L0VCX3Byb2R1Y3Rpb24vMjAyMS9tb2R1bGVmaWxlcy9j\"\n",
      "export _ModuleTable003_=\"aGVtIiwiL3N3L2FyY2gvQ2VudG9zOC9FQl9wcm9kdWN0aW9uLzIwMjEvbW9kdWxlZmlsZXMvZGF0YSIsIi9zdy9hcmNoL0NlbnRvczgvRUJfcHJvZHVjdGlvbi8yMDIxL21vZHVsZWZpbGVzL3ZpcyIsIi9zdy9hcmNoL0NlbnRvczgvRUJfcHJvZHVjdGlvbi8yMDIxL21vZHVsZWZpbGVzL2JpbyIsIi9zdy9hcmNoL0NlbnRvczgvRUJfcHJvZHVjdGlvbi8yMDIxL21vZHVsZWZpbGVzL21hdGgiLCIvc3cvYXJjaC9DZW50b3M4L0VCX3Byb2R1Y3Rpb24vMjAyMS9tb2R1bGVmaWxlcy9jYWUiLCIvc3cvYXJjaC9DZW50b3M4L0VCX3Byb2R1Y3Rpb24vMjAyMS9tb2R1bGVmaWxlcy9zeXN0ZW0iLCIvc3cvYXJjaC9DZW50b3M4L0VCX3Byb2R1Y3Rpb24vMjAyMS9tb2R1bGVmaWxlcy90\"\n",
      "export _ModuleTable004_=\"b29sY2hhaW4iLCIvc3cvYXJjaC9DZW50b3M4L0VCX3Byb2R1Y3Rpb24vMjAyMS9tb2R1bGVmaWxlcy9udW1saWIiLCIvc3cvYXJjaC9DZW50b3M4L0VCX3Byb2R1Y3Rpb24vMjAyMS9tb2R1bGVmaWxlcy9tcGkiLCIvc3cvYXJjaC9DZW50b3M4L0VCX3Byb2R1Y3Rpb24vMjAyMS9tb2R1bGVmaWxlcy90b29scyIsIi9zdy9hcmNoL0NlbnRvczgvRUJfcHJvZHVjdGlvbi8yMDIxL21vZHVsZWZpbGVzL2xpYiIsIi9zdy9hcmNoL0NlbnRvczgvRUJfcHJvZHVjdGlvbi8yMDIxL21vZHVsZWZpbGVzL2NvbXBpbGVyIiwiL3N3L2FyY2gvQ2VudG9zOC9FQl9wcm9kdWN0aW9uLzIwMjEvbW9kdWxlZmlsZXMvbGFuZyIsIi9zdy9hcmNoL0NlbnRvczgvRUJfcHJvZHVjdGlvbi8yMDIxL21v\"\n",
      "export _ModuleTable005_=\"ZHVsZWZpbGVzL2RldmVsIiwiL3N3L25vYXJjaC9DZW50b3M4LzIwMjEvbW9kdWxlZmlsZXMvYWxsIix9LFsic3lzdGVtQmFzZU1QQVRIIl09Ii9zdy9ub2FyY2gvZW52aXJvbm1lbnQiLH0=\"\n",
      "export _ModuleTable_Sz_=\"5\"\n",
      "export __LMOD_REF_COUNT_CMAKE_PREFIX_PATH=\"/sw/arch/Centos8/EB_production/2021/software/MCR/R2021a.3:1\"\n",
      "export __LMOD_REF_COUNT_LD_LIBRARY_PATH=\"/sw/arch/Centos8/EB_production/2021/software/MCR/R2021a.3/v910/sys/os/glnxa64:1;/sw/arch/Centos8/EB_production/2021/software/MCR/R2021a.3/v910/bin/glnxa64:1;/sw/arch/Centos8/EB_production/2021/software/MCR/R2021a.3/v910/runtime/glnxa64:1\"\n",
      "export __LMOD_REF_COUNT_LOADEDMODULES=\"2021:1;MCR/R2021a.3:1\"\n",
      "export __LMOD_REF_COUNT_MODULEPATH=\"/sw/noarch/environment:1;/sw/arch/Centos8/EB_production/2021/modulefiles/phys:1;/sw/arch/Centos8/EB_production/2021/modulefiles/perf:1;/sw/arch/Centos8/EB_production/2021/modulefiles/geo:1;/sw/arch/Centos8/EB_production/2021/modulefiles/debugger:1;/sw/arch/Centos8/EB_production/2021/modulefiles/chem:1;/sw/arch/Centos8/EB_production/2021/modulefiles/data:1;/sw/arch/Centos8/EB_production/2021/modulefiles/vis:1;/sw/arch/Centos8/EB_production/2021/modulefiles/bio:1;/sw/arch/Centos8/EB_production/2021/modulefiles/math:1;/sw/arch/Centos8/EB_production/2021/modulefiles/cae:1;/sw/arch/Centos8/EB_production/2021/modulefiles/system:1;/sw/arch/Centos8/EB_production/2021/modulefiles/toolchain:1;/sw/arch/Centos8/EB_production/2021/modulefiles/numlib:1;/sw/arch/Centos8/EB_production/2021/modulefiles/mpi:1;/sw/arch/Centos8/EB_production/2021/modulefiles/tools:1;/sw/arch/Centos8/EB_production/2021/modulefiles/lib:1;/sw/arch/Centos8/EB_production/2021/modulefiles/compiler:1;/sw/arch/Centos8/EB_production/2021/modulefiles/lang:1;/sw/arch/Centos8/EB_production/2021/modulefiles/devel:1;/sw/noarch/Centos8/2021/modulefiles/all:1\"\n",
      "export __LMOD_REF_COUNT_PATH=\"/sw/arch/Centos8/EB_production/2021/software/MCR/R2021a.3:1;/gpfs/home3/yangl/mamba/envs/stemmus/bin:1;/gpfs/home3/yangl/mamba/condabin:1;/home/yangl/.local/bin:1;/home/yangl/bin:1;/gpfs/admin/hpc/sw/hpc/bin:1;/gpfs/admin/hpc/sw/hpc/sbin:1;/usr/local/bin:1;/usr/bin:1;/usr/local/sbin:1;/usr/sbin:1\"\n",
      "export __LMOD_REF_COUNT__LMFILES_=\"/sw/noarch/environment/2021.lua:1;/sw/arch/Centos8/EB_production/2021/modulefiles/math/MCR/R2021a.3.lua:1\"\n"
     ]
    },
    {
     "name": "stderr",
     "output_type": "stream",
     "text": [
      "Not enough input arguments.\n",
      "\n",
      "Error in STEMMUS_SCOPE_exe (line 8)\n",
      "\n",
      "MATLAB:minrhs\n"
     ]
    },
    {
     "name": "stdout",
     "output_type": "stream",
     "text": [
      "Opening log file:  /home/yangl/java.log.7920\n"
     ]
    },
    {
     "ename": "CalledProcessError",
     "evalue": "Command '['exe/STEMMUS_SCOPE', PosixPath('/scratch-shared/ecoextreml/stemmus_scope/test/input/NL-Hor_2022-05-06-1715/NL-Hor_2022-05-06-1715_config.txt'), '>>', 'NL-Hor.out']' returned non-zero exit status 249.",
     "output_type": "error",
     "traceback": [
      "\u001b[0;31m---------------------------------------------------------------------------\u001b[0m",
      "\u001b[0;31mCalledProcessError\u001b[0m                        Traceback (most recent call last)",
      "Input \u001b[0;32mIn [8]\u001b[0m, in \u001b[0;36m<cell line: 1>\u001b[0;34m()\u001b[0m\n\u001b[1;32m      8\u001b[0m \u001b[38;5;66;03m# run the model\u001b[39;00m\n\u001b[1;32m      9\u001b[0m result \u001b[38;5;241m=\u001b[39m subprocess\u001b[38;5;241m.\u001b[39mrun([\u001b[38;5;124m\"\u001b[39m\u001b[38;5;124mexe/STEMMUS_SCOPE\u001b[39m\u001b[38;5;124m\"\u001b[39m, path_to_config, \u001b[38;5;124m\"\u001b[39m\u001b[38;5;124m>>\u001b[39m\u001b[38;5;124m\"\u001b[39m, \u001b[38;5;124mf\u001b[39m\u001b[38;5;124m\"\u001b[39m\u001b[38;5;132;01m{\u001b[39;00mstation_name\u001b[38;5;132;01m}\u001b[39;00m\u001b[38;5;124m.out\u001b[39m\u001b[38;5;124m\"\u001b[39m], cwd \u001b[38;5;241m=\u001b[39m root_path_to_model, shell\u001b[38;5;241m=\u001b[39m\u001b[38;5;28;01mTrue\u001b[39;00m)\n\u001b[0;32m---> 10\u001b[0m \u001b[43mresult\u001b[49m\u001b[38;5;241;43m.\u001b[39;49m\u001b[43mcheck_returncode\u001b[49m\u001b[43m(\u001b[49m\u001b[43m)\u001b[49m\n\u001b[1;32m     11\u001b[0m \u001b[38;5;66;03m# calculate total execution time\u001b[39;00m\n\u001b[1;32m     12\u001b[0m run_time \u001b[38;5;241m=\u001b[39m time\u001b[38;5;241m.\u001b[39mtime() \u001b[38;5;241m-\u001b[39m start_time\n",
      "File \u001b[0;32m/gpfs/home3/yangl/mamba/envs/stemmus/lib/python3.9/subprocess.py:460\u001b[0m, in \u001b[0;36mCompletedProcess.check_returncode\u001b[0;34m(self)\u001b[0m\n\u001b[1;32m    458\u001b[0m \u001b[38;5;124;03m\"\"\"Raise CalledProcessError if the exit code is non-zero.\"\"\"\u001b[39;00m\n\u001b[1;32m    459\u001b[0m \u001b[38;5;28;01mif\u001b[39;00m \u001b[38;5;28mself\u001b[39m\u001b[38;5;241m.\u001b[39mreturncode:\n\u001b[0;32m--> 460\u001b[0m     \u001b[38;5;28;01mraise\u001b[39;00m CalledProcessError(\u001b[38;5;28mself\u001b[39m\u001b[38;5;241m.\u001b[39mreturncode, \u001b[38;5;28mself\u001b[39m\u001b[38;5;241m.\u001b[39margs, \u001b[38;5;28mself\u001b[39m\u001b[38;5;241m.\u001b[39mstdout,\n\u001b[1;32m    461\u001b[0m                              \u001b[38;5;28mself\u001b[39m\u001b[38;5;241m.\u001b[39mstderr)\n",
      "\u001b[0;31mCalledProcessError\u001b[0m: Command '['exe/STEMMUS_SCOPE', PosixPath('/scratch-shared/ecoextreml/stemmus_scope/test/input/NL-Hor_2022-05-06-1715/NL-Hor_2022-05-06-1715_config.txt'), '>>', 'NL-Hor.out']' returned non-zero exit status 249."
     ]
    }
   ],
   "source": [
    "for station_dir in os.listdir(path_dict[\"InputPath\"]):\n",
    "    station_name = station_dir.split(\"_\")[0]\n",
    "    path_to_config = Path(path_dict[\"InputPath\"], f\"{station_dir}\",f\"{station_dir}_config.txt\")\n",
    "    # set matlab log dir to slurm, otherwise java.log files are created in user home dir\n",
    "    subprocess.run([\"export\", \"MATLAB_LOG_DIR=../out\"], shell=True)\n",
    "    # start time\n",
    "    start_time = time.time()\n",
    "    # run the model\n",
    "    result = subprocess.run([\"exe/STEMMUS_SCOPE\", path_to_config, \">>\", f\"{station_name}.out\"], cwd = root_path_to_model, shell=True)\n",
    "    result.check_returncode()\n",
    "    # calculate total execution time\n",
    "    run_time = time.time() - start_time\n",
    "    # add execution information to out file\n",
    "    with open(Path(root_path, \"out\", f\"{station_name}.out\"), 'a') as f:\n",
    "        f.write(f\"Run is COMPLETED. Model run time is {run_time} s.\")"
   ]
  },
  {
   "cell_type": "markdown",
   "metadata": {},
   "source": [
    "#### Create output directories, prepare output files"
   ]
  },
  {
   "cell_type": "code",
   "execution_count": null,
   "metadata": {},
   "outputs": [],
   "source": [
    "# convert csv files to nc files\n",
    "path_to_utils = Path(root_path_to_model, \"utils/csv_to_nc\")\n",
    "for station_dir in os.listdir(path_dict[\"InputPath\"]):\n",
    "    path_to_config = Path(path_dict[\"InputPath\"], f\"{station_dir}\",f\"{station_dir}_config.txt\")\n",
    "    result = subprocess.run([\"python\", Path(path_to_utils, \"generate_netcdf_files.py\"),\n",
    "         \"--config_file\", path_to_config, \"--variable_file\", Path(path_to_utils, \"Variables_will_be_in_NetCDF_file.csv\")])\n",
    "    result.check_returncode()"
   ]
  }
 ],
 "metadata": {
  "interpreter": {
   "hash": "28b136f154b3384fcb2854e5626613232692c304dbc5315064ef4c9363104a2c"
  },
  "kernelspec": {
   "display_name": "Python 3 (ipykernel)",
   "language": "python",
   "name": "python3"
  },
  "language_info": {
   "codemirror_mode": {
    "name": "ipython",
    "version": 3
   },
   "file_extension": ".py",
   "mimetype": "text/x-python",
   "name": "python",
   "nbconvert_exporter": "python",
   "pygments_lexer": "ipython3",
   "version": "3.9.12"
  }
 },
 "nbformat": 4,
 "nbformat_minor": 4
}
