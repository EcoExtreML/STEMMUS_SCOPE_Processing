{
 "cells": [
  {
   "cell_type": "markdown",
   "metadata": {},
   "source": [
    "## Run the STEMMUS_SCOPE model\n",
    "Steps to run the STEMMUS_SCOPE model, including preprocessing and postprocessing, on Surf super computer Snellius."
   ]
  },
  {
   "cell_type": "code",
   "execution_count": 1,
   "metadata": {},
   "outputs": [],
   "source": [
    "import os\n",
    "import shutil\n",
    "import numpy as np\n",
    "from pathlib import Path\n",
    "import subprocess\n",
    "import time"
   ]
  },
  {
   "cell_type": "markdown",
   "metadata": {},
   "source": [
    "#### Path to STEMMUS_SCOPE\n",
    "\n",
    "STEMMUS_SCOPE source codes are located in the **private** repository on GitHub https://github.com/EcoExtreML/STEMMUS_SCOPE. You need to clone the repository locally and specify the path to it in the cell below. Make sure you have right access to the repository and you created a local branch for development purposes. "
   ]
  },
  {
   "cell_type": "code",
   "execution_count": 2,
   "metadata": {},
   "outputs": [],
   "source": [
    "# path to model repository\n",
    "path_to_model = Path(\"path_to_STEMMUS_SCOPE_repository\")\n",
    "path_to_model = Path(\"/home/alidoost/STEMMUS_SCOPE\")"
   ]
  },
  {
   "cell_type": "markdown",
   "metadata": {},
   "source": [
    "#### set git branch and see status"
   ]
  },
  {
   "cell_type": "code",
   "execution_count": 3,
   "metadata": {},
   "outputs": [
    {
     "name": "stdout",
     "output_type": "stream",
     "text": [
      "Already on 'name_of_your_branch'\n",
      "On branch name_of_your_branch\n",
      "Untracked files:\n",
      "  (use \"git add <file>...\" to include in what will be committed)\n",
      "\t\u001b[31mexe/mccExcludedFiles.log\u001b[m\n",
      "\t\u001b[31mexe/readme.txt\u001b[m\n",
      "\t\u001b[31mexe/requiredMCRProducts.txt\u001b[m\n",
      "\t\u001b[31mexe/run_STEMMUS_SCOPE.sh\u001b[m\n",
      "\t\u001b[31mexe/unresolvedSymbols.txt\u001b[m\n",
      "\t\u001b[31mjava.log.42488\u001b[m\n",
      "\t\u001b[31mslurm/\u001b[m\n",
      "\t\u001b[31mslurm_901092.out\u001b[m\n",
      "\t\u001b[31mslurm_901245.out\u001b[m\n",
      "\t\u001b[31mslurm_901391.out\u001b[m\n",
      "\t\u001b[31mslurm_901417.out\u001b[m\n",
      "\t\u001b[31mslurm_901577.out\u001b[m\n",
      "\t\u001b[31mslurm_902191.out\u001b[m\n",
      "\t\u001b[31mslurm_908852.out\u001b[m\n",
      "\t\u001b[31mtest_run_stemmus_scope_snellius.sh\u001b[m\n",
      "\t\u001b[31mutils/csv_to_nc/__pycache__/\u001b[m\n",
      "\t\u001b[31mutils/get_info_stemmus_scope_snellius.sh\u001b[m\n",
      "\n",
      "nothing added to commit but untracked files present (use \"git add\" to track)\n"
     ]
    }
   ],
   "source": [
    "dev_branch = \"name_of_your_branch\"\n",
    "!git -C {path_to_model} checkout {dev_branch}\n",
    "!git -C {path_to_model} status"
   ]
  },
  {
   "cell_type": "markdown",
   "metadata": {},
   "source": [
    "#### Update/set config files"
   ]
  },
  {
   "cell_type": "code",
   "execution_count": 4,
   "metadata": {},
   "outputs": [],
   "source": [
    "# the user must provide the correct path\n",
    "# path to config file\n",
    "config_file_path = path_to_model / \"config_file_snellius.txt\"\n",
    "# create an empty dict\n",
    "config = {}\n",
    "with open(config_file_path, \"r\") as f:\n",
    "    for line in f:\n",
    "        (key, val) = line.split(\"=\")\n",
    "        config[key] = val.rstrip('\\n')"
   ]
  },
  {
   "cell_type": "code",
   "execution_count": 5,
   "metadata": {},
   "outputs": [
    {
     "data": {
      "text/plain": [
       "{'SoilPropertyPath': '/projects/0/einf2480/model_parameters/soil_property/',\n",
       " 'InputPath': '/scratch-shared/ecoextreml/stemmus_scope/input/',\n",
       " 'OutputPath': '/scratch-shared/ecoextreml/stemmus_scope/output/',\n",
       " 'ForcingPath': '/projects/0/einf2480/forcing/plumber2_data/',\n",
       " 'ForcingFileName': 'FI-Hyy_1996-2014_FLUXNET2015_Met.nc',\n",
       " 'VegetationPropertyPath': '/projects/0/einf2480/model_parameters/vegetation_property/',\n",
       " 'DurationSize': '17520'}"
      ]
     },
     "execution_count": 5,
     "metadata": {},
     "output_type": "execute_result"
    }
   ],
   "source": [
    "config"
   ]
  },
  {
   "cell_type": "code",
   "execution_count": 6,
   "metadata": {},
   "outputs": [
    {
     "data": {
      "text/plain": [
       "{'SoilPropertyPath': '/projects/0/einf2480/model_parameters/soil_property/',\n",
       " 'InputPath': '/scratch-shared/ecoextreml/stemmus_scope/input/',\n",
       " 'OutputPath': '/scratch-shared/ecoextreml/stemmus_scope/output/',\n",
       " 'ForcingPath': '/projects/0/einf2480/forcing/plumber2_data/',\n",
       " 'ForcingFileName': 'FI-Hyy_1996-2014_FLUXNET2015_Met.nc',\n",
       " 'VegetationPropertyPath': '/projects/0/einf2480/model_parameters/vegetation_property/',\n",
       " 'DurationSize': '5'}"
      ]
     },
     "execution_count": 6,
     "metadata": {},
     "output_type": "execute_result"
    }
   ],
   "source": [
    "# edit config\n",
    "config[\"DurationSize\"] = \"5\"\n",
    "config"
   ]
  },
  {
   "cell_type": "markdown",
   "metadata": {},
   "source": [
    "#### Create input directories, prepare input files "
   ]
  },
  {
   "cell_type": "code",
   "execution_count": 7,
   "metadata": {},
   "outputs": [],
   "source": [
    "def input_dir(ncfile):\n",
    "    \"\"\"Create input directory and prepare input files\n",
    "    \"\"\"\n",
    "    # get start time with the format Y-M-D-HM\n",
    "    timestamp = time.strftime('%Y%m%d_%H%M')\n",
    "    station_name = ncfile.split('_')[0]\n",
    "    # create input directory\n",
    "    work_dir = Path(config[\"InputPath\"], station_name + '_' + timestamp)\n",
    "    Path(work_dir).mkdir(parents=True, exist_ok=True)\n",
    "    print(f\"Prepare work directory {work_dir} for the station: {station_name}\")\n",
    "    # copy model parameters to work directory\n",
    "    shutil.copytree(config[\"VegetationPropertyPath\"], work_dir, dirs_exist_ok=True)\n",
    "    # update config file for ForcingFileName and InputPath\n",
    "    config_file_path = Path(work_dir, f\"{station_name}_{timestamp}_config.txt\")\n",
    "    with open(config_file_path, 'w') as f:\n",
    "        for i in config.keys():\n",
    "            if i == \"ForcingFileName\":\n",
    "                f.write(i + \"=\" + ncfile + \"\\n\")\n",
    "            elif i == \"InputPath\":\n",
    "                f.write(i + \"=\" + str(work_dir) + \"/\" + \"\\n\")\n",
    "            else:\n",
    "                f.write(i + \"=\" + config[i] + \"\\n\")\n",
    "\n",
    "    return work_dir, config_file_path\n",
    "    "
   ]
  },
  {
   "cell_type": "code",
   "execution_count": 8,
   "metadata": {},
   "outputs": [
    {
     "name": "stdout",
     "output_type": "stream",
     "text": [
      "Prepare work directory /scratch-shared/ecoextreml/stemmus_scope/input/NL-Hor_20220517_1757 for the station: NL-Hor\n",
      "Prepare work directory /scratch-shared/ecoextreml/stemmus_scope/input/ZA-Kru_20220517_1757 for the station: ZA-Kru\n"
     ]
    }
   ],
   "source": [
    "# specify the forcing filenames\n",
    "# forcing_filenames_list is by default none, if full_run is true, then all stations with forcing\n",
    "# listed in the ForcingPath will be used.\n",
    "forcing_filenames_list = [\"NL-Hor_2008-2011_FLUXNET2015_Met.nc\",\n",
    " \"ZA-Kru_2000-2002_FLUXNET2015_Met.nc\"]\n",
    "\n",
    "full_run = False\n",
    "if full_run:\n",
    "    forcing_filenames_list = Path(config[\"ForcingPath\"]).iterdir()\n",
    "\n",
    "config_path_dict = {}\n",
    "work_dir_dict = {}\n",
    "for ncfile in forcing_filenames_list:\n",
    "    work_dir_dict[ncfile], config_path_dict[ncfile] = input_dir(ncfile)"
   ]
  },
  {
   "cell_type": "markdown",
   "metadata": {},
   "source": [
    "#### Run the model"
   ]
  },
  {
   "cell_type": "code",
   "execution_count": 9,
   "metadata": {},
   "outputs": [
    {
     "name": "stdout",
     "output_type": "stream",
     "text": [
      "Run STEMMUS-SCOPE with the forcing: NL-Hor_2008-2011_FLUXNET2015_Met.nc\n",
      "MATLAB is selecting SOFTWARE OPENGL rendering.\n",
      "Opening log file:  /scratch-shared/ecoextreml/stemmus_scope/input/NL-Hor_20220517_1757/java.log.43865\n",
      "\n",
      "                            < M A T L A B (R) >\n",
      "                  Copyright 1984-2021 The MathWorks, Inc.\n",
      "             R2021a Update 3 (9.10.0.1684407) 64-bit (glnxa64)\n",
      "                                May 27, 2021\n",
      "\n",
      " \n",
      "To get started, type doc.\n",
      "For product information, visit www.mathworks.com.\n",
      " \n",
      "Reading config from /scratch-shared/ecoextreml/stemmus_scope/input/NL-Hor_20220517_1757/NL-Hor_20220517_1757_config.txt\n",
      "\n",
      " The calculations start now \n",
      "Run STEMMUS-SCOPE with the forcing: ZA-Kru_2000-2002_FLUXNET2015_Met.nc\n",
      "MATLAB is selecting SOFTWARE OPENGL rendering.\n",
      "Opening log file:  /scratch-shared/ecoextreml/stemmus_scope/input/ZA-Kru_20220517_1757/java.log.44704\n",
      "\n",
      "                            < M A T L A B (R) >\n",
      "                  Copyright 1984-2021 The MathWorks, Inc.\n",
      "             R2021a Update 3 (9.10.0.1684407) 64-bit (glnxa64)\n",
      "                                May 27, 2021\n",
      "\n",
      " \n",
      "To get started, type doc.\n",
      "For product information, visit www.mathworks.com.\n",
      " \n",
      "Reading config from /scratch-shared/ecoextreml/stemmus_scope/input/ZA-Kru_20220517_1757/ZA-Kru_20220517_1757_config.txt\n",
      "\n",
      " The calculations start now \n",
      " The calculations end now \r"
     ]
    }
   ],
   "source": [
    "# generate a text file\n",
    "path_to_code = path_to_model / \"src\"\n",
    "\n",
    "for ncfile in forcing_filenames_list:\n",
    "    # set matlab log dir to slurm, otherwise java.log files are created in user home dir\n",
    "    os.environ['MATLAB_LOG_DIR'] = str(work_dir_dict[ncfile])\n",
    "    \n",
    "    # set matlab arguments\n",
    "    path_to_config = f\"'{config_path_dict[ncfile]}'\"\n",
    "    command_line = f'matlab -r \"STEMMUS_SCOPE_exe({path_to_config});exit;\"'\n",
    "    args = [command_line, \"-nodisplay\", \"-nosplash\", \"-nodesktop\"]\n",
    "    \n",
    "    # run the model\n",
    "    print(f\"Run STEMMUS-SCOPE with the forcing: {ncfile}\")\n",
    "    result = subprocess.run(args, cwd = path_to_code, shell=True)\n",
    "    result.check_returncode()"
   ]
  },
  {
   "cell_type": "markdown",
   "metadata": {},
   "source": [
    "#### Create output directories, prepare output files"
   ]
  },
  {
   "cell_type": "code",
   "execution_count": 10,
   "metadata": {},
   "outputs": [
    {
     "name": "stdout",
     "output_type": "stream",
     "text": [
      "/scratch-shared/ecoextreml/stemmus_scope/output/NL-Hor_2022-05-17-1758/ECdata.csv\n",
      "Reading variable metadata from /home/alidoost/STEMMUS_SCOPE/utils/csv_to_nc/Variables_will_be_in_NetCDF_file.csv\n",
      "Creating /scratch-shared/ecoextreml/stemmus_scope/output/NL-Hor_2022-05-17-1758/NL-Hor_2022-05-17-1758_STEMMUS_SCOPE.nc \n",
      "Reading data from file: radiation.csv\n",
      "Reading data from file: fluxes.csv\n",
      "Reading data from file: surftemp.csv\n",
      "Reading data from file: Sim_Temp.csv\n",
      "Reading data from file: Sim_Theta.csv\n",
      "Reading data from file: aerodyn.csv\n",
      "Reading data from file: ECdata.csv\n",
      "Done writing /scratch-shared/ecoextreml/stemmus_scope/output/NL-Hor_2022-05-17-1758/NL-Hor_2022-05-17-1758_STEMMUS_SCOPE.nc\n",
      "/scratch-shared/ecoextreml/stemmus_scope/output/ZA-Kru_2022-05-17-1758/ECdata.csv\n",
      "Reading variable metadata from /home/alidoost/STEMMUS_SCOPE/utils/csv_to_nc/Variables_will_be_in_NetCDF_file.csv\n",
      "Creating /scratch-shared/ecoextreml/stemmus_scope/output/ZA-Kru_2022-05-17-1758/ZA-Kru_2022-05-17-1758_STEMMUS_SCOPE.nc \n",
      "Reading data from file: radiation.csv\n",
      "Reading data from file: fluxes.csv\n",
      "Reading data from file: surftemp.csv\n",
      "Reading data from file: Sim_Temp.csv\n",
      "Reading data from file: Sim_Theta.csv\n",
      "Reading data from file: aerodyn.csv\n",
      "Reading data from file: ECdata.csv\n",
      "Done writing /scratch-shared/ecoextreml/stemmus_scope/output/ZA-Kru_2022-05-17-1758/ZA-Kru_2022-05-17-1758_STEMMUS_SCOPE.nc\n"
     ]
    }
   ],
   "source": [
    "# convert csv files to nc files\n",
    "path_to_utils = Path(path_to_model, \"utils/csv_to_nc\")\n",
    "for ncfile in forcing_filenames_list:\n",
    "    path_to_config = config_path_dict[ncfile]\n",
    "    result = subprocess.run([\"python\", Path(path_to_utils, \"generate_netcdf_files.py\"),\n",
    "         \"--config_file\", path_to_config, \"--variable_file\",\n",
    "         Path(path_to_utils, \"Variables_will_be_in_NetCDF_file.csv\")])\n",
    "    result.check_returncode()"
   ]
  },
  {
   "cell_type": "markdown",
   "metadata": {},
   "source": [
    "#### Generate execuable file"
   ]
  },
  {
   "cell_type": "code",
   "execution_count": 11,
   "metadata": {},
   "outputs": [
    {
     "name": "stdout",
     "output_type": "stream",
     "text": [
      "Opening log file:  ./java.log.45777\n"
     ]
    }
   ],
   "source": [
    "os.environ['MATLAB_LOG_DIR'] = \".\"\n",
    "command_line = f'mcc -m ./src/STEMMUS_SCOPE_exe.m -a ./src -d ./exe -o STEMMUS_SCOPE -R nodisplay -R singleCompThread'\n",
    "result = subprocess.run(command_line, cwd = path_to_model, shell=True)\n",
    "result.check_returncode()"
   ]
  },
  {
   "cell_type": "markdown",
   "metadata": {},
   "source": [
    "#### check changes by git"
   ]
  },
  {
   "cell_type": "code",
   "execution_count": 12,
   "metadata": {},
   "outputs": [
    {
     "name": "stdout",
     "output_type": "stream",
     "text": [
      "On branch name_of_your_branch\n",
      "Changes not staged for commit:\n",
      "  (use \"git add <file>...\" to update what will be committed)\n",
      "  (use \"git restore <file>...\" to discard changes in working directory)\n",
      "\t\u001b[31mmodified:   exe/STEMMUS_SCOPE\u001b[m\n",
      "\n",
      "Untracked files:\n",
      "  (use \"git add <file>...\" to include in what will be committed)\n",
      "\t\u001b[31mexe/mccExcludedFiles.log\u001b[m\n",
      "\t\u001b[31mexe/readme.txt\u001b[m\n",
      "\t\u001b[31mexe/requiredMCRProducts.txt\u001b[m\n",
      "\t\u001b[31mexe/run_STEMMUS_SCOPE.sh\u001b[m\n",
      "\t\u001b[31mexe/unresolvedSymbols.txt\u001b[m\n",
      "\t\u001b[31mjava.log.42488\u001b[m\n",
      "\t\u001b[31mjava.log.45777\u001b[m\n",
      "\t\u001b[31mslurm/\u001b[m\n",
      "\t\u001b[31mslurm_901092.out\u001b[m\n",
      "\t\u001b[31mslurm_901245.out\u001b[m\n",
      "\t\u001b[31mslurm_901391.out\u001b[m\n",
      "\t\u001b[31mslurm_901417.out\u001b[m\n",
      "\t\u001b[31mslurm_901577.out\u001b[m\n",
      "\t\u001b[31mslurm_902191.out\u001b[m\n",
      "\t\u001b[31mslurm_908852.out\u001b[m\n",
      "\t\u001b[31mtest_run_stemmus_scope_snellius.sh\u001b[m\n",
      "\t\u001b[31mutils/csv_to_nc/__pycache__/\u001b[m\n",
      "\t\u001b[31mutils/get_info_stemmus_scope_snellius.sh\u001b[m\n",
      "\n",
      "no changes added to commit (use \"git add\" and/or \"git commit -a\")\n"
     ]
    }
   ],
   "source": [
    "!git -C {path_to_model} status"
   ]
  },
  {
   "cell_type": "code",
   "execution_count": null,
   "metadata": {},
   "outputs": [],
   "source": []
  }
 ],
 "metadata": {
  "interpreter": {
   "hash": "28b136f154b3384fcb2854e5626613232692c304dbc5315064ef4c9363104a2c"
  },
  "kernelspec": {
   "display_name": "Python 3 (ipykernel)",
   "language": "python",
   "name": "python3"
  },
  "language_info": {
   "codemirror_mode": {
    "name": "ipython",
    "version": 3
   },
   "file_extension": ".py",
   "mimetype": "text/x-python",
   "name": "python",
   "nbconvert_exporter": "python",
   "pygments_lexer": "ipython3",
   "version": "3.9.12"
  }
 },
 "nbformat": 4,
 "nbformat_minor": 4
}
