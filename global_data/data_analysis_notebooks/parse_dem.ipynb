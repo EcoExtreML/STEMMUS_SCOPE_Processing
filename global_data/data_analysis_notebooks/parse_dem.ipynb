{
 "cells": [
  {
   "cell_type": "code",
   "execution_count": 2,
   "metadata": {},
   "outputs": [
    {
     "data": {
      "text/plain": [
       "array([187.1694], dtype=float32)"
      ]
     },
     "execution_count": 2,
     "metadata": {},
     "output_type": "execute_result"
    }
   ],
   "source": [
    "from pathlib import Path\n",
    "import xarray as xr\n",
    "\n",
    "\n",
    "folder = \"C:/STEMMUS_SCOPE_data/global/dem\"\n",
    "fname = \"Copernicus_DSM_30_N61_00_E024_00_DEM.tif\"\n",
    "\n",
    "lat = 61.8474\n",
    "lon = 24.2948\n",
    "file = Path(folder) / fname\n",
    "\n",
    "ds = xr.open_dataarray(file, engine=\"rasterio\")\n",
    "\n",
    "elevation = ds.sel(x=lon, y=lat, method=\"nearest\")\n",
    "elevation.values"
   ]
  },
  {
   "cell_type": "code",
   "execution_count": null,
   "metadata": {},
   "outputs": [],
   "source": []
  }
 ],
 "metadata": {
  "kernelspec": {
   "display_name": "ecoextreml",
   "language": "python",
   "name": "python3"
  },
  "language_info": {
   "codemirror_mode": {
    "name": "ipython",
    "version": 3
   },
   "file_extension": ".py",
   "mimetype": "text/x-python",
   "name": "python",
   "nbconvert_exporter": "python",
   "pygments_lexer": "ipython3",
   "version": "3.10.5"
  },
  "orig_nbformat": 4,
  "vscode": {
   "interpreter": {
    "hash": "e448655336fb127a6fb492c6edb43b23437b20953c6d908b034510489ffd84bf"
   }
  }
 },
 "nbformat": 4,
 "nbformat_minor": 2
}
