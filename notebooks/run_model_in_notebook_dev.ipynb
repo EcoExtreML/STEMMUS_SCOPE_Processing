{
 "cells": [
  {
   "cell_type": "markdown",
   "metadata": {},
   "source": [
    "## Run the STEMMUS_SCOPE model\n",
    "Steps to run the STEMMUS_SCOPE model, including preprocessing and postprocessing, on Surf super computer Snellius."
   ]
  },
  {
   "cell_type": "code",
   "execution_count": 9,
   "metadata": {},
   "outputs": [],
   "source": [
    "import os\n",
    "from pathlib import Path\n",
    "import subprocess\n",
    "from PyStemmusScope import StemmusScope\n",
    "from PyStemmusScope import save"
   ]
  },
  {
   "cell_type": "markdown",
   "metadata": {},
   "source": [
    "#### Path to STEMMUS_SCOPE\n",
    "\n",
    "STEMMUS_SCOPE source codes are located in the **private** repository on GitHub https://github.com/EcoExtreML/STEMMUS_SCOPE. You need to clone the repository locally and specify the path to it in the cell below. Make sure you have right access to the repository and you created a local branch for development purposes. "
   ]
  },
  {
   "cell_type": "code",
   "execution_count": 2,
   "metadata": {},
   "outputs": [],
   "source": [
    "# path to model repository\n",
    "path_to_model = Path(\"path_to_STEMMUS_SCOPE_repository\")"
   ]
  },
  {
   "cell_type": "markdown",
   "metadata": {},
   "source": [
    "#### set git branch and see status"
   ]
  },
  {
   "cell_type": "code",
   "execution_count": null,
   "metadata": {},
   "outputs": [],
   "source": [
    "dev_branch = \"python-compliant\"\n",
    "!git -C {path_to_model} checkout {dev_branch}\n",
    "!git -C {path_to_model} status"
   ]
  },
  {
   "cell_type": "markdown",
   "metadata": {},
   "source": [
    "#### Update/set config files"
   ]
  },
  {
   "cell_type": "code",
   "execution_count": 4,
   "metadata": {},
   "outputs": [
    {
     "data": {
      "text/plain": [
       "{'WorkDir': '/scratch-shared/ecoextreml/stemmus_scope/',\n",
       " 'SoilPropertyPath': '/projects/0/einf2480/model_parameters/soil_property/',\n",
       " 'ForcingPath': '/projects/0/einf2480/forcing/plumber2_data/',\n",
       " 'ForcingFileName': 'FI-Hyy_1996-2014_FLUXNET2015_Met.nc',\n",
       " 'directional': '/projects/0/einf2480/model_parameters/vegetation_property/directional/',\n",
       " 'fluspect_parameters': '/projects/0/einf2480/model_parameters/vegetation_property/fluspect_parameters/',\n",
       " 'leafangles': '/projects/0/einf2480/model_parameters/vegetation_property/leafangles/',\n",
       " 'radiationdata': '/projects/0/einf2480/model_parameters/vegetation_property/radiationdata/',\n",
       " 'soil_spectrum': '/projects/0/einf2480/model_parameters/vegetation_property/soil_spectrum/',\n",
       " 'input_data': '/projects/0/einf2480/model_parameters/vegetation_property/input_data.xlsx',\n",
       " 'InitialConditionPath': '/projects/0/einf2480/soil_initialcondition/',\n",
       " 'NumberOfTimeSteps': '5',\n",
       " 'InputPath': '',\n",
       " 'OutputPath': ''}"
      ]
     },
     "execution_count": 4,
     "metadata": {},
     "output_type": "execute_result"
    }
   ],
   "source": [
    "# the user must provide the correct path\n",
    "# for example:\n",
    "path_to_config_file = path_to_model / \"config_file_snellius.txt\"\n",
    "path_to_exe_file = path_to_model / \"exe\" / \"STEMMUS_SCOPE\"\n",
    "\n",
    "# create an an instance of the model\n",
    "model = StemmusScope(config_file=path_to_config_file, exe_file=path_to_exe_file)\n",
    "\n",
    "# inspect model config template\n",
    "model.config"
   ]
  },
  {
   "cell_type": "code",
   "execution_count": 5,
   "metadata": {},
   "outputs": [
    {
     "name": "stdout",
     "output_type": "stream",
     "text": [
      "/gpfs/scratch1/shared/ecoextreml/stemmus_scope/input/ZA-Kru_2022-08-08-1446/ZA-Kru_2022-08-08-1446_config.txt\n"
     ]
    }
   ],
   "source": [
    "# setup the model\n",
    "config_path = model.setup(\n",
    "    ForcingFileName=\"ZA-Kru_2000-2002_FLUXNET2015_Met.nc\",\n",
    "    NumberOfTimeSteps=\"5\",\n",
    ")\n",
    "print(config_path)"
   ]
  },
  {
   "cell_type": "code",
   "execution_count": 6,
   "metadata": {},
   "outputs": [
    {
     "data": {
      "text/plain": [
       "{'WorkDir': '/scratch-shared/ecoextreml/stemmus_scope/',\n",
       " 'SoilPropertyPath': '/projects/0/einf2480/model_parameters/soil_property/',\n",
       " 'ForcingPath': '/projects/0/einf2480/forcing/plumber2_data/',\n",
       " 'ForcingFileName': 'ZA-Kru_2000-2002_FLUXNET2015_Met.nc',\n",
       " 'directional': '/projects/0/einf2480/model_parameters/vegetation_property/directional/',\n",
       " 'fluspect_parameters': '/projects/0/einf2480/model_parameters/vegetation_property/fluspect_parameters/',\n",
       " 'leafangles': '/projects/0/einf2480/model_parameters/vegetation_property/leafangles/',\n",
       " 'radiationdata': '/projects/0/einf2480/model_parameters/vegetation_property/radiationdata/',\n",
       " 'soil_spectrum': '/projects/0/einf2480/model_parameters/vegetation_property/soil_spectrum/',\n",
       " 'input_data': '/projects/0/einf2480/model_parameters/vegetation_property/input_data.xlsx',\n",
       " 'InitialConditionPath': '/projects/0/einf2480/soil_initialcondition/',\n",
       " 'NumberOfTimeSteps': '5',\n",
       " 'InputPath': '/gpfs/scratch1/shared/ecoextreml/stemmus_scope/input/ZA-Kru_2022-08-08-1446/',\n",
       " 'OutputPath': '/gpfs/scratch1/shared/ecoextreml/stemmus_scope/output/ZA-Kru_2022-08-08-1446/'}"
      ]
     },
     "execution_count": 6,
     "metadata": {},
     "output_type": "execute_result"
    }
   ],
   "source": [
    "# inspect model config again\n",
    "model.config"
   ]
  },
  {
   "cell_type": "markdown",
   "metadata": {},
   "source": [
    "#### Run the model\n",
    "\n",
    "`model.run()` uses executable file. Here, for development purposes, we call MATLAB on the main matlab script i.e. `STEMMUS_SCOPE_exe` instead of calling `model.run()`."
   ]
  },
  {
   "cell_type": "code",
   "execution_count": 7,
   "metadata": {},
   "outputs": [
    {
     "name": "stdout",
     "output_type": "stream",
     "text": [
      "MATLAB is selecting SOFTWARE OPENGL rendering.\n",
      "Opening log file:  /gpfs/scratch1/shared/ecoextreml/stemmus_scope/input/ZA-Kru_2022-08-08-1446//java.log.32841\n",
      "\n",
      "                            < M A T L A B (R) >\n",
      "                  Copyright 1984-2021 The MathWorks, Inc.\n",
      "             R2021a Update 3 (9.10.0.1684407) 64-bit (glnxa64)\n",
      "                                May 27, 2021\n",
      "\n",
      " \n",
      "To get started, type doc.\n",
      "For product information, visit www.mathworks.com.\n",
      " \n",
      "Reading config from /gpfs/scratch1/shared/ecoextreml/stemmus_scope/input/ZA-Kru_2022-08-08-1446/ZA-Kru_2022-08-08-1446_config.txt\n",
      "The calculations start now\n",
      "The calculations end now\n"
     ]
    }
   ],
   "source": [
    "# generate a src folder\n",
    "path_to_code = path_to_model / \"src\"\n",
    "\n",
    "# set matlab arguments\n",
    "path_to_config = f\"'{config_path}'\"\n",
    "command_line = f'matlab -r \"STEMMUS_SCOPE_exe({path_to_config});exit;\"'\n",
    "args = [command_line, \"-nodisplay\", \"-nosplash\", \"-nodesktop\"]\n",
    "\n",
    "# run the model\n",
    "result = subprocess.run(args, cwd = path_to_code, shell=True)\n",
    "result.check_returncode()"
   ]
  },
  {
   "cell_type": "markdown",
   "metadata": {},
   "source": [
    "#### save results in a netcdf file"
   ]
  },
  {
   "cell_type": "code",
   "execution_count": 10,
   "metadata": {},
   "outputs": [
    {
     "name": "stdout",
     "output_type": "stream",
     "text": [
      "/gpfs/scratch1/shared/ecoextreml/stemmus_scope/output/ZA-Kru_2022-08-08-1446/ZA-Kru_2022-08-08-1446_STEMMUS_SCOPE.nc\n"
     ]
    }
   ],
   "source": [
    "required_netcdf_variables = path_to_model / \"utils\" / \"csv_to_nc\" / \"required_netcdf_variables.csv\"\n",
    "nc_file_name = save.to_netcdf(config_path, required_netcdf_variables)\n",
    "print(nc_file_name)"
   ]
  },
  {
   "cell_type": "markdown",
   "metadata": {},
   "source": [
    "#### Generate execuable file"
   ]
  },
  {
   "cell_type": "code",
   "execution_count": 11,
   "metadata": {},
   "outputs": [
    {
     "name": "stdout",
     "output_type": "stream",
     "text": [
      "Opening log file:  ./java.log.52377\n"
     ]
    }
   ],
   "source": [
    "os.environ['MATLAB_LOG_DIR'] = \".\"\n",
    "command_line = 'mcc -m ./src/STEMMUS_SCOPE_exe.m -a ./src -d ./exe -o STEMMUS_SCOPE -R nodisplay -R singleCompThread'\n",
    "result = subprocess.run(command_line, cwd = path_to_model, shell=True)\n",
    "result.check_returncode()"
   ]
  },
  {
   "cell_type": "markdown",
   "metadata": {},
   "source": [
    "#### check changes by git"
   ]
  },
  {
   "cell_type": "code",
   "execution_count": 12,
   "metadata": {},
   "outputs": [
    {
     "name": "stdout",
     "output_type": "stream",
     "text": [
      "On branch python-compliant\n",
      "Your branch is up to date with 'origin/python-compliant'.\n",
      "\n",
      "Changes not staged for commit:\n",
      "  (use \"git add <file>...\" to update what will be committed)\n",
      "  (use \"git restore <file>...\" to discard changes in working directory)\n",
      "\t\u001b[31mmodified:   exe/STEMMUS_SCOPE\u001b[m\n",
      "\n",
      "Untracked files:\n",
      "  (use \"git add <file>...\" to include in what will be committed)\n",
      "\t\u001b[31m.ipynb_checkpoints/\u001b[m\n",
      "\t\u001b[31mexe/mccExcludedFiles.log\u001b[m\n",
      "\t\u001b[31mexe/readme.txt\u001b[m\n",
      "\t\u001b[31mexe/requiredMCRProducts.txt\u001b[m\n",
      "\t\u001b[31mexe/run_STEMMUS_SCOPE.sh\u001b[m\n",
      "\t\u001b[31mexe/unresolvedSymbols.txt\u001b[m\n",
      "\t\u001b[31mjava.log.52377\u001b[m\n",
      "\t\u001b[31mtest_config.txt\u001b[m\n",
      "\t\u001b[31mutils/csv_to_nc/__pycache__/\u001b[m\n",
      "\n",
      "no changes added to commit (use \"git add\" and/or \"git commit -a\")\n"
     ]
    }
   ],
   "source": [
    "!git -C {path_to_model} status"
   ]
  }
 ],
 "metadata": {
  "interpreter": {
   "hash": "28b136f154b3384fcb2854e5626613232692c304dbc5315064ef4c9363104a2c"
  },
  "kernelspec": {
   "display_name": "Python 3 (ipykernel)",
   "language": "python",
   "name": "python3"
  },
  "language_info": {
   "codemirror_mode": {
    "name": "ipython",
    "version": 3
   },
   "file_extension": ".py",
   "mimetype": "text/x-python",
   "name": "python",
   "nbconvert_exporter": "python",
   "pygments_lexer": "ipython3",
   "version": "3.9.12"
  },
  "metadata": {
   "interpreter": {
    "hash": "a8aa8210cb3d81d2b5c08b30572e78ad19bd30da92b4caf9890388bc07c5e3bf"
   }
  }
 },
 "nbformat": 4,
 "nbformat_minor": 4
}
