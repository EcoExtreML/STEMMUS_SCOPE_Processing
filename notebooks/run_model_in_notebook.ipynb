{
 "cells": [
  {
   "cell_type": "markdown",
   "metadata": {},
   "source": [
    "## Run the STEMMUS_SCOPE model\n",
    "Steps to run the STEMMUS_SCOPE model, including preprocessing and postprocessing, on Surf super computer Snellius or on a unix system."
   ]
  },
  {
   "cell_type": "code",
   "execution_count": 1,
   "metadata": {},
   "outputs": [],
   "source": [
    "import os\n",
    "from PyStemmusScope import StemmusScope"
   ]
  },
  {
   "cell_type": "markdown",
   "metadata": {},
   "source": [
    "#### Path to STEMMUS_SCOPE\n",
    "\n",
    "STEMMUS_SCOPE executable file is located in the **private** repository on GitHub https://github.com/EcoExtreML/STEMMUS_SCOPE. You need to clone the repository locally and specify the path to it in the cell below. Make sure you have right access to the repository. "
   ]
  },
  {
   "cell_type": "markdown",
   "metadata": {},
   "source": [
    "#### Update/set config files"
   ]
  },
  {
   "cell_type": "code",
   "execution_count": 2,
   "metadata": {},
   "outputs": [],
   "source": [
    "# user must provide the correct path\n",
    "path_to_config_file = \"/home/sarah/temp/ecoextreml/config_file_template.txt\"\n",
    "path_to_exe_file = \"./STEMMUS_SCOPE\""
   ]
  },
  {
   "cell_type": "markdown",
   "metadata": {},
   "source": [
    "If you run the model locally, you need to first intsall MATLAB Runtime, see instructions in the [readme](https://github.com/EcoExtreML/processing#readme). Then set `LD_LIBRARY_PATH`. To do this, uncomment the cell below and run it:"
   ]
  },
  {
   "cell_type": "code",
   "execution_count": 3,
   "metadata": {},
   "outputs": [
    {
     "name": "stdout",
     "output_type": "stream",
     "text": [
      "/usr/local/MATLAB/MATLAB_Runtime/v910/runtime/glnxa64:/usr/local/MATLAB/MATLAB_Runtime/v910/bin/glnxa64:/usr/local/MATLAB/MATLAB_Runtime/v910/sys/os/glnxa64:/usr/local/MATLAB/MATLAB_Runtime/v910/extern/bin/glnxa64:/usr/local/MATLAB/MATLAB_Runtime/v910/sys/opengl/lib/glnxa64\n"
     ]
    }
   ],
   "source": [
    "# # Set LD_LIBRARY_PATH\n",
    "matlab_path = !whereis MATLAB\n",
    "matlab_path = matlab_path.s.split(\": \")[1]\n",
    "os.environ['LD_LIBRARY_PATH'] = (\n",
    "    f\"{matlab_path}/MATLAB_Runtime/v910/runtime/glnxa64:\"\n",
    "    f\"{matlab_path}/MATLAB_Runtime/v910/bin/glnxa64:\"\n",
    "    f\"{matlab_path}/MATLAB_Runtime/v910/sys/os/glnxa64:\"\n",
    "    f\"{matlab_path}/MATLAB_Runtime/v910/extern/bin/glnxa64:\"\n",
    "    f\"{matlab_path}/MATLAB_Runtime/v910/sys/opengl/lib/glnxa64\")\n",
    "print(os.environ['LD_LIBRARY_PATH'])"
   ]
  },
  {
   "cell_type": "markdown",
   "metadata": {},
   "source": [
    "## Run the model for one forcing file"
   ]
  },
  {
   "cell_type": "code",
   "execution_count": 4,
   "metadata": {},
   "outputs": [
    {
     "name": "stdout",
     "output_type": "stream",
     "text": [
      "b'Reading config from /home/sarah/temp/ecoextreml/test/input/ZA-Kru_2022-07-14-1809/ZA-Kru_2022-07-14-1809_config.txt\\n\\n The calculations start now \\r\\n The calculations end now \\r'\n"
     ]
    }
   ],
   "source": [
    "# create an an instance of the model\n",
    "model = StemmusScope(config_file=path_to_config_file, exe_file=path_to_exe_file)\n",
    "\n",
    "# inspect model config template\n",
    "model.configs\n",
    "\n",
    "# setup the model\n",
    "input_dir, output_dir, config_path = model.setup(\n",
    "    ForcingFileName=\"ZA-Kru_2000-2002_FLUXNET2015_Met.nc\",\n",
    "    NumberOfTimeSteps=\"10\",\n",
    ")\n",
    "model.configs\n",
    "\n",
    "# run the model\n",
    "result = model.run()\n",
    "print(result)"
   ]
  },
  {
   "cell_type": "markdown",
   "metadata": {},
   "source": [
    "## Run the model for several forcing files"
   ]
  },
  {
   "cell_type": "code",
   "execution_count": 5,
   "metadata": {},
   "outputs": [
    {
     "name": "stdout",
     "output_type": "stream",
     "text": [
      "b'Reading config from /home/sarah/temp/ecoextreml/test/input/ZA-Kru_2022-07-14-1810/ZA-Kru_2022-07-14-1810_config.txt\\n\\n The calculations start now \\r\\n The calculations end now \\r'\n",
      "b'Reading config from /home/sarah/temp/ecoextreml/test/input/AR-SLu_2022-07-14-1810/AR-SLu_2022-07-14-1810_config.txt\\n\\n The calculations start now \\r\\n The calculations end now \\r'\n"
     ]
    }
   ],
   "source": [
    "forcing_filenames_list = [\n",
    "    \"ZA-Kru_2000-2002_FLUXNET2015_Met.nc\",\n",
    "    \"AR-SLu_2010-2010_FLUXNET2015_Met.nc\",\n",
    "]\n",
    "\n",
    "full_run = False\n",
    "if full_run:\n",
    "    forcing_filenames_list = [file.name for file in Path(model.configs[\"ForcingPath\"]).iterdir()]\n",
    "\n",
    "for nc_file in forcing_filenames_list:\n",
    "    # setup the model\n",
    "    input_dir, output_dir, config_path = model.setup(\n",
    "        ForcingFileName=nc_file,\n",
    "        NumberOfTimeSteps=\"10\",\n",
    "    )\n",
    "\n",
    "    # run the model\n",
    "    result = model.run()\n",
    "    print(result)\n",
    "    "
   ]
  },
  {
   "cell_type": "markdown",
   "metadata": {},
   "source": [
    "#### TODO: Create output directories, prepare output files"
   ]
  },
  {
   "cell_type": "code",
   "execution_count": 7,
   "metadata": {},
   "outputs": [],
   "source": [
    "# convert csv files to nc files\n",
    "# path_to_generate_netcdf_script = \"path_to_generate_netcdf_script\"\n",
    "# path_to_Variables_will_be_in_NetCDF_file = \"path_to_Variables_will_be_in_NetCDF_file\"\n",
    "# for ncfile in forcing_filenames_list:\n",
    "#     path_to_config = config_path_dict[ncfile]\n",
    "#     result = subprocess.run([\"python\", path_to_generate_netcdf_script,\n",
    "#          \"--config_file\", path_to_config, \"--variable_file\",\n",
    "#          path_to_Variables_will_be_in_NetCDF_file])\n",
    "#     result.check_returncode()"
   ]
  }
 ],
 "metadata": {
  "interpreter": {
   "hash": "28b136f154b3384fcb2854e5626613232692c304dbc5315064ef4c9363104a2c"
  },
  "kernelspec": {
   "display_name": "Python 3 (ipykernel)",
   "language": "python",
   "name": "python3"
  },
  "language_info": {
   "codemirror_mode": {
    "name": "ipython",
    "version": 3
   },
   "file_extension": ".py",
   "mimetype": "text/x-python",
   "name": "python",
   "nbconvert_exporter": "python",
   "pygments_lexer": "ipython3",
   "version": "3.9.12"
  }
 },
 "nbformat": 4,
 "nbformat_minor": 4
}
