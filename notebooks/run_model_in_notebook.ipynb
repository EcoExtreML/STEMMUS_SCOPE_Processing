{
 "cells": [
  {
   "cell_type": "markdown",
   "metadata": {},
   "source": [
    "## Run the STEMMUS_SCOPE model\n",
    "Steps to run the STEMMUS_SCOPE model, including preprocessing and postprocessing, on Surf super computer Snellius or on a unix system."
   ]
  },
  {
   "cell_type": "code",
   "execution_count": 1,
   "metadata": {},
   "outputs": [],
   "source": [
    "import os\n",
    "from PyStemmusScope import StemmusScope\n",
    "from PyStemmusScope import save"
   ]
  },
  {
   "cell_type": "markdown",
   "metadata": {},
   "source": [
    "#### Path to STEMMUS_SCOPE\n",
    "\n",
    "STEMMUS_SCOPE executable file is located in the **private** repository on GitHub https://github.com/EcoExtreML/STEMMUS_SCOPE. You need to clone the repository locally and specify the path to it in the cell below. Make sure you have right access to the repository. "
   ]
  },
  {
   "cell_type": "markdown",
   "metadata": {},
   "source": [
    "#### Update/set config files"
   ]
  },
  {
   "cell_type": "code",
   "execution_count": 2,
   "metadata": {},
   "outputs": [],
   "source": [
    "# user must provide the correct path\n",
    "path_to_config_file = \"./config_file_template.txt\"\n",
    "path_to_exe_file = \"./STEMMUS_SCOPE\""
   ]
  },
  {
   "cell_type": "markdown",
   "metadata": {},
   "source": [
    "If you run the model locally, you need to first intsall MATLAB Runtime, see instructions in the [readme](https://github.com/EcoExtreML/processing#readme). Then set `LD_LIBRARY_PATH`. To do this, uncomment the cell below and run it:"
   ]
  },
  {
   "cell_type": "code",
   "execution_count": 3,
   "metadata": {},
   "outputs": [
    {
     "name": "stdout",
     "output_type": "stream",
     "text": [
      "/usr/local/MATLAB/MATLAB_Runtime/v910/runtime/glnxa64:/usr/local/MATLAB/MATLAB_Runtime/v910/bin/glnxa64:/usr/local/MATLAB/MATLAB_Runtime/v910/sys/os/glnxa64:/usr/local/MATLAB/MATLAB_Runtime/v910/extern/bin/glnxa64:/usr/local/MATLAB/MATLAB_Runtime/v910/sys/opengl/lib/glnxa64\n"
     ]
    }
   ],
   "source": [
    "# # Set LD_LIBRARY_PATH\n",
    "# matlab_path = !whereis MATLAB\n",
    "# matlab_path = matlab_path.s.split(\": \")[1]\n",
    "# os.environ['LD_LIBRARY_PATH'] = (\n",
    "#     f\"{matlab_path}/MATLAB_Runtime/v910/runtime/glnxa64:\"\n",
    "#     f\"{matlab_path}/MATLAB_Runtime/v910/bin/glnxa64:\"\n",
    "#     f\"{matlab_path}/MATLAB_Runtime/v910/sys/os/glnxa64:\"\n",
    "#     f\"{matlab_path}/MATLAB_Runtime/v910/extern/bin/glnxa64:\"\n",
    "#     f\"{matlab_path}/MATLAB_Runtime/v910/sys/opengl/lib/glnxa64\")\n",
    "# print(os.environ['LD_LIBRARY_PATH'])"
   ]
  },
  {
   "cell_type": "markdown",
   "metadata": {},
   "source": [
    "## Run the model for one forcing file"
   ]
  },
  {
   "cell_type": "code",
   "execution_count": 9,
   "metadata": {},
   "outputs": [
    {
     "data": {
      "text/plain": [
       "{'WorkDir': '/home/sarah/temp/ecoextreml/test/',\n",
       " 'SoilPropertyPath': '/home/sarah/temp/ecoextreml/data/model_parameters/soil_property/',\n",
       " 'ForcingPath': '/home/sarah/temp/ecoextreml/data/forcing/plumber2_data/',\n",
       " 'ForcingFileName': 'AR-SLu_2010-2010_FLUXNET2015_Met.nc',\n",
       " 'directional': '/home/sarah/temp/ecoextreml/data/model_parameters/vegetation_property/directional/',\n",
       " 'fluspect_parameters': '/home/sarah/temp/ecoextreml/data/model_parameters/vegetation_property/fluspect_parameters/',\n",
       " 'leafangles': '/home/sarah/temp/ecoextreml/data/model_parameters/vegetation_property/leafangles/',\n",
       " 'radiationdata': '/home/sarah/temp/ecoextreml/data/model_parameters/vegetation_property/radiationdata/',\n",
       " 'soil_spectrum': '/home/sarah/temp/ecoextreml/data/model_parameters/vegetation_property/soil_spectrum/',\n",
       " 'InitialConditionPath': '/home/sarah/temp/ecoextreml/soil_initialcondition/',\n",
       " 'input_data': '/home/sarah/temp/ecoextreml/data/model_parameters/vegetation_property/input_data.xlsx',\n",
       " 'NumberOfTimeSteps': '5',\n",
       " 'InputPath': '/will_be_created_under_WorkDir/input/AU-DaS_2022-05-11-1705/',\n",
       " 'OutputPath': '/home/sarah/temp/ecoextreml/output/AR-SLu_2022-07-29-1451/'}"
      ]
     },
     "execution_count": 9,
     "metadata": {},
     "output_type": "execute_result"
    }
   ],
   "source": [
    "# create an an instance of the model\n",
    "model = StemmusScope(config_file=path_to_config_file, exe_file=path_to_exe_file)\n",
    "\n",
    "# inspect model config template\n",
    "model.config"
   ]
  },
  {
   "cell_type": "code",
   "execution_count": 10,
   "metadata": {},
   "outputs": [
    {
     "name": "stdout",
     "output_type": "stream",
     "text": [
      "/home/sarah/temp/ecoextreml/test/input/ZA-Kru_2022-08-03-1537/ZA-Kru_2022-08-03-1537_config.txt\n"
     ]
    }
   ],
   "source": [
    "# setup the model\n",
    "config_path = model.setup(\n",
    "    ForcingFileName=\"ZA-Kru_2000-2002_FLUXNET2015_Met.nc\",\n",
    "    NumberOfTimeSteps=\"10\",\n",
    ")\n",
    "print(config_path)"
   ]
  },
  {
   "cell_type": "code",
   "execution_count": 11,
   "metadata": {},
   "outputs": [
    {
     "data": {
      "text/plain": [
       "{'WorkDir': '/home/sarah/temp/ecoextreml/test/',\n",
       " 'SoilPropertyPath': '/home/sarah/temp/ecoextreml/data/model_parameters/soil_property/',\n",
       " 'ForcingPath': '/home/sarah/temp/ecoextreml/data/forcing/plumber2_data/',\n",
       " 'ForcingFileName': 'ZA-Kru_2000-2002_FLUXNET2015_Met.nc',\n",
       " 'directional': '/home/sarah/temp/ecoextreml/data/model_parameters/vegetation_property/directional/',\n",
       " 'fluspect_parameters': '/home/sarah/temp/ecoextreml/data/model_parameters/vegetation_property/fluspect_parameters/',\n",
       " 'leafangles': '/home/sarah/temp/ecoextreml/data/model_parameters/vegetation_property/leafangles/',\n",
       " 'radiationdata': '/home/sarah/temp/ecoextreml/data/model_parameters/vegetation_property/radiationdata/',\n",
       " 'soil_spectrum': '/home/sarah/temp/ecoextreml/data/model_parameters/vegetation_property/soil_spectrum/',\n",
       " 'InitialConditionPath': '/home/sarah/temp/ecoextreml/soil_initialcondition/',\n",
       " 'input_data': '/home/sarah/temp/ecoextreml/data/model_parameters/vegetation_property/input_data.xlsx',\n",
       " 'NumberOfTimeSteps': '10',\n",
       " 'InputPath': '/home/sarah/temp/ecoextreml/test/input/ZA-Kru_2022-08-03-1537/',\n",
       " 'OutputPath': '/home/sarah/temp/ecoextreml/test/output/ZA-Kru_2022-08-03-1537/'}"
      ]
     },
     "execution_count": 11,
     "metadata": {},
     "output_type": "execute_result"
    }
   ],
   "source": [
    "# inspect model configs again\n",
    "model.config"
   ]
  },
  {
   "cell_type": "code",
   "execution_count": 12,
   "metadata": {},
   "outputs": [
    {
     "data": {
      "text/plain": [
       "b'Reading config from /home/sarah/temp/ecoextreml/test/input/ZA-Kru_2022-08-03-1537/ZA-Kru_2022-08-03-1537_config.txt\\n\\n The calculations start now \\r\\n The calculations end now \\r'"
      ]
     },
     "execution_count": 12,
     "metadata": {},
     "output_type": "execute_result"
    }
   ],
   "source": [
    "# run the model\n",
    "result = model.run()\n",
    "result"
   ]
  },
  {
   "cell_type": "code",
   "execution_count": 14,
   "metadata": {},
   "outputs": [
    {
     "name": "stdout",
     "output_type": "stream",
     "text": [
      "/home/sarah/temp/ecoextreml/test/output/ZA-Kru_2022-08-03-1537/ZA-Kru_2022-08-03-1537_STEMMUS_SCOPE.nc\n"
     ]
    }
   ],
   "source": [
    "# save output in nercdf format\n",
    "variables_will_be_in_NetCDF_file = \"./STEMMUS_SCOPE/utils/csv_to_nc/Variables_will_be_in_NetCDF_file.csv\"\n",
    "nc_file_name = save.to_netcdf(model.config, variables_will_be_in_NetCDF_file)\n",
    "print(nc_file_name)"
   ]
  },
  {
   "cell_type": "markdown",
   "metadata": {},
   "source": [
    "## Run the model for several forcing files"
   ]
  },
  {
   "cell_type": "code",
   "execution_count": 15,
   "metadata": {},
   "outputs": [
    {
     "name": "stdout",
     "output_type": "stream",
     "text": [
      "b'Reading config from /home/sarah/temp/ecoextreml/test/input/ZA-Kru_2022-08-03-1541/ZA-Kru_2022-08-03-1541_config.txt\\n\\n The calculations start now \\r\\n The calculations end now \\r'\n",
      "/home/sarah/temp/ecoextreml/test/output/ZA-Kru_2022-08-03-1541/ZA-Kru_2022-08-03-1541_STEMMUS_SCOPE.nc\n",
      "b'Reading config from /home/sarah/temp/ecoextreml/test/input/AR-SLu_2022-08-03-1541/AR-SLu_2022-08-03-1541_config.txt\\n\\n The calculations start now \\r\\n The calculations end now \\r'\n",
      "/home/sarah/temp/ecoextreml/test/output/AR-SLu_2022-08-03-1541/AR-SLu_2022-08-03-1541_STEMMUS_SCOPE.nc\n"
     ]
    }
   ],
   "source": [
    "forcing_filenames_list = [\n",
    "    \"ZA-Kru_2000-2002_FLUXNET2015_Met.nc\",\n",
    "    \"AR-SLu_2010-2010_FLUXNET2015_Met.nc\",\n",
    "]\n",
    "\n",
    "full_run = False\n",
    "if full_run:\n",
    "    forcing_filenames_list = [file.name for file in Path(model.configs[\"ForcingPath\"]).iterdir()]\n",
    "\n",
    "for nc_file in forcing_filenames_list:\n",
    "    # setup the model\n",
    "    config_path = model.setup(\n",
    "        ForcingFileName=nc_file,\n",
    "        NumberOfTimeSteps=\"10\",\n",
    "    )\n",
    "\n",
    "    # run the model\n",
    "    result = model.run()\n",
    "    print(result)\n",
    "    \n",
    "    # save results in a netcdf file\n",
    "    nc_file_name = save.to_netcdf(model.config, variables_will_be_in_NetCDF_file)\n",
    "    print(nc_file_name)\n",
    "    "
   ]
  }
 ],
 "metadata": {
  "interpreter": {
   "hash": "28b136f154b3384fcb2854e5626613232692c304dbc5315064ef4c9363104a2c"
  },
  "kernelspec": {
   "display_name": "Python 3 (ipykernel)",
   "language": "python",
   "name": "python3"
  },
  "language_info": {
   "codemirror_mode": {
    "name": "ipython",
    "version": 3
   },
   "file_extension": ".py",
   "mimetype": "text/x-python",
   "name": "python",
   "nbconvert_exporter": "python",
   "pygments_lexer": "ipython3",
   "version": "3.9.12"
  }
 },
 "nbformat": 4,
 "nbformat_minor": 4
}
