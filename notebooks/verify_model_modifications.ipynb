{
 "cells": [
  {
   "attachments": {},
   "cell_type": "markdown",
   "metadata": {},
   "source": [
    "## Model verification\n",
    "To make sure than any of our modifications to the STEMMUS_SCOPE matlab code do not change the model results, this notebook is designed to check the new results to a previously calculated baseline."
   ]
  },
  {
   "cell_type": "code",
   "execution_count": 3,
   "metadata": {},
   "outputs": [],
   "source": [
    "import os\n",
    "from pathlib import Path\n",
    "import subprocess\n",
    "import numpy as np\n",
    "import matplotlib.pyplot as plt\n",
    "import xarray as xr\n",
    "from PyStemmusScope import forcing_io\n",
    "from PyStemmusScope import iostreamer\n",
    "from PyStemmusScope import soil_io"
   ]
  },
  {
   "cell_type": "markdown",
   "metadata": {},
   "source": [
    "### Enter the path to your local STEMMUS_SCOPE repository here:"
   ]
  },
  {
   "cell_type": "code",
   "execution_count": 4,
   "metadata": {},
   "outputs": [],
   "source": [
    "# path to model repository\n",
    "path_to_model = \"path to the stemmus scope model directory\""
   ]
  },
  {
   "attachments": {},
   "cell_type": "markdown",
   "metadata": {},
   "source": [
    "### Update/set config files"
   ]
  },
  {
   "cell_type": "code",
   "execution_count": 5,
   "metadata": {},
   "outputs": [],
   "source": [
    "# the user must provide the correct path\n",
    "# path to config file\n",
    "path_to_config_template_file = path_to_model + \"/config_file_snellius.txt\"\n",
    "# Instantiate working directories handler from PyStemmusScope\n",
    "config_template = iostreamer.read_config(path_to_config_template_file)"
   ]
  },
  {
   "cell_type": "code",
   "execution_count": 6,
   "metadata": {},
   "outputs": [],
   "source": [
    "# edit config to run for 5 days\n",
    "config_template[\"NumberOfTimeSteps\"] = \"240\"\n",
    "\n",
    "# Select a station. NOTE: the following stations do not work; DK-Lva, ES-ES1, ES-ES2, and IT-Noe\n",
    "config_template[\"ForcingFileName\"] = 'US-GLE_2009-2014_FLUXNET2015_Met.nc'"
   ]
  },
  {
   "cell_type": "code",
   "execution_count": 7,
   "metadata": {},
   "outputs": [],
   "source": [
    "# Uncomment the following line to see all stations\n",
    "#!ls '/projects/0/einf2480/forcing/plumber2_data/'"
   ]
  },
  {
   "attachments": {},
   "cell_type": "markdown",
   "metadata": {},
   "source": [
    "### Create input directories, prepare input files "
   ]
  },
  {
   "cell_type": "code",
   "execution_count": 10,
   "metadata": {},
   "outputs": [],
   "source": [
    "# Specify the forcing filename\n",
    "forcing_filename = config_template[\"ForcingFileName\"]\n",
    "input_dir, output_dir, config_run_path = iostreamer.create_io_dir(forcing_filename, config_template)\n",
    "\n",
    "config_run = iostreamer.read_config(config_run_path)\n",
    "# Prepare the forcing data\n",
    "forcing_io.prepare_forcing(input_dir, Path(config_run[\"ForcingPath\"]) / forcing_filename, config_run)\n",
    "# Generate the soil parameter input data for STEMMUS_SCOPE\n",
    "soil_io.prepare_soil_data(config_run['SoilPropertyPath'], input_dir, config_run)"
   ]
  },
  {
   "attachments": {},
   "cell_type": "markdown",
   "metadata": {},
   "source": [
    "### Run the model"
   ]
  },
  {
   "cell_type": "code",
   "execution_count": 11,
   "metadata": {},
   "outputs": [
    {
     "name": "stdout",
     "output_type": "stream",
     "text": [
      "MATLAB is selecting SOFTWARE OPENGL rendering.\n",
      "Opening log file:  /scratch-shared/ecoextreml/stemmus_scope/input/US-GLE_2022-07-05-1400/java.log.55686\n",
      "\n",
      "                            < M A T L A B (R) >\n",
      "                  Copyright 1984-2021 The MathWorks, Inc.\n",
      "             R2021a Update 3 (9.10.0.1684407) 64-bit (glnxa64)\n",
      "                                May 27, 2021\n",
      "\n",
      " \n",
      "To get started, type doc.\n",
      "For product information, visit www.mathworks.com.\n",
      " \n",
      "Reading config from /scratch-shared/ecoextreml/stemmus_scope/input/US-GLE_2022-07-05-1400/US-GLE_2022-07-05-1400_config.txt\n",
      "\n",
      " The calculations start now \n",
      " The calculations end now \r"
     ]
    }
   ],
   "source": [
    "# generate a text file\n",
    "path_to_code = path_to_model + \"/src\"\n",
    "\n",
    "# set matlab log dir to slurm, otherwise java.log files are created in user home dir\n",
    "os.environ['MATLAB_LOG_DIR'] = str(input_dir)\n",
    "\n",
    "# set matlab arguments\n",
    "path_to_config = f\"'{config_run_path}'\"\n",
    "command_line = f'matlab -r \"STEMMUS_SCOPE_exe({path_to_config});exit;\"'\n",
    "args = [command_line, \"-nodisplay\", \"-nosplash\", \"-nodesktop\"]\n",
    "\n",
    "# run the model\n",
    "result = subprocess.run(args, cwd = path_to_code, shell=True)\n",
    "result.check_returncode()"
   ]
  },
  {
   "attachments": {},
   "cell_type": "markdown",
   "metadata": {},
   "source": [
    "### Generate the output netCDF file"
   ]
  },
  {
   "cell_type": "code",
   "execution_count": 13,
   "metadata": {},
   "outputs": [
    {
     "name": "stdout",
     "output_type": "stream",
     "text": [
      "/scratch-shared/ecoextreml/stemmus_scope/output/US-GLE_2022-07-05-1400/ECdata.csv\n",
      "Reading variable metadata from /gpfs/home1/schilperb/STEMMUS_SCOPE/utils/csv_to_nc/Variables_will_be_in_NetCDF_file.csv\n",
      "Creating /scratch-shared/ecoextreml/stemmus_scope/output/US-GLE_2022-07-05-1400/US-GLE_2022-07-05-1400_STEMMUS_SCOPE.nc \n",
      "Reading data from file: radiation.csv\n",
      "Reading data from file: fluxes.csv\n",
      "Reading data from file: surftemp.csv\n",
      "Reading data from file: Sim_Temp.csv\n",
      "Reading data from file: Sim_Theta.csv\n",
      "Reading data from file: aerodyn.csv\n",
      "Reading data from file: ECdata.csv\n",
      "Done writing /scratch-shared/ecoextreml/stemmus_scope/output/US-GLE_2022-07-05-1400/US-GLE_2022-07-05-1400_STEMMUS_SCOPE.nc\n"
     ]
    }
   ],
   "source": [
    "# convert csv files to nc files\n",
    "path_to_generate_netcdf_script = path_to_model + \"/utils/csv_to_nc/generate_netcdf_files.py\"\n",
    "path_to_Variables_will_be_in_NetCDF_file = path_to_model + \"/utils/csv_to_nc/Variables_will_be_in_NetCDF_file.csv\"\n",
    "result = subprocess.run([\"python\", path_to_generate_netcdf_script,\n",
    "     \"--config_file\", config_run_path, \"--variable_file\",\n",
    "     path_to_Variables_will_be_in_NetCDF_file])\n",
    "result.check_returncode()"
   ]
  },
  {
   "attachments": {},
   "cell_type": "markdown",
   "metadata": {},
   "source": [
    "### Load in the new netCDF as well as the verification netCDF file"
   ]
  },
  {
   "cell_type": "code",
   "execution_count": 14,
   "metadata": {},
   "outputs": [],
   "source": [
    "station_name = forcing_filename[:6]\n",
    "verification_directory = Path('/projects/0/einf2480/run_1year/v1.1.5') / 'output'\n",
    "verification_nc_file = list(verification_directory.glob(f'{station_name}*/*STEMMUS_SCOPE.nc'))[0]\n",
    "\n",
    "run_nc_file = list(Path(output_dir).glob(f'*STEMMUS_SCOPE.nc'))[0]\n",
    "\n",
    "ds_ver = xr.open_dataset(verification_nc_file).squeeze(['x', 'y'])\n",
    "ds_run = xr.open_dataset(run_nc_file).squeeze(['x', 'y'])\n",
    "\n",
    "ds_ver = ds_ver.isel(time=slice(None, ds_run.time.size))"
   ]
  },
  {
   "attachments": {},
   "cell_type": "markdown",
   "metadata": {},
   "source": [
    "### Ensure that no significant changes to the model output have occured due to changes made elsewhere\n",
    "Make sure this passes without errors before merging the new matlab code into the `python-compliant` branch. Preferably with more than a single station tested."
   ]
  },
  {
   "cell_type": "code",
   "execution_count": 52,
   "metadata": {},
   "outputs": [
    {
     "ename": "AssertionError",
     "evalue": "\nNot equal to tolerance rtol=0.0001, atol=0.577427\n\nMismatched elements: 128 / 240 (53.3%)\nMax absolute difference: 5.8766937\nMax relative difference: 1.5478772\n x: array([ -22.8349  ,  -23.30592 ,  -24.5375  ,  -19.94353 ,  -20.57276 ,\n        -23.40292 ,  -23.87448 ,  -25.19518 ,  -20.80424 ,  -19.41654 ,\n        -17.32158 ,  -10.80373 ,   -9.585564,   -9.994702,   -7.649747,...\n y: array([ -23.14748 ,  -23.62176 ,  -24.9116  ,  -20.25259 ,  -20.8946  ,\n        -23.72201 ,  -24.20266 ,  -25.53323 ,  -21.08464 ,  -19.66676 ,\n        -17.54344 ,  -10.94056 ,   -9.69978 ,  -10.11492 ,   -7.739421,...",
     "output_type": "error",
     "traceback": [
      "\u001b[0;31m---------------------------------------------------------------------------\u001b[0m",
      "\u001b[0;31mAssertionError\u001b[0m                            Traceback (most recent call last)",
      "Input \u001b[0;32mIn [52]\u001b[0m, in \u001b[0;36m<cell line: 1>\u001b[0;34m()\u001b[0m\n\u001b[1;32m      1\u001b[0m \u001b[38;5;28;01mfor\u001b[39;00m key \u001b[38;5;129;01min\u001b[39;00m ds_ver\u001b[38;5;241m.\u001b[39mkeys():\n\u001b[1;32m      2\u001b[0m \u001b[38;5;66;03m#     if key in ['LWnet', 'LWup', 'Qle', 'Qh', 'Qg', 'VegT']:\u001b[39;00m\n\u001b[1;32m      3\u001b[0m \u001b[38;5;66;03m#         pass\u001b[39;00m\n\u001b[1;32m      4\u001b[0m \u001b[38;5;66;03m#     else:\u001b[39;00m\n\u001b[0;32m----> 5\u001b[0m     \u001b[43mnp\u001b[49m\u001b[38;5;241;43m.\u001b[39;49m\u001b[43mtesting\u001b[49m\u001b[38;5;241;43m.\u001b[39;49m\u001b[43massert_allclose\u001b[49m\u001b[43m(\u001b[49m\n\u001b[1;32m      6\u001b[0m \u001b[43m        \u001b[49m\u001b[43mds_ver\u001b[49m\u001b[43m[\u001b[49m\u001b[43mkey\u001b[49m\u001b[43m]\u001b[49m\u001b[43m,\u001b[49m\n\u001b[1;32m      7\u001b[0m \u001b[43m        \u001b[49m\u001b[43mds_run\u001b[49m\u001b[43m[\u001b[49m\u001b[43mkey\u001b[49m\u001b[43m]\u001b[49m\u001b[43m,\u001b[49m\n\u001b[1;32m      8\u001b[0m \u001b[43m        \u001b[49m\u001b[43mrtol\u001b[49m\u001b[38;5;241;43m=\u001b[39;49m\u001b[38;5;241;43m1e-4\u001b[39;49m\u001b[43m,\u001b[49m\n\u001b[1;32m      9\u001b[0m \u001b[43m        \u001b[49m\u001b[43matol\u001b[49m\u001b[38;5;241;43m=\u001b[39;49m\u001b[43mnp\u001b[49m\u001b[38;5;241;43m.\u001b[39;49m\u001b[43mabs\u001b[49m\u001b[43m(\u001b[49m\u001b[43mds_ver\u001b[49m\u001b[43m[\u001b[49m\u001b[43mkey\u001b[49m\u001b[43m]\u001b[49m\u001b[43m)\u001b[49m\u001b[38;5;241;43m.\u001b[39;49m\u001b[43mmean\u001b[49m\u001b[43m(\u001b[49m\u001b[43m)\u001b[49m\u001b[38;5;241;43m.\u001b[39;49m\u001b[43mvalues\u001b[49m\u001b[43m \u001b[49m\u001b[38;5;241;43m/\u001b[39;49m\u001b[43m \u001b[49m\u001b[38;5;241;43m100\u001b[39;49m\u001b[43m  \u001b[49m\u001b[38;5;66;43;03m# to allow for a small difference when the variable's value crosses 0.\u001b[39;49;00m\n\u001b[1;32m     10\u001b[0m \u001b[43m    \u001b[49m\u001b[43m)\u001b[49m\n",
      "    \u001b[0;31m[... skipping hidden 1 frame]\u001b[0m\n",
      "File \u001b[0;32m/gpfs/home1/schilperb/mamba/envs/stemmus/lib/python3.9/site-packages/numpy/testing/_private/utils.py:844\u001b[0m, in \u001b[0;36massert_array_compare\u001b[0;34m(comparison, x, y, err_msg, verbose, header, precision, equal_nan, equal_inf)\u001b[0m\n\u001b[1;32m    840\u001b[0m         err_msg \u001b[38;5;241m+\u001b[39m\u001b[38;5;241m=\u001b[39m \u001b[38;5;124m'\u001b[39m\u001b[38;5;130;01m\\n\u001b[39;00m\u001b[38;5;124m'\u001b[39m \u001b[38;5;241m+\u001b[39m \u001b[38;5;124m'\u001b[39m\u001b[38;5;130;01m\\n\u001b[39;00m\u001b[38;5;124m'\u001b[39m\u001b[38;5;241m.\u001b[39mjoin(remarks)\n\u001b[1;32m    841\u001b[0m         msg \u001b[38;5;241m=\u001b[39m build_err_msg([ox, oy], err_msg,\n\u001b[1;32m    842\u001b[0m                             verbose\u001b[38;5;241m=\u001b[39mverbose, header\u001b[38;5;241m=\u001b[39mheader,\n\u001b[1;32m    843\u001b[0m                             names\u001b[38;5;241m=\u001b[39m(\u001b[38;5;124m'\u001b[39m\u001b[38;5;124mx\u001b[39m\u001b[38;5;124m'\u001b[39m, \u001b[38;5;124m'\u001b[39m\u001b[38;5;124my\u001b[39m\u001b[38;5;124m'\u001b[39m), precision\u001b[38;5;241m=\u001b[39mprecision)\n\u001b[0;32m--> 844\u001b[0m         \u001b[38;5;28;01mraise\u001b[39;00m \u001b[38;5;167;01mAssertionError\u001b[39;00m(msg)\n\u001b[1;32m    845\u001b[0m \u001b[38;5;28;01mexcept\u001b[39;00m \u001b[38;5;167;01mValueError\u001b[39;00m:\n\u001b[1;32m    846\u001b[0m     \u001b[38;5;28;01mimport\u001b[39;00m \u001b[38;5;21;01mtraceback\u001b[39;00m\n",
      "\u001b[0;31mAssertionError\u001b[0m: \nNot equal to tolerance rtol=0.0001, atol=0.577427\n\nMismatched elements: 128 / 240 (53.3%)\nMax absolute difference: 5.8766937\nMax relative difference: 1.5478772\n x: array([ -22.8349  ,  -23.30592 ,  -24.5375  ,  -19.94353 ,  -20.57276 ,\n        -23.40292 ,  -23.87448 ,  -25.19518 ,  -20.80424 ,  -19.41654 ,\n        -17.32158 ,  -10.80373 ,   -9.585564,   -9.994702,   -7.649747,...\n y: array([ -23.14748 ,  -23.62176 ,  -24.9116  ,  -20.25259 ,  -20.8946  ,\n        -23.72201 ,  -24.20266 ,  -25.53323 ,  -21.08464 ,  -19.66676 ,\n        -17.54344 ,  -10.94056 ,   -9.69978 ,  -10.11492 ,   -7.739421,..."
     ]
    }
   ],
   "source": [
    "for key in ds_ver.keys():\n",
    "#     if key in ['LWnet', 'LWup', 'Qle', 'Qh', 'Qg', 'VegT']:\n",
    "#         pass\n",
    "#     else:\n",
    "    np.testing.assert_allclose(\n",
    "        ds_ver[key],\n",
    "        ds_run[key],\n",
    "        rtol=1e-4,\n",
    "        atol=np.abs(ds_ver[key]).mean().values / 100  # to allow for a small difference when the variable's value crosses 0.\n",
    "    )"
   ]
  },
  {
   "cell_type": "code",
   "execution_count": null,
   "metadata": {},
   "outputs": [],
   "source": []
  }
 ],
 "metadata": {
  "kernelspec": {
   "display_name": "pyss_octave",
   "language": "python",
   "name": "python3"
  },
  "language_info": {
   "codemirror_mode": {
    "name": "ipython",
    "version": 3
   },
   "file_extension": ".py",
   "mimetype": "text/x-python",
   "name": "python",
   "nbconvert_exporter": "python",
   "pygments_lexer": "ipython3",
   "version": "3.9.13 | packaged by conda-forge | (main, May 27 2022, 16:50:36) [MSC v.1929 64 bit (AMD64)]"
  },
  "metadata": {
   "interpreter": {
    "hash": "a8aa8210cb3d81d2b5c08b30572e78ad19bd30da92b4caf9890388bc07c5e3bf"
   }
  },
  "vscode": {
   "interpreter": {
    "hash": "281eb038f5f4b6dc08cc25b19e3f510bd63483fa656fb888636d147f45c9c6d5"
   }
  }
 },
 "nbformat": 4,
 "nbformat_minor": 4
}
