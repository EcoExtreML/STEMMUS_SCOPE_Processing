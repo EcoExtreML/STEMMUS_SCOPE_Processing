{
 "cells": [
  {
   "cell_type": "markdown",
   "metadata": {},
   "source": [
    "# STEMMUS_SCOPE BMI demonstration\n",
    "\n",
    "We first have to add the matlab runtime compiler locations to PATH:"
   ]
  },
  {
   "cell_type": "code",
   "execution_count": 1,
   "metadata": {},
   "outputs": [],
   "source": [
    "import os\n",
    "os.environ['LD_LIBRARY_PATH'] = (\n",
    "    \"/home/bart/matlab_runtime/R2023a/runtime/glnxa64:\"\n",
    "    \"/home/bart/matlab_runtime/R2023a/bin/glnxa64:\"\n",
    "    \"/home/bart/matlab_runtime/R2023a/sys/os/glnxa64:\"\n",
    "    \"/home/bart/matlab_runtime/R2023a/extern/bin/glnxa64:\"\n",
    "    \"/home/bart/matlab_runtime/R2023a/sys/opengl/lib/glnxa64\"\n",
    ")"
   ]
  },
  {
   "cell_type": "markdown",
   "metadata": {},
   "source": [
    "Now we can initialize the model with a prepared configuration file:"
   ]
  },
  {
   "cell_type": "code",
   "execution_count": 2,
   "metadata": {},
   "outputs": [],
   "source": [
    "from PyStemmusScope.bmi import StemmusScopeBmi\n",
    "from cftime import num2pydate\n",
    "from rich import print\n",
    "import numpy as np\n",
    "import xarray as xr\n",
    "\n",
    "model = StemmusScopeBmi()\n",
    "\n",
    "model.initialize(\"/home/bart/tmp/stemmus_scope/input/ZA-Kru_2023-11-16-0728/ZA-Kru_2023-11-16-0728_config.txt\")"
   ]
  },
  {
   "cell_type": "markdown",
   "metadata": {},
   "source": [
    "The model has the following input and output variables exposed:"
   ]
  },
  {
   "cell_type": "code",
   "execution_count": 3,
   "metadata": {},
   "outputs": [
    {
     "data": {
      "text/html": [
       "<pre style=\"white-space:pre;overflow-x:auto;line-height:normal;font-family:Menlo,'DejaVu Sans Mono',consolas,'Courier New',monospace\"><span style=\"font-weight: bold\">(</span><span style=\"color: #008000; text-decoration-color: #008000\">'soil_temperature'</span>,<span style=\"font-weight: bold\">)</span>\n",
       "</pre>\n"
      ],
      "text/plain": [
       "\u001b[1m(\u001b[0m\u001b[32m'soil_temperature'\u001b[0m,\u001b[1m)\u001b[0m\n"
      ]
     },
     "metadata": {},
     "output_type": "display_data"
    },
    {
     "data": {
      "text/html": [
       "<pre style=\"white-space:pre;overflow-x:auto;line-height:normal;font-family:Menlo,'DejaVu Sans Mono',consolas,'Courier New',monospace\"><span style=\"font-weight: bold\">(</span><span style=\"color: #008000; text-decoration-color: #008000\">'soil_temperature'</span>, <span style=\"color: #008000; text-decoration-color: #008000\">'respiration'</span><span style=\"font-weight: bold\">)</span>\n",
       "</pre>\n"
      ],
      "text/plain": [
       "\u001b[1m(\u001b[0m\u001b[32m'soil_temperature'\u001b[0m, \u001b[32m'respiration'\u001b[0m\u001b[1m)\u001b[0m\n"
      ]
     },
     "metadata": {},
     "output_type": "display_data"
    }
   ],
   "source": [
    "print(model.get_input_var_names())\n",
    "print(model.get_output_var_names())"
   ]
  },
  {
   "cell_type": "markdown",
   "metadata": {},
   "source": [
    "We can update the model and request the data for the respiration:"
   ]
  },
  {
   "cell_type": "code",
   "execution_count": 4,
   "metadata": {},
   "outputs": [
    {
     "data": {
      "text/html": [
       "<pre style=\"white-space:pre;overflow-x:auto;line-height:normal;font-family:Menlo,'DejaVu Sans Mono',consolas,'Courier New',monospace\"><span style=\"font-weight: bold\">[</span><span style=\"color: #008080; text-decoration-color: #008080; font-weight: bold\">3.6085965</span><span style=\"font-weight: bold\">]</span>\n",
       "</pre>\n"
      ],
      "text/plain": [
       "\u001b[1m[\u001b[0m\u001b[1;36m3.6085965\u001b[0m\u001b[1m]\u001b[0m\n"
      ]
     },
     "metadata": {},
     "output_type": "display_data"
    }
   ],
   "source": [
    "model.update()\n",
    "\n",
    "dest = np.array([0.])\n",
    "model.get_value(\"respiration\", dest)\n",
    "\n",
    "print(dest)"
   ]
  },
  {
   "cell_type": "markdown",
   "metadata": {},
   "source": [
    "We can also request the value of variables at a certain index:"
   ]
  },
  {
   "cell_type": "code",
   "execution_count": 5,
   "metadata": {},
   "outputs": [
    {
     "data": {
      "text/plain": [
       "array([22.74423625])"
      ]
     },
     "execution_count": 5,
     "metadata": {},
     "output_type": "execute_result"
    }
   ],
   "source": [
    "dest = np.zeros(1)\n",
    "model.get_value_at_indices(\"soil_temperature\", dest, inds=np.array([0]))"
   ]
  },
  {
   "cell_type": "markdown",
   "metadata": {},
   "source": [
    "To know at what coordinate in space this is, we can use the grid info functionality.\n",
    "\n",
    "Grid `z` is depth in this case (grid 1 is the soil layer grid)"
   ]
  },
  {
   "cell_type": "code",
   "execution_count": 6,
   "metadata": {},
   "outputs": [
    {
     "data": {
      "text/html": [
       "<pre style=\"white-space:pre;overflow-x:auto;line-height:normal;font-family:Menlo,'DejaVu Sans Mono',consolas,'Courier New',monospace\"><span style=\"color: #008080; text-decoration-color: #008080; font-weight: bold\">-5.0</span>\n",
       "</pre>\n"
      ],
      "text/plain": [
       "\u001b[1;36m-5.0\u001b[0m\n"
      ]
     },
     "metadata": {},
     "output_type": "display_data"
    }
   ],
   "source": [
    "z = np.zeros(model.get_grid_size(1))\n",
    "model.get_grid_z(1, z)\n",
    "print(z[0])"
   ]
  },
  {
   "cell_type": "markdown",
   "metadata": {},
   "source": [
    "As an example, we can retrieve the soil temperature for every time step.\n",
    "\n",
    "To make it more interesting we set the temperature of a deeper soil layer to 50 deg C at time step 12:"
   ]
  },
  {
   "cell_type": "code",
   "execution_count": 7,
   "metadata": {},
   "outputs": [],
   "source": [
    "data = []\n",
    "time = []\n",
    "i=0\n",
    "\n",
    "while model.get_current_time() < model.get_end_time():\n",
    "    # update the model\n",
    "    model.update()\n",
    "\n",
    "    # Retrieve the modelled soil temperature field\n",
    "    dest = np.ones(model.get_grid_size(model.get_var_grid(\"soil_temperature\")))\n",
    "    model.get_value(\"soil_temperature\", dest)\n",
    "    data.append(dest)\n",
    "\n",
    "    # Store the current time as a datetime\n",
    "    time.append(num2pydate(model.get_current_time(), model.get_time_units()))\n",
    "\n",
    "    # Set some of the soil to 50 degrees C at time step 12.\n",
    "    if i == 12:\n",
    "        model.set_value_at_indices(\n",
    "            \"soil_temperature\",\n",
    "            inds=np.array([10, 11, 12]),\n",
    "            src=np.array([50, 50, 50])\n",
    "        )\n",
    "\n",
    "    i+=1\n"
   ]
  },
  {
   "cell_type": "code",
   "execution_count": 8,
   "metadata": {},
   "outputs": [],
   "source": [
    "gs = model.get_grid_size(1)\n",
    "depths = np.ones(gs)\n",
    "model.get_grid_z(1, depths)\n",
    "\n",
    "da = xr.DataArray(\n",
    "    data=np.vstack(data),\n",
    "    dims=(\"time\", \"depth\"),\n",
    "    coords={\"time\": np.array(time), \"depth\": depths},\n",
    ")"
   ]
  },
  {
   "cell_type": "code",
   "execution_count": 9,
   "metadata": {},
   "outputs": [
    {
     "data": {
      "text/plain": [
       "<matplotlib.collections.QuadMesh at 0x7f03d53aabc0>"
      ]
     },
     "execution_count": 9,
     "metadata": {},
     "output_type": "execute_result"
    },
    {
     "data": {
      "image/png": "[encoded data removed]",
      "text/plain": [
       "<Figure size 640x480 with 2 Axes>"
      ]
     },
     "metadata": {},
     "output_type": "display_data"
    }
   ],
   "source": [
    "da.plot(y=\"depth\")"
   ]
  },
  {
   "cell_type": "markdown",
   "metadata": {},
   "source": [
    "It is important to call `finalize()` on the model when you're done, otherwise the model will stay running in the background:"
   ]
  },
  {
   "cell_type": "code",
   "execution_count": 10,
   "metadata": {},
   "outputs": [],
   "source": [
    "model.finalize()"
   ]
  },
  {
   "cell_type": "code",
   "execution_count": null,
   "metadata": {},
   "outputs": [],
   "source": []
  }
 ],
 "metadata": {
  "kernelspec": {
   "display_name": "PyStemmusScope",
   "language": "python",
   "name": "python3"
  },
  "language_info": {
   "codemirror_mode": {
    "name": "ipython",
    "version": 3
   },
   "file_extension": ".py",
   "mimetype": "text/x-python",
   "name": "python",
   "nbconvert_exporter": "python",
   "pygments_lexer": "ipython3",
   "version": "3.10.12"
  }
 },
 "nbformat": 4,
 "nbformat_minor": 2
}
