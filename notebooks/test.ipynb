{
 "cells": [
  {
   "cell_type": "markdown",
   "metadata": {},
   "source": [
    "## Run the STEMMUS_SCOPE model\n",
    "Steps to run the STEMMUS_SCOPE model, including preprocessing and postprocessing, on Surf super computer Snellius or on a unix system."
   ]
  },
  {
   "cell_type": "code",
   "execution_count": 1,
   "metadata": {},
   "outputs": [],
   "source": [
    "import os\n",
    "import shutil\n",
    "import numpy as np\n",
    "from pathlib import Path\n",
    "import subprocess\n",
    "import time\n",
    "import PyStemmusScope.initializer"
   ]
  },
  {
   "cell_type": "markdown",
   "metadata": {},
   "source": [
    "#### Path to STEMMUS_SCOPE\n",
    "\n",
    "STEMMUS_SCOPE executable file is located in the **private** repository on GitHub https://github.com/EcoExtreML/STEMMUS_SCOPE. You need to clone the repository locally and specify the path to it in the cell below. Make sure you have right access to the repository. "
   ]
  },
  {
   "cell_type": "code",
   "execution_count": 2,
   "metadata": {},
   "outputs": [],
   "source": [
    "# path to executable\n",
    "path_to_model = Path(\"/home/yangliu/EcoExtreML/STEMMUS_SCOPE\")\n",
    "work_path = Path(\"/home/yangliu/EcoExtreML/STEMMUS_SCOPE_Processing\")"
   ]
  },
  {
   "cell_type": "markdown",
   "metadata": {},
   "source": [
    "#### Update/set config files"
   ]
  },
  {
   "cell_type": "code",
   "execution_count": 3,
   "metadata": {},
   "outputs": [],
   "source": [
    "# the user must provide the correct path\n",
    "# path to config file\n",
    "path_to_config_file = work_path / \"tests/test_data/config_file_test.txt\"\n",
    "\n",
    "# Instantiate working directories handler from PyStemmusScope\n",
    "initializer = PyStemmusScope.initializer.InputDir(path_to_config_file, path_to_model)"
   ]
  },
  {
   "cell_type": "code",
   "execution_count": 4,
   "metadata": {},
   "outputs": [
    {
     "data": {
      "text/plain": [
       "{'WorkDir': '/scratch-shared/ecoextreml/stemmus_scope/',\n",
       " 'SoilPropertyPath': '/projects/0/einf2480/model_parameters/soil_property/',\n",
       " 'ForcingPath': '/projects/0/einf2480/forcing/plumber2_data/',\n",
       " 'ForcingFileName': 'FI-Hyy_1996-2014_FLUXNET2015_Met.nc',\n",
       " 'Directional': '/projects/0/einf2480/model_parameters/vegetation_property/directional/',\n",
       " 'FluspectParameters': '/projects/0/einf2480/model_parameters/vegetation_property/fluspect_parameters/',\n",
       " 'Leafangles': '/projects/0/einf2480/model_parameters/vegetation_property/leafangles/',\n",
       " 'Radiationdata': '/projects/0/einf2480/model_parameters/vegetation_property/radiationdata/',\n",
       " 'SoilSpectra': '/projects/0/einf2480/model_parameters/vegetation_property/soil_spectrum/',\n",
       " 'InputData': '/projects/0/einf2480/model_parameters/vegetation_property/input_data.xlsx',\n",
       " 'InitialConditionPath': '/projects/0/einf2480/soil_initialcondition/',\n",
       " 'NumberOfTimeSteps': '17520',\n",
       " 'InputPath': '/scratch-shared/ecoextreml/stemmus_scope/input/FI-Hyy_2022-05-11-1705/',\n",
       " 'OutputPath': '/scratch-shared/ecoextreml/stemmus_scope/output/FI-Hyy_2022-05-11-1705/'}"
      ]
     },
     "execution_count": 4,
     "metadata": {},
     "output_type": "execute_result"
    }
   ],
   "source": [
    "initializer.config"
   ]
  },
  {
   "cell_type": "code",
   "execution_count": 5,
   "metadata": {},
   "outputs": [
    {
     "data": {
      "text/plain": [
       "{'WorkDir': '/home/yangliu/EcoExtreML/test_data/',\n",
       " 'SoilPropertyPath': '/home/yangliu/EcoExtreML/test_data/model_parameters/soil_property/',\n",
       " 'ForcingPath': '/home/yangliu/EcoExtreML/test_data/forcing/plumber2_data',\n",
       " 'ForcingFileName': 'CH-Fru_2007-2014_FLUXNET2015_Met.nc',\n",
       " 'Directional': '/home/yangliu/EcoExtreML/test_data/model_parameters/vegetation_property/directional/',\n",
       " 'FluspectParameters': '/home/yangliu/EcoExtreML/test_data/model_parameters/vegetation_property/fluspect_parameters/',\n",
       " 'Leafangles': '/home/yangliu/EcoExtreML/test_data/model_parameters/vegetation_property/leafangles/',\n",
       " 'Radiationdata': '/home/yangliu/EcoExtreML/test_data/model_parameters/vegetation_property/radiationdata/',\n",
       " 'SoilSpectra': '/home/yangliu/EcoExtreML/test_data/model_parameters/vegetation_property/soil_spectrum/',\n",
       " 'InputData': '/home/yangliu/EcoExtreML/test_data/model_parameters/vegetation_property/input_data.xlsx',\n",
       " 'InitialConditionPath': '/home/yangliu/EcoExtreML/test_data/model_parameters/soil_property/',\n",
       " 'NumberOfTimeSteps': '5',\n",
       " 'InputPath': '/home/yangliu/EcoExtreML/test_data/input',\n",
       " 'OutputPath': '/home/yangliu/EcoExtreML/test_data/output'}"
      ]
     },
     "execution_count": 5,
     "metadata": {},
     "output_type": "execute_result"
    }
   ],
   "source": [
    "# edit config\n",
    "initializer.config[\"WorkDir\"] = \"/home/yangliu/EcoExtreML/test_data/\"\n",
    "initializer.config[\"SoilPropertyPath\"] = \"/home/yangliu/EcoExtreML/test_data/model_parameters/soil_property/\"\n",
    "initializer.config[\"ForcingPath\"] = \"/home/yangliu/EcoExtreML/test_data/forcing/plumber2_data\"\n",
    "initializer.config[\"ForcingFileName\"] = \"CH-Fru_2007-2014_FLUXNET2015_Met.nc\"\n",
    "initializer.config[\"Directional\"] = \"/home/yangliu/EcoExtreML/test_data/model_parameters/vegetation_property/directional/\"\n",
    "initializer.config[\"FluspectParameters\"] = \"/home/yangliu/EcoExtreML/test_data/model_parameters/vegetation_property/fluspect_parameters/\"\n",
    "initializer.config[\"Leafangles\"] = \"/home/yangliu/EcoExtreML/test_data/model_parameters/vegetation_property/leafangles/\"\n",
    "initializer.config[\"Radiationdata\"] = \"/home/yangliu/EcoExtreML/test_data/model_parameters/vegetation_property/radiationdata/\"\n",
    "initializer.config[\"SoilSpectra\"] = \"/home/yangliu/EcoExtreML/test_data/model_parameters/vegetation_property/soil_spectrum/\"\n",
    "initializer.config[\"InputData\"] = \"/home/yangliu/EcoExtreML/test_data/model_parameters/vegetation_property/input_data.xlsx\"\n",
    "initializer.config[\"InitialConditionPath\"] = \"/home/yangliu/EcoExtreML/test_data/model_parameters/soil_property/\"\n",
    "initializer.config[\"NumberOfTimeSteps\"] = \"5\"\n",
    "initializer.config[\"InputPath\"] = \"/home/yangliu/EcoExtreML/test_data/input\"\n",
    "initializer.config[\"OutputPath\"] = \"/home/yangliu/EcoExtreML/test_data/output\"\n",
    "initializer.config"
   ]
  },
  {
   "cell_type": "markdown",
   "metadata": {},
   "source": [
    "#### Create input directories, prepare input files "
   ]
  },
  {
   "cell_type": "code",
   "execution_count": 6,
   "metadata": {},
   "outputs": [
    {
     "name": "stdout",
     "output_type": "stream",
     "text": [
      "Prepare work directory /home/yangliu/EcoExtreML/test_data/input/CH-Fru_20220614_1218 for the station: CH-Fru\n",
      "Prepare work directory /home/yangliu/EcoExtreML/test_data/input/DE-Kli_20220614_1218 for the station: DE-Kli\n"
     ]
    }
   ],
   "source": [
    "# specify the forcing filenames\n",
    "# forcing_filenames_list is by default none, if full_run is true, then all stations with forcing\n",
    "# listed in the ForcingPath will be used.\n",
    "forcing_filenames_list = [\"CH-Fru_2007-2014_FLUXNET2015_Met.nc\",\n",
    " \"DE-Kli_2005-2014_FLUXNET2015_Met.nc\"]\n",
    "\n",
    "work_dir_dict, config_path_dict = initializer.prepare_work_dir(forcing_filenames_list)"
   ]
  },
  {
   "cell_type": "code",
   "execution_count": 7,
   "metadata": {},
   "outputs": [
    {
     "data": {
      "text/plain": [
       "{'CH-Fru_2007-2014_FLUXNET2015_Met.nc': PosixPath('/home/yangliu/EcoExtreML/test_data/input/CH-Fru_20220614_1218'),\n",
       " 'DE-Kli_2005-2014_FLUXNET2015_Met.nc': PosixPath('/home/yangliu/EcoExtreML/test_data/input/DE-Kli_20220614_1218')}"
      ]
     },
     "execution_count": 7,
     "metadata": {},
     "output_type": "execute_result"
    }
   ],
   "source": [
    "work_dir_dict"
   ]
  },
  {
   "cell_type": "code",
   "execution_count": 8,
   "metadata": {},
   "outputs": [
    {
     "data": {
      "text/plain": [
       "{'CH-Fru_2007-2014_FLUXNET2015_Met.nc': PosixPath('/home/yangliu/EcoExtreML/test_data/input/CH-Fru_20220614_1218/CH-Fru_20220614_1218_config.txt'),\n",
       " 'DE-Kli_2005-2014_FLUXNET2015_Met.nc': PosixPath('/home/yangliu/EcoExtreML/test_data/input/DE-Kli_20220614_1218/DE-Kli_20220614_1218_config.txt')}"
      ]
     },
     "execution_count": 8,
     "metadata": {},
     "output_type": "execute_result"
    }
   ],
   "source": [
    "config_path_dict"
   ]
  },
  {
   "cell_type": "markdown",
   "metadata": {},
   "source": [
    "#### Run the model\n",
    "\n",
    "If you run the model locally, you need to first intsall MATLAB Runtime, see instructions in the [readme](https://github.com/EcoExtreML/processing#readme). Then set `LD_LIBRARY_PATH`. To do this, uncomment the cell below and run it:"
   ]
  },
  {
   "cell_type": "code",
   "execution_count": null,
   "metadata": {},
   "outputs": [],
   "source": [
    "# # Set LD_LIBRARY_PATH\n",
    "matlab_path = !whereis MATLAB\n",
    "matlab_path = matlab_path.s.split(\": \")[1]\n",
    "os.environ['LD_LIBRARY_PATH'] = (\n",
    "    f\"{matlab_path}/MATLAB_Runtime/v910/runtime/glnxa64:\"\n",
    "    f\"{matlab_path}/MATLAB_Runtime/v910/bin/glnxa64:\"\n",
    "    f\"{matlab_path}/MATLAB_Runtime/v910/sys/os/glnxa64:\"\n",
    "    f\"{matlab_path}/MATLAB_Runtime/v910/extern/bin/glnxa64:\"\n",
    "    f\"{matlab_path}/MATLAB_Runtime/v910/sys/opengl/lib/glnxa64\")\n",
    "print(os.environ['LD_LIBRARY_PATH'])"
   ]
  },
  {
   "cell_type": "code",
   "execution_count": null,
   "metadata": {},
   "outputs": [],
   "source": [
    "# generate a text file\n",
    "for ncfile in forcing_filenames_list:\n",
    "    path_to_config = config_path_dict[ncfile]\n",
    "    # set matlab log dir to slurm, otherwise java.log files are created in user home dir\n",
    "    os.environ['MATLAB_LOG_DIR'] = str(work_dir_dict[ncfile])\n",
    "    # run the model\n",
    "    print(f\"Run STEMMUS-SCOPE with the forcing: {ncfile}\")\n",
    "    result = subprocess.run([f\"exe/STEMMUS_SCOPE {path_to_config}\"], cwd = path_to_model, shell=True)\n",
    "    result.check_returncode()"
   ]
  },
  {
   "cell_type": "markdown",
   "metadata": {},
   "source": [
    "#### Create output directories, prepare output files"
   ]
  },
  {
   "cell_type": "code",
   "execution_count": null,
   "metadata": {},
   "outputs": [],
   "source": [
    "# convert csv files to nc files\n",
    "path_to_utils = Path(path_to_model, \"utils/csv_to_nc\")\n",
    "for ncfile in forcing_filenames_list:\n",
    "    path_to_config = config_path_dict[ncfile]\n",
    "    result = subprocess.run([\"python\", Path(path_to_utils, \"generate_netcdf_files.py\"),\n",
    "         \"--config_file\", path_to_config, \"--variable_file\",\n",
    "         Path(path_to_utils, \"Variables_will_be_in_NetCDF_file.csv\")])\n",
    "    result.check_returncode()"
   ]
  }
 ],
 "metadata": {
  "interpreter": {
   "hash": "28b136f154b3384fcb2854e5626613232692c304dbc5315064ef4c9363104a2c"
  },
  "kernelspec": {
   "display_name": "Python 3 (ipykernel)",
   "language": "python",
   "name": "python3"
  },
  "language_info": {
   "codemirror_mode": {
    "name": "ipython",
    "version": 3
   },
   "file_extension": ".py",
   "mimetype": "text/x-python",
   "name": "python",
   "nbconvert_exporter": "python",
   "pygments_lexer": "ipython3",
   "version": "3.9.12"
  }
 },
 "nbformat": 4,
 "nbformat_minor": 4
}
