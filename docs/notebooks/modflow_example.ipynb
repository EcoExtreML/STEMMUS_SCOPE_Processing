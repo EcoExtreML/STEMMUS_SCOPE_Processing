{
 "cells": [
  {
   "cell_type": "markdown",
   "id": "eb4bdb30-f9a3-4d7c-a1a4-0afdfbd59372",
   "metadata": {},
   "source": [
    "This notebook creates a simple modflow model, following the tutorials https://flopy.readthedocs.io/en/stable/tutorials.html#modflow-6"
   ]
  },
  {
   "cell_type": "code",
   "execution_count": null,
   "id": "9b605568-ba4f-4258-9a45-09a3ebaa487a",
   "metadata": {},
   "outputs": [],
   "source": [
    "import flopy"
   ]
  },
  {
   "cell_type": "code",
   "execution_count": null,
   "id": "64efdc83-03ed-43a0-a0e3-31524109d9ad",
   "metadata": {},
   "outputs": [],
   "source": [
    "# set paths and names\n",
    "folder_name = \"mf6_model\"\n",
    "gwf_name = 'gwf'\n",
    "gwe_name = 'gwe'\n",
    "ws = f\"./{folder_name}\"\n",
    "\n",
    "### Model parameters\n",
    "\n",
    "# Spatial and Temporal Discretization\n",
    "nlay, nrow, ncol = 2, 1, 1\n",
    "shape3d = (nlay, nrow, ncol)\n",
    "shape2d = (nrow, ncol)\n",
    "delr, delc = 1., 1\n",
    "area = delr * delc\n",
    "aquifer_thickness = 10.\n",
    "dz = aquifer_thickness / nlay\n",
    "elevations = [26.0, 26.0 - dz, 26.0 - 2*dz]\n",
    "nper, pertime, nstp, tsmult = 10, 1, 48, 1\n",
    "\n",
    "# Hydraulic Properties\n",
    "k, ss, sy = 0.1, 1.5e-5, 0.05\n",
    "\n",
    "# Initial Conditions\n",
    "h0 = elevations[0] - 2.5"
   ]
  },
  {
   "cell_type": "code",
   "execution_count": null,
   "id": "66ac97ab-5579-4836-86af-bf413900b077",
   "metadata": {},
   "outputs": [],
   "source": [
    "### Build a one-dimensional model\n",
    "\n",
    "# Simulation Object\n",
    "sim = flopy.mf6.MFSimulation(sim_name=folder_name, sim_ws=ws, verbosity_level=1, memory_print_option=\"all\", exe_name = exe_name)\n",
    "tdis = flopy.mf6.ModflowTdis(sim, filename=f\"{gwf_name}.tdis\", time_units=\"days\", nper=nper, perioddata=((pertime, nstp, tsmult),)*nper,)\n",
    "\n",
    "# Groundwater Flow Model\n",
    "gwf = flopy.mf6.ModflowGwf(sim, modelname=gwf_name, newtonoptions=\"NEWTON UNDER_RELAXATION\", save_flows=True)\n",
    "ims_gwf = flopy.mf6.ModflowIms(sim,  print_option=\"summary\", complexity=\"MODERATE\", filename=f\"{gwf_name}.ims\",\n",
    "                               outer_maximum= 500, under_relaxation=\"dbd\",\n",
    "                               linear_acceleration=\"bicgstab\", rcloserecord=[1e-6, \"strict\"],inner_dvclose=1e-8,outer_dvclose=1e-9,)\n",
    "sim.register_ims_package(ims_gwf, [gwf.name]) \n",
    "\n",
    "is_gwf = flopy.mf6.ModflowGwfdis(gwf, length_units=\"meters\", nlay=nlay, nrow=nrow, ncol=ncol, \n",
    "                        delr=delr, delc=delc, top=elevations[0], botm=elevations[1:])\n",
    "npf = flopy.mf6.ModflowGwfnpf(gwf, icelltype=1, k=k)\n",
    "sto = flopy.mf6.ModflowGwfsto(gwf, iconvert=1, ss=ss, sy=sy)\n",
    "ic = flopy.mf6.ModflowGwfic(gwf, strt=h0)\n",
    "rch = flopy.mf6.ModflowGwfrch(gwf, pname=\"rch_0\", maxbound=10, save_flows=True, stress_period_data = [((0, 0, 0), 0.0001, 0)], auxiliary=[\"TEMPERATURE\"])\n",
    "oc_gwf = flopy.mf6.ModflowGwfoc(gwf, budget_filerecord = '{}.cbc'.format(gwf_name), \n",
    "                            budgetcsv_filerecord = '{}.cbc.csv'.format(gwf_name),\n",
    "                            head_filerecord = '{}.hds'.format(gwf_name),\n",
    "                            saverecord = [('HEAD', 'ALL'),('BUDGET', 'LAST')],\n",
    "                            printrecord = [('HEAD', 'ALL'),('BUDGET', 'LAST')])\n",
    "obs_lst = []\n",
    "for k in range(nlay):\n",
    "    obs_lst.append([\"H{:02d}\".format(k+1), \"HEAD\", (k, 0, 0)])\n",
    "obs_gwf = flopy.mf6.ModflowUtlobs(gwf, print_input=False, continuous={\"gwhead.csv\": obs_lst})\n",
    "\n",
    "# Groundwater Heat Model\n",
    "gwe = flopy.mf6.ModflowGwe(sim, modelname=gwe_name, save_flows=True)\n",
    "ims_gwe = flopy.mf6.ModflowIms(sim,  print_option=\"summary\", filename=f\"{gwe_name}.ims\", complexity=\"SIMPLE\",\n",
    "                           linear_acceleration=\"bicgstab\", rcloserecord=[1e-6, \"strict\"],inner_dvclose=1e-8,outer_dvclose=1e-9,);\n",
    "sim.register_ims_package(ims_gwe, [gwe.name])"
   ]
  },
  {
   "cell_type": "code",
   "execution_count": null,
   "id": "b3d9fffa-dc56-4c78-bb19-c880b8eaff2d",
   "metadata": {},
   "outputs": [],
   "source": [
    "# Instantiating MODFLOW 6 transport discretization package\n",
    "\n",
    "strt_temp = 10.0  # Initial temperature ($^{\\circ}C$)\n",
    "scheme = \"Upstream\"  # Advection scheme ($-$)\n",
    "alh = 0.0  # No mechanical dispersion ($m^2/day$)\n",
    "ath1 = 0.0  # No transverse dispersivity ($m^2/day$)\n",
    "dispersivity = 0.0  # Longitudinal mechanical dispersion term ($m$)\n",
    "porosity = 0.2  # Porosity ($-$)\n",
    "rhos = 1500.0  # Density of dry solid aquifer material ($\\frac{kg}{m^3}$)\n",
    "cps = 760.0  # Heat capacity of dry solid aquifer material ($\\frac{J}{kg \\cdot ^{\\circ} C}$)\n",
    "rhow = 1000.0  # Density of water ($\\frac{kg}{m^3}$)\n",
    "cpw = 4183.0  # Heat capacity of water ($\\frac{J}{kg \\cdot ^{\\circ} C}$)\n",
    "lhv = 2500.0  # Latent heat of vaporization\n",
    "ktw = 0.5918  # Thermal conductivity of water ($\\frac{W}{m \\cdot ^{\\circ} C}$)\n",
    "kts = 0.27  # Thermal conductivity of solid aquifer material ($\\frac{W}{m \\cdot ^{\\circ} C}$)\n",
    "\n",
    "is_gwe = flopy.mf6.ModflowGwedis(gwe, length_units=\"meters\", nlay=nlay, nrow=nrow, ncol=ncol, \n",
    "                        delr=delr, delc=delc, top=elevations[0], botm=elevations[1:])\n",
    "\n",
    "# Instantiating MODFLOW 6 transport initial concentrations\n",
    "ic_gwe =  flopy.mf6.ModflowGweic(gwe, strt=strt_temp, pname=\"IC\", filename=f\"{gwe_name}.ic\",)\n",
    "\n",
    "# Instantiating MODFLOW 6 transport advection package\n",
    "adv = flopy.mf6.ModflowGweadv(gwe, scheme=scheme, pname=\"ADV\", filename=\"{}.adv\".format(gwe_name))\n",
    "\n",
    "# Instantiating MODFLOW 6 transport dispersion package\n",
    "cnd = flopy.mf6.ModflowGwecnd(gwe, xt3d_off=False, alh=alh, ath1=ath1, ktw=ktw * 86400, \n",
    "                              kts=kts * 86400, pname=\"CND\",filename=f\"{gwe_name}.cnd\",)\n",
    "\n",
    "# Instantiating MODFLOW 6 transport mass storage package\n",
    "est = flopy.mf6.ModflowGweest(gwe, save_flows=True, porosity=porosity, cps=cps, rhos=rhos,\n",
    "                              packagedata=[cpw, rhow, lhv], pname=\"EST\", filename=f\"{gwe_name}.est\",)\n",
    "\n",
    "# Instantiating MODFLOW 6 source/sink mixing package\n",
    "sourcerecarray = [ (\"rch_0\", \"AUX\", \"TEMPERATURE\") ]\n",
    "ssm = flopy.mf6.ModflowGwessm(gwe, sources = sourcerecarray, filename = \"{}.ssm\".format(gwe_name))\n",
    "\n",
    "oc_gwe = flopy.mf6.ModflowGweoc(gwe, budget_filerecord = '{}.cbc'.format(gwe_name), \n",
    "                            budgetcsv_filerecord = '{}.cbc.csv'.format(gwe_name),\n",
    "                            temperature_filerecord=\"{}.ucn\".format(gwe_name),\n",
    "                            saverecord = [('TEMPERATURE', 'LAST'),('BUDGET', 'LAST')],\n",
    "                            printrecord = [('TEMPERATURE', 'LAST'),('BUDGET', 'LAST')])\n",
    "gwfgwe = flopy.mf6.ModflowGwfgwe(sim, exgtype='GWF6-GWE6', exgmnamea = gwf_name, exgmnameb = gwe_name, filename = 'gwf_gwe.gwfgwe')"
   ]
  },
  {
   "cell_type": "code",
   "execution_count": null,
   "id": "8b040a8d-ddae-4efb-b910-fb3505ceee6d",
   "metadata": {},
   "outputs": [],
   "source": [
    "# Write the Model Files\n",
    "sim.write_simulation()"
   ]
  }
 ],
 "metadata": {
  "kernelspec": {
   "display_name": "Python 3 (ipykernel)",
   "language": "python",
   "name": "python3"
  },
  "language_info": {
   "codemirror_mode": {
    "name": "ipython",
    "version": 3
   },
   "file_extension": ".py",
   "mimetype": "text/x-python",
   "name": "python",
   "nbconvert_exporter": "python",
   "pygments_lexer": "ipython3",
   "version": "3.10.13"
  }
 },
 "nbformat": 4,
 "nbformat_minor": 5
}
