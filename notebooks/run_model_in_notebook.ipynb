{
 "cells": [
  {
   "cell_type": "markdown",
   "metadata": {},
   "source": [
    "## Run the STEMMUS_SCOPE model\n",
    "Steps to run the STEMMUS_SCOPE model, including preprocessing and postprocessing, on Surf super computer Snellius or on a unix system."
   ]
  },
  {
   "cell_type": "code",
   "execution_count": 1,
   "metadata": {},
   "outputs": [],
   "source": [
    "import os\n",
    "from pathlib import Path\n",
    "import subprocess\n",
    "from PyStemmusScope import forcing_io\n",
    "from PyStemmusScope import iostreamer"
   ]
  },
  {
   "cell_type": "markdown",
   "metadata": {},
   "source": [
    "#### Path to STEMMUS_SCOPE\n",
    "\n",
    "STEMMUS_SCOPE executable file is located in the **private** repository on GitHub https://github.com/EcoExtreML/STEMMUS_SCOPE. You need to clone the repository locally and specify the path to it in the cell below. Make sure you have right access to the repository. "
   ]
  },
  {
   "cell_type": "markdown",
   "metadata": {},
   "source": [
    "#### Update/set config files"
   ]
  },
  {
   "cell_type": "code",
   "execution_count": 2,
   "metadata": {},
   "outputs": [],
   "source": [
    "# the user must provide the correct path\n",
    "# path to config file\n",
    "path_to_config_file = \"path_to_config_file\"\n",
    "# Instantiate working directories handler from PyStemmusScope\n",
    "config_template = iostreamer.read_config(path_to_config_file)"
   ]
  },
  {
   "cell_type": "code",
   "execution_count": 3,
   "metadata": {},
   "outputs": [
    {
     "data": {
      "text/plain": [
       "{'WorkDir': '/scratch-shared/ecoextreml/stemmus_scope/',\n",
       " 'SoilPropertyPath': '/projects/0/einf2480/model_parameters/soil_property/',\n",
       " 'ForcingPath': '/projects/0/einf2480/forcing/plumber2_data/',\n",
       " 'ForcingFileName': 'FI-Hyy_1996-2014_FLUXNET2015_Met.nc',\n",
       " 'directional': '/projects/0/einf2480/model_parameters/vegetation_property/directional/',\n",
       " 'fluspect_parameters': '/projects/0/einf2480/model_parameters/vegetation_property/fluspect_parameters/',\n",
       " 'leafangles': '/projects/0/einf2480/model_parameters/vegetation_property/leafangles/',\n",
       " 'radiationdata': '/projects/0/einf2480/model_parameters/vegetation_property/radiationdata/',\n",
       " 'soil_spectrum': '/projects/0/einf2480/model_parameters/vegetation_property/soil_spectrum/',\n",
       " 'input_data': '/projects/0/einf2480/model_parameters/vegetation_property/input_data.xlsx',\n",
       " 'InitialConditionPath': '/projects/0/einf2480/soil_initialcondition/',\n",
       " 'NumberOfTimeSteps': '17520',\n",
       " 'InputPath': '/scratch-shared/ecoextreml/stemmus_scope/input/FI-Hyy_2022-05-11-1705/',\n",
       " 'OutputPath': '/scratch-shared/ecoextreml/stemmus_scope/output/FI-Hyy_2022-05-11-1705/'}"
      ]
     },
     "execution_count": 3,
     "metadata": {},
     "output_type": "execute_result"
    }
   ],
   "source": [
    "config_template"
   ]
  },
  {
   "cell_type": "code",
   "execution_count": 4,
   "metadata": {},
   "outputs": [
    {
     "data": {
      "text/plain": [
       "{'WorkDir': '/scratch-shared/ecoextreml/stemmus_scope/',\n",
       " 'SoilPropertyPath': '/projects/0/einf2480/model_parameters/soil_property/',\n",
       " 'ForcingPath': '/projects/0/einf2480/forcing/plumber2_data/',\n",
       " 'ForcingFileName': 'FI-Hyy_1996-2014_FLUXNET2015_Met.nc',\n",
       " 'directional': '/projects/0/einf2480/model_parameters/vegetation_property/directional/',\n",
       " 'fluspect_parameters': '/projects/0/einf2480/model_parameters/vegetation_property/fluspect_parameters/',\n",
       " 'leafangles': '/projects/0/einf2480/model_parameters/vegetation_property/leafangles/',\n",
       " 'radiationdata': '/projects/0/einf2480/model_parameters/vegetation_property/radiationdata/',\n",
       " 'soil_spectrum': '/projects/0/einf2480/model_parameters/vegetation_property/soil_spectrum/',\n",
       " 'input_data': '/projects/0/einf2480/model_parameters/vegetation_property/input_data.xlsx',\n",
       " 'InitialConditionPath': '/projects/0/einf2480/soil_initialcondition/',\n",
       " 'NumberOfTimeSteps': '5',\n",
       " 'InputPath': '/scratch-shared/ecoextreml/stemmus_scope/input/FI-Hyy_2022-05-11-1705/',\n",
       " 'OutputPath': '/scratch-shared/ecoextreml/stemmus_scope/output/FI-Hyy_2022-05-11-1705/'}"
      ]
     },
     "execution_count": 4,
     "metadata": {},
     "output_type": "execute_result"
    }
   ],
   "source": [
    "# edit config\n",
    "config_template[\"NumberOfTimeSteps\"] = \"5\"\n",
    "config_template"
   ]
  },
  {
   "cell_type": "markdown",
   "metadata": {},
   "source": [
    "#### Create input directories, prepare input files "
   ]
  },
  {
   "cell_type": "code",
   "execution_count": 5,
   "metadata": {},
   "outputs": [
    {
     "name": "stdout",
     "output_type": "stream",
     "text": [
      "/scratch-shared/ecoextreml/stemmus_scope/input/ZA-Kru_20220621_1334 /scratch-shared/ecoextreml/stemmus_scope/output/ZA-Kru_20220621_1334 /scratch-shared/ecoextreml/stemmus_scope/input/ZA-Kru_20220621_1334/ZA-Kru_20220621_1334_config.txt\n"
     ]
    }
   ],
   "source": [
    "# specify the forcing filenames\n",
    "# forcing_filenames_list is by default none, if full_run is true, then all stations with forcing\n",
    "# listed in the ForcingPath will be used.\n",
    "forcing_filenames_list = [\"ZA-Kru_2000-2002_FLUXNET2015_Met.nc\"]\n",
    "\n",
    "full_run = False\n",
    "if full_run:\n",
    "    forcing_filenames_list = [file.name for file in Path(config_template[\"ForcingPath\"]).iterdir()]\n",
    "\n",
    "# empty dict to store path to config file and work directory for each station\n",
    "config_path_dict = {}\n",
    "input_dir_dict = {}\n",
    "for nc_file in forcing_filenames_list:\n",
    "    input_dir, output_dir, config_path = iostreamer.create_io_dir(nc_file, config_template)\n",
    "    config_path_dict[nc_file] = config_path\n",
    "    input_dir_dict[nc_file] = input_dir\n",
    "    \n",
    "    config_run = iostreamer.read_config(config_path)\n",
    "\n",
    "    forcing_io.prepare_forcing(input_dir, Path(config_run[\"ForcingPath\"]) / nc_file, config_run)\n",
    "    \n",
    "    print(input_dir, output_dir, config_path)"
   ]
  },
  {
   "cell_type": "markdown",
   "metadata": {},
   "source": [
    "#### Run the model\n",
    "\n",
    "If you run the model locally, you need to first intsall MATLAB Runtime, see instructions in the [readme](https://github.com/EcoExtreML/processing#readme). Then set `LD_LIBRARY_PATH`. To do this, uncomment the cell below and run it:"
   ]
  },
  {
   "cell_type": "code",
   "execution_count": null,
   "metadata": {},
   "outputs": [],
   "source": [
    "# # Set LD_LIBRARY_PATH\n",
    "# matlab_path = !whereis MATLAB\n",
    "# matlab_path = matlab_path.s.split(\": \")[1]\n",
    "# os.environ['LD_LIBRARY_PATH'] = (\n",
    "#     f\"{matlab_path}/MATLAB_Runtime/v910/runtime/glnxa64:\"\n",
    "#     f\"{matlab_path}/MATLAB_Runtime/v910/bin/glnxa64:\"\n",
    "#     f\"{matlab_path}/MATLAB_Runtime/v910/sys/os/glnxa64:\"\n",
    "#     f\"{matlab_path}/MATLAB_Runtime/v910/extern/bin/glnxa64:\"\n",
    "#     f\"{matlab_path}/MATLAB_Runtime/v910/sys/opengl/lib/glnxa64\")\n",
    "# print(os.environ['LD_LIBRARY_PATH'])"
   ]
  },
  {
   "cell_type": "code",
   "execution_count": 6,
   "metadata": {},
   "outputs": [
    {
     "name": "stdout",
     "output_type": "stream",
     "text": [
      "Run STEMMUS-SCOPE with the forcing: ZA-Kru_2000-2002_FLUXNET2015_Met.nc\n",
      "Opening log file:  /scratch-shared/ecoextreml/stemmus_scope/input/ZA-Kru_20220621_1334/java.log.20020\n",
      "Reading config from /scratch-shared/ecoextreml/stemmus_scope/input/ZA-Kru_20220621_1334/ZA-Kru_20220621_1334_config.txt\n",
      "\n",
      " The calculations start now \n",
      " The calculations end now \r"
     ]
    }
   ],
   "source": [
    "# generate a text file\n",
    "path_to_model = \"path_to_STEMMUS_SCOPE_repository\"\n",
    "for ncfile in forcing_filenames_list:\n",
    "    path_to_config = config_path_dict[ncfile]\n",
    "    # set matlab log dir to slurm, otherwise java.log files are created in user home dir\n",
    "    os.environ['MATLAB_LOG_DIR'] = str(input_dir_dict[ncfile])\n",
    "    # run the model\n",
    "    print(f\"Run STEMMUS-SCOPE with the forcing: {ncfile}\")\n",
    "    result = subprocess.run([f\"exe/STEMMUS_SCOPE {path_to_config}\"], cwd = Path(path_to_model), shell=True)\n",
    "    result.check_returncode()"
   ]
  },
  {
   "cell_type": "markdown",
   "metadata": {},
   "source": [
    "#### Create output directories, prepare output files"
   ]
  },
  {
   "cell_type": "code",
   "execution_count": 7,
   "metadata": {},
   "outputs": [
    {
     "name": "stdout",
     "output_type": "stream",
     "text": [
      "/scratch-shared/ecoextreml/stemmus_scope/output/ZA-Kru_20220621_1334/ECdata.csv\n",
      "Reading variable metadata from /home/yangl/STEMMUS_SCOPE/utils/csv_to_nc/Variables_will_be_in_NetCDF_file.csv\n",
      "Creating /scratch-shared/ecoextreml/stemmus_scope/output/ZA-Kru_20220621_1334/ZA-Kru_20220621_1334_STEMMUS_SCOPE.nc \n",
      "Reading data from file: radiation.csv\n",
      "Reading data from file: fluxes.csv\n",
      "Reading data from file: surftemp.csv\n",
      "Reading data from file: Sim_Temp.csv\n",
      "Reading data from file: Sim_Theta.csv\n",
      "Reading data from file: aerodyn.csv\n",
      "Reading data from file: ECdata.csv\n",
      "Done writing /scratch-shared/ecoextreml/stemmus_scope/output/ZA-Kru_20220621_1334/ZA-Kru_20220621_1334_STEMMUS_SCOPE.nc\n"
     ]
    }
   ],
   "source": [
    "# convert csv files to nc files\n",
    "path_to_generate_netcdf_script = \"path_to_generate_netcdf_script\"\n",
    "path_to_Variables_will_be_in_NetCDF_file = \"path_to_Variables_will_be_in_NetCDF_file\"\n",
    "for ncfile in forcing_filenames_list:\n",
    "    path_to_config = config_path_dict[ncfile]\n",
    "    result = subprocess.run([\"python\", path_to_generate_netcdf_script,\n",
    "         \"--config_file\", path_to_config, \"--variable_file\",\n",
    "         path_to_Variables_will_be_in_NetCDF_file])\n",
    "    result.check_returncode()"
   ]
  }
 ],
 "metadata": {
  "interpreter": {
   "hash": "28b136f154b3384fcb2854e5626613232692c304dbc5315064ef4c9363104a2c"
  },
  "kernelspec": {
   "display_name": "Python 3 (ipykernel)",
   "language": "python",
   "name": "python3"
  },
  "language_info": {
   "codemirror_mode": {
    "name": "ipython",
    "version": 3
   },
   "file_extension": ".py",
   "mimetype": "text/x-python",
   "name": "python",
   "nbconvert_exporter": "python",
   "pygments_lexer": "ipython3",
   "version": "3.9.13"
  }
 },
 "nbformat": 4,
 "nbformat_minor": 4
}
